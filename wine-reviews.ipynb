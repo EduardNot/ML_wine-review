{
 "cells": [
  {
   "cell_type": "markdown",
   "metadata": {},
   "source": [
    "## Machine leaning project\n",
    "This project is about wine reviews dataset that was found in Kaggle.\n",
    "\n",
    "Project team members: Annely Liivas, Velda Lauringson, Eduard Rudi"
   ]
  }
 ],
 "metadata": {
  "language_info": {
   "name": "python"
  },
  "orig_nbformat": 4
 },
 "nbformat": 4,
 "nbformat_minor": 2
}
