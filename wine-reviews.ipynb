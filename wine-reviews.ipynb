{
  "cells": [
    {
      "cell_type": "markdown",
      "id": "2f622e30",
      "metadata": {},
      "source": [
        "## Machine leaning project\n",
        "This project is about wine reviews dataset that was found in Kaggle.\n",
        "\n",
        "Project team members: Annely Liivas, Velda Lauringson, Eduard Rudi"
      ]
    },
    {
      "cell_type": "code",
      "execution_count": 1,
      "id": "681d9133",
      "metadata": {
        "id": "681d9133"
      },
      "outputs": [],
      "source": [
        "import pandas as pd\n",
        "import gensim\n",
        "from gensim.models import Word2Vec"
      ]
    },
    {
      "cell_type": "code",
      "execution_count": 2,
      "id": "40ad46c5",
      "metadata": {
        "id": "40ad46c5"
      },
      "outputs": [],
      "source": [
        "import nltk\n",
        "import re"
      ]
    },
    {
      "cell_type": "code",
      "execution_count": 29,
      "id": "2d095092",
      "metadata": {
        "id": "2d095092"
      },
      "outputs": [
        {
          "name": "stderr",
          "output_type": "stream",
          "text": [
            "[nltk_data] Downloading package stopwords to\n",
            "[nltk_data]     C:\\Users\\rudi\\AppData\\Roaming\\nltk_data...\n",
            "[nltk_data]   Package stopwords is already up-to-date!\n",
            "[nltk_data] Downloading package punkt to\n",
            "[nltk_data]     C:\\Users\\rudi\\AppData\\Roaming\\nltk_data...\n",
            "[nltk_data]   Unzipping tokenizers\\punkt.zip.\n"
          ]
        }
      ],
      "source": [
        "nltk.download('stopwords')\n",
        "nltk.download('punkt')\n",
        "from nltk.corpus import stopwords"
      ]
    },
    {
      "cell_type": "code",
      "execution_count": 30,
      "id": "55103efb",
      "metadata": {},
      "outputs": [],
      "source": [
        "data_loc = 'data/'"
      ]
    },
    {
      "cell_type": "code",
      "execution_count": 31,
      "id": "e08073de",
      "metadata": {
        "id": "e08073de"
      },
      "outputs": [],
      "source": [
        "data1 = pd.read_csv(data_loc + 'winemag-data_first150k.csv', index_col=0)\n",
        "data2 = pd.read_csv(data_loc + 'winemag-data-130k-v2.csv', index_col=0)"
      ]
    },
    {
      "cell_type": "code",
      "execution_count": 32,
      "id": "b85825eb",
      "metadata": {
        "id": "b85825eb"
      },
      "outputs": [],
      "source": [
        "#Panen andmed kokku\n",
        "dataset = pd.concat([data1,data2])"
      ]
    },
    {
      "cell_type": "code",
      "execution_count": 33,
      "id": "b946755d",
      "metadata": {},
      "outputs": [
        {
          "data": {
            "text/html": [
              "<div>\n",
              "<style scoped>\n",
              "    .dataframe tbody tr th:only-of-type {\n",
              "        vertical-align: middle;\n",
              "    }\n",
              "\n",
              "    .dataframe tbody tr th {\n",
              "        vertical-align: top;\n",
              "    }\n",
              "\n",
              "    .dataframe thead th {\n",
              "        text-align: right;\n",
              "    }\n",
              "</style>\n",
              "<table border=\"1\" class=\"dataframe\">\n",
              "  <thead>\n",
              "    <tr style=\"text-align: right;\">\n",
              "      <th></th>\n",
              "      <th>country</th>\n",
              "      <th>description</th>\n",
              "      <th>designation</th>\n",
              "      <th>points</th>\n",
              "      <th>price</th>\n",
              "      <th>province</th>\n",
              "      <th>region_1</th>\n",
              "      <th>region_2</th>\n",
              "      <th>variety</th>\n",
              "      <th>winery</th>\n",
              "      <th>taster_name</th>\n",
              "      <th>taster_twitter_handle</th>\n",
              "      <th>title</th>\n",
              "    </tr>\n",
              "  </thead>\n",
              "  <tbody>\n",
              "    <tr>\n",
              "      <th>0</th>\n",
              "      <td>US</td>\n",
              "      <td>This tremendous 100% varietal wine hails from ...</td>\n",
              "      <td>Martha's Vineyard</td>\n",
              "      <td>96</td>\n",
              "      <td>235.0</td>\n",
              "      <td>California</td>\n",
              "      <td>Napa Valley</td>\n",
              "      <td>Napa</td>\n",
              "      <td>Cabernet Sauvignon</td>\n",
              "      <td>Heitz</td>\n",
              "      <td>NaN</td>\n",
              "      <td>NaN</td>\n",
              "      <td>NaN</td>\n",
              "    </tr>\n",
              "    <tr>\n",
              "      <th>1</th>\n",
              "      <td>Spain</td>\n",
              "      <td>Ripe aromas of fig, blackberry and cassis are ...</td>\n",
              "      <td>Carodorum Selección Especial Reserva</td>\n",
              "      <td>96</td>\n",
              "      <td>110.0</td>\n",
              "      <td>Northern Spain</td>\n",
              "      <td>Toro</td>\n",
              "      <td>NaN</td>\n",
              "      <td>Tinta de Toro</td>\n",
              "      <td>Bodega Carmen Rodríguez</td>\n",
              "      <td>NaN</td>\n",
              "      <td>NaN</td>\n",
              "      <td>NaN</td>\n",
              "    </tr>\n",
              "    <tr>\n",
              "      <th>2</th>\n",
              "      <td>US</td>\n",
              "      <td>Mac Watson honors the memory of a wine once ma...</td>\n",
              "      <td>Special Selected Late Harvest</td>\n",
              "      <td>96</td>\n",
              "      <td>90.0</td>\n",
              "      <td>California</td>\n",
              "      <td>Knights Valley</td>\n",
              "      <td>Sonoma</td>\n",
              "      <td>Sauvignon Blanc</td>\n",
              "      <td>Macauley</td>\n",
              "      <td>NaN</td>\n",
              "      <td>NaN</td>\n",
              "      <td>NaN</td>\n",
              "    </tr>\n",
              "    <tr>\n",
              "      <th>3</th>\n",
              "      <td>US</td>\n",
              "      <td>This spent 20 months in 30% new French oak, an...</td>\n",
              "      <td>Reserve</td>\n",
              "      <td>96</td>\n",
              "      <td>65.0</td>\n",
              "      <td>Oregon</td>\n",
              "      <td>Willamette Valley</td>\n",
              "      <td>Willamette Valley</td>\n",
              "      <td>Pinot Noir</td>\n",
              "      <td>Ponzi</td>\n",
              "      <td>NaN</td>\n",
              "      <td>NaN</td>\n",
              "      <td>NaN</td>\n",
              "    </tr>\n",
              "    <tr>\n",
              "      <th>4</th>\n",
              "      <td>France</td>\n",
              "      <td>This is the top wine from La Bégude, named aft...</td>\n",
              "      <td>La Brûlade</td>\n",
              "      <td>95</td>\n",
              "      <td>66.0</td>\n",
              "      <td>Provence</td>\n",
              "      <td>Bandol</td>\n",
              "      <td>NaN</td>\n",
              "      <td>Provence red blend</td>\n",
              "      <td>Domaine de la Bégude</td>\n",
              "      <td>NaN</td>\n",
              "      <td>NaN</td>\n",
              "      <td>NaN</td>\n",
              "    </tr>\n",
              "    <tr>\n",
              "      <th>...</th>\n",
              "      <td>...</td>\n",
              "      <td>...</td>\n",
              "      <td>...</td>\n",
              "      <td>...</td>\n",
              "      <td>...</td>\n",
              "      <td>...</td>\n",
              "      <td>...</td>\n",
              "      <td>...</td>\n",
              "      <td>...</td>\n",
              "      <td>...</td>\n",
              "      <td>...</td>\n",
              "      <td>...</td>\n",
              "      <td>...</td>\n",
              "    </tr>\n",
              "    <tr>\n",
              "      <th>280896</th>\n",
              "      <td>Germany</td>\n",
              "      <td>Notes of honeysuckle and cantaloupe sweeten th...</td>\n",
              "      <td>Brauneberger Juffer-Sonnenuhr Spätlese</td>\n",
              "      <td>90</td>\n",
              "      <td>28.0</td>\n",
              "      <td>Mosel</td>\n",
              "      <td>NaN</td>\n",
              "      <td>NaN</td>\n",
              "      <td>Riesling</td>\n",
              "      <td>Dr. H. Thanisch (Erben Müller-Burggraef)</td>\n",
              "      <td>Anna Lee C. Iijima</td>\n",
              "      <td>NaN</td>\n",
              "      <td>Dr. H. Thanisch (Erben Müller-Burggraef) 2013 ...</td>\n",
              "    </tr>\n",
              "    <tr>\n",
              "      <th>280897</th>\n",
              "      <td>US</td>\n",
              "      <td>Citation is given as much as a decade of bottl...</td>\n",
              "      <td>NaN</td>\n",
              "      <td>90</td>\n",
              "      <td>75.0</td>\n",
              "      <td>Oregon</td>\n",
              "      <td>Oregon</td>\n",
              "      <td>Oregon Other</td>\n",
              "      <td>Pinot Noir</td>\n",
              "      <td>Citation</td>\n",
              "      <td>Paul Gregutt</td>\n",
              "      <td>@paulgwine</td>\n",
              "      <td>Citation 2004 Pinot Noir (Oregon)</td>\n",
              "    </tr>\n",
              "    <tr>\n",
              "      <th>280898</th>\n",
              "      <td>France</td>\n",
              "      <td>Well-drained gravel soil gives this wine its c...</td>\n",
              "      <td>Kritt</td>\n",
              "      <td>90</td>\n",
              "      <td>30.0</td>\n",
              "      <td>Alsace</td>\n",
              "      <td>Alsace</td>\n",
              "      <td>NaN</td>\n",
              "      <td>Gewürztraminer</td>\n",
              "      <td>Domaine Gresser</td>\n",
              "      <td>Roger Voss</td>\n",
              "      <td>@vossroger</td>\n",
              "      <td>Domaine Gresser 2013 Kritt Gewurztraminer (Als...</td>\n",
              "    </tr>\n",
              "    <tr>\n",
              "      <th>280899</th>\n",
              "      <td>France</td>\n",
              "      <td>A dry style of Pinot Gris, this is crisp with ...</td>\n",
              "      <td>NaN</td>\n",
              "      <td>90</td>\n",
              "      <td>32.0</td>\n",
              "      <td>Alsace</td>\n",
              "      <td>Alsace</td>\n",
              "      <td>NaN</td>\n",
              "      <td>Pinot Gris</td>\n",
              "      <td>Domaine Marcel Deiss</td>\n",
              "      <td>Roger Voss</td>\n",
              "      <td>@vossroger</td>\n",
              "      <td>Domaine Marcel Deiss 2012 Pinot Gris (Alsace)</td>\n",
              "    </tr>\n",
              "    <tr>\n",
              "      <th>280900</th>\n",
              "      <td>France</td>\n",
              "      <td>Big, rich and off-dry, this is powered by inte...</td>\n",
              "      <td>Lieu-dit Harth Cuvée Caroline</td>\n",
              "      <td>90</td>\n",
              "      <td>21.0</td>\n",
              "      <td>Alsace</td>\n",
              "      <td>Alsace</td>\n",
              "      <td>NaN</td>\n",
              "      <td>Gewürztraminer</td>\n",
              "      <td>Domaine Schoffit</td>\n",
              "      <td>Roger Voss</td>\n",
              "      <td>@vossroger</td>\n",
              "      <td>Domaine Schoffit 2012 Lieu-dit Harth Cuvée Car...</td>\n",
              "    </tr>\n",
              "  </tbody>\n",
              "</table>\n",
              "<p>280901 rows × 13 columns</p>\n",
              "</div>"
            ],
            "text/plain": [
              "        country                                        description  \\\n",
              "0            US  This tremendous 100% varietal wine hails from ...   \n",
              "1         Spain  Ripe aromas of fig, blackberry and cassis are ...   \n",
              "2            US  Mac Watson honors the memory of a wine once ma...   \n",
              "3            US  This spent 20 months in 30% new French oak, an...   \n",
              "4        France  This is the top wine from La Bégude, named aft...   \n",
              "...         ...                                                ...   \n",
              "280896  Germany  Notes of honeysuckle and cantaloupe sweeten th...   \n",
              "280897       US  Citation is given as much as a decade of bottl...   \n",
              "280898   France  Well-drained gravel soil gives this wine its c...   \n",
              "280899   France  A dry style of Pinot Gris, this is crisp with ...   \n",
              "280900   France  Big, rich and off-dry, this is powered by inte...   \n",
              "\n",
              "                                   designation  points  price        province  \\\n",
              "0                            Martha's Vineyard      96  235.0      California   \n",
              "1         Carodorum Selección Especial Reserva      96  110.0  Northern Spain   \n",
              "2                Special Selected Late Harvest      96   90.0      California   \n",
              "3                                      Reserve      96   65.0          Oregon   \n",
              "4                                   La Brûlade      95   66.0        Provence   \n",
              "...                                        ...     ...    ...             ...   \n",
              "280896  Brauneberger Juffer-Sonnenuhr Spätlese      90   28.0           Mosel   \n",
              "280897                                     NaN      90   75.0          Oregon   \n",
              "280898                                   Kritt      90   30.0          Alsace   \n",
              "280899                                     NaN      90   32.0          Alsace   \n",
              "280900           Lieu-dit Harth Cuvée Caroline      90   21.0          Alsace   \n",
              "\n",
              "                 region_1           region_2             variety  \\\n",
              "0             Napa Valley               Napa  Cabernet Sauvignon   \n",
              "1                    Toro                NaN       Tinta de Toro   \n",
              "2          Knights Valley             Sonoma     Sauvignon Blanc   \n",
              "3       Willamette Valley  Willamette Valley          Pinot Noir   \n",
              "4                  Bandol                NaN  Provence red blend   \n",
              "...                   ...                ...                 ...   \n",
              "280896                NaN                NaN            Riesling   \n",
              "280897             Oregon       Oregon Other          Pinot Noir   \n",
              "280898             Alsace                NaN      Gewürztraminer   \n",
              "280899             Alsace                NaN          Pinot Gris   \n",
              "280900             Alsace                NaN      Gewürztraminer   \n",
              "\n",
              "                                          winery         taster_name  \\\n",
              "0                                          Heitz                 NaN   \n",
              "1                        Bodega Carmen Rodríguez                 NaN   \n",
              "2                                       Macauley                 NaN   \n",
              "3                                          Ponzi                 NaN   \n",
              "4                           Domaine de la Bégude                 NaN   \n",
              "...                                          ...                 ...   \n",
              "280896  Dr. H. Thanisch (Erben Müller-Burggraef)  Anna Lee C. Iijima   \n",
              "280897                                  Citation        Paul Gregutt   \n",
              "280898                           Domaine Gresser          Roger Voss   \n",
              "280899                      Domaine Marcel Deiss          Roger Voss   \n",
              "280900                          Domaine Schoffit          Roger Voss   \n",
              "\n",
              "       taster_twitter_handle  \\\n",
              "0                        NaN   \n",
              "1                        NaN   \n",
              "2                        NaN   \n",
              "3                        NaN   \n",
              "4                        NaN   \n",
              "...                      ...   \n",
              "280896                   NaN   \n",
              "280897           @paulgwine    \n",
              "280898            @vossroger   \n",
              "280899            @vossroger   \n",
              "280900            @vossroger   \n",
              "\n",
              "                                                    title  \n",
              "0                                                     NaN  \n",
              "1                                                     NaN  \n",
              "2                                                     NaN  \n",
              "3                                                     NaN  \n",
              "4                                                     NaN  \n",
              "...                                                   ...  \n",
              "280896  Dr. H. Thanisch (Erben Müller-Burggraef) 2013 ...  \n",
              "280897                  Citation 2004 Pinot Noir (Oregon)  \n",
              "280898  Domaine Gresser 2013 Kritt Gewurztraminer (Als...  \n",
              "280899      Domaine Marcel Deiss 2012 Pinot Gris (Alsace)  \n",
              "280900  Domaine Schoffit 2012 Lieu-dit Harth Cuvée Car...  \n",
              "\n",
              "[280901 rows x 13 columns]"
            ]
          },
          "execution_count": 33,
          "metadata": {},
          "output_type": "execute_result"
        }
      ],
      "source": [
        "# Reset index\n",
        "dataset.reset_index(drop=True)"
      ]
    },
    {
      "cell_type": "code",
      "execution_count": 34,
      "id": "d4646c97",
      "metadata": {
        "id": "d4646c97",
        "outputId": "adc5d357-a8b5-4d10-d797-ed7a82cf829f"
      },
      "outputs": [
        {
          "data": {
            "text/html": [
              "<div>\n",
              "<style scoped>\n",
              "    .dataframe tbody tr th:only-of-type {\n",
              "        vertical-align: middle;\n",
              "    }\n",
              "\n",
              "    .dataframe tbody tr th {\n",
              "        vertical-align: top;\n",
              "    }\n",
              "\n",
              "    .dataframe thead th {\n",
              "        text-align: right;\n",
              "    }\n",
              "</style>\n",
              "<table border=\"1\" class=\"dataframe\">\n",
              "  <thead>\n",
              "    <tr style=\"text-align: right;\">\n",
              "      <th></th>\n",
              "      <th>country</th>\n",
              "      <th>description</th>\n",
              "      <th>designation</th>\n",
              "      <th>points</th>\n",
              "      <th>price</th>\n",
              "      <th>province</th>\n",
              "      <th>region_1</th>\n",
              "      <th>region_2</th>\n",
              "      <th>variety</th>\n",
              "      <th>winery</th>\n",
              "      <th>taster_name</th>\n",
              "      <th>taster_twitter_handle</th>\n",
              "      <th>title</th>\n",
              "    </tr>\n",
              "  </thead>\n",
              "  <tbody>\n",
              "    <tr>\n",
              "      <th>0</th>\n",
              "      <td>US</td>\n",
              "      <td>This tremendous 100% varietal wine hails from ...</td>\n",
              "      <td>Martha's Vineyard</td>\n",
              "      <td>96</td>\n",
              "      <td>235.0</td>\n",
              "      <td>California</td>\n",
              "      <td>Napa Valley</td>\n",
              "      <td>Napa</td>\n",
              "      <td>Cabernet Sauvignon</td>\n",
              "      <td>Heitz</td>\n",
              "      <td>NaN</td>\n",
              "      <td>NaN</td>\n",
              "      <td>NaN</td>\n",
              "    </tr>\n",
              "    <tr>\n",
              "      <th>1</th>\n",
              "      <td>Spain</td>\n",
              "      <td>Ripe aromas of fig, blackberry and cassis are ...</td>\n",
              "      <td>Carodorum Selección Especial Reserva</td>\n",
              "      <td>96</td>\n",
              "      <td>110.0</td>\n",
              "      <td>Northern Spain</td>\n",
              "      <td>Toro</td>\n",
              "      <td>NaN</td>\n",
              "      <td>Tinta de Toro</td>\n",
              "      <td>Bodega Carmen Rodríguez</td>\n",
              "      <td>NaN</td>\n",
              "      <td>NaN</td>\n",
              "      <td>NaN</td>\n",
              "    </tr>\n",
              "    <tr>\n",
              "      <th>2</th>\n",
              "      <td>US</td>\n",
              "      <td>Mac Watson honors the memory of a wine once ma...</td>\n",
              "      <td>Special Selected Late Harvest</td>\n",
              "      <td>96</td>\n",
              "      <td>90.0</td>\n",
              "      <td>California</td>\n",
              "      <td>Knights Valley</td>\n",
              "      <td>Sonoma</td>\n",
              "      <td>Sauvignon Blanc</td>\n",
              "      <td>Macauley</td>\n",
              "      <td>NaN</td>\n",
              "      <td>NaN</td>\n",
              "      <td>NaN</td>\n",
              "    </tr>\n",
              "    <tr>\n",
              "      <th>3</th>\n",
              "      <td>US</td>\n",
              "      <td>This spent 20 months in 30% new French oak, an...</td>\n",
              "      <td>Reserve</td>\n",
              "      <td>96</td>\n",
              "      <td>65.0</td>\n",
              "      <td>Oregon</td>\n",
              "      <td>Willamette Valley</td>\n",
              "      <td>Willamette Valley</td>\n",
              "      <td>Pinot Noir</td>\n",
              "      <td>Ponzi</td>\n",
              "      <td>NaN</td>\n",
              "      <td>NaN</td>\n",
              "      <td>NaN</td>\n",
              "    </tr>\n",
              "    <tr>\n",
              "      <th>4</th>\n",
              "      <td>France</td>\n",
              "      <td>This is the top wine from La Bégude, named aft...</td>\n",
              "      <td>La Brûlade</td>\n",
              "      <td>95</td>\n",
              "      <td>66.0</td>\n",
              "      <td>Provence</td>\n",
              "      <td>Bandol</td>\n",
              "      <td>NaN</td>\n",
              "      <td>Provence red blend</td>\n",
              "      <td>Domaine de la Bégude</td>\n",
              "      <td>NaN</td>\n",
              "      <td>NaN</td>\n",
              "      <td>NaN</td>\n",
              "    </tr>\n",
              "  </tbody>\n",
              "</table>\n",
              "</div>"
            ],
            "text/plain": [
              "  country                                        description  \\\n",
              "0      US  This tremendous 100% varietal wine hails from ...   \n",
              "1   Spain  Ripe aromas of fig, blackberry and cassis are ...   \n",
              "2      US  Mac Watson honors the memory of a wine once ma...   \n",
              "3      US  This spent 20 months in 30% new French oak, an...   \n",
              "4  France  This is the top wine from La Bégude, named aft...   \n",
              "\n",
              "                            designation  points  price        province  \\\n",
              "0                     Martha's Vineyard      96  235.0      California   \n",
              "1  Carodorum Selección Especial Reserva      96  110.0  Northern Spain   \n",
              "2         Special Selected Late Harvest      96   90.0      California   \n",
              "3                               Reserve      96   65.0          Oregon   \n",
              "4                            La Brûlade      95   66.0        Provence   \n",
              "\n",
              "            region_1           region_2             variety  \\\n",
              "0        Napa Valley               Napa  Cabernet Sauvignon   \n",
              "1               Toro                NaN       Tinta de Toro   \n",
              "2     Knights Valley             Sonoma     Sauvignon Blanc   \n",
              "3  Willamette Valley  Willamette Valley          Pinot Noir   \n",
              "4             Bandol                NaN  Provence red blend   \n",
              "\n",
              "                    winery taster_name taster_twitter_handle title  \n",
              "0                    Heitz         NaN                   NaN   NaN  \n",
              "1  Bodega Carmen Rodríguez         NaN                   NaN   NaN  \n",
              "2                 Macauley         NaN                   NaN   NaN  \n",
              "3                    Ponzi         NaN                   NaN   NaN  \n",
              "4     Domaine de la Bégude         NaN                   NaN   NaN  "
            ]
          },
          "execution_count": 34,
          "metadata": {},
          "output_type": "execute_result"
        }
      ],
      "source": [
        "#Vaatan, mis toimub\n",
        "dataset.head()"
      ]
    },
    {
      "cell_type": "code",
      "execution_count": 35,
      "id": "8735a6f5",
      "metadata": {
        "id": "8735a6f5"
      },
      "outputs": [],
      "source": [
        "#Suvaline hulk kirjeldusi (25000)\n",
        "subset = dataset.description.iloc[:25000]"
      ]
    },
    {
      "cell_type": "code",
      "execution_count": 36,
      "id": "00730353",
      "metadata": {
        "id": "00730353",
        "outputId": "35945f30-58b3-4380-88df-388419532a9b"
      },
      "outputs": [
        {
          "data": {
            "text/plain": [
              "'This tremendous 100% varietal wine hails from Oakville and was aged over three years in oak. Juicy red-cherry fruit and a compelling hint of caramel greet the palate, framed by elegant, fine tannins and a subtle minty tone in the background. Balanced and rewarding from start to finish, it has years ahead of it to develop further nuance. Enjoy 2022–2030.'"
            ]
          },
          "execution_count": 36,
          "metadata": {},
          "output_type": "execute_result"
        }
      ],
      "source": [
        "#Esimene kirjeldus näiteks\n",
        "subset[0]"
      ]
    },
    {
      "cell_type": "code",
      "execution_count": 37,
      "id": "73c15c65",
      "metadata": {
        "id": "73c15c65"
      },
      "outputs": [],
      "source": [
        "reviews_lower = [x.lower() for x in subset]"
      ]
    },
    {
      "cell_type": "code",
      "execution_count": 38,
      "id": "c9e5db32",
      "metadata": {
        "id": "c9e5db32",
        "outputId": "3dca397e-8d3f-4aa4-b35d-f68c12b68a16"
      },
      "outputs": [
        {
          "data": {
            "text/plain": [
              "'this tremendous 100% varietal wine hails from oakville and was aged over three years in oak. juicy red-cherry fruit and a compelling hint of caramel greet the palate, framed by elegant, fine tannins and a subtle minty tone in the background. balanced and rewarding from start to finish, it has years ahead of it to develop further nuance. enjoy 2022–2030.'"
            ]
          },
          "execution_count": 38,
          "metadata": {},
          "output_type": "execute_result"
        }
      ],
      "source": [
        "reviews_lower[0]"
      ]
    },
    {
      "cell_type": "code",
      "execution_count": 39,
      "id": "0d8cf43c",
      "metadata": {
        "id": "0d8cf43c"
      },
      "outputs": [],
      "source": [
        "#Puhastan teksti sodist, aga võib vaielda, et äkki ikkagi on vaja mingit tüüpi arve säilitada (nt aastaarvud)\n",
        "cleaned_reviews = [re.sub('[^a-zA-Z]', ' ', x) for x in reviews_lower]\n",
        "cleaned_reviews = [re.sub(r'\\s+', ' ', x) for x in cleaned_reviews]"
      ]
    },
    {
      "cell_type": "code",
      "execution_count": 40,
      "id": "6810bff9",
      "metadata": {
        "id": "6810bff9",
        "outputId": "151e7ed4-c27c-47dc-df22-0f8ea9926260"
      },
      "outputs": [
        {
          "data": {
            "text/plain": [
              "'this tremendous varietal wine hails from oakville and was aged over three years in oak juicy red cherry fruit and a compelling hint of caramel greet the palate framed by elegant fine tannins and a subtle minty tone in the background balanced and rewarding from start to finish it has years ahead of it to develop further nuance enjoy '"
            ]
          },
          "execution_count": 40,
          "metadata": {},
          "output_type": "execute_result"
        }
      ],
      "source": [
        "cleaned_reviews[0]"
      ]
    },
    {
      "cell_type": "code",
      "execution_count": 41,
      "id": "37d68afb",
      "metadata": {
        "id": "37d68afb"
      },
      "outputs": [],
      "source": [
        "reviews = [nltk.sent_tokenize(x) for x in cleaned_reviews]"
      ]
    },
    {
      "cell_type": "code",
      "execution_count": 42,
      "id": "d71626d0",
      "metadata": {
        "id": "d71626d0"
      },
      "outputs": [],
      "source": [
        "reviews = [y for x in reviews for y in x]"
      ]
    },
    {
      "cell_type": "code",
      "execution_count": 43,
      "id": "12fac192",
      "metadata": {
        "id": "12fac192",
        "outputId": "9b10d74d-ce86-434e-9222-39666ec9788b"
      },
      "outputs": [
        {
          "data": {
            "text/plain": [
              "'this tremendous varietal wine hails from oakville and was aged over three years in oak juicy red cherry fruit and a compelling hint of caramel greet the palate framed by elegant fine tannins and a subtle minty tone in the background balanced and rewarding from start to finish it has years ahead of it to develop further nuance enjoy'"
            ]
          },
          "execution_count": 43,
          "metadata": {},
          "output_type": "execute_result"
        }
      ],
      "source": [
        "reviews[0]"
      ]
    },
    {
      "cell_type": "code",
      "execution_count": 44,
      "id": "f780f093",
      "metadata": {
        "id": "f780f093"
      },
      "outputs": [],
      "source": [
        "words = [nltk.word_tokenize(x) for x in reviews]"
      ]
    },
    {
      "cell_type": "code",
      "execution_count": 45,
      "id": "7786b9d3",
      "metadata": {
        "id": "7786b9d3"
      },
      "outputs": [],
      "source": [
        "for i in range(len(words)):\n",
        "    words[i] = [w for w in words[i] if w not in stopwords.words('english')]"
      ]
    },
    {
      "cell_type": "code",
      "execution_count": 47,
      "id": "b914bf23",
      "metadata": {
        "id": "b914bf23",
        "outputId": "de74a94c-3635-43be-ea50-57229d2f8692"
      },
      "outputs": [
        {
          "data": {
            "text/plain": [
              "['tremendous',\n",
              " 'varietal',\n",
              " 'wine',\n",
              " 'hails',\n",
              " 'oakville',\n",
              " 'aged',\n",
              " 'three',\n",
              " 'years',\n",
              " 'oak',\n",
              " 'juicy',\n",
              " 'red',\n",
              " 'cherry',\n",
              " 'fruit',\n",
              " 'compelling',\n",
              " 'hint',\n",
              " 'caramel',\n",
              " 'greet',\n",
              " 'palate',\n",
              " 'framed',\n",
              " 'elegant',\n",
              " 'fine',\n",
              " 'tannins',\n",
              " 'subtle',\n",
              " 'minty',\n",
              " 'tone',\n",
              " 'background',\n",
              " 'balanced',\n",
              " 'rewarding',\n",
              " 'start',\n",
              " 'finish',\n",
              " 'years',\n",
              " 'ahead',\n",
              " 'develop',\n",
              " 'nuance',\n",
              " 'enjoy']"
            ]
          },
          "execution_count": 47,
          "metadata": {},
          "output_type": "execute_result"
        }
      ],
      "source": [
        "#Põhimõtteliselt on korpus valmis\n",
        "words[0]"
      ]
    },
    {
      "cell_type": "code",
      "execution_count": 48,
      "id": "5df227c4",
      "metadata": {
        "id": "5df227c4"
      },
      "outputs": [],
      "source": [
        "# Mudel\n",
        "model = gensim.models.Word2Vec(words, vector_size = 200 , window = 4 , min_count = 15,\n",
        "                               seed = 1000, hs = 0, negative = 10,workers=16, epochs = 25)"
      ]
    },
    {
      "cell_type": "code",
      "execution_count": 49,
      "id": "2b11aec6",
      "metadata": {
        "id": "2b11aec6",
        "outputId": "22531993-d00f-4686-ec84-57855e620ebb"
      },
      "outputs": [
        {
          "data": {
            "text/plain": [
              "[('syrup', 0.39332252740859985),\n",
              " ('preserves', 0.36493930220603943),\n",
              " ('sweetness', 0.3646295368671417),\n",
              " ('ripe', 0.3537130653858185),\n",
              " ('upfront', 0.3505045175552368),\n",
              " ('flavors', 0.34368905425071716),\n",
              " ('butterscotch', 0.3422863483428955),\n",
              " ('pie', 0.3371044993400574),\n",
              " ('filled', 0.3346055746078491),\n",
              " ('exotic', 0.330181747674942)]"
            ]
          },
          "execution_count": 49,
          "metadata": {},
          "output_type": "execute_result"
        }
      ],
      "source": [
        "#Kümme kõige lähedasemat sõna sõnale \"magus\"\n",
        "model.wv.most_similar('sweet')"
      ]
    },
    {
      "cell_type": "code",
      "execution_count": 50,
      "id": "437aa0c5",
      "metadata": {
        "id": "437aa0c5",
        "outputId": "a6e922c3-9374-412a-a635-729985522c98"
      },
      "outputs": [
        {
          "data": {
            "text/plain": [
              "[('dryness', 0.4134575426578522),\n",
              " ('semisweet', 0.358644962310791),\n",
              " ('refreshingly', 0.33089908957481384),\n",
              " ('bite', 0.32968488335609436),\n",
              " ('cutting', 0.32748886942863464),\n",
              " ('spry', 0.3143460750579834),\n",
              " ('drinkable', 0.3141527473926544),\n",
              " ('powered', 0.31322696805000305),\n",
              " ('lip', 0.3130287826061249),\n",
              " ('brisk', 0.3105144202709198)]"
            ]
          },
          "execution_count": 50,
          "metadata": {},
          "output_type": "execute_result"
        }
      ],
      "source": [
        "#Kümme kõige lähedasemat sõna sõnale \"kuiv\"\n",
        "model.wv.most_similar('dry')"
      ]
    },
    {
      "cell_type": "markdown",
      "id": "2fd39740",
      "metadata": {
        "id": "2fd39740"
      },
      "source": [
        "Päris asjani on tükk maad veel. Ma jooksutasin tervel datal ka (mingi paar tundi läks) ja tulid palju paremad vektorid, aga siis pani arvuti pange :') Mu arust võiks jõuda selleni, et saaks veinisoovitusi nii karakterit kirjeldavate märksõnade kui veininime järgi (ehk mis veinid oleksid konkreetsele veinile kõige sarnasemad). Word2veci saab ära kasutada selles mõttes, et märksõna järgi otsides ei pea istuma me kinni ühe kindla sõna küljes (nt kui otsime kuiva veini, siis me ei saa vastu ainult neid, mille kirjelduses on konkreetselt sõna \"kuiv\"), vaid saame võtta arvesse ka selle sünonüüme/semantiliselt lähedasi sõnu. Siinse katsetuse põhjal saame ehk algatada arutelu?"
      ]
    }
  ],
  "metadata": {
    "colab": {
      "provenance": []
    },
    "kernelspec": {
      "display_name": "Python 3.10.7 ('machine_learning': venv)",
      "language": "python",
      "name": "python3"
    },
    "language_info": {
      "codemirror_mode": {
        "name": "ipython",
        "version": 3
      },
      "file_extension": ".py",
      "mimetype": "text/x-python",
      "name": "python",
      "nbconvert_exporter": "python",
      "pygments_lexer": "ipython3",
      "version": "3.10.7"
    },
    "vscode": {
      "interpreter": {
        "hash": "4b8f16e4012474046bf3ae17fb6e66d0ceaf147066a3cea27e7a3d878a672b1d"
      }
    }
  },
  "nbformat": 4,
  "nbformat_minor": 5
}
