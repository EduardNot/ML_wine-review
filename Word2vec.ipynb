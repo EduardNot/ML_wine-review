{
 "cells": [
  {
   "cell_type": "code",
   "execution_count": 28,
   "id": "97ef7fc8",
   "metadata": {},
   "outputs": [
    {
     "name": "stdout",
     "output_type": "stream",
     "text": [
      "Requirement already satisfied: autocorrect in c:\\users\\velda\\anaconda3\\lib\\site-packages (2.6.1)\n"
     ]
    }
   ],
   "source": [
    "!pip install autocorrect"
   ]
  },
  {
   "cell_type": "code",
   "execution_count": 29,
   "id": "4efcae6a",
   "metadata": {},
   "outputs": [],
   "source": [
    "import pandas as pd\n",
    "import gensim\n",
    "from gensim.models import Word2Vec\n",
    "from gensim.models import fasttext\n",
    "from autocorrect import Speller\n",
    "import nltk\n",
    "from nltk.stem import WordNetLemmatizer\n",
    "import re\n",
    "from sklearn.utils import shuffle"
   ]
  },
  {
   "cell_type": "code",
   "execution_count": 30,
   "id": "1cd8f51d",
   "metadata": {},
   "outputs": [],
   "source": [
    "import numpy as np\n",
    "from seaborn import countplot\n",
    "from pyemd import emd"
   ]
  },
  {
   "cell_type": "code",
   "execution_count": 31,
   "id": "51d2cf98",
   "metadata": {},
   "outputs": [],
   "source": [
    "# nltk.download('stopwords')\n",
    "# nltk.download('punkt')\n",
    "# nltk.download('wordnet')\n",
    "# nltk.download('omw-1.4')\n",
    "from nltk.corpus import stopwords"
   ]
  },
  {
   "cell_type": "code",
   "execution_count": 32,
   "id": "a67c82a3",
   "metadata": {},
   "outputs": [],
   "source": [
    "lemmatizer = WordNetLemmatizer()\n",
    "spell = Speller(lang='en')"
   ]
  },
  {
   "cell_type": "code",
   "execution_count": 33,
   "id": "dd12800f",
   "metadata": {},
   "outputs": [],
   "source": [
    "def classify(test_review,k):\n",
    "    all_distances = np.array([dist(test_review, train_review) for train_review in train_data])\n",
    "    sorted_idx = all_distances.argsort()\n",
    "    n_closest = train_labels[sorted_idx][:k]\n",
    "    unique, pos = np.unique(n_closest,return_inverse=True)\n",
    "    counts = np.bincount(pos)\n",
    "    maxpos = counts.argmax()\n",
    "    prediction= unique[maxpos]\n",
    "    return prediction"
   ]
  },
  {
   "cell_type": "code",
   "execution_count": 34,
   "id": "ab0b9577",
   "metadata": {},
   "outputs": [],
   "source": [
    "#data_loc = 'data/'"
   ]
  },
  {
   "cell_type": "code",
   "execution_count": 35,
   "id": "c17d4d9a",
   "metadata": {},
   "outputs": [],
   "source": [
    "data1 = pd.read_csv('winemag-data_first150k.csv', index_col=0)\n",
    "data2 = pd.read_csv('winemag-data-130k-v2.csv', index_col=0)"
   ]
  },
  {
   "cell_type": "code",
   "execution_count": 36,
   "id": "4e444c33",
   "metadata": {},
   "outputs": [],
   "source": [
    "#Panen andmed kokku\n",
    "dataset = pd.concat([data1,data2])"
   ]
  },
  {
   "cell_type": "code",
   "execution_count": 37,
   "id": "1c5849d7",
   "metadata": {},
   "outputs": [],
   "source": [
    "dataset = shuffle(dataset, random_state=123)"
   ]
  },
  {
   "cell_type": "code",
   "execution_count": 38,
   "id": "944b7703",
   "metadata": {},
   "outputs": [
    {
     "data": {
      "text/html": [
       "<div>\n",
       "<style scoped>\n",
       "    .dataframe tbody tr th:only-of-type {\n",
       "        vertical-align: middle;\n",
       "    }\n",
       "\n",
       "    .dataframe tbody tr th {\n",
       "        vertical-align: top;\n",
       "    }\n",
       "\n",
       "    .dataframe thead th {\n",
       "        text-align: right;\n",
       "    }\n",
       "</style>\n",
       "<table border=\"1\" class=\"dataframe\">\n",
       "  <thead>\n",
       "    <tr style=\"text-align: right;\">\n",
       "      <th></th>\n",
       "      <th>country</th>\n",
       "      <th>description</th>\n",
       "      <th>designation</th>\n",
       "      <th>points</th>\n",
       "      <th>price</th>\n",
       "      <th>province</th>\n",
       "      <th>region_1</th>\n",
       "      <th>region_2</th>\n",
       "      <th>variety</th>\n",
       "      <th>winery</th>\n",
       "      <th>taster_name</th>\n",
       "      <th>taster_twitter_handle</th>\n",
       "      <th>title</th>\n",
       "    </tr>\n",
       "  </thead>\n",
       "  <tbody>\n",
       "    <tr>\n",
       "      <th>0</th>\n",
       "      <td>US</td>\n",
       "      <td>Sparkling wine is all about texture, and the m...</td>\n",
       "      <td>Brut</td>\n",
       "      <td>85</td>\n",
       "      <td>22.0</td>\n",
       "      <td>California</td>\n",
       "      <td>Russian River Valley</td>\n",
       "      <td>Sonoma</td>\n",
       "      <td>Sparkling Blend</td>\n",
       "      <td>River Road</td>\n",
       "      <td>NaN</td>\n",
       "      <td>NaN</td>\n",
       "      <td>NaN</td>\n",
       "    </tr>\n",
       "    <tr>\n",
       "      <th>1</th>\n",
       "      <td>France</td>\n",
       "      <td>This fruity wine, free from any oak aging, rev...</td>\n",
       "      <td>NaN</td>\n",
       "      <td>85</td>\n",
       "      <td>15.0</td>\n",
       "      <td>Burgundy</td>\n",
       "      <td>Mâcon-Villages</td>\n",
       "      <td>NaN</td>\n",
       "      <td>Chardonnay</td>\n",
       "      <td>Labouré-Roi</td>\n",
       "      <td>Roger Voss</td>\n",
       "      <td>@vossroger</td>\n",
       "      <td>Labouré-Roi 2015  Mâcon-Villages</td>\n",
       "    </tr>\n",
       "    <tr>\n",
       "      <th>2</th>\n",
       "      <td>US</td>\n",
       "      <td>A rich, ripe and complex Cabernet, with classi...</td>\n",
       "      <td>Estate Bottled</td>\n",
       "      <td>90</td>\n",
       "      <td>35.0</td>\n",
       "      <td>California</td>\n",
       "      <td>Napa Valley</td>\n",
       "      <td>Napa</td>\n",
       "      <td>Cabernet Sauvignon</td>\n",
       "      <td>St. Supéry</td>\n",
       "      <td>NaN</td>\n",
       "      <td>NaN</td>\n",
       "      <td>NaN</td>\n",
       "    </tr>\n",
       "    <tr>\n",
       "      <th>3</th>\n",
       "      <td>Italy</td>\n",
       "      <td>Here's a cheerful white blend from Tuscany (wi...</td>\n",
       "      <td>Fonte delle Donne</td>\n",
       "      <td>87</td>\n",
       "      <td>18.0</td>\n",
       "      <td>Tuscany</td>\n",
       "      <td>Toscana</td>\n",
       "      <td>NaN</td>\n",
       "      <td>White Blend</td>\n",
       "      <td>Fattoria Fibbiano</td>\n",
       "      <td>NaN</td>\n",
       "      <td>NaN</td>\n",
       "      <td>NaN</td>\n",
       "    </tr>\n",
       "    <tr>\n",
       "      <th>4</th>\n",
       "      <td>New Zealand</td>\n",
       "      <td>This medium-weight, supple Pinot Noir is a bit...</td>\n",
       "      <td>Estate Series</td>\n",
       "      <td>87</td>\n",
       "      <td>24.0</td>\n",
       "      <td>Central Otago</td>\n",
       "      <td>NaN</td>\n",
       "      <td>NaN</td>\n",
       "      <td>Pinot Noir</td>\n",
       "      <td>Matua Valley</td>\n",
       "      <td>NaN</td>\n",
       "      <td>NaN</td>\n",
       "      <td>NaN</td>\n",
       "    </tr>\n",
       "    <tr>\n",
       "      <th>...</th>\n",
       "      <td>...</td>\n",
       "      <td>...</td>\n",
       "      <td>...</td>\n",
       "      <td>...</td>\n",
       "      <td>...</td>\n",
       "      <td>...</td>\n",
       "      <td>...</td>\n",
       "      <td>...</td>\n",
       "      <td>...</td>\n",
       "      <td>...</td>\n",
       "      <td>...</td>\n",
       "      <td>...</td>\n",
       "      <td>...</td>\n",
       "    </tr>\n",
       "    <tr>\n",
       "      <th>280896</th>\n",
       "      <td>Portugal</td>\n",
       "      <td>Ripe, rich and creamy, this is a dense wine fr...</td>\n",
       "      <td>Reserva</td>\n",
       "      <td>88</td>\n",
       "      <td>12.0</td>\n",
       "      <td>Douro</td>\n",
       "      <td>NaN</td>\n",
       "      <td>NaN</td>\n",
       "      <td>Portuguese White</td>\n",
       "      <td>Borges</td>\n",
       "      <td>Roger Voss</td>\n",
       "      <td>@vossroger</td>\n",
       "      <td>Borges 2015 Reserva White (Douro)</td>\n",
       "    </tr>\n",
       "    <tr>\n",
       "      <th>280897</th>\n",
       "      <td>US</td>\n",
       "      <td>Pretty much a copy of the '03, which I found t...</td>\n",
       "      <td>Monte Rosso Vineyard Gnarly Vine</td>\n",
       "      <td>84</td>\n",
       "      <td>50.0</td>\n",
       "      <td>California</td>\n",
       "      <td>Sonoma Valley</td>\n",
       "      <td>Sonoma</td>\n",
       "      <td>Zinfandel</td>\n",
       "      <td>Louis M. Martini</td>\n",
       "      <td>NaN</td>\n",
       "      <td>NaN</td>\n",
       "      <td>NaN</td>\n",
       "    </tr>\n",
       "    <tr>\n",
       "      <th>280898</th>\n",
       "      <td>US</td>\n",
       "      <td>The blend is Zinfandel, Syrah, Cabernet Sauvig...</td>\n",
       "      <td>Essential</td>\n",
       "      <td>83</td>\n",
       "      <td>11.0</td>\n",
       "      <td>California</td>\n",
       "      <td>California</td>\n",
       "      <td>California Other</td>\n",
       "      <td>Red Blend</td>\n",
       "      <td>Bogle</td>\n",
       "      <td>NaN</td>\n",
       "      <td>NaN</td>\n",
       "      <td>NaN</td>\n",
       "    </tr>\n",
       "    <tr>\n",
       "      <th>280899</th>\n",
       "      <td>US</td>\n",
       "      <td>The aromas of plum, blackberry, vanilla, dried...</td>\n",
       "      <td>NaN</td>\n",
       "      <td>87</td>\n",
       "      <td>14.0</td>\n",
       "      <td>Washington</td>\n",
       "      <td>Columbia Valley (WA)</td>\n",
       "      <td>Columbia Valley</td>\n",
       "      <td>Syrah</td>\n",
       "      <td>Waterbrook</td>\n",
       "      <td>Sean P. Sullivan</td>\n",
       "      <td>@wawinereport</td>\n",
       "      <td>Waterbrook 2014 Syrah (Columbia Valley (WA))</td>\n",
       "    </tr>\n",
       "    <tr>\n",
       "      <th>280900</th>\n",
       "      <td>US</td>\n",
       "      <td>Made from selected lots of Testarossa's variou...</td>\n",
       "      <td>Niclaire</td>\n",
       "      <td>92</td>\n",
       "      <td>79.0</td>\n",
       "      <td>California</td>\n",
       "      <td>California</td>\n",
       "      <td>California Other</td>\n",
       "      <td>Pinot Noir</td>\n",
       "      <td>Testarossa</td>\n",
       "      <td>NaN</td>\n",
       "      <td>NaN</td>\n",
       "      <td>Testarossa 2011 Niclaire Pinot Noir (California)</td>\n",
       "    </tr>\n",
       "  </tbody>\n",
       "</table>\n",
       "<p>280901 rows × 13 columns</p>\n",
       "</div>"
      ],
      "text/plain": [
       "            country                                        description  \\\n",
       "0                US  Sparkling wine is all about texture, and the m...   \n",
       "1            France  This fruity wine, free from any oak aging, rev...   \n",
       "2                US  A rich, ripe and complex Cabernet, with classi...   \n",
       "3             Italy  Here's a cheerful white blend from Tuscany (wi...   \n",
       "4       New Zealand  This medium-weight, supple Pinot Noir is a bit...   \n",
       "...             ...                                                ...   \n",
       "280896     Portugal  Ripe, rich and creamy, this is a dense wine fr...   \n",
       "280897           US  Pretty much a copy of the '03, which I found t...   \n",
       "280898           US  The blend is Zinfandel, Syrah, Cabernet Sauvig...   \n",
       "280899           US  The aromas of plum, blackberry, vanilla, dried...   \n",
       "280900           US  Made from selected lots of Testarossa's variou...   \n",
       "\n",
       "                             designation  points  price       province  \\\n",
       "0                                   Brut      85   22.0     California   \n",
       "1                                    NaN      85   15.0       Burgundy   \n",
       "2                         Estate Bottled      90   35.0     California   \n",
       "3                      Fonte delle Donne      87   18.0        Tuscany   \n",
       "4                          Estate Series      87   24.0  Central Otago   \n",
       "...                                  ...     ...    ...            ...   \n",
       "280896                           Reserva      88   12.0          Douro   \n",
       "280897  Monte Rosso Vineyard Gnarly Vine      84   50.0     California   \n",
       "280898                         Essential      83   11.0     California   \n",
       "280899                               NaN      87   14.0     Washington   \n",
       "280900                          Niclaire      92   79.0     California   \n",
       "\n",
       "                    region_1          region_2             variety  \\\n",
       "0       Russian River Valley            Sonoma     Sparkling Blend   \n",
       "1             Mâcon-Villages               NaN          Chardonnay   \n",
       "2                Napa Valley              Napa  Cabernet Sauvignon   \n",
       "3                    Toscana               NaN         White Blend   \n",
       "4                        NaN               NaN          Pinot Noir   \n",
       "...                      ...               ...                 ...   \n",
       "280896                   NaN               NaN    Portuguese White   \n",
       "280897         Sonoma Valley            Sonoma           Zinfandel   \n",
       "280898            California  California Other           Red Blend   \n",
       "280899  Columbia Valley (WA)   Columbia Valley               Syrah   \n",
       "280900            California  California Other          Pinot Noir   \n",
       "\n",
       "                   winery       taster_name taster_twitter_handle  \\\n",
       "0              River Road               NaN                   NaN   \n",
       "1             Labouré-Roi        Roger Voss            @vossroger   \n",
       "2              St. Supéry               NaN                   NaN   \n",
       "3       Fattoria Fibbiano               NaN                   NaN   \n",
       "4            Matua Valley               NaN                   NaN   \n",
       "...                   ...               ...                   ...   \n",
       "280896             Borges        Roger Voss            @vossroger   \n",
       "280897   Louis M. Martini               NaN                   NaN   \n",
       "280898              Bogle               NaN                   NaN   \n",
       "280899         Waterbrook  Sean P. Sullivan         @wawinereport   \n",
       "280900         Testarossa               NaN                   NaN   \n",
       "\n",
       "                                                   title  \n",
       "0                                                    NaN  \n",
       "1                       Labouré-Roi 2015  Mâcon-Villages  \n",
       "2                                                    NaN  \n",
       "3                                                    NaN  \n",
       "4                                                    NaN  \n",
       "...                                                  ...  \n",
       "280896                 Borges 2015 Reserva White (Douro)  \n",
       "280897                                               NaN  \n",
       "280898                                               NaN  \n",
       "280899      Waterbrook 2014 Syrah (Columbia Valley (WA))  \n",
       "280900  Testarossa 2011 Niclaire Pinot Noir (California)  \n",
       "\n",
       "[280901 rows x 13 columns]"
      ]
     },
     "execution_count": 38,
     "metadata": {},
     "output_type": "execute_result"
    }
   ],
   "source": [
    "dataset = dataset.reset_index(drop=True)\n",
    "dataset"
   ]
  },
  {
   "cell_type": "code",
   "execution_count": 39,
   "id": "027511d3",
   "metadata": {},
   "outputs": [
    {
     "data": {
      "text/html": [
       "<div>\n",
       "<style scoped>\n",
       "    .dataframe tbody tr th:only-of-type {\n",
       "        vertical-align: middle;\n",
       "    }\n",
       "\n",
       "    .dataframe tbody tr th {\n",
       "        vertical-align: top;\n",
       "    }\n",
       "\n",
       "    .dataframe thead th {\n",
       "        text-align: right;\n",
       "    }\n",
       "</style>\n",
       "<table border=\"1\" class=\"dataframe\">\n",
       "  <thead>\n",
       "    <tr style=\"text-align: right;\">\n",
       "      <th></th>\n",
       "      <th>country</th>\n",
       "      <th>description</th>\n",
       "      <th>designation</th>\n",
       "      <th>points</th>\n",
       "      <th>price</th>\n",
       "      <th>province</th>\n",
       "      <th>region_1</th>\n",
       "      <th>region_2</th>\n",
       "      <th>variety</th>\n",
       "      <th>winery</th>\n",
       "      <th>taster_name</th>\n",
       "      <th>taster_twitter_handle</th>\n",
       "      <th>title</th>\n",
       "    </tr>\n",
       "  </thead>\n",
       "  <tbody>\n",
       "    <tr>\n",
       "      <th>205000</th>\n",
       "      <td>US</td>\n",
       "      <td>This is straightforward and easy, with sweet M...</td>\n",
       "      <td>NaN</td>\n",
       "      <td>85</td>\n",
       "      <td>16.0</td>\n",
       "      <td>California</td>\n",
       "      <td>Napa Valley</td>\n",
       "      <td>Napa</td>\n",
       "      <td>Sauvignon Blanc</td>\n",
       "      <td>Lola Kay</td>\n",
       "      <td>NaN</td>\n",
       "      <td>NaN</td>\n",
       "      <td>Lola Kay 2011 Sauvignon Blanc (Napa Valley)</td>\n",
       "    </tr>\n",
       "    <tr>\n",
       "      <th>205001</th>\n",
       "      <td>Italy</td>\n",
       "      <td>Upfront and generous, this is a bright and foo...</td>\n",
       "      <td>Donia</td>\n",
       "      <td>86</td>\n",
       "      <td>18.0</td>\n",
       "      <td>Piedmont</td>\n",
       "      <td>Barbera d'Alba</td>\n",
       "      <td>NaN</td>\n",
       "      <td>Barbera</td>\n",
       "      <td>Ponchione Maurizio</td>\n",
       "      <td>NaN</td>\n",
       "      <td>NaN</td>\n",
       "      <td>Ponchione Maurizio 2007 Donia  (Barbera d'Alba)</td>\n",
       "    </tr>\n",
       "    <tr>\n",
       "      <th>205002</th>\n",
       "      <td>Italy</td>\n",
       "      <td>Robust but informal, this opens with aromas of...</td>\n",
       "      <td>Rosso</td>\n",
       "      <td>88</td>\n",
       "      <td>12.0</td>\n",
       "      <td>Southern Italy</td>\n",
       "      <td>Cirò</td>\n",
       "      <td>NaN</td>\n",
       "      <td>Gaglioppo</td>\n",
       "      <td>Librandi</td>\n",
       "      <td>Kerin O’Keefe</td>\n",
       "      <td>@kerinokeefe</td>\n",
       "      <td>Librandi 2013 Rosso  (Cirò)</td>\n",
       "    </tr>\n",
       "    <tr>\n",
       "      <th>205003</th>\n",
       "      <td>Spain</td>\n",
       "      <td>Dusty berry, resin and bell-pepper aromas sugg...</td>\n",
       "      <td>Crianza</td>\n",
       "      <td>89</td>\n",
       "      <td>20.0</td>\n",
       "      <td>Northern Spain</td>\n",
       "      <td>Ribera del Duero</td>\n",
       "      <td>NaN</td>\n",
       "      <td>Tempranillo</td>\n",
       "      <td>Tamaral</td>\n",
       "      <td>NaN</td>\n",
       "      <td>NaN</td>\n",
       "      <td>NaN</td>\n",
       "    </tr>\n",
       "    <tr>\n",
       "      <th>205004</th>\n",
       "      <td>Austria</td>\n",
       "      <td>Beautiful crushed red cherry and lifted, polis...</td>\n",
       "      <td>Vom Kiesel</td>\n",
       "      <td>92</td>\n",
       "      <td>NaN</td>\n",
       "      <td>Burgenland</td>\n",
       "      <td>NaN</td>\n",
       "      <td>NaN</td>\n",
       "      <td>St. Laurent</td>\n",
       "      <td>Strehn</td>\n",
       "      <td>NaN</td>\n",
       "      <td>NaN</td>\n",
       "      <td>NaN</td>\n",
       "    </tr>\n",
       "    <tr>\n",
       "      <th>...</th>\n",
       "      <td>...</td>\n",
       "      <td>...</td>\n",
       "      <td>...</td>\n",
       "      <td>...</td>\n",
       "      <td>...</td>\n",
       "      <td>...</td>\n",
       "      <td>...</td>\n",
       "      <td>...</td>\n",
       "      <td>...</td>\n",
       "      <td>...</td>\n",
       "      <td>...</td>\n",
       "      <td>...</td>\n",
       "      <td>...</td>\n",
       "    </tr>\n",
       "    <tr>\n",
       "      <th>280896</th>\n",
       "      <td>Portugal</td>\n",
       "      <td>Ripe, rich and creamy, this is a dense wine fr...</td>\n",
       "      <td>Reserva</td>\n",
       "      <td>88</td>\n",
       "      <td>12.0</td>\n",
       "      <td>Douro</td>\n",
       "      <td>NaN</td>\n",
       "      <td>NaN</td>\n",
       "      <td>Portuguese White</td>\n",
       "      <td>Borges</td>\n",
       "      <td>Roger Voss</td>\n",
       "      <td>@vossroger</td>\n",
       "      <td>Borges 2015 Reserva White (Douro)</td>\n",
       "    </tr>\n",
       "    <tr>\n",
       "      <th>280897</th>\n",
       "      <td>US</td>\n",
       "      <td>Pretty much a copy of the '03, which I found t...</td>\n",
       "      <td>Monte Rosso Vineyard Gnarly Vine</td>\n",
       "      <td>84</td>\n",
       "      <td>50.0</td>\n",
       "      <td>California</td>\n",
       "      <td>Sonoma Valley</td>\n",
       "      <td>Sonoma</td>\n",
       "      <td>Zinfandel</td>\n",
       "      <td>Louis M. Martini</td>\n",
       "      <td>NaN</td>\n",
       "      <td>NaN</td>\n",
       "      <td>NaN</td>\n",
       "    </tr>\n",
       "    <tr>\n",
       "      <th>280898</th>\n",
       "      <td>US</td>\n",
       "      <td>The blend is Zinfandel, Syrah, Cabernet Sauvig...</td>\n",
       "      <td>Essential</td>\n",
       "      <td>83</td>\n",
       "      <td>11.0</td>\n",
       "      <td>California</td>\n",
       "      <td>California</td>\n",
       "      <td>California Other</td>\n",
       "      <td>Red Blend</td>\n",
       "      <td>Bogle</td>\n",
       "      <td>NaN</td>\n",
       "      <td>NaN</td>\n",
       "      <td>NaN</td>\n",
       "    </tr>\n",
       "    <tr>\n",
       "      <th>280899</th>\n",
       "      <td>US</td>\n",
       "      <td>The aromas of plum, blackberry, vanilla, dried...</td>\n",
       "      <td>NaN</td>\n",
       "      <td>87</td>\n",
       "      <td>14.0</td>\n",
       "      <td>Washington</td>\n",
       "      <td>Columbia Valley (WA)</td>\n",
       "      <td>Columbia Valley</td>\n",
       "      <td>Syrah</td>\n",
       "      <td>Waterbrook</td>\n",
       "      <td>Sean P. Sullivan</td>\n",
       "      <td>@wawinereport</td>\n",
       "      <td>Waterbrook 2014 Syrah (Columbia Valley (WA))</td>\n",
       "    </tr>\n",
       "    <tr>\n",
       "      <th>280900</th>\n",
       "      <td>US</td>\n",
       "      <td>Made from selected lots of Testarossa's variou...</td>\n",
       "      <td>Niclaire</td>\n",
       "      <td>92</td>\n",
       "      <td>79.0</td>\n",
       "      <td>California</td>\n",
       "      <td>California</td>\n",
       "      <td>California Other</td>\n",
       "      <td>Pinot Noir</td>\n",
       "      <td>Testarossa</td>\n",
       "      <td>NaN</td>\n",
       "      <td>NaN</td>\n",
       "      <td>Testarossa 2011 Niclaire Pinot Noir (California)</td>\n",
       "    </tr>\n",
       "  </tbody>\n",
       "</table>\n",
       "<p>75901 rows × 13 columns</p>\n",
       "</div>"
      ],
      "text/plain": [
       "         country                                        description  \\\n",
       "205000        US  This is straightforward and easy, with sweet M...   \n",
       "205001     Italy  Upfront and generous, this is a bright and foo...   \n",
       "205002     Italy  Robust but informal, this opens with aromas of...   \n",
       "205003     Spain  Dusty berry, resin and bell-pepper aromas sugg...   \n",
       "205004   Austria  Beautiful crushed red cherry and lifted, polis...   \n",
       "...          ...                                                ...   \n",
       "280896  Portugal  Ripe, rich and creamy, this is a dense wine fr...   \n",
       "280897        US  Pretty much a copy of the '03, which I found t...   \n",
       "280898        US  The blend is Zinfandel, Syrah, Cabernet Sauvig...   \n",
       "280899        US  The aromas of plum, blackberry, vanilla, dried...   \n",
       "280900        US  Made from selected lots of Testarossa's variou...   \n",
       "\n",
       "                             designation  points  price        province  \\\n",
       "205000                               NaN      85   16.0      California   \n",
       "205001                             Donia      86   18.0        Piedmont   \n",
       "205002                             Rosso      88   12.0  Southern Italy   \n",
       "205003                           Crianza      89   20.0  Northern Spain   \n",
       "205004                        Vom Kiesel      92    NaN      Burgenland   \n",
       "...                                  ...     ...    ...             ...   \n",
       "280896                           Reserva      88   12.0           Douro   \n",
       "280897  Monte Rosso Vineyard Gnarly Vine      84   50.0      California   \n",
       "280898                         Essential      83   11.0      California   \n",
       "280899                               NaN      87   14.0      Washington   \n",
       "280900                          Niclaire      92   79.0      California   \n",
       "\n",
       "                    region_1          region_2           variety  \\\n",
       "205000           Napa Valley              Napa   Sauvignon Blanc   \n",
       "205001        Barbera d'Alba               NaN           Barbera   \n",
       "205002                  Cirò               NaN         Gaglioppo   \n",
       "205003      Ribera del Duero               NaN       Tempranillo   \n",
       "205004                   NaN               NaN       St. Laurent   \n",
       "...                      ...               ...               ...   \n",
       "280896                   NaN               NaN  Portuguese White   \n",
       "280897         Sonoma Valley            Sonoma         Zinfandel   \n",
       "280898            California  California Other         Red Blend   \n",
       "280899  Columbia Valley (WA)   Columbia Valley             Syrah   \n",
       "280900            California  California Other        Pinot Noir   \n",
       "\n",
       "                    winery       taster_name taster_twitter_handle  \\\n",
       "205000            Lola Kay               NaN                   NaN   \n",
       "205001  Ponchione Maurizio               NaN                   NaN   \n",
       "205002            Librandi     Kerin O’Keefe          @kerinokeefe   \n",
       "205003             Tamaral               NaN                   NaN   \n",
       "205004              Strehn               NaN                   NaN   \n",
       "...                    ...               ...                   ...   \n",
       "280896              Borges        Roger Voss            @vossroger   \n",
       "280897    Louis M. Martini               NaN                   NaN   \n",
       "280898               Bogle               NaN                   NaN   \n",
       "280899          Waterbrook  Sean P. Sullivan         @wawinereport   \n",
       "280900          Testarossa               NaN                   NaN   \n",
       "\n",
       "                                                   title  \n",
       "205000       Lola Kay 2011 Sauvignon Blanc (Napa Valley)  \n",
       "205001   Ponchione Maurizio 2007 Donia  (Barbera d'Alba)  \n",
       "205002                       Librandi 2013 Rosso  (Cirò)  \n",
       "205003                                               NaN  \n",
       "205004                                               NaN  \n",
       "...                                                  ...  \n",
       "280896                 Borges 2015 Reserva White (Douro)  \n",
       "280897                                               NaN  \n",
       "280898                                               NaN  \n",
       "280899      Waterbrook 2014 Syrah (Columbia Valley (WA))  \n",
       "280900  Testarossa 2011 Niclaire Pinot Noir (California)  \n",
       "\n",
       "[75901 rows x 13 columns]"
      ]
     },
     "execution_count": 39,
     "metadata": {},
     "output_type": "execute_result"
    }
   ],
   "source": [
    "dataset.iloc[205000:]"
   ]
  },
  {
   "cell_type": "code",
   "execution_count": 40,
   "id": "125bdd94",
   "metadata": {},
   "outputs": [],
   "source": [
    "dataset = dataset.iloc[:205000]"
   ]
  },
  {
   "cell_type": "code",
   "execution_count": 41,
   "id": "fe5e8938",
   "metadata": {},
   "outputs": [
    {
     "data": {
      "text/html": [
       "<div>\n",
       "<style scoped>\n",
       "    .dataframe tbody tr th:only-of-type {\n",
       "        vertical-align: middle;\n",
       "    }\n",
       "\n",
       "    .dataframe tbody tr th {\n",
       "        vertical-align: top;\n",
       "    }\n",
       "\n",
       "    .dataframe thead th {\n",
       "        text-align: right;\n",
       "    }\n",
       "</style>\n",
       "<table border=\"1\" class=\"dataframe\">\n",
       "  <thead>\n",
       "    <tr style=\"text-align: right;\">\n",
       "      <th></th>\n",
       "      <th>country</th>\n",
       "      <th>description</th>\n",
       "      <th>designation</th>\n",
       "      <th>points</th>\n",
       "      <th>price</th>\n",
       "      <th>province</th>\n",
       "      <th>region_1</th>\n",
       "      <th>region_2</th>\n",
       "      <th>variety</th>\n",
       "      <th>winery</th>\n",
       "      <th>taster_name</th>\n",
       "      <th>taster_twitter_handle</th>\n",
       "      <th>title</th>\n",
       "    </tr>\n",
       "  </thead>\n",
       "  <tbody>\n",
       "    <tr>\n",
       "      <th>0</th>\n",
       "      <td>US</td>\n",
       "      <td>Sparkling wine is all about texture, and the m...</td>\n",
       "      <td>Brut</td>\n",
       "      <td>85</td>\n",
       "      <td>22.0</td>\n",
       "      <td>California</td>\n",
       "      <td>Russian River Valley</td>\n",
       "      <td>Sonoma</td>\n",
       "      <td>Sparkling Blend</td>\n",
       "      <td>River Road</td>\n",
       "      <td>NaN</td>\n",
       "      <td>NaN</td>\n",
       "      <td>NaN</td>\n",
       "    </tr>\n",
       "    <tr>\n",
       "      <th>1</th>\n",
       "      <td>France</td>\n",
       "      <td>This fruity wine, free from any oak aging, rev...</td>\n",
       "      <td>NaN</td>\n",
       "      <td>85</td>\n",
       "      <td>15.0</td>\n",
       "      <td>Burgundy</td>\n",
       "      <td>Mâcon-Villages</td>\n",
       "      <td>NaN</td>\n",
       "      <td>Chardonnay</td>\n",
       "      <td>Labouré-Roi</td>\n",
       "      <td>Roger Voss</td>\n",
       "      <td>@vossroger</td>\n",
       "      <td>Labouré-Roi 2015  Mâcon-Villages</td>\n",
       "    </tr>\n",
       "    <tr>\n",
       "      <th>2</th>\n",
       "      <td>US</td>\n",
       "      <td>A rich, ripe and complex Cabernet, with classi...</td>\n",
       "      <td>Estate Bottled</td>\n",
       "      <td>90</td>\n",
       "      <td>35.0</td>\n",
       "      <td>California</td>\n",
       "      <td>Napa Valley</td>\n",
       "      <td>Napa</td>\n",
       "      <td>Cabernet Sauvignon</td>\n",
       "      <td>St. Supéry</td>\n",
       "      <td>NaN</td>\n",
       "      <td>NaN</td>\n",
       "      <td>NaN</td>\n",
       "    </tr>\n",
       "    <tr>\n",
       "      <th>3</th>\n",
       "      <td>Italy</td>\n",
       "      <td>Here's a cheerful white blend from Tuscany (wi...</td>\n",
       "      <td>Fonte delle Donne</td>\n",
       "      <td>87</td>\n",
       "      <td>18.0</td>\n",
       "      <td>Tuscany</td>\n",
       "      <td>Toscana</td>\n",
       "      <td>NaN</td>\n",
       "      <td>White Blend</td>\n",
       "      <td>Fattoria Fibbiano</td>\n",
       "      <td>NaN</td>\n",
       "      <td>NaN</td>\n",
       "      <td>NaN</td>\n",
       "    </tr>\n",
       "    <tr>\n",
       "      <th>4</th>\n",
       "      <td>New Zealand</td>\n",
       "      <td>This medium-weight, supple Pinot Noir is a bit...</td>\n",
       "      <td>Estate Series</td>\n",
       "      <td>87</td>\n",
       "      <td>24.0</td>\n",
       "      <td>Central Otago</td>\n",
       "      <td>NaN</td>\n",
       "      <td>NaN</td>\n",
       "      <td>Pinot Noir</td>\n",
       "      <td>Matua Valley</td>\n",
       "      <td>NaN</td>\n",
       "      <td>NaN</td>\n",
       "      <td>NaN</td>\n",
       "    </tr>\n",
       "  </tbody>\n",
       "</table>\n",
       "</div>"
      ],
      "text/plain": [
       "       country                                        description  \\\n",
       "0           US  Sparkling wine is all about texture, and the m...   \n",
       "1       France  This fruity wine, free from any oak aging, rev...   \n",
       "2           US  A rich, ripe and complex Cabernet, with classi...   \n",
       "3        Italy  Here's a cheerful white blend from Tuscany (wi...   \n",
       "4  New Zealand  This medium-weight, supple Pinot Noir is a bit...   \n",
       "\n",
       "         designation  points  price       province              region_1  \\\n",
       "0               Brut      85   22.0     California  Russian River Valley   \n",
       "1                NaN      85   15.0       Burgundy        Mâcon-Villages   \n",
       "2     Estate Bottled      90   35.0     California           Napa Valley   \n",
       "3  Fonte delle Donne      87   18.0        Tuscany               Toscana   \n",
       "4      Estate Series      87   24.0  Central Otago                   NaN   \n",
       "\n",
       "  region_2             variety             winery taster_name  \\\n",
       "0   Sonoma     Sparkling Blend         River Road         NaN   \n",
       "1      NaN          Chardonnay        Labouré-Roi  Roger Voss   \n",
       "2     Napa  Cabernet Sauvignon         St. Supéry         NaN   \n",
       "3      NaN         White Blend  Fattoria Fibbiano         NaN   \n",
       "4      NaN          Pinot Noir       Matua Valley         NaN   \n",
       "\n",
       "  taster_twitter_handle                             title  \n",
       "0                   NaN                               NaN  \n",
       "1            @vossroger  Labouré-Roi 2015  Mâcon-Villages  \n",
       "2                   NaN                               NaN  \n",
       "3                   NaN                               NaN  \n",
       "4                   NaN                               NaN  "
      ]
     },
     "execution_count": 41,
     "metadata": {},
     "output_type": "execute_result"
    }
   ],
   "source": [
    "#Vaatan, mis toimub\n",
    "dataset.head()"
   ]
  },
  {
   "cell_type": "code",
   "execution_count": 42,
   "id": "e609d71e",
   "metadata": {},
   "outputs": [],
   "source": [
    "desc = dataset.description"
   ]
  },
  {
   "cell_type": "code",
   "execution_count": 43,
   "id": "d1e7b380",
   "metadata": {},
   "outputs": [],
   "source": [
    "reviews_lower = [x.lower() for x in desc]"
   ]
  },
  {
   "cell_type": "code",
   "execution_count": 44,
   "id": "75aff43f",
   "metadata": {},
   "outputs": [
    {
     "data": {
      "text/plain": [
       "'sparkling wine is all about texture, and the mouthfeel on this chardonnay-based bubbly lacks refinement. the bubbles are scoury and the finish is rough. still, it has rich citrus, yeast, honey and pear flavors.'"
      ]
     },
     "execution_count": 44,
     "metadata": {},
     "output_type": "execute_result"
    }
   ],
   "source": [
    "reviews_lower[0]"
   ]
  },
  {
   "cell_type": "code",
   "execution_count": 45,
   "id": "cb0bad0b",
   "metadata": {},
   "outputs": [],
   "source": [
    "#Puhastan teksti sodist, aga võite vaielda, et äkki ikkagi on vaja mingit tüüpi arve säilitada (nt aastaarvud)\n",
    "cleaned_reviews = [re.sub('[^a-zA-Z]', ' ', x) for x in reviews_lower]\n",
    "cleaned_reviews = [re.sub(r'\\s+', ' ', x) for x in cleaned_reviews]"
   ]
  },
  {
   "cell_type": "code",
   "execution_count": 46,
   "id": "2b2e78c3",
   "metadata": {},
   "outputs": [
    {
     "data": {
      "text/plain": [
       "'sparkling wine is all about texture and the mouthfeel on this chardonnay based bubbly lacks refinement the bubbles are scoury and the finish is rough still it has rich citrus yeast honey and pear flavors '"
      ]
     },
     "execution_count": 46,
     "metadata": {},
     "output_type": "execute_result"
    }
   ],
   "source": [
    "cleaned_reviews[0]"
   ]
  },
  {
   "cell_type": "code",
   "execution_count": 47,
   "id": "57422739",
   "metadata": {},
   "outputs": [],
   "source": [
    "reviews = [nltk.sent_tokenize(x) for x in cleaned_reviews]"
   ]
  },
  {
   "cell_type": "code",
   "execution_count": 48,
   "id": "d78c33bd",
   "metadata": {},
   "outputs": [],
   "source": [
    "reviews = [y for x in reviews for y in x]"
   ]
  },
  {
   "cell_type": "code",
   "execution_count": 49,
   "id": "601c1116",
   "metadata": {},
   "outputs": [
    {
     "data": {
      "text/plain": [
       "'sparkling wine is all about texture and the mouthfeel on this chardonnay based bubbly lacks refinement the bubbles are scoury and the finish is rough still it has rich citrus yeast honey and pear flavors'"
      ]
     },
     "execution_count": 49,
     "metadata": {},
     "output_type": "execute_result"
    }
   ],
   "source": [
    "reviews[0]"
   ]
  },
  {
   "cell_type": "code",
   "execution_count": 50,
   "id": "4e9a7302",
   "metadata": {},
   "outputs": [],
   "source": [
    "words = [nltk.word_tokenize(x) for x in reviews]"
   ]
  },
  {
   "cell_type": "code",
   "execution_count": 51,
   "id": "18fac2d5",
   "metadata": {},
   "outputs": [],
   "source": [
    "stop_words = stopwords.words('english')"
   ]
  },
  {
   "cell_type": "code",
   "execution_count": 52,
   "id": "a3f62aa2",
   "metadata": {},
   "outputs": [],
   "source": [
    "for i in range(len(words)):\n",
    "    words[i] = [lemmatizer.lemmatize(w) for w in words[i] if w not in stop_words and len(lemmatizer.lemmatize(w)) > 1]\n",
    "    # words[i] = [w for w in words[i] if w not in stop_words]\n",
    "# words = [[w for w in words[i] if w not in stop_words] for i in range(len(words))]"
   ]
  },
  {
   "cell_type": "code",
   "execution_count": 53,
   "id": "a9875981",
   "metadata": {},
   "outputs": [
    {
     "data": {
      "text/plain": [
       "['sparkling',\n",
       " 'wine',\n",
       " 'texture',\n",
       " 'mouthfeel',\n",
       " 'chardonnay',\n",
       " 'based',\n",
       " 'bubbly',\n",
       " 'lack',\n",
       " 'refinement',\n",
       " 'bubble',\n",
       " 'scoury',\n",
       " 'finish',\n",
       " 'rough',\n",
       " 'still',\n",
       " 'rich',\n",
       " 'citrus',\n",
       " 'yeast',\n",
       " 'honey',\n",
       " 'pear',\n",
       " 'flavor']"
      ]
     },
     "execution_count": 53,
     "metadata": {},
     "output_type": "execute_result"
    }
   ],
   "source": [
    "#Põhimõtteliselt on korpus valmis\n",
    "words[0]"
   ]
  },
  {
   "cell_type": "code",
   "execution_count": 54,
   "id": "0d148b67",
   "metadata": {},
   "outputs": [],
   "source": [
    "# Mudel, aga epohhe võiks rohkem olla (100)\n",
    "# model = gensim.models.Word2Vec(words, vector_size = 200 , window = 4 , min_count = 1,\n",
    "#                                seed = 1000, hs = 0, negative = 10,workers=16, epochs = 25)\n",
    "model = Word2Vec(words, vector_size = 200 , window = 4 , min_count = 1,\n",
    "                               seed = 1000, hs = 0, negative = 10,workers=16, epochs = 50)"
   ]
  },
  {
   "cell_type": "code",
   "execution_count": 55,
   "id": "6db35286",
   "metadata": {},
   "outputs": [],
   "source": [
    "model.save(\"word2vec1.model\")"
   ]
  },
  {
   "cell_type": "code",
   "execution_count": 56,
   "id": "fb6ff884",
   "metadata": {},
   "outputs": [],
   "source": [
    "model = Word2Vec.load(\"word2vec1.model\")\n"
   ]
  },
  {
   "cell_type": "code",
   "execution_count": 57,
   "id": "7013ee75",
   "metadata": {},
   "outputs": [
    {
     "data": {
      "text/plain": [
       "[('sweetened', 0.5190536379814148),\n",
       " ('sweetness', 0.45396143198013306),\n",
       " ('semisweet', 0.44037604331970215),\n",
       " ('sugary', 0.4317525029182434),\n",
       " ('jam', 0.4268885850906372),\n",
       " ('flavor', 0.42610424757003784),\n",
       " ('candied', 0.42477771639823914),\n",
       " ('caramelized', 0.41631636023521423),\n",
       " ('sugared', 0.4126093089580536),\n",
       " ('vanilla', 0.39884471893310547)]"
      ]
     },
     "execution_count": 57,
     "metadata": {},
     "output_type": "execute_result"
    }
   ],
   "source": [
    "#Kümme kõige lähedasemat sõna sõnale \"magus\"\n",
    "model.wv.most_similar('sweet')"
   ]
  },
  {
   "cell_type": "code",
   "execution_count": 58,
   "id": "a406a059",
   "metadata": {},
   "outputs": [
    {
     "data": {
      "text/plain": [
       "[('dryness', 0.5310472249984741),\n",
       " ('drily', 0.48134157061576843),\n",
       " ('scour', 0.37994417548179626),\n",
       " ('crackingly', 0.3740661144256592),\n",
       " ('semidry', 0.36478203535079956),\n",
       " ('dryish', 0.35937315225601196),\n",
       " ('brisk', 0.34867554903030396),\n",
       " ('drier', 0.33254358172416687),\n",
       " ('whose', 0.3291302025318146),\n",
       " ('marked', 0.32526901364326477)]"
      ]
     },
     "execution_count": 58,
     "metadata": {},
     "output_type": "execute_result"
    }
   ],
   "source": [
    "#Kümme kõige lähedasemat sõna sõnale \"kuiv\"\n",
    "model.wv.most_similar('dry')"
   ]
  },
  {
   "cell_type": "code",
   "execution_count": 61,
   "id": "25977f3c",
   "metadata": {},
   "outputs": [
    {
     "data": {
      "text/html": [
       "<div>\n",
       "<style scoped>\n",
       "    .dataframe tbody tr th:only-of-type {\n",
       "        vertical-align: middle;\n",
       "    }\n",
       "\n",
       "    .dataframe tbody tr th {\n",
       "        vertical-align: top;\n",
       "    }\n",
       "\n",
       "    .dataframe thead th {\n",
       "        text-align: right;\n",
       "    }\n",
       "</style>\n",
       "<table border=\"1\" class=\"dataframe\">\n",
       "  <thead>\n",
       "    <tr style=\"text-align: right;\">\n",
       "      <th></th>\n",
       "      <th>variety</th>\n",
       "      <th>country</th>\n",
       "      <th>province</th>\n",
       "      <th>points</th>\n",
       "      <th>price</th>\n",
       "      <th>review</th>\n",
       "    </tr>\n",
       "  </thead>\n",
       "  <tbody>\n",
       "    <tr>\n",
       "      <th>0</th>\n",
       "      <td>Sparkling Blend</td>\n",
       "      <td>US</td>\n",
       "      <td>California</td>\n",
       "      <td>85</td>\n",
       "      <td>22.0</td>\n",
       "      <td>[sparkling, wine, texture, mouthfeel, chardonn...</td>\n",
       "    </tr>\n",
       "    <tr>\n",
       "      <th>1</th>\n",
       "      <td>Chardonnay</td>\n",
       "      <td>France</td>\n",
       "      <td>Burgundy</td>\n",
       "      <td>85</td>\n",
       "      <td>15.0</td>\n",
       "      <td>[fruity, wine, free, oak, aging, revel, attrac...</td>\n",
       "    </tr>\n",
       "    <tr>\n",
       "      <th>2</th>\n",
       "      <td>Cabernet Sauvignon</td>\n",
       "      <td>US</td>\n",
       "      <td>California</td>\n",
       "      <td>90</td>\n",
       "      <td>35.0</td>\n",
       "      <td>[rich, ripe, complex, cabernet, classic, napa,...</td>\n",
       "    </tr>\n",
       "    <tr>\n",
       "      <th>3</th>\n",
       "      <td>White Blend</td>\n",
       "      <td>Italy</td>\n",
       "      <td>Tuscany</td>\n",
       "      <td>87</td>\n",
       "      <td>18.0</td>\n",
       "      <td>[cheerful, white, blend, tuscany, colombana, m...</td>\n",
       "    </tr>\n",
       "    <tr>\n",
       "      <th>4</th>\n",
       "      <td>Pinot Noir</td>\n",
       "      <td>New Zealand</td>\n",
       "      <td>Central Otago</td>\n",
       "      <td>87</td>\n",
       "      <td>24.0</td>\n",
       "      <td>[medium, weight, supple, pinot, noir, bit, oak...</td>\n",
       "    </tr>\n",
       "    <tr>\n",
       "      <th>...</th>\n",
       "      <td>...</td>\n",
       "      <td>...</td>\n",
       "      <td>...</td>\n",
       "      <td>...</td>\n",
       "      <td>...</td>\n",
       "      <td>...</td>\n",
       "    </tr>\n",
       "    <tr>\n",
       "      <th>204995</th>\n",
       "      <td>Chardonnay</td>\n",
       "      <td>US</td>\n",
       "      <td>California</td>\n",
       "      <td>91</td>\n",
       "      <td>25.0</td>\n",
       "      <td>[warmed, croissant, yeastiness, match, sea, sa...</td>\n",
       "    </tr>\n",
       "    <tr>\n",
       "      <th>204996</th>\n",
       "      <td>Syrah</td>\n",
       "      <td>US</td>\n",
       "      <td>Washington</td>\n",
       "      <td>91</td>\n",
       "      <td>48.0</td>\n",
       "      <td>[ciel, du, cheval, vineyard, fruit, make, majo...</td>\n",
       "    </tr>\n",
       "    <tr>\n",
       "      <th>204997</th>\n",
       "      <td>Syrah</td>\n",
       "      <td>US</td>\n",
       "      <td>Washington</td>\n",
       "      <td>90</td>\n",
       "      <td>27.0</td>\n",
       "      <td>[chelan, region, washington, newest, ava, alre...</td>\n",
       "    </tr>\n",
       "    <tr>\n",
       "      <th>204998</th>\n",
       "      <td>Chardonnay</td>\n",
       "      <td>US</td>\n",
       "      <td>New York</td>\n",
       "      <td>85</td>\n",
       "      <td>11.0</td>\n",
       "      <td>[appealing, nose, earthy, spice, start, succes...</td>\n",
       "    </tr>\n",
       "    <tr>\n",
       "      <th>204999</th>\n",
       "      <td>Chardonnay</td>\n",
       "      <td>Argentina</td>\n",
       "      <td>Mendoza Province</td>\n",
       "      <td>83</td>\n",
       "      <td>12.0</td>\n",
       "      <td>[simple, apple, apricot, aroma, prevail, nose,...</td>\n",
       "    </tr>\n",
       "  </tbody>\n",
       "</table>\n",
       "<p>205000 rows × 6 columns</p>\n",
       "</div>"
      ],
      "text/plain": [
       "                   variety      country          province  points  price  \\\n",
       "0          Sparkling Blend           US        California      85   22.0   \n",
       "1               Chardonnay       France          Burgundy      85   15.0   \n",
       "2       Cabernet Sauvignon           US        California      90   35.0   \n",
       "3              White Blend        Italy           Tuscany      87   18.0   \n",
       "4               Pinot Noir  New Zealand     Central Otago      87   24.0   \n",
       "...                    ...          ...               ...     ...    ...   \n",
       "204995          Chardonnay           US        California      91   25.0   \n",
       "204996               Syrah           US        Washington      91   48.0   \n",
       "204997               Syrah           US        Washington      90   27.0   \n",
       "204998          Chardonnay           US          New York      85   11.0   \n",
       "204999          Chardonnay    Argentina  Mendoza Province      83   12.0   \n",
       "\n",
       "                                                   review  \n",
       "0       [sparkling, wine, texture, mouthfeel, chardonn...  \n",
       "1       [fruity, wine, free, oak, aging, revel, attrac...  \n",
       "2       [rich, ripe, complex, cabernet, classic, napa,...  \n",
       "3       [cheerful, white, blend, tuscany, colombana, m...  \n",
       "4       [medium, weight, supple, pinot, noir, bit, oak...  \n",
       "...                                                   ...  \n",
       "204995  [warmed, croissant, yeastiness, match, sea, sa...  \n",
       "204996  [ciel, du, cheval, vineyard, fruit, make, majo...  \n",
       "204997  [chelan, region, washington, newest, ava, alre...  \n",
       "204998  [appealing, nose, earthy, spice, start, succes...  \n",
       "204999  [simple, apple, apricot, aroma, prevail, nose,...  \n",
       "\n",
       "[205000 rows x 6 columns]"
      ]
     },
     "execution_count": 61,
     "metadata": {},
     "output_type": "execute_result"
    }
   ],
   "source": [
    "data = dataset.loc[:,  \n",
    "\n",
    "               [\"variety\",\"country\",\"province\",\"points\",\"price\"]]\n",
    "\n",
    "data['review']=words\n",
    "data"
   ]
  },
  {
   "cell_type": "code",
   "execution_count": 62,
   "id": "c245b2df",
   "metadata": {},
   "outputs": [
    {
     "data": {
      "text/plain": [
       "(205000, 2)"
      ]
     },
     "execution_count": 62,
     "metadata": {},
     "output_type": "execute_result"
    }
   ],
   "source": [
    "dvariety = data.loc[:,[\"variety\",\"review\"]]\n",
    "dvariety.shape"
   ]
  },
  {
   "cell_type": "code",
   "execution_count": 63,
   "id": "6d16377b",
   "metadata": {},
   "outputs": [
    {
     "data": {
      "text/plain": [
       "numpy.ndarray"
      ]
     },
     "execution_count": 63,
     "metadata": {},
     "output_type": "execute_result"
    }
   ],
   "source": [
    "nvariety = pd.Series(dvariety['variety']).to_numpy()\n",
    "type(nvariety)"
   ]
  },
  {
   "cell_type": "code",
   "execution_count": 64,
   "id": "48fe5a52",
   "metadata": {},
   "outputs": [
    {
     "data": {
      "text/plain": [
       "numpy.ndarray"
      ]
     },
     "execution_count": 64,
     "metadata": {},
     "output_type": "execute_result"
    }
   ],
   "source": [
    "nreviews = pd.Series(dvariety['review']).to_numpy()\n",
    "type(nreviews)"
   ]
  },
  {
   "cell_type": "code",
   "execution_count": 65,
   "id": "5b8a6555",
   "metadata": {},
   "outputs": [
    {
     "data": {
      "text/plain": [
       "dtype('<U35')"
      ]
     },
     "execution_count": 65,
     "metadata": {},
     "output_type": "execute_result"
    }
   ],
   "source": [
    "nvariety= nvariety.astype(str)\n",
    "nvariety.dtype"
   ]
  },
  {
   "cell_type": "code",
   "execution_count": 66,
   "id": "be7a82cd",
   "metadata": {},
   "outputs": [
    {
     "data": {
      "text/plain": [
       "(2000,)"
      ]
     },
     "execution_count": 66,
     "metadata": {},
     "output_type": "execute_result"
    }
   ],
   "source": [
    "train_data= nreviews[:2000]\n",
    "train_labels= nvariety[:2000]\n",
    "test_data= nreviews[2000:3000]\n",
    "test_labels= nvariety[2000:3000]\n",
    "train_data.shape"
   ]
  },
  {
   "cell_type": "markdown",
   "id": "b383a450",
   "metadata": {},
   "source": [
    "Word Mover's Distance:"
   ]
  },
  {
   "cell_type": "code",
   "execution_count": 67,
   "id": "7b973215",
   "metadata": {},
   "outputs": [],
   "source": [
    "def dist(rev1, rev2):\n",
    "  return model.wv.wmdistance(rev1, rev2)"
   ]
  },
  {
   "cell_type": "code",
   "execution_count": 68,
   "id": "753a6f71",
   "metadata": {},
   "outputs": [],
   "source": [
    "test_review = test_data[1] \n",
    "test_label = test_labels[1]"
   ]
  },
  {
   "cell_type": "code",
   "execution_count": 69,
   "id": "a258df21",
   "metadata": {},
   "outputs": [],
   "source": [
    "perdicted_label = classify(test_review,6)"
   ]
  },
  {
   "cell_type": "code",
   "execution_count": 70,
   "id": "98240102",
   "metadata": {},
   "outputs": [
    {
     "name": "stdout",
     "output_type": "stream",
     "text": [
      "Predicted variety for the first wine is Garganega and the true label is Pecorino\n"
     ]
    }
   ],
   "source": [
    "print(f\"Predicted variety for the first wine is {perdicted_label} and the true label is {test_label}\")"
   ]
  },
  {
   "cell_type": "code",
   "execution_count": 71,
   "id": "e063409e",
   "metadata": {},
   "outputs": [],
   "source": [
    "test_predicted_n9 = [classify(test_review,9) for test_review in test_data]"
   ]
  },
  {
   "cell_type": "code",
   "execution_count": 72,
   "id": "a924f3eb",
   "metadata": {},
   "outputs": [
    {
     "name": "stdout",
     "output_type": "stream",
     "text": [
      "0.343\n"
     ]
    }
   ],
   "source": [
    "n_correct_k9 = np.sum(test_labels == test_predicted_n9, dtype=object)\n",
    "accuracy_k9 = n_correct_k9/len(test_labels)\n",
    "print(accuracy_k9)\n",
    "#Accuracy of the Word Mover's Distance classifier, k=9, in predicting the grape variety (Word2Vec)"
   ]
  },
  {
   "cell_type": "markdown",
   "id": "c68c7082",
   "metadata": {},
   "source": [
    "Päris asjani on tükk maad veel. Mu arust võiks jõuda selleni, et saaks veinisoovitusi nii karakterit kirjeldavate märksõnade kui veininime järgi (ehk mis veinid oleksid konkreetsele veinile kõige sarnasemad). Word2veci saab ära kasutada selles mõttes, et märksõna järgi otsides ei pea istuma me kinni ühe kindla sõna küljes (nt kui otsime kuiva veini, siis me ei saa vastu ainult neid, mille kirjelduses on konkreetselt sõna \"kuiv\"), vaid saame võtta arvesse ka selle sünonüüme/semantiliselt lähedasi sõnu. Siinse katsetuse põhjal saame ehk algatada arutelu?"
   ]
  }
 ],
 "metadata": {
  "kernelspec": {
   "display_name": "Python 3 (ipykernel)",
   "language": "python",
   "name": "python3"
  },
  "language_info": {
   "codemirror_mode": {
    "name": "ipython",
    "version": 3
   },
   "file_extension": ".py",
   "mimetype": "text/x-python",
   "name": "python",
   "nbconvert_exporter": "python",
   "pygments_lexer": "ipython3",
   "version": "3.9.13"
  },
  "vscode": {
   "interpreter": {
    "hash": "4b8f16e4012474046bf3ae17fb6e66d0ceaf147066a3cea27e7a3d878a672b1d"
   }
  }
 },
 "nbformat": 4,
 "nbformat_minor": 5
}
