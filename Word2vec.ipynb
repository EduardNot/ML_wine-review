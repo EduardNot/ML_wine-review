{
  "cells": [
    {
      "cell_type": "code",
      "execution_count": null,
      "id": "681d9133",
      "metadata": {
        "id": "681d9133"
      },
      "outputs": [],
      "source": [
        "import pandas as pd\n",
        "import gensim\n",
        "from gensim.models import Word2Vec"
      ]
    },
    {
      "cell_type": "code",
      "execution_count": null,
      "id": "40ad46c5",
      "metadata": {
        "id": "40ad46c5"
      },
      "outputs": [],
      "source": [
        "import nltk\n",
        "import re"
      ]
    },
    {
      "cell_type": "code",
      "execution_count": null,
      "id": "2d095092",
      "metadata": {
        "id": "2d095092"
      },
      "outputs": [],
      "source": [
        "#nltk.download('stopwords')\n",
        "from nltk.corpus import stopwords"
      ]
    },
    {
      "cell_type": "code",
      "execution_count": null,
      "id": "e08073de",
      "metadata": {
        "id": "e08073de"
      },
      "outputs": [],
      "source": [
        "data1 = pd.read_csv('winemag-data_first150k.csv')\n",
        "data2 = pd.read_csv('winemag-data-130k-v2.csv')"
      ]
    },
    {
      "cell_type": "code",
      "execution_count": null,
      "id": "b85825eb",
      "metadata": {
        "id": "b85825eb"
      },
      "outputs": [],
      "source": [
        "#Panen andmed kokku\n",
        "dataset = pd.concat([data1,data2])"
      ]
    },
    {
      "cell_type": "code",
      "execution_count": null,
      "id": "d4646c97",
      "metadata": {
        "id": "d4646c97",
        "outputId": "adc5d357-a8b5-4d10-d797-ed7a82cf829f"
      },
      "outputs": [
        {
          "data": {
            "text/html": [
              "<div>\n",
              "<style scoped>\n",
              "    .dataframe tbody tr th:only-of-type {\n",
              "        vertical-align: middle;\n",
              "    }\n",
              "\n",
              "    .dataframe tbody tr th {\n",
              "        vertical-align: top;\n",
              "    }\n",
              "\n",
              "    .dataframe thead th {\n",
              "        text-align: right;\n",
              "    }\n",
              "</style>\n",
              "<table border=\"1\" class=\"dataframe\">\n",
              "  <thead>\n",
              "    <tr style=\"text-align: right;\">\n",
              "      <th></th>\n",
              "      <th>Unnamed: 0</th>\n",
              "      <th>country</th>\n",
              "      <th>description</th>\n",
              "      <th>designation</th>\n",
              "      <th>points</th>\n",
              "      <th>price</th>\n",
              "      <th>province</th>\n",
              "      <th>region_1</th>\n",
              "      <th>region_2</th>\n",
              "      <th>variety</th>\n",
              "      <th>winery</th>\n",
              "      <th>taster_name</th>\n",
              "      <th>taster_twitter_handle</th>\n",
              "      <th>title</th>\n",
              "    </tr>\n",
              "  </thead>\n",
              "  <tbody>\n",
              "    <tr>\n",
              "      <th>0</th>\n",
              "      <td>0</td>\n",
              "      <td>US</td>\n",
              "      <td>This tremendous 100% varietal wine hails from ...</td>\n",
              "      <td>Martha's Vineyard</td>\n",
              "      <td>96</td>\n",
              "      <td>235.0</td>\n",
              "      <td>California</td>\n",
              "      <td>Napa Valley</td>\n",
              "      <td>Napa</td>\n",
              "      <td>Cabernet Sauvignon</td>\n",
              "      <td>Heitz</td>\n",
              "      <td>NaN</td>\n",
              "      <td>NaN</td>\n",
              "      <td>NaN</td>\n",
              "    </tr>\n",
              "    <tr>\n",
              "      <th>1</th>\n",
              "      <td>1</td>\n",
              "      <td>Spain</td>\n",
              "      <td>Ripe aromas of fig, blackberry and cassis are ...</td>\n",
              "      <td>Carodorum Selección Especial Reserva</td>\n",
              "      <td>96</td>\n",
              "      <td>110.0</td>\n",
              "      <td>Northern Spain</td>\n",
              "      <td>Toro</td>\n",
              "      <td>NaN</td>\n",
              "      <td>Tinta de Toro</td>\n",
              "      <td>Bodega Carmen Rodríguez</td>\n",
              "      <td>NaN</td>\n",
              "      <td>NaN</td>\n",
              "      <td>NaN</td>\n",
              "    </tr>\n",
              "    <tr>\n",
              "      <th>2</th>\n",
              "      <td>2</td>\n",
              "      <td>US</td>\n",
              "      <td>Mac Watson honors the memory of a wine once ma...</td>\n",
              "      <td>Special Selected Late Harvest</td>\n",
              "      <td>96</td>\n",
              "      <td>90.0</td>\n",
              "      <td>California</td>\n",
              "      <td>Knights Valley</td>\n",
              "      <td>Sonoma</td>\n",
              "      <td>Sauvignon Blanc</td>\n",
              "      <td>Macauley</td>\n",
              "      <td>NaN</td>\n",
              "      <td>NaN</td>\n",
              "      <td>NaN</td>\n",
              "    </tr>\n",
              "    <tr>\n",
              "      <th>3</th>\n",
              "      <td>3</td>\n",
              "      <td>US</td>\n",
              "      <td>This spent 20 months in 30% new French oak, an...</td>\n",
              "      <td>Reserve</td>\n",
              "      <td>96</td>\n",
              "      <td>65.0</td>\n",
              "      <td>Oregon</td>\n",
              "      <td>Willamette Valley</td>\n",
              "      <td>Willamette Valley</td>\n",
              "      <td>Pinot Noir</td>\n",
              "      <td>Ponzi</td>\n",
              "      <td>NaN</td>\n",
              "      <td>NaN</td>\n",
              "      <td>NaN</td>\n",
              "    </tr>\n",
              "    <tr>\n",
              "      <th>4</th>\n",
              "      <td>4</td>\n",
              "      <td>France</td>\n",
              "      <td>This is the top wine from La Bégude, named aft...</td>\n",
              "      <td>La Brûlade</td>\n",
              "      <td>95</td>\n",
              "      <td>66.0</td>\n",
              "      <td>Provence</td>\n",
              "      <td>Bandol</td>\n",
              "      <td>NaN</td>\n",
              "      <td>Provence red blend</td>\n",
              "      <td>Domaine de la Bégude</td>\n",
              "      <td>NaN</td>\n",
              "      <td>NaN</td>\n",
              "      <td>NaN</td>\n",
              "    </tr>\n",
              "  </tbody>\n",
              "</table>\n",
              "</div>"
            ],
            "text/plain": [
              "   Unnamed: 0 country                                        description  \\\n",
              "0           0      US  This tremendous 100% varietal wine hails from ...   \n",
              "1           1   Spain  Ripe aromas of fig, blackberry and cassis are ...   \n",
              "2           2      US  Mac Watson honors the memory of a wine once ma...   \n",
              "3           3      US  This spent 20 months in 30% new French oak, an...   \n",
              "4           4  France  This is the top wine from La Bégude, named aft...   \n",
              "\n",
              "                            designation  points  price        province  \\\n",
              "0                     Martha's Vineyard      96  235.0      California   \n",
              "1  Carodorum Selección Especial Reserva      96  110.0  Northern Spain   \n",
              "2         Special Selected Late Harvest      96   90.0      California   \n",
              "3                               Reserve      96   65.0          Oregon   \n",
              "4                            La Brûlade      95   66.0        Provence   \n",
              "\n",
              "            region_1           region_2             variety  \\\n",
              "0        Napa Valley               Napa  Cabernet Sauvignon   \n",
              "1               Toro                NaN       Tinta de Toro   \n",
              "2     Knights Valley             Sonoma     Sauvignon Blanc   \n",
              "3  Willamette Valley  Willamette Valley          Pinot Noir   \n",
              "4             Bandol                NaN  Provence red blend   \n",
              "\n",
              "                    winery taster_name taster_twitter_handle title  \n",
              "0                    Heitz         NaN                   NaN   NaN  \n",
              "1  Bodega Carmen Rodríguez         NaN                   NaN   NaN  \n",
              "2                 Macauley         NaN                   NaN   NaN  \n",
              "3                    Ponzi         NaN                   NaN   NaN  \n",
              "4     Domaine de la Bégude         NaN                   NaN   NaN  "
            ]
          },
          "execution_count": 16,
          "metadata": {},
          "output_type": "execute_result"
        }
      ],
      "source": [
        "#Vaatan, mis toimub\n",
        "dataset.head()"
      ]
    },
    {
      "cell_type": "code",
      "execution_count": null,
      "id": "8735a6f5",
      "metadata": {
        "id": "8735a6f5"
      },
      "outputs": [],
      "source": [
        "#Suvaline hulk kirjeldusi (25000)\n",
        "subset = dataset.description.iloc[:25000]"
      ]
    },
    {
      "cell_type": "code",
      "execution_count": null,
      "id": "00730353",
      "metadata": {
        "id": "00730353",
        "outputId": "35945f30-58b3-4380-88df-388419532a9b"
      },
      "outputs": [
        {
          "data": {
            "text/plain": [
              "'This tremendous 100% varietal wine hails from Oakville and was aged over three years in oak. Juicy red-cherry fruit and a compelling hint of caramel greet the palate, framed by elegant, fine tannins and a subtle minty tone in the background. Balanced and rewarding from start to finish, it has years ahead of it to develop further nuance. Enjoy 2022–2030.'"
            ]
          },
          "execution_count": 26,
          "metadata": {},
          "output_type": "execute_result"
        }
      ],
      "source": [
        "#Esimene kirjeldus näiteks\n",
        "subset[0]"
      ]
    },
    {
      "cell_type": "code",
      "execution_count": null,
      "id": "73c15c65",
      "metadata": {
        "id": "73c15c65"
      },
      "outputs": [],
      "source": [
        "reviews_lower = [x.lower() for x in subset]"
      ]
    },
    {
      "cell_type": "code",
      "execution_count": null,
      "id": "c9e5db32",
      "metadata": {
        "id": "c9e5db32",
        "outputId": "3dca397e-8d3f-4aa4-b35d-f68c12b68a16"
      },
      "outputs": [
        {
          "data": {
            "text/plain": [
              "'this tremendous 100% varietal wine hails from oakville and was aged over three years in oak. juicy red-cherry fruit and a compelling hint of caramel greet the palate, framed by elegant, fine tannins and a subtle minty tone in the background. balanced and rewarding from start to finish, it has years ahead of it to develop further nuance. enjoy 2022–2030.'"
            ]
          },
          "execution_count": 30,
          "metadata": {},
          "output_type": "execute_result"
        }
      ],
      "source": [
        "reviews_lower[0]"
      ]
    },
    {
      "cell_type": "code",
      "execution_count": null,
      "id": "0d8cf43c",
      "metadata": {
        "id": "0d8cf43c"
      },
      "outputs": [],
      "source": [
        "#Puhastan teksti sodist, aga võib vaielda, et äkki ikkagi on vaja mingit tüüpi arve säilitada (nt aastaarvud)\n",
        "cleaned_reviews = [re.sub('[^a-zA-Z]', ' ', x) for x in reviews_lower]\n",
        "cleaned_reviews = [re.sub(r'\\s+', ' ', x) for x in cleaned_reviews]"
      ]
    },
    {
      "cell_type": "code",
      "execution_count": null,
      "id": "6810bff9",
      "metadata": {
        "id": "6810bff9",
        "outputId": "151e7ed4-c27c-47dc-df22-0f8ea9926260"
      },
      "outputs": [
        {
          "data": {
            "text/plain": [
              "'this tremendous varietal wine hails from oakville and was aged over three years in oak juicy red cherry fruit and a compelling hint of caramel greet the palate framed by elegant fine tannins and a subtle minty tone in the background balanced and rewarding from start to finish it has years ahead of it to develop further nuance enjoy '"
            ]
          },
          "execution_count": 50,
          "metadata": {},
          "output_type": "execute_result"
        }
      ],
      "source": [
        "cleaned_reviews[0]"
      ]
    },
    {
      "cell_type": "code",
      "execution_count": null,
      "id": "37d68afb",
      "metadata": {
        "id": "37d68afb"
      },
      "outputs": [],
      "source": [
        "reviews = [nltk.sent_tokenize(x) for x in cleaned_reviews]"
      ]
    },
    {
      "cell_type": "code",
      "execution_count": null,
      "id": "d71626d0",
      "metadata": {
        "id": "d71626d0"
      },
      "outputs": [],
      "source": [
        "reviews = [y for x in reviews for y in x]"
      ]
    },
    {
      "cell_type": "code",
      "execution_count": null,
      "id": "12fac192",
      "metadata": {
        "id": "12fac192",
        "outputId": "9b10d74d-ce86-434e-9222-39666ec9788b"
      },
      "outputs": [
        {
          "data": {
            "text/plain": [
              "'this tremendous varietal wine hails from oakville and was aged over three years in oak juicy red cherry fruit and a compelling hint of caramel greet the palate framed by elegant fine tannins and a subtle minty tone in the background balanced and rewarding from start to finish it has years ahead of it to develop further nuance enjoy'"
            ]
          },
          "execution_count": 62,
          "metadata": {},
          "output_type": "execute_result"
        }
      ],
      "source": [
        "reviews[0]"
      ]
    },
    {
      "cell_type": "code",
      "execution_count": null,
      "id": "f780f093",
      "metadata": {
        "id": "f780f093"
      },
      "outputs": [],
      "source": [
        "words = [nltk.word_tokenize(x) for x in reviews]"
      ]
    },
    {
      "cell_type": "code",
      "execution_count": null,
      "id": "7786b9d3",
      "metadata": {
        "id": "7786b9d3"
      },
      "outputs": [],
      "source": [
        "for i in range(len(words)):\n",
        "    words[i] = [w for w in words[i] if w not in stopwords.words('english')]"
      ]
    },
    {
      "cell_type": "code",
      "execution_count": null,
      "id": "b914bf23",
      "metadata": {
        "id": "b914bf23",
        "outputId": "de74a94c-3635-43be-ea50-57229d2f8692"
      },
      "outputs": [
        {
          "data": {
            "text/plain": [
              "['tremendous',\n",
              " 'varietal',\n",
              " 'wine',\n",
              " 'hails',\n",
              " 'oakville',\n",
              " 'aged',\n",
              " 'three',\n",
              " 'years',\n",
              " 'oak',\n",
              " 'juicy',\n",
              " 'red',\n",
              " 'cherry',\n",
              " 'fruit',\n",
              " 'compelling',\n",
              " 'hint',\n",
              " 'caramel',\n",
              " 'greet',\n",
              " 'palate',\n",
              " 'framed',\n",
              " 'elegant',\n",
              " 'fine',\n",
              " 'tannins',\n",
              " 'subtle',\n",
              " 'minty',\n",
              " 'tone',\n",
              " 'background',\n",
              " 'balanced',\n",
              " 'rewarding',\n",
              " 'start',\n",
              " 'finish',\n",
              " 'years',\n",
              " 'ahead',\n",
              " 'develop',\n",
              " 'nuance',\n",
              " 'enjoy']"
            ]
          },
          "execution_count": 83,
          "metadata": {},
          "output_type": "execute_result"
        }
      ],
      "source": [
        "#Põhimõtteliselt on korpus valmis\n",
        "words[0]"
      ]
    },
    {
      "cell_type": "code",
      "execution_count": null,
      "id": "5df227c4",
      "metadata": {
        "id": "5df227c4"
      },
      "outputs": [],
      "source": [
        "# Mudel\n",
        "model = gensim.models.Word2Vec(words, vector_size = 200 , window = 4 , min_count = 15,\n",
        "                               seed = 1000, hs = 0, negative = 10,workers=16, epochs = 25)"
      ]
    },
    {
      "cell_type": "code",
      "execution_count": null,
      "id": "2b11aec6",
      "metadata": {
        "id": "2b11aec6",
        "outputId": "22531993-d00f-4686-ec84-57855e620ebb"
      },
      "outputs": [
        {
          "data": {
            "text/plain": [
              "[('syrup', 0.40505334734916687),\n",
              " ('upfront', 0.395243763923645),\n",
              " ('preserves', 0.38988175988197327),\n",
              " ('ripe', 0.38402512669563293),\n",
              " ('sweetness', 0.3738795518875122),\n",
              " ('exotic', 0.3501429259777069),\n",
              " ('filled', 0.34437164664268494),\n",
              " ('pie', 0.34066352248191833),\n",
              " ('baked', 0.3323270082473755),\n",
              " ('butterscotch', 0.3308701515197754)]"
            ]
          },
          "execution_count": 102,
          "metadata": {},
          "output_type": "execute_result"
        }
      ],
      "source": [
        "#Kümme kõige lähedasemat sõna sõnale \"magus\"\n",
        "model.wv.most_similar('sweet')"
      ]
    },
    {
      "cell_type": "code",
      "execution_count": null,
      "id": "437aa0c5",
      "metadata": {
        "id": "437aa0c5",
        "outputId": "a6e922c3-9374-412a-a635-729985522c98"
      },
      "outputs": [
        {
          "data": {
            "text/plain": [
              "[('dryness', 0.4438883066177368),\n",
              " ('semisweet', 0.3660918176174164),\n",
              " ('cutting', 0.35722261667251587),\n",
              " ('bite', 0.355294406414032),\n",
              " ('lip', 0.35496851801872253),\n",
              " ('brisk', 0.3342866599559784),\n",
              " ('spry', 0.33288702368736267),\n",
              " ('brightened', 0.32236072421073914),\n",
              " ('moderately', 0.31317660212516785),\n",
              " ('drinkable', 0.3089016079902649)]"
            ]
          },
          "execution_count": 103,
          "metadata": {},
          "output_type": "execute_result"
        }
      ],
      "source": [
        "#Kümme kõige lähedasemat sõna sõnale \"kuiv\"\n",
        "model.wv.most_similar('dry')"
      ]
    },
    {
      "cell_type": "markdown",
      "id": "2fd39740",
      "metadata": {
        "id": "2fd39740"
      },
      "source": [
        "Päris asjani on tükk maad veel. Ma jooksutasin tervel datal ka (mingi paar tundi läks) ja tulid palju paremad vektorid, aga siis pani arvuti pange :') Mu arust võiks jõuda selleni, et saaks veinisoovitusi nii karakterit kirjeldavate märksõnade kui veininime järgi (ehk mis veinid oleksid konkreetsele veinile kõige sarnasemad). Word2veci saab ära kasutada selles mõttes, et märksõna järgi otsides ei pea istuma me kinni ühe kindla sõna küljes (nt kui otsime kuiva veini, siis me ei saa vastu ainult neid, mille kirjelduses on konkreetselt sõna \"kuiv\"), vaid saame võtta arvesse ka selle sünonüüme/semantiliselt lähedasi sõnu. Siinse katsetuse põhjal saame ehk algatada arutelu?"
      ]
    }
  ],
  "metadata": {
    "kernelspec": {
      "display_name": "Python 3 (ipykernel)",
      "language": "python",
      "name": "python3"
    },
    "language_info": {
      "codemirror_mode": {
        "name": "ipython",
        "version": 3
      },
      "file_extension": ".py",
      "mimetype": "text/x-python",
      "name": "python",
      "nbconvert_exporter": "python",
      "pygments_lexer": "ipython3",
      "version": "3.8.11"
    },
    "colab": {
      "provenance": []
    }
  },
  "nbformat": 4,
  "nbformat_minor": 5
}