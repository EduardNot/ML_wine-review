{
  "cells": [
    {
      "cell_type": "markdown",
      "id": "2f622e30",
      "metadata": {},
      "source": [
        "## Machine leaning project\n",
        "This project is about wine reviews dataset that was found in Kaggle.\n",
        "\n",
        "Project team members: Annely Liivas, Velda Lauringson, Eduard Rudi"
      ]
    },
    {
      "cell_type": "code",
      "execution_count": 1,
      "id": "681d9133",
      "metadata": {
        "id": "681d9133"
      },
      "outputs": [],
      "source": [
        "import pandas as pd\n",
        "import gensim\n",
        "from gensim.models import Word2Vec\n",
        "import numpy as np\n",
        "import matplotlib.pyplot as plt"
      ]
    },
    {
      "cell_type": "code",
      "execution_count": 2,
      "id": "40ad46c5",
      "metadata": {
        "id": "40ad46c5"
      },
      "outputs": [],
      "source": [
        "import nltk\n",
        "import re"
      ]
    },
    {
      "cell_type": "code",
      "execution_count": 3,
      "id": "2d095092",
      "metadata": {
        "id": "2d095092"
      },
      "outputs": [],
      "source": [
        "# nltk.download('stopwords')\n",
        "# nltk.download('punkt')\n",
        "from nltk.corpus import stopwords"
      ]
    },
    {
      "cell_type": "code",
      "execution_count": 4,
      "id": "55103efb",
      "metadata": {},
      "outputs": [],
      "source": [
        "data_loc = 'data/'"
      ]
    },
    {
      "cell_type": "code",
      "execution_count": 5,
      "id": "e08073de",
      "metadata": {
        "id": "e08073de"
      },
      "outputs": [],
      "source": [
        "data1 = pd.read_csv(data_loc + 'winemag-data_first150k.csv', index_col=0)\n",
        "data2 = pd.read_csv(data_loc + 'winemag-data-130k-v2.csv', index_col=0)"
      ]
    },
    {
      "cell_type": "code",
      "execution_count": 6,
      "id": "b85825eb",
      "metadata": {
        "id": "b85825eb"
      },
      "outputs": [],
      "source": [
        "#Panen andmed kokku\n",
        "dataset = pd.concat([data1,data2])"
      ]
    },
    {
      "cell_type": "code",
      "execution_count": 7,
      "id": "b946755d",
      "metadata": {},
      "outputs": [
        {
          "data": {
            "text/html": [
              "<div>\n",
              "<style scoped>\n",
              "    .dataframe tbody tr th:only-of-type {\n",
              "        vertical-align: middle;\n",
              "    }\n",
              "\n",
              "    .dataframe tbody tr th {\n",
              "        vertical-align: top;\n",
              "    }\n",
              "\n",
              "    .dataframe thead th {\n",
              "        text-align: right;\n",
              "    }\n",
              "</style>\n",
              "<table border=\"1\" class=\"dataframe\">\n",
              "  <thead>\n",
              "    <tr style=\"text-align: right;\">\n",
              "      <th></th>\n",
              "      <th>country</th>\n",
              "      <th>description</th>\n",
              "      <th>designation</th>\n",
              "      <th>points</th>\n",
              "      <th>price</th>\n",
              "      <th>province</th>\n",
              "      <th>region_1</th>\n",
              "      <th>region_2</th>\n",
              "      <th>variety</th>\n",
              "      <th>winery</th>\n",
              "      <th>taster_name</th>\n",
              "      <th>taster_twitter_handle</th>\n",
              "      <th>title</th>\n",
              "    </tr>\n",
              "  </thead>\n",
              "  <tbody>\n",
              "    <tr>\n",
              "      <th>0</th>\n",
              "      <td>US</td>\n",
              "      <td>This tremendous 100% varietal wine hails from ...</td>\n",
              "      <td>Martha's Vineyard</td>\n",
              "      <td>96</td>\n",
              "      <td>235.0</td>\n",
              "      <td>California</td>\n",
              "      <td>Napa Valley</td>\n",
              "      <td>Napa</td>\n",
              "      <td>Cabernet Sauvignon</td>\n",
              "      <td>Heitz</td>\n",
              "      <td>NaN</td>\n",
              "      <td>NaN</td>\n",
              "      <td>NaN</td>\n",
              "    </tr>\n",
              "    <tr>\n",
              "      <th>1</th>\n",
              "      <td>Spain</td>\n",
              "      <td>Ripe aromas of fig, blackberry and cassis are ...</td>\n",
              "      <td>Carodorum Selección Especial Reserva</td>\n",
              "      <td>96</td>\n",
              "      <td>110.0</td>\n",
              "      <td>Northern Spain</td>\n",
              "      <td>Toro</td>\n",
              "      <td>NaN</td>\n",
              "      <td>Tinta de Toro</td>\n",
              "      <td>Bodega Carmen Rodríguez</td>\n",
              "      <td>NaN</td>\n",
              "      <td>NaN</td>\n",
              "      <td>NaN</td>\n",
              "    </tr>\n",
              "    <tr>\n",
              "      <th>2</th>\n",
              "      <td>US</td>\n",
              "      <td>Mac Watson honors the memory of a wine once ma...</td>\n",
              "      <td>Special Selected Late Harvest</td>\n",
              "      <td>96</td>\n",
              "      <td>90.0</td>\n",
              "      <td>California</td>\n",
              "      <td>Knights Valley</td>\n",
              "      <td>Sonoma</td>\n",
              "      <td>Sauvignon Blanc</td>\n",
              "      <td>Macauley</td>\n",
              "      <td>NaN</td>\n",
              "      <td>NaN</td>\n",
              "      <td>NaN</td>\n",
              "    </tr>\n",
              "    <tr>\n",
              "      <th>3</th>\n",
              "      <td>US</td>\n",
              "      <td>This spent 20 months in 30% new French oak, an...</td>\n",
              "      <td>Reserve</td>\n",
              "      <td>96</td>\n",
              "      <td>65.0</td>\n",
              "      <td>Oregon</td>\n",
              "      <td>Willamette Valley</td>\n",
              "      <td>Willamette Valley</td>\n",
              "      <td>Pinot Noir</td>\n",
              "      <td>Ponzi</td>\n",
              "      <td>NaN</td>\n",
              "      <td>NaN</td>\n",
              "      <td>NaN</td>\n",
              "    </tr>\n",
              "    <tr>\n",
              "      <th>4</th>\n",
              "      <td>France</td>\n",
              "      <td>This is the top wine from La Bégude, named aft...</td>\n",
              "      <td>La Brûlade</td>\n",
              "      <td>95</td>\n",
              "      <td>66.0</td>\n",
              "      <td>Provence</td>\n",
              "      <td>Bandol</td>\n",
              "      <td>NaN</td>\n",
              "      <td>Provence red blend</td>\n",
              "      <td>Domaine de la Bégude</td>\n",
              "      <td>NaN</td>\n",
              "      <td>NaN</td>\n",
              "      <td>NaN</td>\n",
              "    </tr>\n",
              "    <tr>\n",
              "      <th>...</th>\n",
              "      <td>...</td>\n",
              "      <td>...</td>\n",
              "      <td>...</td>\n",
              "      <td>...</td>\n",
              "      <td>...</td>\n",
              "      <td>...</td>\n",
              "      <td>...</td>\n",
              "      <td>...</td>\n",
              "      <td>...</td>\n",
              "      <td>...</td>\n",
              "      <td>...</td>\n",
              "      <td>...</td>\n",
              "      <td>...</td>\n",
              "    </tr>\n",
              "    <tr>\n",
              "      <th>280896</th>\n",
              "      <td>Germany</td>\n",
              "      <td>Notes of honeysuckle and cantaloupe sweeten th...</td>\n",
              "      <td>Brauneberger Juffer-Sonnenuhr Spätlese</td>\n",
              "      <td>90</td>\n",
              "      <td>28.0</td>\n",
              "      <td>Mosel</td>\n",
              "      <td>NaN</td>\n",
              "      <td>NaN</td>\n",
              "      <td>Riesling</td>\n",
              "      <td>Dr. H. Thanisch (Erben Müller-Burggraef)</td>\n",
              "      <td>Anna Lee C. Iijima</td>\n",
              "      <td>NaN</td>\n",
              "      <td>Dr. H. Thanisch (Erben Müller-Burggraef) 2013 ...</td>\n",
              "    </tr>\n",
              "    <tr>\n",
              "      <th>280897</th>\n",
              "      <td>US</td>\n",
              "      <td>Citation is given as much as a decade of bottl...</td>\n",
              "      <td>NaN</td>\n",
              "      <td>90</td>\n",
              "      <td>75.0</td>\n",
              "      <td>Oregon</td>\n",
              "      <td>Oregon</td>\n",
              "      <td>Oregon Other</td>\n",
              "      <td>Pinot Noir</td>\n",
              "      <td>Citation</td>\n",
              "      <td>Paul Gregutt</td>\n",
              "      <td>@paulgwine</td>\n",
              "      <td>Citation 2004 Pinot Noir (Oregon)</td>\n",
              "    </tr>\n",
              "    <tr>\n",
              "      <th>280898</th>\n",
              "      <td>France</td>\n",
              "      <td>Well-drained gravel soil gives this wine its c...</td>\n",
              "      <td>Kritt</td>\n",
              "      <td>90</td>\n",
              "      <td>30.0</td>\n",
              "      <td>Alsace</td>\n",
              "      <td>Alsace</td>\n",
              "      <td>NaN</td>\n",
              "      <td>Gewürztraminer</td>\n",
              "      <td>Domaine Gresser</td>\n",
              "      <td>Roger Voss</td>\n",
              "      <td>@vossroger</td>\n",
              "      <td>Domaine Gresser 2013 Kritt Gewurztraminer (Als...</td>\n",
              "    </tr>\n",
              "    <tr>\n",
              "      <th>280899</th>\n",
              "      <td>France</td>\n",
              "      <td>A dry style of Pinot Gris, this is crisp with ...</td>\n",
              "      <td>NaN</td>\n",
              "      <td>90</td>\n",
              "      <td>32.0</td>\n",
              "      <td>Alsace</td>\n",
              "      <td>Alsace</td>\n",
              "      <td>NaN</td>\n",
              "      <td>Pinot Gris</td>\n",
              "      <td>Domaine Marcel Deiss</td>\n",
              "      <td>Roger Voss</td>\n",
              "      <td>@vossroger</td>\n",
              "      <td>Domaine Marcel Deiss 2012 Pinot Gris (Alsace)</td>\n",
              "    </tr>\n",
              "    <tr>\n",
              "      <th>280900</th>\n",
              "      <td>France</td>\n",
              "      <td>Big, rich and off-dry, this is powered by inte...</td>\n",
              "      <td>Lieu-dit Harth Cuvée Caroline</td>\n",
              "      <td>90</td>\n",
              "      <td>21.0</td>\n",
              "      <td>Alsace</td>\n",
              "      <td>Alsace</td>\n",
              "      <td>NaN</td>\n",
              "      <td>Gewürztraminer</td>\n",
              "      <td>Domaine Schoffit</td>\n",
              "      <td>Roger Voss</td>\n",
              "      <td>@vossroger</td>\n",
              "      <td>Domaine Schoffit 2012 Lieu-dit Harth Cuvée Car...</td>\n",
              "    </tr>\n",
              "  </tbody>\n",
              "</table>\n",
              "<p>280901 rows × 13 columns</p>\n",
              "</div>"
            ],
            "text/plain": [
              "        country                                        description  \\\n",
              "0            US  This tremendous 100% varietal wine hails from ...   \n",
              "1         Spain  Ripe aromas of fig, blackberry and cassis are ...   \n",
              "2            US  Mac Watson honors the memory of a wine once ma...   \n",
              "3            US  This spent 20 months in 30% new French oak, an...   \n",
              "4        France  This is the top wine from La Bégude, named aft...   \n",
              "...         ...                                                ...   \n",
              "280896  Germany  Notes of honeysuckle and cantaloupe sweeten th...   \n",
              "280897       US  Citation is given as much as a decade of bottl...   \n",
              "280898   France  Well-drained gravel soil gives this wine its c...   \n",
              "280899   France  A dry style of Pinot Gris, this is crisp with ...   \n",
              "280900   France  Big, rich and off-dry, this is powered by inte...   \n",
              "\n",
              "                                   designation  points  price        province  \\\n",
              "0                            Martha's Vineyard      96  235.0      California   \n",
              "1         Carodorum Selección Especial Reserva      96  110.0  Northern Spain   \n",
              "2                Special Selected Late Harvest      96   90.0      California   \n",
              "3                                      Reserve      96   65.0          Oregon   \n",
              "4                                   La Brûlade      95   66.0        Provence   \n",
              "...                                        ...     ...    ...             ...   \n",
              "280896  Brauneberger Juffer-Sonnenuhr Spätlese      90   28.0           Mosel   \n",
              "280897                                     NaN      90   75.0          Oregon   \n",
              "280898                                   Kritt      90   30.0          Alsace   \n",
              "280899                                     NaN      90   32.0          Alsace   \n",
              "280900           Lieu-dit Harth Cuvée Caroline      90   21.0          Alsace   \n",
              "\n",
              "                 region_1           region_2             variety  \\\n",
              "0             Napa Valley               Napa  Cabernet Sauvignon   \n",
              "1                    Toro                NaN       Tinta de Toro   \n",
              "2          Knights Valley             Sonoma     Sauvignon Blanc   \n",
              "3       Willamette Valley  Willamette Valley          Pinot Noir   \n",
              "4                  Bandol                NaN  Provence red blend   \n",
              "...                   ...                ...                 ...   \n",
              "280896                NaN                NaN            Riesling   \n",
              "280897             Oregon       Oregon Other          Pinot Noir   \n",
              "280898             Alsace                NaN      Gewürztraminer   \n",
              "280899             Alsace                NaN          Pinot Gris   \n",
              "280900             Alsace                NaN      Gewürztraminer   \n",
              "\n",
              "                                          winery         taster_name  \\\n",
              "0                                          Heitz                 NaN   \n",
              "1                        Bodega Carmen Rodríguez                 NaN   \n",
              "2                                       Macauley                 NaN   \n",
              "3                                          Ponzi                 NaN   \n",
              "4                           Domaine de la Bégude                 NaN   \n",
              "...                                          ...                 ...   \n",
              "280896  Dr. H. Thanisch (Erben Müller-Burggraef)  Anna Lee C. Iijima   \n",
              "280897                                  Citation        Paul Gregutt   \n",
              "280898                           Domaine Gresser          Roger Voss   \n",
              "280899                      Domaine Marcel Deiss          Roger Voss   \n",
              "280900                          Domaine Schoffit          Roger Voss   \n",
              "\n",
              "       taster_twitter_handle  \\\n",
              "0                        NaN   \n",
              "1                        NaN   \n",
              "2                        NaN   \n",
              "3                        NaN   \n",
              "4                        NaN   \n",
              "...                      ...   \n",
              "280896                   NaN   \n",
              "280897           @paulgwine    \n",
              "280898            @vossroger   \n",
              "280899            @vossroger   \n",
              "280900            @vossroger   \n",
              "\n",
              "                                                    title  \n",
              "0                                                     NaN  \n",
              "1                                                     NaN  \n",
              "2                                                     NaN  \n",
              "3                                                     NaN  \n",
              "4                                                     NaN  \n",
              "...                                                   ...  \n",
              "280896  Dr. H. Thanisch (Erben Müller-Burggraef) 2013 ...  \n",
              "280897                  Citation 2004 Pinot Noir (Oregon)  \n",
              "280898  Domaine Gresser 2013 Kritt Gewurztraminer (Als...  \n",
              "280899      Domaine Marcel Deiss 2012 Pinot Gris (Alsace)  \n",
              "280900  Domaine Schoffit 2012 Lieu-dit Harth Cuvée Car...  \n",
              "\n",
              "[280901 rows x 13 columns]"
            ]
          },
          "execution_count": 7,
          "metadata": {},
          "output_type": "execute_result"
        }
      ],
      "source": [
        "# Reset index\n",
        "dataset.reset_index(drop=True)"
      ]
    },
    {
      "cell_type": "code",
      "execution_count": 8,
      "id": "d4646c97",
      "metadata": {
        "id": "d4646c97",
        "outputId": "adc5d357-a8b5-4d10-d797-ed7a82cf829f"
      },
      "outputs": [
        {
          "data": {
            "text/html": [
              "<div>\n",
              "<style scoped>\n",
              "    .dataframe tbody tr th:only-of-type {\n",
              "        vertical-align: middle;\n",
              "    }\n",
              "\n",
              "    .dataframe tbody tr th {\n",
              "        vertical-align: top;\n",
              "    }\n",
              "\n",
              "    .dataframe thead th {\n",
              "        text-align: right;\n",
              "    }\n",
              "</style>\n",
              "<table border=\"1\" class=\"dataframe\">\n",
              "  <thead>\n",
              "    <tr style=\"text-align: right;\">\n",
              "      <th></th>\n",
              "      <th>country</th>\n",
              "      <th>description</th>\n",
              "      <th>designation</th>\n",
              "      <th>points</th>\n",
              "      <th>price</th>\n",
              "      <th>province</th>\n",
              "      <th>region_1</th>\n",
              "      <th>region_2</th>\n",
              "      <th>variety</th>\n",
              "      <th>winery</th>\n",
              "      <th>taster_name</th>\n",
              "      <th>taster_twitter_handle</th>\n",
              "      <th>title</th>\n",
              "    </tr>\n",
              "  </thead>\n",
              "  <tbody>\n",
              "    <tr>\n",
              "      <th>0</th>\n",
              "      <td>US</td>\n",
              "      <td>This tremendous 100% varietal wine hails from ...</td>\n",
              "      <td>Martha's Vineyard</td>\n",
              "      <td>96</td>\n",
              "      <td>235.0</td>\n",
              "      <td>California</td>\n",
              "      <td>Napa Valley</td>\n",
              "      <td>Napa</td>\n",
              "      <td>Cabernet Sauvignon</td>\n",
              "      <td>Heitz</td>\n",
              "      <td>NaN</td>\n",
              "      <td>NaN</td>\n",
              "      <td>NaN</td>\n",
              "    </tr>\n",
              "    <tr>\n",
              "      <th>1</th>\n",
              "      <td>Spain</td>\n",
              "      <td>Ripe aromas of fig, blackberry and cassis are ...</td>\n",
              "      <td>Carodorum Selección Especial Reserva</td>\n",
              "      <td>96</td>\n",
              "      <td>110.0</td>\n",
              "      <td>Northern Spain</td>\n",
              "      <td>Toro</td>\n",
              "      <td>NaN</td>\n",
              "      <td>Tinta de Toro</td>\n",
              "      <td>Bodega Carmen Rodríguez</td>\n",
              "      <td>NaN</td>\n",
              "      <td>NaN</td>\n",
              "      <td>NaN</td>\n",
              "    </tr>\n",
              "    <tr>\n",
              "      <th>2</th>\n",
              "      <td>US</td>\n",
              "      <td>Mac Watson honors the memory of a wine once ma...</td>\n",
              "      <td>Special Selected Late Harvest</td>\n",
              "      <td>96</td>\n",
              "      <td>90.0</td>\n",
              "      <td>California</td>\n",
              "      <td>Knights Valley</td>\n",
              "      <td>Sonoma</td>\n",
              "      <td>Sauvignon Blanc</td>\n",
              "      <td>Macauley</td>\n",
              "      <td>NaN</td>\n",
              "      <td>NaN</td>\n",
              "      <td>NaN</td>\n",
              "    </tr>\n",
              "    <tr>\n",
              "      <th>3</th>\n",
              "      <td>US</td>\n",
              "      <td>This spent 20 months in 30% new French oak, an...</td>\n",
              "      <td>Reserve</td>\n",
              "      <td>96</td>\n",
              "      <td>65.0</td>\n",
              "      <td>Oregon</td>\n",
              "      <td>Willamette Valley</td>\n",
              "      <td>Willamette Valley</td>\n",
              "      <td>Pinot Noir</td>\n",
              "      <td>Ponzi</td>\n",
              "      <td>NaN</td>\n",
              "      <td>NaN</td>\n",
              "      <td>NaN</td>\n",
              "    </tr>\n",
              "    <tr>\n",
              "      <th>4</th>\n",
              "      <td>France</td>\n",
              "      <td>This is the top wine from La Bégude, named aft...</td>\n",
              "      <td>La Brûlade</td>\n",
              "      <td>95</td>\n",
              "      <td>66.0</td>\n",
              "      <td>Provence</td>\n",
              "      <td>Bandol</td>\n",
              "      <td>NaN</td>\n",
              "      <td>Provence red blend</td>\n",
              "      <td>Domaine de la Bégude</td>\n",
              "      <td>NaN</td>\n",
              "      <td>NaN</td>\n",
              "      <td>NaN</td>\n",
              "    </tr>\n",
              "  </tbody>\n",
              "</table>\n",
              "</div>"
            ],
            "text/plain": [
              "  country                                        description  \\\n",
              "0      US  This tremendous 100% varietal wine hails from ...   \n",
              "1   Spain  Ripe aromas of fig, blackberry and cassis are ...   \n",
              "2      US  Mac Watson honors the memory of a wine once ma...   \n",
              "3      US  This spent 20 months in 30% new French oak, an...   \n",
              "4  France  This is the top wine from La Bégude, named aft...   \n",
              "\n",
              "                            designation  points  price        province  \\\n",
              "0                     Martha's Vineyard      96  235.0      California   \n",
              "1  Carodorum Selección Especial Reserva      96  110.0  Northern Spain   \n",
              "2         Special Selected Late Harvest      96   90.0      California   \n",
              "3                               Reserve      96   65.0          Oregon   \n",
              "4                            La Brûlade      95   66.0        Provence   \n",
              "\n",
              "            region_1           region_2             variety  \\\n",
              "0        Napa Valley               Napa  Cabernet Sauvignon   \n",
              "1               Toro                NaN       Tinta de Toro   \n",
              "2     Knights Valley             Sonoma     Sauvignon Blanc   \n",
              "3  Willamette Valley  Willamette Valley          Pinot Noir   \n",
              "4             Bandol                NaN  Provence red blend   \n",
              "\n",
              "                    winery taster_name taster_twitter_handle title  \n",
              "0                    Heitz         NaN                   NaN   NaN  \n",
              "1  Bodega Carmen Rodríguez         NaN                   NaN   NaN  \n",
              "2                 Macauley         NaN                   NaN   NaN  \n",
              "3                    Ponzi         NaN                   NaN   NaN  \n",
              "4     Domaine de la Bégude         NaN                   NaN   NaN  "
            ]
          },
          "execution_count": 8,
          "metadata": {},
          "output_type": "execute_result"
        }
      ],
      "source": [
        "#Vaatan, mis toimub\n",
        "dataset.head()"
      ]
    },
    {
      "cell_type": "code",
      "execution_count": 9,
      "id": "97846e9e",
      "metadata": {},
      "outputs": [
        {
          "data": {
            "text/plain": [
              "280901"
            ]
          },
          "execution_count": 9,
          "metadata": {},
          "output_type": "execute_result"
        }
      ],
      "source": [
        "len(dataset)"
      ]
    },
    {
      "cell_type": "code",
      "execution_count": 29,
      "id": "e26a81c1",
      "metadata": {},
      "outputs": [
        {
          "name": "stdout",
          "output_type": "stream",
          "text": [
            "Column country has 68 NaN values\n",
            "Column description has 0 NaN values\n",
            "Column designation has 83200 NaN values\n",
            "Column points has 0 NaN values\n",
            "Column price has 22691 NaN values\n",
            "Column province has 68 NaN values\n",
            "Column region_1 has 46307 NaN values\n",
            "Column region_2 has 169437 NaN values\n",
            "Column variety has 1 NaN values\n",
            "Column winery has 0 NaN values\n",
            "Column taster_name has 177174 NaN values\n",
            "Column taster_twitter_handle has 182143 NaN values\n",
            "Column title has 150930 NaN values\n"
          ]
        }
      ],
      "source": [
        "# dataset.taster_name.isna().sum()\n",
        "for column in dataset.columns:\n",
        "    print(f'Column {column} has {dataset[column].isna().sum()} NaN values')"
      ]
    },
    {
      "cell_type": "code",
      "execution_count": 30,
      "id": "90690fe0",
      "metadata": {},
      "outputs": [],
      "source": [
        "dataset = dataset.loc[dataset.country.notna()]"
      ]
    },
    {
      "cell_type": "code",
      "execution_count": 31,
      "id": "c3f7869b",
      "metadata": {},
      "outputs": [
        {
          "name": "stdout",
          "output_type": "stream",
          "text": [
            "Column country has 0 NaN values\n",
            "Column description has 0 NaN values\n",
            "Column designation has 83189 NaN values\n",
            "Column points has 0 NaN values\n",
            "Column price has 22687 NaN values\n",
            "Column province has 0 NaN values\n",
            "Column region_1 has 46239 NaN values\n",
            "Column region_2 has 169369 NaN values\n",
            "Column variety has 1 NaN values\n",
            "Column winery has 0 NaN values\n",
            "Column taster_name has 177169 NaN values\n",
            "Column taster_twitter_handle has 182138 NaN values\n",
            "Column title has 150925 NaN values\n"
          ]
        }
      ],
      "source": [
        "# dataset.taster_name.isna().sum()\n",
        "for column in dataset.columns:\n",
        "    print(f'Column {column} has {dataset[column].isna().sum()} NaN values')"
      ]
    },
    {
      "cell_type": "code",
      "execution_count": 11,
      "id": "c36970b9",
      "metadata": {},
      "outputs": [
        {
          "data": {
            "text/plain": [
              "103727"
            ]
          },
          "execution_count": 11,
          "metadata": {},
          "output_type": "execute_result"
        }
      ],
      "source": [
        "taster_df = dataset.loc[dataset.taster_name.notna()]\n",
        "len(taster_df)"
      ]
    },
    {
      "cell_type": "code",
      "execution_count": 12,
      "id": "6acc7480",
      "metadata": {},
      "outputs": [
        {
          "data": {
            "text/plain": [
              "array(['Kerin O’Keefe', 'Roger Voss', 'Paul Gregutt',\n",
              "       'Alexander Peartree', 'Michael Schachner', 'Anna Lee C. Iijima',\n",
              "       'Virginie Boone', 'Matt Kettmann', 'Sean P. Sullivan',\n",
              "       'Jim Gordon', 'Joe Czerwinski', 'Anne Krebiehl\\xa0MW',\n",
              "       'Lauren Buzzeo', 'Mike DeSimone', 'Jeff Jenssen',\n",
              "       'Susan Kostrzewa', 'Carrie Dykes', 'Fiona Adams',\n",
              "       'Christina Pickard'], dtype=object)"
            ]
          },
          "execution_count": 12,
          "metadata": {},
          "output_type": "execute_result"
        }
      ],
      "source": [
        "tasters = taster_df.taster_name.unique()\n",
        "tasters"
      ]
    },
    {
      "cell_type": "code",
      "execution_count": 18,
      "id": "803508a9",
      "metadata": {},
      "outputs": [
        {
          "data": {
            "text/plain": [
              "88.86794729027469"
            ]
          },
          "execution_count": 18,
          "metadata": {},
          "output_type": "execute_result"
        }
      ],
      "source": [
        "taster_df['points'].loc[taster_df.taster_name == tasters[0]].mean()"
      ]
    },
    {
      "cell_type": "code",
      "execution_count": 20,
      "id": "85b5a847",
      "metadata": {},
      "outputs": [
        {
          "data": {
            "text/plain": [
              "{'Kerin O’Keefe': 88.86794729027469,\n",
              " 'Roger Voss': 88.70800344908677,\n",
              " 'Paul Gregutt': 89.08256399496433,\n",
              " 'Alexander Peartree': 85.855421686747,\n",
              " 'Michael Schachner': 86.90749306197965,\n",
              " 'Anna Lee C. Iijima': 88.41562853907135,\n",
              " 'Virginie Boone': 89.21337946943483,\n",
              " 'Matt Kettmann': 90.00868603916614,\n",
              " 'Sean P. Sullivan': 88.75573902537253,\n",
              " 'Jim Gordon': 88.62628680871438,\n",
              " 'Joe Czerwinski': 88.53623469982514,\n",
              " 'Anne Krebiehl\\xa0MW': 90.56255088195387,\n",
              " 'Lauren Buzzeo': 87.73950953678474,\n",
              " 'Mike DeSimone': 89.1011673151751,\n",
              " 'Jeff Jenssen': 88.31975560081466,\n",
              " 'Susan Kostrzewa': 86.60921658986175,\n",
              " 'Carrie Dykes': 86.39568345323741,\n",
              " 'Fiona Adams': 86.88888888888889,\n",
              " 'Christina Pickard': 87.83333333333333}"
            ]
          },
          "execution_count": 20,
          "metadata": {},
          "output_type": "execute_result"
        }
      ],
      "source": [
        "tasters_avg_score = {}\n",
        "for taster in tasters:\n",
        "    # print(taster)\n",
        "    tasters_avg_score[taster] = taster_df['points'].loc[taster_df.taster_name == taster].mean()\n",
        "tasters_avg_score"
      ]
    },
    {
      "cell_type": "code",
      "execution_count": 25,
      "id": "5c01d594",
      "metadata": {},
      "outputs": [
        {
          "data": {
            "image/png": "[encoded data removed]",
            "text/plain": [
              "<Figure size 640x480 with 1 Axes>"
            ]
          },
          "metadata": {},
          "output_type": "display_data"
        }
      ],
      "source": [
        "plt.bar(tasters_avg_score.keys(), tasters_avg_score.values())\n",
        "plt.xticks(rotation=-90)\n",
        "plt.show()"
      ]
    },
    {
      "cell_type": "code",
      "execution_count": 26,
      "id": "aa84570e",
      "metadata": {},
      "outputs": [
        {
          "data": {
            "text/plain": [
              "{'Kerin O’Keefe': 41.95341300384849,\n",
              " 'Roger Voss': 38.64996034106682,\n",
              " 'Paul Gregutt': 33.644872604758895,\n",
              " 'Alexander Peartree': 29.053268765133172,\n",
              " 'Michael Schachner': 25.23115510668183,\n",
              " 'Anna Lee C. Iijima': 29.79011215381094,\n",
              " 'Virginie Boone': 46.621962764278955,\n",
              " 'Matt Kettmann': 38.64213564213564,\n",
              " 'Sean P. Sullivan': 34.085888324873096,\n",
              " 'Jim Gordon': 26.935507072644448,\n",
              " 'Joe Czerwinski': 35.1755786113328,\n",
              " 'Anne Krebiehl\\xa0MW': 31.230135373749263,\n",
              " 'Lauren Buzzeo': 24.492702860478694,\n",
              " 'Mike DeSimone': 28.16468253968254,\n",
              " 'Jeff Jenssen': 22.234215885947048,\n",
              " 'Susan Kostrzewa': 22.908667287977632,\n",
              " 'Carrie Dykes': 30.753623188405797,\n",
              " 'Fiona Adams': 31.14814814814815,\n",
              " 'Christina Pickard': 29.333333333333332}"
            ]
          },
          "execution_count": 26,
          "metadata": {},
          "output_type": "execute_result"
        }
      ],
      "source": [
        "tasters_avg_price = {}\n",
        "for taster in tasters:\n",
        "    # print(taster)\n",
        "    tasters_avg_price[taster] = taster_df['price'].loc[taster_df.taster_name == taster].mean()\n",
        "tasters_avg_price"
      ]
    },
    {
      "cell_type": "code",
      "execution_count": 27,
      "id": "0c7eb073",
      "metadata": {},
      "outputs": [
        {
          "data": {
            "image/png": "[encoded data removed]",
            "text/plain": [
              "<Figure size 640x480 with 1 Axes>"
            ]
          },
          "metadata": {},
          "output_type": "display_data"
        }
      ],
      "source": [
        "plt.bar(tasters_avg_price.keys(), tasters_avg_price.values())\n",
        "plt.xticks(rotation=-90)\n",
        "plt.show()"
      ]
    },
    {
      "cell_type": "code",
      "execution_count": null,
      "id": "48672858",
      "metadata": {},
      "outputs": [],
      "source": []
    }
  ],
  "metadata": {
    "colab": {
      "provenance": []
    },
    "kernelspec": {
      "display_name": "Python 3.10.7 ('machine_learning': venv)",
      "language": "python",
      "name": "python3"
    },
    "language_info": {
      "codemirror_mode": {
        "name": "ipython",
        "version": 3
      },
      "file_extension": ".py",
      "mimetype": "text/x-python",
      "name": "python",
      "nbconvert_exporter": "python",
      "pygments_lexer": "ipython3",
      "version": "3.10.7"
    },
    "vscode": {
      "interpreter": {
        "hash": "4b8f16e4012474046bf3ae17fb6e66d0ceaf147066a3cea27e7a3d878a672b1d"
      }
    }
  },
  "nbformat": 4,
  "nbformat_minor": 5
}
