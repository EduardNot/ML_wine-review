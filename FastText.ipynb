{
 "cells": [
  {
   "cell_type": "code",
   "execution_count": 1,
   "id": "4efcae6a",
   "metadata": {},
   "outputs": [],
   "source": [
    "import pandas as pd\n",
    "import gensim\n",
    "from gensim.models import FastText\n",
    "import nltk\n",
    "from nltk.stem import WordNetLemmatizer\n",
    "import re"
   ]
  },
  {
   "cell_type": "code",
   "execution_count": 2,
   "id": "51d2cf98",
   "metadata": {},
   "outputs": [],
   "source": [
    "# nltk.download('stopwords')\n",
    "# nltk.download('punkt')\n",
    "# nltk.download('wordnet')\n",
    "# nltk.download('omw-1.4')\n",
    "from nltk.corpus import stopwords"
   ]
  },
  {
   "cell_type": "code",
   "execution_count": 3,
   "id": "a67c82a3",
   "metadata": {},
   "outputs": [],
   "source": [
    "lemmatizer = WordNetLemmatizer()\n",
    "stop_words = stopwords.words('english')"
   ]
  },
  {
   "cell_type": "code",
   "execution_count": 4,
   "id": "ab0b9577",
   "metadata": {},
   "outputs": [],
   "source": [
    "data_loc = 'data/'"
   ]
  },
  {
   "cell_type": "code",
   "execution_count": 5,
   "id": "c17d4d9a",
   "metadata": {},
   "outputs": [],
   "source": [
    "data1 = pd.read_csv(data_loc + 'winemag-data_first150k.csv', index_col=0)\n",
    "data2 = pd.read_csv(data_loc + 'winemag-data-130k-v2.csv', index_col=0)"
   ]
  },
  {
   "cell_type": "code",
   "execution_count": 6,
   "id": "61d15edd",
   "metadata": {},
   "outputs": [],
   "source": [
    "data2 = data2.iloc[:75000]"
   ]
  },
  {
   "cell_type": "code",
   "execution_count": 7,
   "id": "4e444c33",
   "metadata": {},
   "outputs": [],
   "source": [
    "#Panen andmed kokku\n",
    "dataset = pd.concat([data1,data2])"
   ]
  },
  {
   "cell_type": "code",
   "execution_count": 8,
   "id": "944b7703",
   "metadata": {},
   "outputs": [
    {
     "data": {
      "text/html": [
       "<div>\n",
       "<style scoped>\n",
       "    .dataframe tbody tr th:only-of-type {\n",
       "        vertical-align: middle;\n",
       "    }\n",
       "\n",
       "    .dataframe tbody tr th {\n",
       "        vertical-align: top;\n",
       "    }\n",
       "\n",
       "    .dataframe thead th {\n",
       "        text-align: right;\n",
       "    }\n",
       "</style>\n",
       "<table border=\"1\" class=\"dataframe\">\n",
       "  <thead>\n",
       "    <tr style=\"text-align: right;\">\n",
       "      <th></th>\n",
       "      <th>country</th>\n",
       "      <th>description</th>\n",
       "      <th>designation</th>\n",
       "      <th>points</th>\n",
       "      <th>price</th>\n",
       "      <th>province</th>\n",
       "      <th>region_1</th>\n",
       "      <th>region_2</th>\n",
       "      <th>variety</th>\n",
       "      <th>winery</th>\n",
       "      <th>taster_name</th>\n",
       "      <th>taster_twitter_handle</th>\n",
       "      <th>title</th>\n",
       "    </tr>\n",
       "  </thead>\n",
       "  <tbody>\n",
       "    <tr>\n",
       "      <th>0</th>\n",
       "      <td>US</td>\n",
       "      <td>This tremendous 100% varietal wine hails from ...</td>\n",
       "      <td>Martha's Vineyard</td>\n",
       "      <td>96</td>\n",
       "      <td>235.0</td>\n",
       "      <td>California</td>\n",
       "      <td>Napa Valley</td>\n",
       "      <td>Napa</td>\n",
       "      <td>Cabernet Sauvignon</td>\n",
       "      <td>Heitz</td>\n",
       "      <td>NaN</td>\n",
       "      <td>NaN</td>\n",
       "      <td>NaN</td>\n",
       "    </tr>\n",
       "    <tr>\n",
       "      <th>1</th>\n",
       "      <td>Spain</td>\n",
       "      <td>Ripe aromas of fig, blackberry and cassis are ...</td>\n",
       "      <td>Carodorum Selección Especial Reserva</td>\n",
       "      <td>96</td>\n",
       "      <td>110.0</td>\n",
       "      <td>Northern Spain</td>\n",
       "      <td>Toro</td>\n",
       "      <td>NaN</td>\n",
       "      <td>Tinta de Toro</td>\n",
       "      <td>Bodega Carmen Rodríguez</td>\n",
       "      <td>NaN</td>\n",
       "      <td>NaN</td>\n",
       "      <td>NaN</td>\n",
       "    </tr>\n",
       "    <tr>\n",
       "      <th>2</th>\n",
       "      <td>US</td>\n",
       "      <td>Mac Watson honors the memory of a wine once ma...</td>\n",
       "      <td>Special Selected Late Harvest</td>\n",
       "      <td>96</td>\n",
       "      <td>90.0</td>\n",
       "      <td>California</td>\n",
       "      <td>Knights Valley</td>\n",
       "      <td>Sonoma</td>\n",
       "      <td>Sauvignon Blanc</td>\n",
       "      <td>Macauley</td>\n",
       "      <td>NaN</td>\n",
       "      <td>NaN</td>\n",
       "      <td>NaN</td>\n",
       "    </tr>\n",
       "    <tr>\n",
       "      <th>3</th>\n",
       "      <td>US</td>\n",
       "      <td>This spent 20 months in 30% new French oak, an...</td>\n",
       "      <td>Reserve</td>\n",
       "      <td>96</td>\n",
       "      <td>65.0</td>\n",
       "      <td>Oregon</td>\n",
       "      <td>Willamette Valley</td>\n",
       "      <td>Willamette Valley</td>\n",
       "      <td>Pinot Noir</td>\n",
       "      <td>Ponzi</td>\n",
       "      <td>NaN</td>\n",
       "      <td>NaN</td>\n",
       "      <td>NaN</td>\n",
       "    </tr>\n",
       "    <tr>\n",
       "      <th>4</th>\n",
       "      <td>France</td>\n",
       "      <td>This is the top wine from La Bégude, named aft...</td>\n",
       "      <td>La Brûlade</td>\n",
       "      <td>95</td>\n",
       "      <td>66.0</td>\n",
       "      <td>Provence</td>\n",
       "      <td>Bandol</td>\n",
       "      <td>NaN</td>\n",
       "      <td>Provence red blend</td>\n",
       "      <td>Domaine de la Bégude</td>\n",
       "      <td>NaN</td>\n",
       "      <td>NaN</td>\n",
       "      <td>NaN</td>\n",
       "    </tr>\n",
       "    <tr>\n",
       "      <th>...</th>\n",
       "      <td>...</td>\n",
       "      <td>...</td>\n",
       "      <td>...</td>\n",
       "      <td>...</td>\n",
       "      <td>...</td>\n",
       "      <td>...</td>\n",
       "      <td>...</td>\n",
       "      <td>...</td>\n",
       "      <td>...</td>\n",
       "      <td>...</td>\n",
       "      <td>...</td>\n",
       "      <td>...</td>\n",
       "      <td>...</td>\n",
       "    </tr>\n",
       "    <tr>\n",
       "      <th>225925</th>\n",
       "      <td>Austria</td>\n",
       "      <td>There is a slight, aromatic lift on the nose t...</td>\n",
       "      <td>NaN</td>\n",
       "      <td>88</td>\n",
       "      <td>14.0</td>\n",
       "      <td>Kremstal</td>\n",
       "      <td>NaN</td>\n",
       "      <td>NaN</td>\n",
       "      <td>Grüner Veltliner</td>\n",
       "      <td>Winzer Krems</td>\n",
       "      <td>Anne Krebiehl MW</td>\n",
       "      <td>@AnneInVino</td>\n",
       "      <td>Winzer Krems 2015 Grüner Veltliner (Kremstal)</td>\n",
       "    </tr>\n",
       "    <tr>\n",
       "      <th>225926</th>\n",
       "      <td>New Zealand</td>\n",
       "      <td>This plump, dry-style Pinot Gris features plen...</td>\n",
       "      <td>NaN</td>\n",
       "      <td>88</td>\n",
       "      <td>15.0</td>\n",
       "      <td>Marlborough</td>\n",
       "      <td>NaN</td>\n",
       "      <td>NaN</td>\n",
       "      <td>Pinot Gris</td>\n",
       "      <td>Yealands</td>\n",
       "      <td>Joe Czerwinski</td>\n",
       "      <td>@JoeCz</td>\n",
       "      <td>Yealands 2016 Pinot Gris (Marlborough)</td>\n",
       "    </tr>\n",
       "    <tr>\n",
       "      <th>225927</th>\n",
       "      <td>Italy</td>\n",
       "      <td>Made with 80% Sangiovese and 20% Syrah, this h...</td>\n",
       "      <td>NaN</td>\n",
       "      <td>88</td>\n",
       "      <td>22.0</td>\n",
       "      <td>Tuscany</td>\n",
       "      <td>Toscana</td>\n",
       "      <td>NaN</td>\n",
       "      <td>Red Blend</td>\n",
       "      <td>Ziobaffa</td>\n",
       "      <td>Kerin O’Keefe</td>\n",
       "      <td>@kerinokeefe</td>\n",
       "      <td>Ziobaffa 2015 Red (Toscana)</td>\n",
       "    </tr>\n",
       "    <tr>\n",
       "      <th>225928</th>\n",
       "      <td>US</td>\n",
       "      <td>One of the first bottles to bear the name of t...</td>\n",
       "      <td>Single Vineyard</td>\n",
       "      <td>88</td>\n",
       "      <td>30.0</td>\n",
       "      <td>Idaho</td>\n",
       "      <td>NaN</td>\n",
       "      <td>NaN</td>\n",
       "      <td>Syrah</td>\n",
       "      <td>3 Horse Ranch Vineyards</td>\n",
       "      <td>Sean P. Sullivan</td>\n",
       "      <td>@wawinereport</td>\n",
       "      <td>3 Horse Ranch Vineyards 2014 Single Vineyard S...</td>\n",
       "    </tr>\n",
       "    <tr>\n",
       "      <th>225929</th>\n",
       "      <td>US</td>\n",
       "      <td>The aromas are quite light, while the purple-f...</td>\n",
       "      <td>NaN</td>\n",
       "      <td>88</td>\n",
       "      <td>18.0</td>\n",
       "      <td>Washington</td>\n",
       "      <td>Yakima Valley</td>\n",
       "      <td>Columbia Valley</td>\n",
       "      <td>Syrah</td>\n",
       "      <td>Airfield Estates</td>\n",
       "      <td>Sean P. Sullivan</td>\n",
       "      <td>@wawinereport</td>\n",
       "      <td>Airfield Estates 2014 Syrah (Yakima Valley)</td>\n",
       "    </tr>\n",
       "  </tbody>\n",
       "</table>\n",
       "<p>225930 rows × 13 columns</p>\n",
       "</div>"
      ],
      "text/plain": [
       "            country                                        description  \\\n",
       "0                US  This tremendous 100% varietal wine hails from ...   \n",
       "1             Spain  Ripe aromas of fig, blackberry and cassis are ...   \n",
       "2                US  Mac Watson honors the memory of a wine once ma...   \n",
       "3                US  This spent 20 months in 30% new French oak, an...   \n",
       "4            France  This is the top wine from La Bégude, named aft...   \n",
       "...             ...                                                ...   \n",
       "225925      Austria  There is a slight, aromatic lift on the nose t...   \n",
       "225926  New Zealand  This plump, dry-style Pinot Gris features plen...   \n",
       "225927        Italy  Made with 80% Sangiovese and 20% Syrah, this h...   \n",
       "225928           US  One of the first bottles to bear the name of t...   \n",
       "225929           US  The aromas are quite light, while the purple-f...   \n",
       "\n",
       "                                 designation  points  price        province  \\\n",
       "0                          Martha's Vineyard      96  235.0      California   \n",
       "1       Carodorum Selección Especial Reserva      96  110.0  Northern Spain   \n",
       "2              Special Selected Late Harvest      96   90.0      California   \n",
       "3                                    Reserve      96   65.0          Oregon   \n",
       "4                                 La Brûlade      95   66.0        Provence   \n",
       "...                                      ...     ...    ...             ...   \n",
       "225925                                   NaN      88   14.0        Kremstal   \n",
       "225926                                   NaN      88   15.0     Marlborough   \n",
       "225927                                   NaN      88   22.0         Tuscany   \n",
       "225928                       Single Vineyard      88   30.0           Idaho   \n",
       "225929                                   NaN      88   18.0      Washington   \n",
       "\n",
       "                 region_1           region_2             variety  \\\n",
       "0             Napa Valley               Napa  Cabernet Sauvignon   \n",
       "1                    Toro                NaN       Tinta de Toro   \n",
       "2          Knights Valley             Sonoma     Sauvignon Blanc   \n",
       "3       Willamette Valley  Willamette Valley          Pinot Noir   \n",
       "4                  Bandol                NaN  Provence red blend   \n",
       "...                   ...                ...                 ...   \n",
       "225925                NaN                NaN    Grüner Veltliner   \n",
       "225926                NaN                NaN          Pinot Gris   \n",
       "225927            Toscana                NaN           Red Blend   \n",
       "225928                NaN                NaN               Syrah   \n",
       "225929      Yakima Valley    Columbia Valley               Syrah   \n",
       "\n",
       "                         winery       taster_name taster_twitter_handle  \\\n",
       "0                         Heitz               NaN                   NaN   \n",
       "1       Bodega Carmen Rodríguez               NaN                   NaN   \n",
       "2                      Macauley               NaN                   NaN   \n",
       "3                         Ponzi               NaN                   NaN   \n",
       "4          Domaine de la Bégude               NaN                   NaN   \n",
       "...                         ...               ...                   ...   \n",
       "225925             Winzer Krems  Anne Krebiehl MW           @AnneInVino   \n",
       "225926                 Yealands    Joe Czerwinski                @JoeCz   \n",
       "225927                 Ziobaffa     Kerin O’Keefe          @kerinokeefe   \n",
       "225928  3 Horse Ranch Vineyards  Sean P. Sullivan         @wawinereport   \n",
       "225929         Airfield Estates  Sean P. Sullivan         @wawinereport   \n",
       "\n",
       "                                                    title  \n",
       "0                                                     NaN  \n",
       "1                                                     NaN  \n",
       "2                                                     NaN  \n",
       "3                                                     NaN  \n",
       "4                                                     NaN  \n",
       "...                                                   ...  \n",
       "225925      Winzer Krems 2015 Grüner Veltliner (Kremstal)  \n",
       "225926             Yealands 2016 Pinot Gris (Marlborough)  \n",
       "225927                        Ziobaffa 2015 Red (Toscana)  \n",
       "225928  3 Horse Ranch Vineyards 2014 Single Vineyard S...  \n",
       "225929        Airfield Estates 2014 Syrah (Yakima Valley)  \n",
       "\n",
       "[225930 rows x 13 columns]"
      ]
     },
     "execution_count": 8,
     "metadata": {},
     "output_type": "execute_result"
    }
   ],
   "source": [
    "dataset.reset_index(drop=True)"
   ]
  },
  {
   "cell_type": "code",
   "execution_count": 9,
   "id": "fe5e8938",
   "metadata": {},
   "outputs": [
    {
     "data": {
      "text/html": [
       "<div>\n",
       "<style scoped>\n",
       "    .dataframe tbody tr th:only-of-type {\n",
       "        vertical-align: middle;\n",
       "    }\n",
       "\n",
       "    .dataframe tbody tr th {\n",
       "        vertical-align: top;\n",
       "    }\n",
       "\n",
       "    .dataframe thead th {\n",
       "        text-align: right;\n",
       "    }\n",
       "</style>\n",
       "<table border=\"1\" class=\"dataframe\">\n",
       "  <thead>\n",
       "    <tr style=\"text-align: right;\">\n",
       "      <th></th>\n",
       "      <th>country</th>\n",
       "      <th>description</th>\n",
       "      <th>designation</th>\n",
       "      <th>points</th>\n",
       "      <th>price</th>\n",
       "      <th>province</th>\n",
       "      <th>region_1</th>\n",
       "      <th>region_2</th>\n",
       "      <th>variety</th>\n",
       "      <th>winery</th>\n",
       "      <th>taster_name</th>\n",
       "      <th>taster_twitter_handle</th>\n",
       "      <th>title</th>\n",
       "    </tr>\n",
       "  </thead>\n",
       "  <tbody>\n",
       "    <tr>\n",
       "      <th>0</th>\n",
       "      <td>US</td>\n",
       "      <td>This tremendous 100% varietal wine hails from ...</td>\n",
       "      <td>Martha's Vineyard</td>\n",
       "      <td>96</td>\n",
       "      <td>235.0</td>\n",
       "      <td>California</td>\n",
       "      <td>Napa Valley</td>\n",
       "      <td>Napa</td>\n",
       "      <td>Cabernet Sauvignon</td>\n",
       "      <td>Heitz</td>\n",
       "      <td>NaN</td>\n",
       "      <td>NaN</td>\n",
       "      <td>NaN</td>\n",
       "    </tr>\n",
       "    <tr>\n",
       "      <th>1</th>\n",
       "      <td>Spain</td>\n",
       "      <td>Ripe aromas of fig, blackberry and cassis are ...</td>\n",
       "      <td>Carodorum Selección Especial Reserva</td>\n",
       "      <td>96</td>\n",
       "      <td>110.0</td>\n",
       "      <td>Northern Spain</td>\n",
       "      <td>Toro</td>\n",
       "      <td>NaN</td>\n",
       "      <td>Tinta de Toro</td>\n",
       "      <td>Bodega Carmen Rodríguez</td>\n",
       "      <td>NaN</td>\n",
       "      <td>NaN</td>\n",
       "      <td>NaN</td>\n",
       "    </tr>\n",
       "    <tr>\n",
       "      <th>2</th>\n",
       "      <td>US</td>\n",
       "      <td>Mac Watson honors the memory of a wine once ma...</td>\n",
       "      <td>Special Selected Late Harvest</td>\n",
       "      <td>96</td>\n",
       "      <td>90.0</td>\n",
       "      <td>California</td>\n",
       "      <td>Knights Valley</td>\n",
       "      <td>Sonoma</td>\n",
       "      <td>Sauvignon Blanc</td>\n",
       "      <td>Macauley</td>\n",
       "      <td>NaN</td>\n",
       "      <td>NaN</td>\n",
       "      <td>NaN</td>\n",
       "    </tr>\n",
       "    <tr>\n",
       "      <th>3</th>\n",
       "      <td>US</td>\n",
       "      <td>This spent 20 months in 30% new French oak, an...</td>\n",
       "      <td>Reserve</td>\n",
       "      <td>96</td>\n",
       "      <td>65.0</td>\n",
       "      <td>Oregon</td>\n",
       "      <td>Willamette Valley</td>\n",
       "      <td>Willamette Valley</td>\n",
       "      <td>Pinot Noir</td>\n",
       "      <td>Ponzi</td>\n",
       "      <td>NaN</td>\n",
       "      <td>NaN</td>\n",
       "      <td>NaN</td>\n",
       "    </tr>\n",
       "    <tr>\n",
       "      <th>4</th>\n",
       "      <td>France</td>\n",
       "      <td>This is the top wine from La Bégude, named aft...</td>\n",
       "      <td>La Brûlade</td>\n",
       "      <td>95</td>\n",
       "      <td>66.0</td>\n",
       "      <td>Provence</td>\n",
       "      <td>Bandol</td>\n",
       "      <td>NaN</td>\n",
       "      <td>Provence red blend</td>\n",
       "      <td>Domaine de la Bégude</td>\n",
       "      <td>NaN</td>\n",
       "      <td>NaN</td>\n",
       "      <td>NaN</td>\n",
       "    </tr>\n",
       "  </tbody>\n",
       "</table>\n",
       "</div>"
      ],
      "text/plain": [
       "  country                                        description  \\\n",
       "0      US  This tremendous 100% varietal wine hails from ...   \n",
       "1   Spain  Ripe aromas of fig, blackberry and cassis are ...   \n",
       "2      US  Mac Watson honors the memory of a wine once ma...   \n",
       "3      US  This spent 20 months in 30% new French oak, an...   \n",
       "4  France  This is the top wine from La Bégude, named aft...   \n",
       "\n",
       "                            designation  points  price        province  \\\n",
       "0                     Martha's Vineyard      96  235.0      California   \n",
       "1  Carodorum Selección Especial Reserva      96  110.0  Northern Spain   \n",
       "2         Special Selected Late Harvest      96   90.0      California   \n",
       "3                               Reserve      96   65.0          Oregon   \n",
       "4                            La Brûlade      95   66.0        Provence   \n",
       "\n",
       "            region_1           region_2             variety  \\\n",
       "0        Napa Valley               Napa  Cabernet Sauvignon   \n",
       "1               Toro                NaN       Tinta de Toro   \n",
       "2     Knights Valley             Sonoma     Sauvignon Blanc   \n",
       "3  Willamette Valley  Willamette Valley          Pinot Noir   \n",
       "4             Bandol                NaN  Provence red blend   \n",
       "\n",
       "                    winery taster_name taster_twitter_handle title  \n",
       "0                    Heitz         NaN                   NaN   NaN  \n",
       "1  Bodega Carmen Rodríguez         NaN                   NaN   NaN  \n",
       "2                 Macauley         NaN                   NaN   NaN  \n",
       "3                    Ponzi         NaN                   NaN   NaN  \n",
       "4     Domaine de la Bégude         NaN                   NaN   NaN  "
      ]
     },
     "execution_count": 9,
     "metadata": {},
     "output_type": "execute_result"
    }
   ],
   "source": [
    "#Vaatan, mis toimub\n",
    "dataset.head()"
   ]
  },
  {
   "cell_type": "code",
   "execution_count": 10,
   "id": "e609d71e",
   "metadata": {},
   "outputs": [],
   "source": [
    "desc = dataset.description"
   ]
  },
  {
   "cell_type": "code",
   "execution_count": 11,
   "id": "d1e7b380",
   "metadata": {},
   "outputs": [],
   "source": [
    "reviews_lower = [x.lower() for x in desc]"
   ]
  },
  {
   "cell_type": "code",
   "execution_count": 12,
   "id": "75aff43f",
   "metadata": {},
   "outputs": [
    {
     "data": {
      "text/plain": [
       "\"this spent 20 months in 30% new french oak, and incorporates fruit from ponzi's aurora, abetina and madrona vineyards, among others. aromatic, dense and toasty, it deftly blends aromas and flavors of toast, cigar box, blackberry, black cherry, coffee and graphite. tannins are polished to a fine sheen, and frame a finish loaded with dark chocolate and espresso. drink now through 2032.\""
      ]
     },
     "execution_count": 12,
     "metadata": {},
     "output_type": "execute_result"
    }
   ],
   "source": [
    "reviews_lower[3]"
   ]
  },
  {
   "cell_type": "code",
   "execution_count": 13,
   "id": "cb0bad0b",
   "metadata": {},
   "outputs": [],
   "source": [
    "#Puhastan teksti sodist, aga võite vaielda, et äkki ikkagi on vaja mingit tüüpi arve säilitada (nt aastaarvud)\n",
    "cleaned_reviews = [re.sub('[^a-zA-Z]', ' ', x) for x in reviews_lower]\n",
    "cleaned_reviews = [re.sub(r'\\s+', ' ', x) for x in cleaned_reviews]"
   ]
  },
  {
   "cell_type": "code",
   "execution_count": 14,
   "id": "2b2e78c3",
   "metadata": {},
   "outputs": [
    {
     "data": {
      "text/plain": [
       "'this spent months in new french oak and incorporates fruit from ponzi s aurora abetina and madrona vineyards among others aromatic dense and toasty it deftly blends aromas and flavors of toast cigar box blackberry black cherry coffee and graphite tannins are polished to a fine sheen and frame a finish loaded with dark chocolate and espresso drink now through '"
      ]
     },
     "execution_count": 14,
     "metadata": {},
     "output_type": "execute_result"
    }
   ],
   "source": [
    "cleaned_reviews[3]"
   ]
  },
  {
   "cell_type": "code",
   "execution_count": 15,
   "id": "57422739",
   "metadata": {},
   "outputs": [],
   "source": [
    "reviews = [nltk.sent_tokenize(x.strip()) for x in cleaned_reviews]"
   ]
  },
  {
   "cell_type": "code",
   "execution_count": 16,
   "id": "d78c33bd",
   "metadata": {},
   "outputs": [],
   "source": [
    "reviews = [y for x in reviews for y in x]"
   ]
  },
  {
   "cell_type": "code",
   "execution_count": 17,
   "id": "601c1116",
   "metadata": {},
   "outputs": [
    {
     "data": {
      "text/plain": [
       "'this spent months in new french oak and incorporates fruit from ponzi s aurora abetina and madrona vineyards among others aromatic dense and toasty it deftly blends aromas and flavors of toast cigar box blackberry black cherry coffee and graphite tannins are polished to a fine sheen and frame a finish loaded with dark chocolate and espresso drink now through'"
      ]
     },
     "execution_count": 17,
     "metadata": {},
     "output_type": "execute_result"
    }
   ],
   "source": [
    "reviews[3]"
   ]
  },
  {
   "cell_type": "code",
   "execution_count": 18,
   "id": "4e9a7302",
   "metadata": {},
   "outputs": [],
   "source": [
    "words = [nltk.word_tokenize(x) for x in reviews]"
   ]
  },
  {
   "cell_type": "code",
   "execution_count": 19,
   "id": "a3f62aa2",
   "metadata": {},
   "outputs": [],
   "source": [
    "for i in range(len(words)):\n",
    "    words[i] = [lemmatizer.lemmatize(w) for w in words[i] if w not in stop_words and len(w) > 1]\n",
    "    # words[i] = [w for w in words[i] if w not in stop_words]\n",
    "# words = [[w for w in words[i] if w not in stop_words] for i in range(len(words))]"
   ]
  },
  {
   "cell_type": "code",
   "execution_count": 20,
   "id": "a9875981",
   "metadata": {},
   "outputs": [
    {
     "data": {
      "text/plain": [
       "['spent',\n",
       " 'month',\n",
       " 'new',\n",
       " 'french',\n",
       " 'oak',\n",
       " 'incorporates',\n",
       " 'fruit',\n",
       " 'ponzi',\n",
       " 'aurora',\n",
       " 'abetina',\n",
       " 'madrona',\n",
       " 'vineyard',\n",
       " 'among',\n",
       " 'others',\n",
       " 'aromatic',\n",
       " 'dense',\n",
       " 'toasty',\n",
       " 'deftly',\n",
       " 'blend',\n",
       " 'aroma',\n",
       " 'flavor',\n",
       " 'toast',\n",
       " 'cigar',\n",
       " 'box',\n",
       " 'blackberry',\n",
       " 'black',\n",
       " 'cherry',\n",
       " 'coffee',\n",
       " 'graphite',\n",
       " 'tannin',\n",
       " 'polished',\n",
       " 'fine',\n",
       " 'sheen',\n",
       " 'frame',\n",
       " 'finish',\n",
       " 'loaded',\n",
       " 'dark',\n",
       " 'chocolate',\n",
       " 'espresso',\n",
       " 'drink']"
      ]
     },
     "execution_count": 20,
     "metadata": {},
     "output_type": "execute_result"
    }
   ],
   "source": [
    "#Põhimõtteliselt on korpus valmis\n",
    "words[3]"
   ]
  },
  {
   "cell_type": "code",
   "execution_count": 21,
   "id": "0d148b67",
   "metadata": {},
   "outputs": [],
   "source": [
    "# Mudel, aga epohhe võiks rohkem olla (100)\n",
    "# model = gensim.models.Word2Vec(words, vector_size = 200 , window = 4 , min_count = 1,\n",
    "#                                seed = 1000, hs = 0, negative = 10,workers=16, epochs = 25)\n",
    "model = gensim.models.FastText(words, vector_size = 200 , window = 4 , min_count = 1,\n",
    "                               seed = 1000, hs = 0, negative = 10,workers=16, epochs = 25)"
   ]
  },
  {
   "cell_type": "code",
   "execution_count": 22,
   "id": "6db35286",
   "metadata": {},
   "outputs": [],
   "source": [
    "model.save(\"fastText.model\")"
   ]
  },
  {
   "cell_type": "code",
   "execution_count": 23,
   "id": "7013ee75",
   "metadata": {},
   "outputs": [
    {
     "data": {
      "text/plain": [
       "[('sweeet', 0.9062697291374207),\n",
       " ('sweety', 0.8742073178291321),\n",
       " ('sweetbut', 0.8738280534744263),\n",
       " ('sweex', 0.8331032991409302),\n",
       " ('sweetshop', 0.8142277002334595),\n",
       " ('sweetzer', 0.7973511815071106),\n",
       " ('sweetish', 0.7814955711364746),\n",
       " ('sweetie', 0.7744488716125488),\n",
       " ('ultrasweet', 0.7652175426483154),\n",
       " ('sweetnees', 0.757911205291748)]"
      ]
     },
     "execution_count": 23,
     "metadata": {},
     "output_type": "execute_result"
    }
   ],
   "source": [
    "#Kümme kõige lähedasemat sõna sõnale \"magus\"\n",
    "model.wv.most_similar('sweet')"
   ]
  },
  {
   "cell_type": "code",
   "execution_count": 24,
   "id": "a406a059",
   "metadata": {},
   "outputs": [
    {
     "data": {
      "text/plain": [
       "[('dryly', 0.7361078858375549),\n",
       " ('nedry', 0.7342773675918579),\n",
       " ('tawdry', 0.7269936800003052),\n",
       " ('drysack', 0.7043814659118652),\n",
       " ('dryer', 0.6830528378486633),\n",
       " ('wizardry', 0.6430472135543823),\n",
       " ('ultradry', 0.6318948864936829),\n",
       " ('dryish', 0.6156303882598877),\n",
       " ('drylands', 0.5800159573554993),\n",
       " ('laundry', 0.5367393493652344)]"
      ]
     },
     "execution_count": 24,
     "metadata": {},
     "output_type": "execute_result"
    }
   ],
   "source": [
    "#Kümme kõige lähedasemat sõna sõnale \"kuiv\"\n",
    "model.wv.most_similar('dry')"
   ]
  },
  {
   "cell_type": "markdown",
   "id": "c68c7082",
   "metadata": {},
   "source": [
    "Päris asjani on tükk maad veel. Mu arust võiks jõuda selleni, et saaks veinisoovitusi nii karakterit kirjeldavate märksõnade kui veininime järgi (ehk mis veinid oleksid konkreetsele veinile kõige sarnasemad). Word2veci saab ära kasutada selles mõttes, et märksõna järgi otsides ei pea istuma me kinni ühe kindla sõna küljes (nt kui otsime kuiva veini, siis me ei saa vastu ainult neid, mille kirjelduses on konkreetselt sõna \"kuiv\"), vaid saame võtta arvesse ka selle sünonüüme/semantiliselt lähedasi sõnu. Siinse katsetuse põhjal saame ehk algatada arutelu?"
   ]
  }
 ],
 "metadata": {
  "kernelspec": {
   "display_name": "Python 3.10.7 ('machine_learning': venv)",
   "language": "python",
   "name": "python3"
  },
  "language_info": {
   "codemirror_mode": {
    "name": "ipython",
    "version": 3
   },
   "file_extension": ".py",
   "mimetype": "text/x-python",
   "name": "python",
   "nbconvert_exporter": "python",
   "pygments_lexer": "ipython3",
   "version": "3.10.7"
  },
  "vscode": {
   "interpreter": {
    "hash": "4b8f16e4012474046bf3ae17fb6e66d0ceaf147066a3cea27e7a3d878a672b1d"
   }
  }
 },
 "nbformat": 4,
 "nbformat_minor": 5
}
