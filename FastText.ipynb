{
 "cells": [
  {
   "cell_type": "code",
   "execution_count": 18,
   "id": "7f15931d",
   "metadata": {},
   "outputs": [],
   "source": [
    "\n",
    "#!pip install nltk"
   ]
  },
  {
   "cell_type": "code",
   "execution_count": 19,
   "id": "608830e3",
   "metadata": {},
   "outputs": [],
   "source": [
    "#!pip install gensim"
   ]
  },
  {
   "cell_type": "code",
   "execution_count": 20,
   "id": "4efcae6a",
   "metadata": {},
   "outputs": [],
   "source": [
    "import pandas as pd\n",
    "import gensim\n",
    "from gensim.models import FastText\n",
    "import nltk\n",
    "from nltk.stem import WordNetLemmatizer\n",
    "import re"
   ]
  },
  {
   "cell_type": "code",
   "execution_count": 61,
   "id": "95600edd",
   "metadata": {},
   "outputs": [],
   "source": [
    "import numpy as np\n",
    "from seaborn import countplot\n",
    "from pyemd import emd"
   ]
  },
  {
   "cell_type": "code",
   "execution_count": 21,
   "id": "51d2cf98",
   "metadata": {},
   "outputs": [
    {
     "name": "stderr",
     "output_type": "stream",
     "text": [
      "[nltk_data] Downloading package stopwords to\n",
      "[nltk_data]     C:\\Users\\velda\\AppData\\Roaming\\nltk_data...\n",
      "[nltk_data]   Package stopwords is already up-to-date!\n"
     ]
    },
    {
     "data": {
      "text/plain": [
       "True"
      ]
     },
     "execution_count": 21,
     "metadata": {},
     "output_type": "execute_result"
    }
   ],
   "source": [
    "# nltk.download('stopwords')\n",
    "# nltk.download('punkt')\n",
    "# nltk.download('wordnet')\n",
    "# nltk.download('omw-1.4')\n",
    "from nltk.corpus import stopwords\n",
    "\n",
    "nltk.download('stopwords')"
   ]
  },
  {
   "cell_type": "code",
   "execution_count": 22,
   "id": "a67c82a3",
   "metadata": {},
   "outputs": [],
   "source": [
    "lemmatizer = WordNetLemmatizer()\n",
    "stop_words = stopwords.words('english')"
   ]
  },
  {
   "cell_type": "code",
   "execution_count": 23,
   "id": "ab0b9577",
   "metadata": {},
   "outputs": [],
   "source": [
    "#data_loc = 'data/'"
   ]
  },
  {
   "cell_type": "code",
   "execution_count": 24,
   "id": "c17d4d9a",
   "metadata": {},
   "outputs": [],
   "source": [
    "data1 = pd.read_csv('winemag-data_first150k.csv', index_col=0)\n",
    "data2 = pd.read_csv('winemag-data-130k-v2.csv', index_col=0)"
   ]
  },
  {
   "cell_type": "code",
   "execution_count": 25,
   "id": "61d15edd",
   "metadata": {},
   "outputs": [],
   "source": [
    "data2 = data2.iloc[:75000]"
   ]
  },
  {
   "cell_type": "code",
   "execution_count": 26,
   "id": "4e444c33",
   "metadata": {},
   "outputs": [],
   "source": [
    "#Panen andmed kokku\n",
    "dataset = pd.concat([data1,data2])"
   ]
  },
  {
   "cell_type": "code",
   "execution_count": 27,
   "id": "944b7703",
   "metadata": {},
   "outputs": [
    {
     "data": {
      "text/html": [
       "<div>\n",
       "<style scoped>\n",
       "    .dataframe tbody tr th:only-of-type {\n",
       "        vertical-align: middle;\n",
       "    }\n",
       "\n",
       "    .dataframe tbody tr th {\n",
       "        vertical-align: top;\n",
       "    }\n",
       "\n",
       "    .dataframe thead th {\n",
       "        text-align: right;\n",
       "    }\n",
       "</style>\n",
       "<table border=\"1\" class=\"dataframe\">\n",
       "  <thead>\n",
       "    <tr style=\"text-align: right;\">\n",
       "      <th></th>\n",
       "      <th>country</th>\n",
       "      <th>description</th>\n",
       "      <th>designation</th>\n",
       "      <th>points</th>\n",
       "      <th>price</th>\n",
       "      <th>province</th>\n",
       "      <th>region_1</th>\n",
       "      <th>region_2</th>\n",
       "      <th>variety</th>\n",
       "      <th>winery</th>\n",
       "      <th>taster_name</th>\n",
       "      <th>taster_twitter_handle</th>\n",
       "      <th>title</th>\n",
       "    </tr>\n",
       "  </thead>\n",
       "  <tbody>\n",
       "    <tr>\n",
       "      <th>0</th>\n",
       "      <td>US</td>\n",
       "      <td>This tremendous 100% varietal wine hails from ...</td>\n",
       "      <td>Martha's Vineyard</td>\n",
       "      <td>96</td>\n",
       "      <td>235.0</td>\n",
       "      <td>California</td>\n",
       "      <td>Napa Valley</td>\n",
       "      <td>Napa</td>\n",
       "      <td>Cabernet Sauvignon</td>\n",
       "      <td>Heitz</td>\n",
       "      <td>NaN</td>\n",
       "      <td>NaN</td>\n",
       "      <td>NaN</td>\n",
       "    </tr>\n",
       "    <tr>\n",
       "      <th>1</th>\n",
       "      <td>Spain</td>\n",
       "      <td>Ripe aromas of fig, blackberry and cassis are ...</td>\n",
       "      <td>Carodorum Selección Especial Reserva</td>\n",
       "      <td>96</td>\n",
       "      <td>110.0</td>\n",
       "      <td>Northern Spain</td>\n",
       "      <td>Toro</td>\n",
       "      <td>NaN</td>\n",
       "      <td>Tinta de Toro</td>\n",
       "      <td>Bodega Carmen Rodríguez</td>\n",
       "      <td>NaN</td>\n",
       "      <td>NaN</td>\n",
       "      <td>NaN</td>\n",
       "    </tr>\n",
       "    <tr>\n",
       "      <th>2</th>\n",
       "      <td>US</td>\n",
       "      <td>Mac Watson honors the memory of a wine once ma...</td>\n",
       "      <td>Special Selected Late Harvest</td>\n",
       "      <td>96</td>\n",
       "      <td>90.0</td>\n",
       "      <td>California</td>\n",
       "      <td>Knights Valley</td>\n",
       "      <td>Sonoma</td>\n",
       "      <td>Sauvignon Blanc</td>\n",
       "      <td>Macauley</td>\n",
       "      <td>NaN</td>\n",
       "      <td>NaN</td>\n",
       "      <td>NaN</td>\n",
       "    </tr>\n",
       "    <tr>\n",
       "      <th>3</th>\n",
       "      <td>US</td>\n",
       "      <td>This spent 20 months in 30% new French oak, an...</td>\n",
       "      <td>Reserve</td>\n",
       "      <td>96</td>\n",
       "      <td>65.0</td>\n",
       "      <td>Oregon</td>\n",
       "      <td>Willamette Valley</td>\n",
       "      <td>Willamette Valley</td>\n",
       "      <td>Pinot Noir</td>\n",
       "      <td>Ponzi</td>\n",
       "      <td>NaN</td>\n",
       "      <td>NaN</td>\n",
       "      <td>NaN</td>\n",
       "    </tr>\n",
       "    <tr>\n",
       "      <th>4</th>\n",
       "      <td>France</td>\n",
       "      <td>This is the top wine from La Bégude, named aft...</td>\n",
       "      <td>La Brûlade</td>\n",
       "      <td>95</td>\n",
       "      <td>66.0</td>\n",
       "      <td>Provence</td>\n",
       "      <td>Bandol</td>\n",
       "      <td>NaN</td>\n",
       "      <td>Provence red blend</td>\n",
       "      <td>Domaine de la Bégude</td>\n",
       "      <td>NaN</td>\n",
       "      <td>NaN</td>\n",
       "      <td>NaN</td>\n",
       "    </tr>\n",
       "    <tr>\n",
       "      <th>...</th>\n",
       "      <td>...</td>\n",
       "      <td>...</td>\n",
       "      <td>...</td>\n",
       "      <td>...</td>\n",
       "      <td>...</td>\n",
       "      <td>...</td>\n",
       "      <td>...</td>\n",
       "      <td>...</td>\n",
       "      <td>...</td>\n",
       "      <td>...</td>\n",
       "      <td>...</td>\n",
       "      <td>...</td>\n",
       "      <td>...</td>\n",
       "    </tr>\n",
       "    <tr>\n",
       "      <th>225925</th>\n",
       "      <td>Austria</td>\n",
       "      <td>There is a slight, aromatic lift on the nose t...</td>\n",
       "      <td>NaN</td>\n",
       "      <td>88</td>\n",
       "      <td>14.0</td>\n",
       "      <td>Kremstal</td>\n",
       "      <td>NaN</td>\n",
       "      <td>NaN</td>\n",
       "      <td>Grüner Veltliner</td>\n",
       "      <td>Winzer Krems</td>\n",
       "      <td>Anne Krebiehl MW</td>\n",
       "      <td>@AnneInVino</td>\n",
       "      <td>Winzer Krems 2015 Grüner Veltliner (Kremstal)</td>\n",
       "    </tr>\n",
       "    <tr>\n",
       "      <th>225926</th>\n",
       "      <td>New Zealand</td>\n",
       "      <td>This plump, dry-style Pinot Gris features plen...</td>\n",
       "      <td>NaN</td>\n",
       "      <td>88</td>\n",
       "      <td>15.0</td>\n",
       "      <td>Marlborough</td>\n",
       "      <td>NaN</td>\n",
       "      <td>NaN</td>\n",
       "      <td>Pinot Gris</td>\n",
       "      <td>Yealands</td>\n",
       "      <td>Joe Czerwinski</td>\n",
       "      <td>@JoeCz</td>\n",
       "      <td>Yealands 2016 Pinot Gris (Marlborough)</td>\n",
       "    </tr>\n",
       "    <tr>\n",
       "      <th>225927</th>\n",
       "      <td>Italy</td>\n",
       "      <td>Made with 80% Sangiovese and 20% Syrah, this h...</td>\n",
       "      <td>NaN</td>\n",
       "      <td>88</td>\n",
       "      <td>22.0</td>\n",
       "      <td>Tuscany</td>\n",
       "      <td>Toscana</td>\n",
       "      <td>NaN</td>\n",
       "      <td>Red Blend</td>\n",
       "      <td>Ziobaffa</td>\n",
       "      <td>Kerin O’Keefe</td>\n",
       "      <td>@kerinokeefe</td>\n",
       "      <td>Ziobaffa 2015 Red (Toscana)</td>\n",
       "    </tr>\n",
       "    <tr>\n",
       "      <th>225928</th>\n",
       "      <td>US</td>\n",
       "      <td>One of the first bottles to bear the name of t...</td>\n",
       "      <td>Single Vineyard</td>\n",
       "      <td>88</td>\n",
       "      <td>30.0</td>\n",
       "      <td>Idaho</td>\n",
       "      <td>NaN</td>\n",
       "      <td>NaN</td>\n",
       "      <td>Syrah</td>\n",
       "      <td>3 Horse Ranch Vineyards</td>\n",
       "      <td>Sean P. Sullivan</td>\n",
       "      <td>@wawinereport</td>\n",
       "      <td>3 Horse Ranch Vineyards 2014 Single Vineyard S...</td>\n",
       "    </tr>\n",
       "    <tr>\n",
       "      <th>225929</th>\n",
       "      <td>US</td>\n",
       "      <td>The aromas are quite light, while the purple-f...</td>\n",
       "      <td>NaN</td>\n",
       "      <td>88</td>\n",
       "      <td>18.0</td>\n",
       "      <td>Washington</td>\n",
       "      <td>Yakima Valley</td>\n",
       "      <td>Columbia Valley</td>\n",
       "      <td>Syrah</td>\n",
       "      <td>Airfield Estates</td>\n",
       "      <td>Sean P. Sullivan</td>\n",
       "      <td>@wawinereport</td>\n",
       "      <td>Airfield Estates 2014 Syrah (Yakima Valley)</td>\n",
       "    </tr>\n",
       "  </tbody>\n",
       "</table>\n",
       "<p>225930 rows × 13 columns</p>\n",
       "</div>"
      ],
      "text/plain": [
       "            country                                        description  \\\n",
       "0                US  This tremendous 100% varietal wine hails from ...   \n",
       "1             Spain  Ripe aromas of fig, blackberry and cassis are ...   \n",
       "2                US  Mac Watson honors the memory of a wine once ma...   \n",
       "3                US  This spent 20 months in 30% new French oak, an...   \n",
       "4            France  This is the top wine from La Bégude, named aft...   \n",
       "...             ...                                                ...   \n",
       "225925      Austria  There is a slight, aromatic lift on the nose t...   \n",
       "225926  New Zealand  This plump, dry-style Pinot Gris features plen...   \n",
       "225927        Italy  Made with 80% Sangiovese and 20% Syrah, this h...   \n",
       "225928           US  One of the first bottles to bear the name of t...   \n",
       "225929           US  The aromas are quite light, while the purple-f...   \n",
       "\n",
       "                                 designation  points  price        province  \\\n",
       "0                          Martha's Vineyard      96  235.0      California   \n",
       "1       Carodorum Selección Especial Reserva      96  110.0  Northern Spain   \n",
       "2              Special Selected Late Harvest      96   90.0      California   \n",
       "3                                    Reserve      96   65.0          Oregon   \n",
       "4                                 La Brûlade      95   66.0        Provence   \n",
       "...                                      ...     ...    ...             ...   \n",
       "225925                                   NaN      88   14.0        Kremstal   \n",
       "225926                                   NaN      88   15.0     Marlborough   \n",
       "225927                                   NaN      88   22.0         Tuscany   \n",
       "225928                       Single Vineyard      88   30.0           Idaho   \n",
       "225929                                   NaN      88   18.0      Washington   \n",
       "\n",
       "                 region_1           region_2             variety  \\\n",
       "0             Napa Valley               Napa  Cabernet Sauvignon   \n",
       "1                    Toro                NaN       Tinta de Toro   \n",
       "2          Knights Valley             Sonoma     Sauvignon Blanc   \n",
       "3       Willamette Valley  Willamette Valley          Pinot Noir   \n",
       "4                  Bandol                NaN  Provence red blend   \n",
       "...                   ...                ...                 ...   \n",
       "225925                NaN                NaN    Grüner Veltliner   \n",
       "225926                NaN                NaN          Pinot Gris   \n",
       "225927            Toscana                NaN           Red Blend   \n",
       "225928                NaN                NaN               Syrah   \n",
       "225929      Yakima Valley    Columbia Valley               Syrah   \n",
       "\n",
       "                         winery       taster_name taster_twitter_handle  \\\n",
       "0                         Heitz               NaN                   NaN   \n",
       "1       Bodega Carmen Rodríguez               NaN                   NaN   \n",
       "2                      Macauley               NaN                   NaN   \n",
       "3                         Ponzi               NaN                   NaN   \n",
       "4          Domaine de la Bégude               NaN                   NaN   \n",
       "...                         ...               ...                   ...   \n",
       "225925             Winzer Krems  Anne Krebiehl MW           @AnneInVino   \n",
       "225926                 Yealands    Joe Czerwinski                @JoeCz   \n",
       "225927                 Ziobaffa     Kerin O’Keefe          @kerinokeefe   \n",
       "225928  3 Horse Ranch Vineyards  Sean P. Sullivan         @wawinereport   \n",
       "225929         Airfield Estates  Sean P. Sullivan         @wawinereport   \n",
       "\n",
       "                                                    title  \n",
       "0                                                     NaN  \n",
       "1                                                     NaN  \n",
       "2                                                     NaN  \n",
       "3                                                     NaN  \n",
       "4                                                     NaN  \n",
       "...                                                   ...  \n",
       "225925      Winzer Krems 2015 Grüner Veltliner (Kremstal)  \n",
       "225926             Yealands 2016 Pinot Gris (Marlborough)  \n",
       "225927                        Ziobaffa 2015 Red (Toscana)  \n",
       "225928  3 Horse Ranch Vineyards 2014 Single Vineyard S...  \n",
       "225929        Airfield Estates 2014 Syrah (Yakima Valley)  \n",
       "\n",
       "[225930 rows x 13 columns]"
      ]
     },
     "execution_count": 27,
     "metadata": {},
     "output_type": "execute_result"
    }
   ],
   "source": [
    "dataset.reset_index(drop=True)"
   ]
  },
  {
   "cell_type": "code",
   "execution_count": 28,
   "id": "fe5e8938",
   "metadata": {},
   "outputs": [
    {
     "data": {
      "text/html": [
       "<div>\n",
       "<style scoped>\n",
       "    .dataframe tbody tr th:only-of-type {\n",
       "        vertical-align: middle;\n",
       "    }\n",
       "\n",
       "    .dataframe tbody tr th {\n",
       "        vertical-align: top;\n",
       "    }\n",
       "\n",
       "    .dataframe thead th {\n",
       "        text-align: right;\n",
       "    }\n",
       "</style>\n",
       "<table border=\"1\" class=\"dataframe\">\n",
       "  <thead>\n",
       "    <tr style=\"text-align: right;\">\n",
       "      <th></th>\n",
       "      <th>country</th>\n",
       "      <th>description</th>\n",
       "      <th>designation</th>\n",
       "      <th>points</th>\n",
       "      <th>price</th>\n",
       "      <th>province</th>\n",
       "      <th>region_1</th>\n",
       "      <th>region_2</th>\n",
       "      <th>variety</th>\n",
       "      <th>winery</th>\n",
       "      <th>taster_name</th>\n",
       "      <th>taster_twitter_handle</th>\n",
       "      <th>title</th>\n",
       "    </tr>\n",
       "  </thead>\n",
       "  <tbody>\n",
       "    <tr>\n",
       "      <th>0</th>\n",
       "      <td>US</td>\n",
       "      <td>This tremendous 100% varietal wine hails from ...</td>\n",
       "      <td>Martha's Vineyard</td>\n",
       "      <td>96</td>\n",
       "      <td>235.0</td>\n",
       "      <td>California</td>\n",
       "      <td>Napa Valley</td>\n",
       "      <td>Napa</td>\n",
       "      <td>Cabernet Sauvignon</td>\n",
       "      <td>Heitz</td>\n",
       "      <td>NaN</td>\n",
       "      <td>NaN</td>\n",
       "      <td>NaN</td>\n",
       "    </tr>\n",
       "    <tr>\n",
       "      <th>1</th>\n",
       "      <td>Spain</td>\n",
       "      <td>Ripe aromas of fig, blackberry and cassis are ...</td>\n",
       "      <td>Carodorum Selección Especial Reserva</td>\n",
       "      <td>96</td>\n",
       "      <td>110.0</td>\n",
       "      <td>Northern Spain</td>\n",
       "      <td>Toro</td>\n",
       "      <td>NaN</td>\n",
       "      <td>Tinta de Toro</td>\n",
       "      <td>Bodega Carmen Rodríguez</td>\n",
       "      <td>NaN</td>\n",
       "      <td>NaN</td>\n",
       "      <td>NaN</td>\n",
       "    </tr>\n",
       "    <tr>\n",
       "      <th>2</th>\n",
       "      <td>US</td>\n",
       "      <td>Mac Watson honors the memory of a wine once ma...</td>\n",
       "      <td>Special Selected Late Harvest</td>\n",
       "      <td>96</td>\n",
       "      <td>90.0</td>\n",
       "      <td>California</td>\n",
       "      <td>Knights Valley</td>\n",
       "      <td>Sonoma</td>\n",
       "      <td>Sauvignon Blanc</td>\n",
       "      <td>Macauley</td>\n",
       "      <td>NaN</td>\n",
       "      <td>NaN</td>\n",
       "      <td>NaN</td>\n",
       "    </tr>\n",
       "    <tr>\n",
       "      <th>3</th>\n",
       "      <td>US</td>\n",
       "      <td>This spent 20 months in 30% new French oak, an...</td>\n",
       "      <td>Reserve</td>\n",
       "      <td>96</td>\n",
       "      <td>65.0</td>\n",
       "      <td>Oregon</td>\n",
       "      <td>Willamette Valley</td>\n",
       "      <td>Willamette Valley</td>\n",
       "      <td>Pinot Noir</td>\n",
       "      <td>Ponzi</td>\n",
       "      <td>NaN</td>\n",
       "      <td>NaN</td>\n",
       "      <td>NaN</td>\n",
       "    </tr>\n",
       "    <tr>\n",
       "      <th>4</th>\n",
       "      <td>France</td>\n",
       "      <td>This is the top wine from La Bégude, named aft...</td>\n",
       "      <td>La Brûlade</td>\n",
       "      <td>95</td>\n",
       "      <td>66.0</td>\n",
       "      <td>Provence</td>\n",
       "      <td>Bandol</td>\n",
       "      <td>NaN</td>\n",
       "      <td>Provence red blend</td>\n",
       "      <td>Domaine de la Bégude</td>\n",
       "      <td>NaN</td>\n",
       "      <td>NaN</td>\n",
       "      <td>NaN</td>\n",
       "    </tr>\n",
       "  </tbody>\n",
       "</table>\n",
       "</div>"
      ],
      "text/plain": [
       "  country                                        description  \\\n",
       "0      US  This tremendous 100% varietal wine hails from ...   \n",
       "1   Spain  Ripe aromas of fig, blackberry and cassis are ...   \n",
       "2      US  Mac Watson honors the memory of a wine once ma...   \n",
       "3      US  This spent 20 months in 30% new French oak, an...   \n",
       "4  France  This is the top wine from La Bégude, named aft...   \n",
       "\n",
       "                            designation  points  price        province  \\\n",
       "0                     Martha's Vineyard      96  235.0      California   \n",
       "1  Carodorum Selección Especial Reserva      96  110.0  Northern Spain   \n",
       "2         Special Selected Late Harvest      96   90.0      California   \n",
       "3                               Reserve      96   65.0          Oregon   \n",
       "4                            La Brûlade      95   66.0        Provence   \n",
       "\n",
       "            region_1           region_2             variety  \\\n",
       "0        Napa Valley               Napa  Cabernet Sauvignon   \n",
       "1               Toro                NaN       Tinta de Toro   \n",
       "2     Knights Valley             Sonoma     Sauvignon Blanc   \n",
       "3  Willamette Valley  Willamette Valley          Pinot Noir   \n",
       "4             Bandol                NaN  Provence red blend   \n",
       "\n",
       "                    winery taster_name taster_twitter_handle title  \n",
       "0                    Heitz         NaN                   NaN   NaN  \n",
       "1  Bodega Carmen Rodríguez         NaN                   NaN   NaN  \n",
       "2                 Macauley         NaN                   NaN   NaN  \n",
       "3                    Ponzi         NaN                   NaN   NaN  \n",
       "4     Domaine de la Bégude         NaN                   NaN   NaN  "
      ]
     },
     "execution_count": 28,
     "metadata": {},
     "output_type": "execute_result"
    }
   ],
   "source": [
    "#Vaatan, mis toimub\n",
    "dataset.head()"
   ]
  },
  {
   "cell_type": "code",
   "execution_count": 80,
   "id": "e609d71e",
   "metadata": {},
   "outputs": [],
   "source": [
    "desc = dataset.description"
   ]
  },
  {
   "cell_type": "code",
   "execution_count": 30,
   "id": "d1e7b380",
   "metadata": {},
   "outputs": [],
   "source": [
    "reviews_lower = [x.lower() for x in desc]"
   ]
  },
  {
   "cell_type": "code",
   "execution_count": 31,
   "id": "75aff43f",
   "metadata": {},
   "outputs": [
    {
     "data": {
      "text/plain": [
       "\"this spent 20 months in 30% new french oak, and incorporates fruit from ponzi's aurora, abetina and madrona vineyards, among others. aromatic, dense and toasty, it deftly blends aromas and flavors of toast, cigar box, blackberry, black cherry, coffee and graphite. tannins are polished to a fine sheen, and frame a finish loaded with dark chocolate and espresso. drink now through 2032.\""
      ]
     },
     "execution_count": 31,
     "metadata": {},
     "output_type": "execute_result"
    }
   ],
   "source": [
    "reviews_lower[3]"
   ]
  },
  {
   "cell_type": "code",
   "execution_count": 32,
   "id": "cb0bad0b",
   "metadata": {},
   "outputs": [],
   "source": [
    "#Puhastan teksti sodist, aga võite vaielda, et äkki ikkagi on vaja mingit tüüpi arve säilitada (nt aastaarvud)\n",
    "cleaned_reviews = [re.sub('[^a-zA-Z]', ' ', x) for x in reviews_lower]\n",
    "cleaned_reviews = [re.sub(r'\\s+', ' ', x) for x in cleaned_reviews]"
   ]
  },
  {
   "cell_type": "code",
   "execution_count": 33,
   "id": "2b2e78c3",
   "metadata": {},
   "outputs": [
    {
     "data": {
      "text/plain": [
       "'this spent months in new french oak and incorporates fruit from ponzi s aurora abetina and madrona vineyards among others aromatic dense and toasty it deftly blends aromas and flavors of toast cigar box blackberry black cherry coffee and graphite tannins are polished to a fine sheen and frame a finish loaded with dark chocolate and espresso drink now through '"
      ]
     },
     "execution_count": 33,
     "metadata": {},
     "output_type": "execute_result"
    }
   ],
   "source": [
    "cleaned_reviews[3]"
   ]
  },
  {
   "cell_type": "code",
   "execution_count": 34,
   "id": "57422739",
   "metadata": {},
   "outputs": [
    {
     "name": "stderr",
     "output_type": "stream",
     "text": [
      "[nltk_data] Downloading package punkt to\n",
      "[nltk_data]     C:\\Users\\velda\\AppData\\Roaming\\nltk_data...\n",
      "[nltk_data]   Package punkt is already up-to-date!\n"
     ]
    }
   ],
   "source": [
    "nltk.download('punkt')\n",
    "reviews = [nltk.sent_tokenize(x.strip()) for x in cleaned_reviews]"
   ]
  },
  {
   "cell_type": "code",
   "execution_count": 35,
   "id": "d78c33bd",
   "metadata": {},
   "outputs": [],
   "source": [
    "reviews = [y for x in reviews for y in x]"
   ]
  },
  {
   "cell_type": "code",
   "execution_count": 36,
   "id": "601c1116",
   "metadata": {},
   "outputs": [
    {
     "data": {
      "text/plain": [
       "'this spent months in new french oak and incorporates fruit from ponzi s aurora abetina and madrona vineyards among others aromatic dense and toasty it deftly blends aromas and flavors of toast cigar box blackberry black cherry coffee and graphite tannins are polished to a fine sheen and frame a finish loaded with dark chocolate and espresso drink now through'"
      ]
     },
     "execution_count": 36,
     "metadata": {},
     "output_type": "execute_result"
    }
   ],
   "source": [
    "reviews[3]"
   ]
  },
  {
   "cell_type": "code",
   "execution_count": 37,
   "id": "4e9a7302",
   "metadata": {},
   "outputs": [],
   "source": [
    "treviews = [nltk.word_tokenize(x) for x in reviews]"
   ]
  },
  {
   "cell_type": "code",
   "execution_count": 38,
   "id": "a3f62aa2",
   "metadata": {},
   "outputs": [
    {
     "name": "stderr",
     "output_type": "stream",
     "text": [
      "[nltk_data] Downloading package wordnet to\n",
      "[nltk_data]     C:\\Users\\velda\\AppData\\Roaming\\nltk_data...\n",
      "[nltk_data]   Package wordnet is already up-to-date!\n",
      "[nltk_data] Downloading package omw-1.4 to\n",
      "[nltk_data]     C:\\Users\\velda\\AppData\\Roaming\\nltk_data...\n",
      "[nltk_data]   Package omw-1.4 is already up-to-date!\n"
     ]
    }
   ],
   "source": [
    "nltk.download('wordnet')\n",
    "nltk.download('omw-1.4')\n",
    "for i in range(len(treviews)):\n",
    "    treviews[i] = [lemmatizer.lemmatize(w) for w in treviews[i] if w not in stop_words and len(w) > 1]\n",
    "    # words[i] = [w for w in words[i] if w not in stop_words]\n",
    "# words = [[w for w in words[i] if w not in stop_words] for i in range(len(words))]"
   ]
  },
  {
   "cell_type": "code",
   "execution_count": 39,
   "id": "a9875981",
   "metadata": {},
   "outputs": [
    {
     "data": {
      "text/plain": [
       "['spent',\n",
       " 'month',\n",
       " 'new',\n",
       " 'french',\n",
       " 'oak',\n",
       " 'incorporates',\n",
       " 'fruit',\n",
       " 'ponzi',\n",
       " 'aurora',\n",
       " 'abetina',\n",
       " 'madrona',\n",
       " 'vineyard',\n",
       " 'among',\n",
       " 'others',\n",
       " 'aromatic',\n",
       " 'dense',\n",
       " 'toasty',\n",
       " 'deftly',\n",
       " 'blend',\n",
       " 'aroma',\n",
       " 'flavor',\n",
       " 'toast',\n",
       " 'cigar',\n",
       " 'box',\n",
       " 'blackberry',\n",
       " 'black',\n",
       " 'cherry',\n",
       " 'coffee',\n",
       " 'graphite',\n",
       " 'tannin',\n",
       " 'polished',\n",
       " 'fine',\n",
       " 'sheen',\n",
       " 'frame',\n",
       " 'finish',\n",
       " 'loaded',\n",
       " 'dark',\n",
       " 'chocolate',\n",
       " 'espresso',\n",
       " 'drink']"
      ]
     },
     "execution_count": 39,
     "metadata": {},
     "output_type": "execute_result"
    }
   ],
   "source": [
    "#Põhimõtteliselt on korpus valmis\n",
    "treviews[3]"
   ]
  },
  {
   "cell_type": "code",
   "execution_count": 34,
   "id": "0d148b67",
   "metadata": {},
   "outputs": [],
   "source": [
    "# model = gensim.models.Word2Vec(words, vector_size = 200 , window = 4 , min_count = 1,\n",
    "#                                seed = 1000, hs = 0, negative = 10,workers=16, epochs = 25)\n",
    "model = gensim.models.FastText(treviews, vector_size = 200 , window = 4 , min_count = 1,\n",
    "                               seed = 1000, hs = 0, negative = 10,workers=16, epochs = 25)"
   ]
  },
  {
   "cell_type": "code",
   "execution_count": 35,
   "id": "6db35286",
   "metadata": {},
   "outputs": [],
   "source": [
    "model.save(\"fastText.model\")"
   ]
  },
  {
   "cell_type": "code",
   "execution_count": 15,
   "id": "ddd98589",
   "metadata": {},
   "outputs": [],
   "source": [
    "model = FastText.load(\"fastText.model\")"
   ]
  },
  {
   "cell_type": "code",
   "execution_count": 16,
   "id": "7013ee75",
   "metadata": {},
   "outputs": [
    {
     "data": {
      "text/plain": [
       "[('sweeet', 0.9069340229034424),\n",
       " ('sweetbut', 0.8767389059066772),\n",
       " ('sweety', 0.8728753924369812),\n",
       " ('sweex', 0.8408980369567871),\n",
       " ('sweetshop', 0.8216612935066223),\n",
       " ('sweetzer', 0.8140934109687805),\n",
       " ('sweetish', 0.7818064093589783),\n",
       " ('sweetie', 0.7765190005302429),\n",
       " ('ultrasweet', 0.7725462317466736),\n",
       " ('sweetnees', 0.7623400092124939)]"
      ]
     },
     "execution_count": 16,
     "metadata": {},
     "output_type": "execute_result"
    }
   ],
   "source": [
    "#Kümme kõige lähedasemat sõna sõnale \"magus\"\n",
    "model.wv.most_similar('sweet')"
   ]
  },
  {
   "cell_type": "code",
   "execution_count": 17,
   "id": "a406a059",
   "metadata": {},
   "outputs": [
    {
     "data": {
      "text/plain": [
       "[('dryly', 0.7381603121757507),\n",
       " ('nedry', 0.7218671441078186),\n",
       " ('tawdry', 0.7116608023643494),\n",
       " ('drysack', 0.6919692158699036),\n",
       " ('dryer', 0.6762170791625977),\n",
       " ('wizardry', 0.6171467900276184),\n",
       " ('ultradry', 0.6101483702659607),\n",
       " ('dryish', 0.5918757319450378),\n",
       " ('drylands', 0.58421790599823),\n",
       " ('laundry', 0.5464594960212708)]"
      ]
     },
     "execution_count": 17,
     "metadata": {},
     "output_type": "execute_result"
    }
   ],
   "source": [
    "#Kümme kõige lähedasemat sõna sõnale \"kuiv\"\n",
    "model.wv.most_similar('dry')"
   ]
  },
  {
   "cell_type": "markdown",
   "id": "c68c7082",
   "metadata": {},
   "source": [
    "Päris asjani on tükk maad veel. Mu arust võiks jõuda selleni, et saaks veinisoovitusi nii karakterit kirjeldavate märksõnade kui veininime järgi (ehk mis veinid oleksid konkreetsele veinile kõige sarnasemad). Word2veci saab ära kasutada selles mõttes, et märksõna järgi otsides ei pea istuma me kinni ühe kindla sõna küljes (nt kui otsime kuiva veini, siis me ei saa vastu ainult neid, mille kirjelduses on konkreetselt sõna \"kuiv\"), vaid saame võtta arvesse ka selle sünonüüme/semantiliselt lähedasi sõnu. Siinse katsetuse põhjal saame ehk algatada arutelu?"
   ]
  },
  {
   "cell_type": "code",
   "execution_count": 78,
   "id": "566eb195",
   "metadata": {},
   "outputs": [
    {
     "data": {
      "text/html": [
       "<div>\n",
       "<style scoped>\n",
       "    .dataframe tbody tr th:only-of-type {\n",
       "        vertical-align: middle;\n",
       "    }\n",
       "\n",
       "    .dataframe tbody tr th {\n",
       "        vertical-align: top;\n",
       "    }\n",
       "\n",
       "    .dataframe thead th {\n",
       "        text-align: right;\n",
       "    }\n",
       "</style>\n",
       "<table border=\"1\" class=\"dataframe\">\n",
       "  <thead>\n",
       "    <tr style=\"text-align: right;\">\n",
       "      <th></th>\n",
       "      <th>variety</th>\n",
       "      <th>country</th>\n",
       "      <th>province</th>\n",
       "      <th>points</th>\n",
       "      <th>price</th>\n",
       "      <th>review</th>\n",
       "    </tr>\n",
       "  </thead>\n",
       "  <tbody>\n",
       "    <tr>\n",
       "      <th>0</th>\n",
       "      <td>Cabernet Sauvignon</td>\n",
       "      <td>US</td>\n",
       "      <td>California</td>\n",
       "      <td>96</td>\n",
       "      <td>235.0</td>\n",
       "      <td>[tremendous, varietal, wine, hail, oakville, a...</td>\n",
       "    </tr>\n",
       "    <tr>\n",
       "      <th>1</th>\n",
       "      <td>Tinta de Toro</td>\n",
       "      <td>Spain</td>\n",
       "      <td>Northern Spain</td>\n",
       "      <td>96</td>\n",
       "      <td>110.0</td>\n",
       "      <td>[ripe, aroma, fig, blackberry, cassis, softene...</td>\n",
       "    </tr>\n",
       "    <tr>\n",
       "      <th>2</th>\n",
       "      <td>Sauvignon Blanc</td>\n",
       "      <td>US</td>\n",
       "      <td>California</td>\n",
       "      <td>96</td>\n",
       "      <td>90.0</td>\n",
       "      <td>[mac, watson, honor, memory, wine, made, mothe...</td>\n",
       "    </tr>\n",
       "    <tr>\n",
       "      <th>3</th>\n",
       "      <td>Pinot Noir</td>\n",
       "      <td>US</td>\n",
       "      <td>Oregon</td>\n",
       "      <td>96</td>\n",
       "      <td>65.0</td>\n",
       "      <td>[spent, month, new, french, oak, incorporates,...</td>\n",
       "    </tr>\n",
       "    <tr>\n",
       "      <th>4</th>\n",
       "      <td>Provence red blend</td>\n",
       "      <td>France</td>\n",
       "      <td>Provence</td>\n",
       "      <td>95</td>\n",
       "      <td>66.0</td>\n",
       "      <td>[top, wine, la, gude, named, highest, point, v...</td>\n",
       "    </tr>\n",
       "    <tr>\n",
       "      <th>...</th>\n",
       "      <td>...</td>\n",
       "      <td>...</td>\n",
       "      <td>...</td>\n",
       "      <td>...</td>\n",
       "      <td>...</td>\n",
       "      <td>...</td>\n",
       "    </tr>\n",
       "    <tr>\n",
       "      <th>74995</th>\n",
       "      <td>Grüner Veltliner</td>\n",
       "      <td>Austria</td>\n",
       "      <td>Kremstal</td>\n",
       "      <td>88</td>\n",
       "      <td>14.0</td>\n",
       "      <td>[slight, aromatic, lift, nose, turn, pear, fru...</td>\n",
       "    </tr>\n",
       "    <tr>\n",
       "      <th>74996</th>\n",
       "      <td>Pinot Gris</td>\n",
       "      <td>New Zealand</td>\n",
       "      <td>Marlborough</td>\n",
       "      <td>88</td>\n",
       "      <td>15.0</td>\n",
       "      <td>[plump, dry, style, pinot, gris, feature, plen...</td>\n",
       "    </tr>\n",
       "    <tr>\n",
       "      <th>74997</th>\n",
       "      <td>Red Blend</td>\n",
       "      <td>Italy</td>\n",
       "      <td>Tuscany</td>\n",
       "      <td>88</td>\n",
       "      <td>22.0</td>\n",
       "      <td>[made, sangiovese, syrah, aroma, red, berry, g...</td>\n",
       "    </tr>\n",
       "    <tr>\n",
       "      <th>74998</th>\n",
       "      <td>Syrah</td>\n",
       "      <td>US</td>\n",
       "      <td>Idaho</td>\n",
       "      <td>88</td>\n",
       "      <td>30.0</td>\n",
       "      <td>[one, first, bottle, bear, name, new, growing,...</td>\n",
       "    </tr>\n",
       "    <tr>\n",
       "      <th>74999</th>\n",
       "      <td>Syrah</td>\n",
       "      <td>US</td>\n",
       "      <td>Washington</td>\n",
       "      <td>88</td>\n",
       "      <td>18.0</td>\n",
       "      <td>[aroma, quite, light, purple, fruit, flavor, s...</td>\n",
       "    </tr>\n",
       "  </tbody>\n",
       "</table>\n",
       "<p>225930 rows × 6 columns</p>\n",
       "</div>"
      ],
      "text/plain": [
       "                  variety      country        province  points  price  \\\n",
       "0      Cabernet Sauvignon           US      California      96  235.0   \n",
       "1           Tinta de Toro        Spain  Northern Spain      96  110.0   \n",
       "2         Sauvignon Blanc           US      California      96   90.0   \n",
       "3              Pinot Noir           US          Oregon      96   65.0   \n",
       "4      Provence red blend       France        Provence      95   66.0   \n",
       "...                   ...          ...             ...     ...    ...   \n",
       "74995    Grüner Veltliner      Austria        Kremstal      88   14.0   \n",
       "74996          Pinot Gris  New Zealand     Marlborough      88   15.0   \n",
       "74997           Red Blend        Italy         Tuscany      88   22.0   \n",
       "74998               Syrah           US           Idaho      88   30.0   \n",
       "74999               Syrah           US      Washington      88   18.0   \n",
       "\n",
       "                                                  review  \n",
       "0      [tremendous, varietal, wine, hail, oakville, a...  \n",
       "1      [ripe, aroma, fig, blackberry, cassis, softene...  \n",
       "2      [mac, watson, honor, memory, wine, made, mothe...  \n",
       "3      [spent, month, new, french, oak, incorporates,...  \n",
       "4      [top, wine, la, gude, named, highest, point, v...  \n",
       "...                                                  ...  \n",
       "74995  [slight, aromatic, lift, nose, turn, pear, fru...  \n",
       "74996  [plump, dry, style, pinot, gris, feature, plen...  \n",
       "74997  [made, sangiovese, syrah, aroma, red, berry, g...  \n",
       "74998  [one, first, bottle, bear, name, new, growing,...  \n",
       "74999  [aroma, quite, light, purple, fruit, flavor, s...  \n",
       "\n",
       "[225930 rows x 6 columns]"
      ]
     },
     "execution_count": 78,
     "metadata": {},
     "output_type": "execute_result"
    }
   ],
   "source": [
    "data = dataset.loc[:,  \n",
    "\n",
    "               [\"variety\",\"country\",\"province\",\"points\",\"price\"]]\n",
    "\n",
    "data['review']=treviews\n",
    "data"
   ]
  },
  {
   "cell_type": "code",
   "execution_count": 81,
   "id": "81be8113",
   "metadata": {},
   "outputs": [
    {
     "data": {
      "text/html": [
       "<div>\n",
       "<style scoped>\n",
       "    .dataframe tbody tr th:only-of-type {\n",
       "        vertical-align: middle;\n",
       "    }\n",
       "\n",
       "    .dataframe tbody tr th {\n",
       "        vertical-align: top;\n",
       "    }\n",
       "\n",
       "    .dataframe thead th {\n",
       "        text-align: right;\n",
       "    }\n",
       "</style>\n",
       "<table border=\"1\" class=\"dataframe\">\n",
       "  <thead>\n",
       "    <tr style=\"text-align: right;\">\n",
       "      <th></th>\n",
       "      <th>variety</th>\n",
       "      <th>country</th>\n",
       "      <th>province</th>\n",
       "      <th>points</th>\n",
       "      <th>price</th>\n",
       "      <th>review</th>\n",
       "    </tr>\n",
       "  </thead>\n",
       "  <tbody>\n",
       "    <tr>\n",
       "      <th>30320</th>\n",
       "      <td>Bordeaux-style Red Blend</td>\n",
       "      <td>France</td>\n",
       "      <td>Bordeaux</td>\n",
       "      <td>85</td>\n",
       "      <td>10.0</td>\n",
       "      <td>[bright, lightly, smoked, red, currant, berry,...</td>\n",
       "    </tr>\n",
       "    <tr>\n",
       "      <th>52170</th>\n",
       "      <td>Nebbiolo</td>\n",
       "      <td>Italy</td>\n",
       "      <td>Piedmont</td>\n",
       "      <td>90</td>\n",
       "      <td>60.0</td>\n",
       "      <td>[traditionally, crafted, single, vineyard, bar...</td>\n",
       "    </tr>\n",
       "    <tr>\n",
       "      <th>121791</th>\n",
       "      <td>Cabernet Sauvignon</td>\n",
       "      <td>Chile</td>\n",
       "      <td>Maipo Valley</td>\n",
       "      <td>88</td>\n",
       "      <td>20.0</td>\n",
       "      <td>[spiced, gumdrop, rooty, sweetness, carry, mas...</td>\n",
       "    </tr>\n",
       "    <tr>\n",
       "      <th>105463</th>\n",
       "      <td>Muscat</td>\n",
       "      <td>US</td>\n",
       "      <td>California</td>\n",
       "      <td>90</td>\n",
       "      <td>16.0</td>\n",
       "      <td>[dessert, wine, pleasurable, one, sweet, sweet...</td>\n",
       "    </tr>\n",
       "    <tr>\n",
       "      <th>26767</th>\n",
       "      <td>Nebbiolo</td>\n",
       "      <td>Italy</td>\n",
       "      <td>Piedmont</td>\n",
       "      <td>92</td>\n",
       "      <td>NaN</td>\n",
       "      <td>[bright, lively, base, barolo, bric, cenciurio...</td>\n",
       "    </tr>\n",
       "    <tr>\n",
       "      <th>...</th>\n",
       "      <td>...</td>\n",
       "      <td>...</td>\n",
       "      <td>...</td>\n",
       "      <td>...</td>\n",
       "      <td>...</td>\n",
       "      <td>...</td>\n",
       "    </tr>\n",
       "    <tr>\n",
       "      <th>44497</th>\n",
       "      <td>Verdicchio</td>\n",
       "      <td>Italy</td>\n",
       "      <td>Central Italy</td>\n",
       "      <td>88</td>\n",
       "      <td>19.0</td>\n",
       "      <td>[delicately, scented, open, subtle, aroma, yel...</td>\n",
       "    </tr>\n",
       "    <tr>\n",
       "      <th>124860</th>\n",
       "      <td>Tempranillo Blend</td>\n",
       "      <td>Spain</td>\n",
       "      <td>Northern Spain</td>\n",
       "      <td>90</td>\n",
       "      <td>64.0</td>\n",
       "      <td>[jammy, sweet, smelling, intensity, lot, ripen...</td>\n",
       "    </tr>\n",
       "    <tr>\n",
       "      <th>5085</th>\n",
       "      <td>Morava</td>\n",
       "      <td>Serbia</td>\n",
       "      <td>Pocerina</td>\n",
       "      <td>87</td>\n",
       "      <td>26.0</td>\n",
       "      <td>[white, wine, serbia, aroma, caramelized, pine...</td>\n",
       "    </tr>\n",
       "    <tr>\n",
       "      <th>14518</th>\n",
       "      <td>Red Blend</td>\n",
       "      <td>US</td>\n",
       "      <td>California</td>\n",
       "      <td>88</td>\n",
       "      <td>26.0</td>\n",
       "      <td>[grape, blackberry, aroma, flavor, drench, ful...</td>\n",
       "    </tr>\n",
       "    <tr>\n",
       "      <th>132997</th>\n",
       "      <td>Corvina, Rondinella, Molinara</td>\n",
       "      <td>Italy</td>\n",
       "      <td>Veneto</td>\n",
       "      <td>86</td>\n",
       "      <td>83.0</td>\n",
       "      <td>[although, deeply, extracted, wine, dense, con...</td>\n",
       "    </tr>\n",
       "  </tbody>\n",
       "</table>\n",
       "<p>225930 rows × 6 columns</p>\n",
       "</div>"
      ],
      "text/plain": [
       "                              variety country        province  points  price  \\\n",
       "30320        Bordeaux-style Red Blend  France        Bordeaux      85   10.0   \n",
       "52170                        Nebbiolo   Italy        Piedmont      90   60.0   \n",
       "121791             Cabernet Sauvignon   Chile    Maipo Valley      88   20.0   \n",
       "105463                         Muscat      US      California      90   16.0   \n",
       "26767                        Nebbiolo   Italy        Piedmont      92    NaN   \n",
       "...                               ...     ...             ...     ...    ...   \n",
       "44497                      Verdicchio   Italy   Central Italy      88   19.0   \n",
       "124860              Tempranillo Blend   Spain  Northern Spain      90   64.0   \n",
       "5085                           Morava  Serbia        Pocerina      87   26.0   \n",
       "14518                       Red Blend      US      California      88   26.0   \n",
       "132997  Corvina, Rondinella, Molinara   Italy          Veneto      86   83.0   \n",
       "\n",
       "                                                   review  \n",
       "30320   [bright, lightly, smoked, red, currant, berry,...  \n",
       "52170   [traditionally, crafted, single, vineyard, bar...  \n",
       "121791  [spiced, gumdrop, rooty, sweetness, carry, mas...  \n",
       "105463  [dessert, wine, pleasurable, one, sweet, sweet...  \n",
       "26767   [bright, lively, base, barolo, bric, cenciurio...  \n",
       "...                                                   ...  \n",
       "44497   [delicately, scented, open, subtle, aroma, yel...  \n",
       "124860  [jammy, sweet, smelling, intensity, lot, ripen...  \n",
       "5085    [white, wine, serbia, aroma, caramelized, pine...  \n",
       "14518   [grape, blackberry, aroma, flavor, drench, ful...  \n",
       "132997  [although, deeply, extracted, wine, dense, con...  \n",
       "\n",
       "[225930 rows x 6 columns]"
      ]
     },
     "execution_count": 81,
     "metadata": {},
     "output_type": "execute_result"
    }
   ],
   "source": [
    "data = data.sample(frac = 1) # shuffle the data\n",
    "data"
   ]
  },
  {
   "cell_type": "code",
   "execution_count": 82,
   "id": "66d1b46a",
   "metadata": {},
   "outputs": [
    {
     "data": {
      "text/plain": [
       "(225930, 2)"
      ]
     },
     "execution_count": 82,
     "metadata": {},
     "output_type": "execute_result"
    }
   ],
   "source": [
    "dvariety = data.loc[:,[\"variety\",\"review\"]]\n",
    "dvariety.shape"
   ]
  },
  {
   "cell_type": "code",
   "execution_count": 90,
   "id": "e3750e99",
   "metadata": {},
   "outputs": [
    {
     "name": "stdout",
     "output_type": "stream",
     "text": [
      "Number of grape varieties 720\n"
     ]
    }
   ],
   "source": [
    "print('Number of grape varieties',data['variety'].nunique())"
   ]
  },
  {
   "cell_type": "code",
   "execution_count": 91,
   "id": "fe8332ff",
   "metadata": {},
   "outputs": [
    {
     "data": {
      "text/plain": [
       "(225930, 2)"
      ]
     },
     "execution_count": 91,
     "metadata": {},
     "output_type": "execute_result"
    }
   ],
   "source": [
    "dvariety.dropna(axis=0)\n",
    "dvariety.shape"
   ]
  },
  {
   "cell_type": "code",
   "execution_count": 92,
   "id": "99dab25f",
   "metadata": {},
   "outputs": [
    {
     "data": {
      "text/plain": [
       "numpy.ndarray"
      ]
     },
     "execution_count": 92,
     "metadata": {},
     "output_type": "execute_result"
    }
   ],
   "source": [
    "nvariety = pd.Series(dvariety['variety']).to_numpy()\n",
    "type(nvariety)"
   ]
  },
  {
   "cell_type": "code",
   "execution_count": 93,
   "id": "9d0cf58d",
   "metadata": {},
   "outputs": [
    {
     "data": {
      "text/plain": [
       "numpy.ndarray"
      ]
     },
     "execution_count": 93,
     "metadata": {},
     "output_type": "execute_result"
    }
   ],
   "source": [
    "nreviews = pd.Series(dvariety['review']).to_numpy()\n",
    "type(nreviews)"
   ]
  },
  {
   "cell_type": "code",
   "execution_count": 94,
   "id": "06a4fd04",
   "metadata": {},
   "outputs": [
    {
     "data": {
      "text/plain": [
       "dtype('<U35')"
      ]
     },
     "execution_count": 94,
     "metadata": {},
     "output_type": "execute_result"
    }
   ],
   "source": [
    "nvariety= nvariety.astype(str)\n",
    "nvariety.dtype"
   ]
  },
  {
   "cell_type": "code",
   "execution_count": 95,
   "id": "624d080c",
   "metadata": {},
   "outputs": [
    {
     "data": {
      "text/plain": [
       "<AxesSubplot:ylabel='count'>"
      ]
     },
     "execution_count": 95,
     "metadata": {},
     "output_type": "execute_result"
    },
    {
     "data": {
      "image/png": "[encoded data removed]",
      "text/plain": [
       "<Figure size 640x480 with 1 Axes>"
      ]
     },
     "metadata": {},
     "output_type": "display_data"
    }
   ],
   "source": [
    "countplot(x=nvariety)"
   ]
  },
  {
   "cell_type": "code",
   "execution_count": 96,
   "id": "05c4d403",
   "metadata": {},
   "outputs": [
    {
     "data": {
      "text/plain": [
       "(2000,)"
      ]
     },
     "execution_count": 96,
     "metadata": {},
     "output_type": "execute_result"
    }
   ],
   "source": [
    "train_data= nreviews[:2000]\n",
    "train_labels= nvariety[:2000]\n",
    "test_data= nreviews[2000:3000]\n",
    "test_labels= nvariety[2000:3000]\n",
    "train_data.shape"
   ]
  },
  {
   "cell_type": "code",
   "execution_count": null,
   "id": "a16454ed",
   "metadata": {},
   "outputs": [],
   "source": [
    "labellist= data['variety'].unique()\n",
    "labellist"
   ]
  },
  {
   "cell_type": "code",
   "execution_count": null,
   "id": "feeb5e53",
   "metadata": {},
   "outputs": [],
   "source": [
    "from random import randint\n",
    "predictions=[]\n",
    "for i in range(len(test_labels)):\n",
    "    predictions.append(labellist[randint(0,719)])\n",
    "predictions"
   ]
  },
  {
   "cell_type": "code",
   "execution_count": 124,
   "id": "d4d1f2f6",
   "metadata": {},
   "outputs": [
    {
     "data": {
      "text/plain": [
       "0.004"
      ]
     },
     "execution_count": 124,
     "metadata": {},
     "output_type": "execute_result"
    }
   ],
   "source": [
    "# random classifier accuracy\n",
    "accuracy = np.mean(test_labels==predictions, dtype=np.float64)\n",
    "accuracy"
   ]
  },
  {
   "cell_type": "code",
   "execution_count": 125,
   "id": "2f483d83",
   "metadata": {},
   "outputs": [
    {
     "data": {
      "text/plain": [
       "0.096"
      ]
     },
     "execution_count": 125,
     "metadata": {},
     "output_type": "execute_result"
    }
   ],
   "source": [
    "# majority class classifier accuracy\n",
    "accuracy = np.mean(test_labels==\"Pinot Noir\", dtype=np.float64\n",
    "accuracy"
   ]
  },
  {
   "cell_type": "code",
   "execution_count": 97,
   "id": "ce49cf4e",
   "metadata": {},
   "outputs": [
    {
     "data": {
      "text/plain": [
       "<AxesSubplot:ylabel='count'>"
      ]
     },
     "execution_count": 97,
     "metadata": {},
     "output_type": "execute_result"
    },
    {
     "data": {
      "image/png": "[encoded data removed]",
      "text/plain": [
       "<Figure size 640x480 with 1 Axes>"
      ]
     },
     "metadata": {},
     "output_type": "display_data"
    }
   ],
   "source": [
    "countplot(x=train_labels)"
   ]
  },
  {
   "cell_type": "code",
   "execution_count": 55,
   "id": "480486a1",
   "metadata": {},
   "outputs": [],
   "source": [
    "def dist(rev1, rev2):\n",
    "  return model.wv.wmdistance(rev1, rev2)\n"
   ]
  },
  {
   "cell_type": "code",
   "execution_count": 56,
   "id": "4da840fc",
   "metadata": {},
   "outputs": [
    {
     "data": {
      "text/plain": [
       "0.14413991085135688"
      ]
     },
     "execution_count": 56,
     "metadata": {},
     "output_type": "execute_result"
    }
   ],
   "source": [
    "dist(reviews[0], reviews[1])"
   ]
  },
  {
   "cell_type": "code",
   "execution_count": 57,
   "id": "8642f608",
   "metadata": {},
   "outputs": [],
   "source": [
    "test_review = test_data[1] \n",
    "test_label = test_labels[1]"
   ]
  },
  {
   "cell_type": "code",
   "execution_count": 66,
   "id": "7664c687",
   "metadata": {},
   "outputs": [],
   "source": [
    "def classify(test_review,k):\n",
    "    all_distances = np.array([dist(test_review, train_review) for train_review in train_data])\n",
    "    sorted_idx = all_distances.argsort()\n",
    "    n_closest = train_labels[sorted_idx][:k]\n",
    "    unique, pos = np.unique(n_closest,return_inverse=True)\n",
    "    counts = np.bincount(pos)\n",
    "    maxpos = counts.argmax()\n",
    "    prediction= unique[maxpos]\n",
    "    return prediction"
   ]
  },
  {
   "cell_type": "code",
   "execution_count": 67,
   "id": "b4e44a1a",
   "metadata": {},
   "outputs": [],
   "source": [
    "predicted_label = classify(test_review,6)"
   ]
  },
  {
   "cell_type": "code",
   "execution_count": 68,
   "id": "99ee5b01",
   "metadata": {},
   "outputs": [
    {
     "name": "stdout",
     "output_type": "stream",
     "text": [
      "Predicted variety for the first wine is Portuguese Red and the true label is Bordeaux-style Red Blend\n"
     ]
    }
   ],
   "source": [
    "print(f\"Predicted variety for the first wine is {predicted_label} and the true label is {test_label}\")"
   ]
  },
  {
   "cell_type": "code",
   "execution_count": 69,
   "id": "0f745b5c",
   "metadata": {},
   "outputs": [],
   "source": [
    "test_predicted_n9 = [classify(test_review,9) for test_review in test_data]"
   ]
  },
  {
   "cell_type": "code",
   "execution_count": 70,
   "id": "6e491b3e",
   "metadata": {},
   "outputs": [
    {
     "name": "stdout",
     "output_type": "stream",
     "text": [
      "0.378\n"
     ]
    }
   ],
   "source": [
    "n_correct_k9 = np.sum(test_labels == test_predicted_n9, dtype=object)\n",
    "accuracy_k9 = n_correct_k9/len(test_labels)\n",
    "print(accuracy_k9)\n",
    "#Accuracy of the Word Mover's Distance classifier, k=9, in predicting the grape variety (FastText)"
   ]
  },
  {
   "cell_type": "code",
   "execution_count": null,
   "id": "43e4d650",
   "metadata": {},
   "outputs": [],
   "source": []
  }
 ],
 "metadata": {
  "kernelspec": {
   "display_name": "Python 3 (ipykernel)",
   "language": "python",
   "name": "python3"
  },
  "language_info": {
   "codemirror_mode": {
    "name": "ipython",
    "version": 3
   },
   "file_extension": ".py",
   "mimetype": "text/x-python",
   "name": "python",
   "nbconvert_exporter": "python",
   "pygments_lexer": "ipython3",
   "version": "3.9.13"
  },
  "vscode": {
   "interpreter": {
    "hash": "4b8f16e4012474046bf3ae17fb6e66d0ceaf147066a3cea27e7a3d878a672b1d"
   }
  }
 },
 "nbformat": 4,
 "nbformat_minor": 5
}
