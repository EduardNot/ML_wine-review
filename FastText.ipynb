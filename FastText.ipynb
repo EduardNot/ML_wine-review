{
 "cells": [
  {
   "cell_type": "code",
   "execution_count": 18,
   "id": "7f15931d",
   "metadata": {},
   "outputs": [],
   "source": [
    "\n",
    "#!pip install nltk"
   ]
  },
  {
   "cell_type": "code",
   "execution_count": 19,
   "id": "608830e3",
   "metadata": {},
   "outputs": [],
   "source": [
    "#!pip install gensim"
   ]
  },
  {
   "cell_type": "code",
   "execution_count": 20,
   "id": "4efcae6a",
   "metadata": {},
   "outputs": [],
   "source": [
    "import pandas as pd\n",
    "import gensim\n",
    "from gensim.models import FastText\n",
    "import nltk\n",
    "from nltk.stem import WordNetLemmatizer\n",
    "import re"
   ]
  },
  {
   "cell_type": "code",
   "execution_count": 61,
   "id": "44a21b12",
   "metadata": {},
   "outputs": [],
   "source": [
    "import numpy as np\n",
    "from seaborn import countplot\n",
    "from pyemd import emd"
   ]
  },
  {
   "cell_type": "code",
   "execution_count": 21,
   "id": "51d2cf98",
   "metadata": {},
   "outputs": [
    {
     "name": "stderr",
     "output_type": "stream",
     "text": [
      "[nltk_data] Downloading package stopwords to\n",
      "[nltk_data]     C:\\Users\\velda\\AppData\\Roaming\\nltk_data...\n",
      "[nltk_data]   Package stopwords is already up-to-date!\n"
     ]
    },
    {
     "data": {
      "text/plain": [
       "True"
      ]
     },
     "execution_count": 21,
     "metadata": {},
     "output_type": "execute_result"
    }
   ],
   "source": [
    "# nltk.download('stopwords')\n",
    "# nltk.download('punkt')\n",
    "# nltk.download('wordnet')\n",
    "# nltk.download('omw-1.4')\n",
    "from nltk.corpus import stopwords\n",
    "\n",
    "nltk.download('stopwords')"
   ]
  },
  {
   "cell_type": "code",
   "execution_count": 22,
   "id": "a67c82a3",
   "metadata": {},
   "outputs": [],
   "source": [
    "lemmatizer = WordNetLemmatizer()\n",
    "stop_words = stopwords.words('english')"
   ]
  },
  {
   "cell_type": "code",
   "execution_count": null,
   "id": "0ea99863",
   "metadata": {},
   "outputs": [],
   "source": [
    "def dist(rev1, rev2):\n",
    "    return model.wv.wmdistance(rev1, rev2)"
   ]
  },
  {
   "cell_type": "code",
   "execution_count": null,
   "id": "5d141f76",
   "metadata": {},
   "outputs": [],
   "source": [
    "def classify(test_review,k):\n",
    "    all_distances = np.array([dist(test_review, train_review) for train_review in train_data])\n",
    "    sorted_idx = all_distances.argsort()\n",
    "    n_closest = train_labels[sorted_idx][:k]\n",
    "    unique, pos = np.unique(n_closest,return_inverse=True)\n",
    "    counts = np.bincount(pos)\n",
    "    maxpos = counts.argmax()\n",
    "    prediction= unique[maxpos]\n",
    "    return prediction"
   ]
  },
  {
   "cell_type": "code",
   "execution_count": 194,
   "id": "67c0e5fa",
   "metadata": {},
   "outputs": [],
   "source": [
    "model = FastText.load(\"fastText.model\")"
   ]
  },
  {
   "cell_type": "code",
   "execution_count": 23,
   "id": "ab0b9577",
   "metadata": {},
   "outputs": [],
   "source": [
    "#data_loc = 'data/'"
   ]
  },
  {
   "cell_type": "code",
   "execution_count": 24,
   "id": "c17d4d9a",
   "metadata": {},
   "outputs": [],
   "source": [
    "data1 = pd.read_csv('winemag-data_first150k.csv', index_col=0)\n",
    "data2 = pd.read_csv('winemag-data-130k-v2.csv', index_col=0)"
   ]
  },
  {
   "cell_type": "code",
   "execution_count": 25,
   "id": "61d15edd",
   "metadata": {},
   "outputs": [],
   "source": [
    "data2 = data2.iloc[:75000]"
   ]
  },
  {
   "cell_type": "code",
   "execution_count": 26,
   "id": "4e444c33",
   "metadata": {},
   "outputs": [],
   "source": [
    "#Panen andmed kokku\n",
    "dataset = pd.concat([data1,data2])"
   ]
  },
  {
   "cell_type": "code",
   "execution_count": 27,
   "id": "944b7703",
   "metadata": {},
   "outputs": [
    {
     "data": {
      "text/html": [
       "<div>\n",
       "<style scoped>\n",
       "    .dataframe tbody tr th:only-of-type {\n",
       "        vertical-align: middle;\n",
       "    }\n",
       "\n",
       "    .dataframe tbody tr th {\n",
       "        vertical-align: top;\n",
       "    }\n",
       "\n",
       "    .dataframe thead th {\n",
       "        text-align: right;\n",
       "    }\n",
       "</style>\n",
       "<table border=\"1\" class=\"dataframe\">\n",
       "  <thead>\n",
       "    <tr style=\"text-align: right;\">\n",
       "      <th></th>\n",
       "      <th>country</th>\n",
       "      <th>description</th>\n",
       "      <th>designation</th>\n",
       "      <th>points</th>\n",
       "      <th>price</th>\n",
       "      <th>province</th>\n",
       "      <th>region_1</th>\n",
       "      <th>region_2</th>\n",
       "      <th>variety</th>\n",
       "      <th>winery</th>\n",
       "      <th>taster_name</th>\n",
       "      <th>taster_twitter_handle</th>\n",
       "      <th>title</th>\n",
       "    </tr>\n",
       "  </thead>\n",
       "  <tbody>\n",
       "    <tr>\n",
       "      <th>0</th>\n",
       "      <td>US</td>\n",
       "      <td>This tremendous 100% varietal wine hails from ...</td>\n",
       "      <td>Martha's Vineyard</td>\n",
       "      <td>96</td>\n",
       "      <td>235.0</td>\n",
       "      <td>California</td>\n",
       "      <td>Napa Valley</td>\n",
       "      <td>Napa</td>\n",
       "      <td>Cabernet Sauvignon</td>\n",
       "      <td>Heitz</td>\n",
       "      <td>NaN</td>\n",
       "      <td>NaN</td>\n",
       "      <td>NaN</td>\n",
       "    </tr>\n",
       "    <tr>\n",
       "      <th>1</th>\n",
       "      <td>Spain</td>\n",
       "      <td>Ripe aromas of fig, blackberry and cassis are ...</td>\n",
       "      <td>Carodorum Selección Especial Reserva</td>\n",
       "      <td>96</td>\n",
       "      <td>110.0</td>\n",
       "      <td>Northern Spain</td>\n",
       "      <td>Toro</td>\n",
       "      <td>NaN</td>\n",
       "      <td>Tinta de Toro</td>\n",
       "      <td>Bodega Carmen Rodríguez</td>\n",
       "      <td>NaN</td>\n",
       "      <td>NaN</td>\n",
       "      <td>NaN</td>\n",
       "    </tr>\n",
       "    <tr>\n",
       "      <th>2</th>\n",
       "      <td>US</td>\n",
       "      <td>Mac Watson honors the memory of a wine once ma...</td>\n",
       "      <td>Special Selected Late Harvest</td>\n",
       "      <td>96</td>\n",
       "      <td>90.0</td>\n",
       "      <td>California</td>\n",
       "      <td>Knights Valley</td>\n",
       "      <td>Sonoma</td>\n",
       "      <td>Sauvignon Blanc</td>\n",
       "      <td>Macauley</td>\n",
       "      <td>NaN</td>\n",
       "      <td>NaN</td>\n",
       "      <td>NaN</td>\n",
       "    </tr>\n",
       "    <tr>\n",
       "      <th>3</th>\n",
       "      <td>US</td>\n",
       "      <td>This spent 20 months in 30% new French oak, an...</td>\n",
       "      <td>Reserve</td>\n",
       "      <td>96</td>\n",
       "      <td>65.0</td>\n",
       "      <td>Oregon</td>\n",
       "      <td>Willamette Valley</td>\n",
       "      <td>Willamette Valley</td>\n",
       "      <td>Pinot Noir</td>\n",
       "      <td>Ponzi</td>\n",
       "      <td>NaN</td>\n",
       "      <td>NaN</td>\n",
       "      <td>NaN</td>\n",
       "    </tr>\n",
       "    <tr>\n",
       "      <th>4</th>\n",
       "      <td>France</td>\n",
       "      <td>This is the top wine from La Bégude, named aft...</td>\n",
       "      <td>La Brûlade</td>\n",
       "      <td>95</td>\n",
       "      <td>66.0</td>\n",
       "      <td>Provence</td>\n",
       "      <td>Bandol</td>\n",
       "      <td>NaN</td>\n",
       "      <td>Provence red blend</td>\n",
       "      <td>Domaine de la Bégude</td>\n",
       "      <td>NaN</td>\n",
       "      <td>NaN</td>\n",
       "      <td>NaN</td>\n",
       "    </tr>\n",
       "    <tr>\n",
       "      <th>...</th>\n",
       "      <td>...</td>\n",
       "      <td>...</td>\n",
       "      <td>...</td>\n",
       "      <td>...</td>\n",
       "      <td>...</td>\n",
       "      <td>...</td>\n",
       "      <td>...</td>\n",
       "      <td>...</td>\n",
       "      <td>...</td>\n",
       "      <td>...</td>\n",
       "      <td>...</td>\n",
       "      <td>...</td>\n",
       "      <td>...</td>\n",
       "    </tr>\n",
       "    <tr>\n",
       "      <th>225925</th>\n",
       "      <td>Austria</td>\n",
       "      <td>There is a slight, aromatic lift on the nose t...</td>\n",
       "      <td>NaN</td>\n",
       "      <td>88</td>\n",
       "      <td>14.0</td>\n",
       "      <td>Kremstal</td>\n",
       "      <td>NaN</td>\n",
       "      <td>NaN</td>\n",
       "      <td>Grüner Veltliner</td>\n",
       "      <td>Winzer Krems</td>\n",
       "      <td>Anne Krebiehl MW</td>\n",
       "      <td>@AnneInVino</td>\n",
       "      <td>Winzer Krems 2015 Grüner Veltliner (Kremstal)</td>\n",
       "    </tr>\n",
       "    <tr>\n",
       "      <th>225926</th>\n",
       "      <td>New Zealand</td>\n",
       "      <td>This plump, dry-style Pinot Gris features plen...</td>\n",
       "      <td>NaN</td>\n",
       "      <td>88</td>\n",
       "      <td>15.0</td>\n",
       "      <td>Marlborough</td>\n",
       "      <td>NaN</td>\n",
       "      <td>NaN</td>\n",
       "      <td>Pinot Gris</td>\n",
       "      <td>Yealands</td>\n",
       "      <td>Joe Czerwinski</td>\n",
       "      <td>@JoeCz</td>\n",
       "      <td>Yealands 2016 Pinot Gris (Marlborough)</td>\n",
       "    </tr>\n",
       "    <tr>\n",
       "      <th>225927</th>\n",
       "      <td>Italy</td>\n",
       "      <td>Made with 80% Sangiovese and 20% Syrah, this h...</td>\n",
       "      <td>NaN</td>\n",
       "      <td>88</td>\n",
       "      <td>22.0</td>\n",
       "      <td>Tuscany</td>\n",
       "      <td>Toscana</td>\n",
       "      <td>NaN</td>\n",
       "      <td>Red Blend</td>\n",
       "      <td>Ziobaffa</td>\n",
       "      <td>Kerin O’Keefe</td>\n",
       "      <td>@kerinokeefe</td>\n",
       "      <td>Ziobaffa 2015 Red (Toscana)</td>\n",
       "    </tr>\n",
       "    <tr>\n",
       "      <th>225928</th>\n",
       "      <td>US</td>\n",
       "      <td>One of the first bottles to bear the name of t...</td>\n",
       "      <td>Single Vineyard</td>\n",
       "      <td>88</td>\n",
       "      <td>30.0</td>\n",
       "      <td>Idaho</td>\n",
       "      <td>NaN</td>\n",
       "      <td>NaN</td>\n",
       "      <td>Syrah</td>\n",
       "      <td>3 Horse Ranch Vineyards</td>\n",
       "      <td>Sean P. Sullivan</td>\n",
       "      <td>@wawinereport</td>\n",
       "      <td>3 Horse Ranch Vineyards 2014 Single Vineyard S...</td>\n",
       "    </tr>\n",
       "    <tr>\n",
       "      <th>225929</th>\n",
       "      <td>US</td>\n",
       "      <td>The aromas are quite light, while the purple-f...</td>\n",
       "      <td>NaN</td>\n",
       "      <td>88</td>\n",
       "      <td>18.0</td>\n",
       "      <td>Washington</td>\n",
       "      <td>Yakima Valley</td>\n",
       "      <td>Columbia Valley</td>\n",
       "      <td>Syrah</td>\n",
       "      <td>Airfield Estates</td>\n",
       "      <td>Sean P. Sullivan</td>\n",
       "      <td>@wawinereport</td>\n",
       "      <td>Airfield Estates 2014 Syrah (Yakima Valley)</td>\n",
       "    </tr>\n",
       "  </tbody>\n",
       "</table>\n",
       "<p>225930 rows × 13 columns</p>\n",
       "</div>"
      ],
      "text/plain": [
       "            country                                        description  \\\n",
       "0                US  This tremendous 100% varietal wine hails from ...   \n",
       "1             Spain  Ripe aromas of fig, blackberry and cassis are ...   \n",
       "2                US  Mac Watson honors the memory of a wine once ma...   \n",
       "3                US  This spent 20 months in 30% new French oak, an...   \n",
       "4            France  This is the top wine from La Bégude, named aft...   \n",
       "...             ...                                                ...   \n",
       "225925      Austria  There is a slight, aromatic lift on the nose t...   \n",
       "225926  New Zealand  This plump, dry-style Pinot Gris features plen...   \n",
       "225927        Italy  Made with 80% Sangiovese and 20% Syrah, this h...   \n",
       "225928           US  One of the first bottles to bear the name of t...   \n",
       "225929           US  The aromas are quite light, while the purple-f...   \n",
       "\n",
       "                                 designation  points  price        province  \\\n",
       "0                          Martha's Vineyard      96  235.0      California   \n",
       "1       Carodorum Selección Especial Reserva      96  110.0  Northern Spain   \n",
       "2              Special Selected Late Harvest      96   90.0      California   \n",
       "3                                    Reserve      96   65.0          Oregon   \n",
       "4                                 La Brûlade      95   66.0        Provence   \n",
       "...                                      ...     ...    ...             ...   \n",
       "225925                                   NaN      88   14.0        Kremstal   \n",
       "225926                                   NaN      88   15.0     Marlborough   \n",
       "225927                                   NaN      88   22.0         Tuscany   \n",
       "225928                       Single Vineyard      88   30.0           Idaho   \n",
       "225929                                   NaN      88   18.0      Washington   \n",
       "\n",
       "                 region_1           region_2             variety  \\\n",
       "0             Napa Valley               Napa  Cabernet Sauvignon   \n",
       "1                    Toro                NaN       Tinta de Toro   \n",
       "2          Knights Valley             Sonoma     Sauvignon Blanc   \n",
       "3       Willamette Valley  Willamette Valley          Pinot Noir   \n",
       "4                  Bandol                NaN  Provence red blend   \n",
       "...                   ...                ...                 ...   \n",
       "225925                NaN                NaN    Grüner Veltliner   \n",
       "225926                NaN                NaN          Pinot Gris   \n",
       "225927            Toscana                NaN           Red Blend   \n",
       "225928                NaN                NaN               Syrah   \n",
       "225929      Yakima Valley    Columbia Valley               Syrah   \n",
       "\n",
       "                         winery       taster_name taster_twitter_handle  \\\n",
       "0                         Heitz               NaN                   NaN   \n",
       "1       Bodega Carmen Rodríguez               NaN                   NaN   \n",
       "2                      Macauley               NaN                   NaN   \n",
       "3                         Ponzi               NaN                   NaN   \n",
       "4          Domaine de la Bégude               NaN                   NaN   \n",
       "...                         ...               ...                   ...   \n",
       "225925             Winzer Krems  Anne Krebiehl MW           @AnneInVino   \n",
       "225926                 Yealands    Joe Czerwinski                @JoeCz   \n",
       "225927                 Ziobaffa     Kerin O’Keefe          @kerinokeefe   \n",
       "225928  3 Horse Ranch Vineyards  Sean P. Sullivan         @wawinereport   \n",
       "225929         Airfield Estates  Sean P. Sullivan         @wawinereport   \n",
       "\n",
       "                                                    title  \n",
       "0                                                     NaN  \n",
       "1                                                     NaN  \n",
       "2                                                     NaN  \n",
       "3                                                     NaN  \n",
       "4                                                     NaN  \n",
       "...                                                   ...  \n",
       "225925      Winzer Krems 2015 Grüner Veltliner (Kremstal)  \n",
       "225926             Yealands 2016 Pinot Gris (Marlborough)  \n",
       "225927                        Ziobaffa 2015 Red (Toscana)  \n",
       "225928  3 Horse Ranch Vineyards 2014 Single Vineyard S...  \n",
       "225929        Airfield Estates 2014 Syrah (Yakima Valley)  \n",
       "\n",
       "[225930 rows x 13 columns]"
      ]
     },
     "execution_count": 27,
     "metadata": {},
     "output_type": "execute_result"
    }
   ],
   "source": [
    "dataset.reset_index(drop=True)"
   ]
  },
  {
   "cell_type": "code",
   "execution_count": 28,
   "id": "fe5e8938",
   "metadata": {},
   "outputs": [
    {
     "data": {
      "text/html": [
       "<div>\n",
       "<style scoped>\n",
       "    .dataframe tbody tr th:only-of-type {\n",
       "        vertical-align: middle;\n",
       "    }\n",
       "\n",
       "    .dataframe tbody tr th {\n",
       "        vertical-align: top;\n",
       "    }\n",
       "\n",
       "    .dataframe thead th {\n",
       "        text-align: right;\n",
       "    }\n",
       "</style>\n",
       "<table border=\"1\" class=\"dataframe\">\n",
       "  <thead>\n",
       "    <tr style=\"text-align: right;\">\n",
       "      <th></th>\n",
       "      <th>country</th>\n",
       "      <th>description</th>\n",
       "      <th>designation</th>\n",
       "      <th>points</th>\n",
       "      <th>price</th>\n",
       "      <th>province</th>\n",
       "      <th>region_1</th>\n",
       "      <th>region_2</th>\n",
       "      <th>variety</th>\n",
       "      <th>winery</th>\n",
       "      <th>taster_name</th>\n",
       "      <th>taster_twitter_handle</th>\n",
       "      <th>title</th>\n",
       "    </tr>\n",
       "  </thead>\n",
       "  <tbody>\n",
       "    <tr>\n",
       "      <th>0</th>\n",
       "      <td>US</td>\n",
       "      <td>This tremendous 100% varietal wine hails from ...</td>\n",
       "      <td>Martha's Vineyard</td>\n",
       "      <td>96</td>\n",
       "      <td>235.0</td>\n",
       "      <td>California</td>\n",
       "      <td>Napa Valley</td>\n",
       "      <td>Napa</td>\n",
       "      <td>Cabernet Sauvignon</td>\n",
       "      <td>Heitz</td>\n",
       "      <td>NaN</td>\n",
       "      <td>NaN</td>\n",
       "      <td>NaN</td>\n",
       "    </tr>\n",
       "    <tr>\n",
       "      <th>1</th>\n",
       "      <td>Spain</td>\n",
       "      <td>Ripe aromas of fig, blackberry and cassis are ...</td>\n",
       "      <td>Carodorum Selección Especial Reserva</td>\n",
       "      <td>96</td>\n",
       "      <td>110.0</td>\n",
       "      <td>Northern Spain</td>\n",
       "      <td>Toro</td>\n",
       "      <td>NaN</td>\n",
       "      <td>Tinta de Toro</td>\n",
       "      <td>Bodega Carmen Rodríguez</td>\n",
       "      <td>NaN</td>\n",
       "      <td>NaN</td>\n",
       "      <td>NaN</td>\n",
       "    </tr>\n",
       "    <tr>\n",
       "      <th>2</th>\n",
       "      <td>US</td>\n",
       "      <td>Mac Watson honors the memory of a wine once ma...</td>\n",
       "      <td>Special Selected Late Harvest</td>\n",
       "      <td>96</td>\n",
       "      <td>90.0</td>\n",
       "      <td>California</td>\n",
       "      <td>Knights Valley</td>\n",
       "      <td>Sonoma</td>\n",
       "      <td>Sauvignon Blanc</td>\n",
       "      <td>Macauley</td>\n",
       "      <td>NaN</td>\n",
       "      <td>NaN</td>\n",
       "      <td>NaN</td>\n",
       "    </tr>\n",
       "    <tr>\n",
       "      <th>3</th>\n",
       "      <td>US</td>\n",
       "      <td>This spent 20 months in 30% new French oak, an...</td>\n",
       "      <td>Reserve</td>\n",
       "      <td>96</td>\n",
       "      <td>65.0</td>\n",
       "      <td>Oregon</td>\n",
       "      <td>Willamette Valley</td>\n",
       "      <td>Willamette Valley</td>\n",
       "      <td>Pinot Noir</td>\n",
       "      <td>Ponzi</td>\n",
       "      <td>NaN</td>\n",
       "      <td>NaN</td>\n",
       "      <td>NaN</td>\n",
       "    </tr>\n",
       "    <tr>\n",
       "      <th>4</th>\n",
       "      <td>France</td>\n",
       "      <td>This is the top wine from La Bégude, named aft...</td>\n",
       "      <td>La Brûlade</td>\n",
       "      <td>95</td>\n",
       "      <td>66.0</td>\n",
       "      <td>Provence</td>\n",
       "      <td>Bandol</td>\n",
       "      <td>NaN</td>\n",
       "      <td>Provence red blend</td>\n",
       "      <td>Domaine de la Bégude</td>\n",
       "      <td>NaN</td>\n",
       "      <td>NaN</td>\n",
       "      <td>NaN</td>\n",
       "    </tr>\n",
       "  </tbody>\n",
       "</table>\n",
       "</div>"
      ],
      "text/plain": [
       "  country                                        description  \\\n",
       "0      US  This tremendous 100% varietal wine hails from ...   \n",
       "1   Spain  Ripe aromas of fig, blackberry and cassis are ...   \n",
       "2      US  Mac Watson honors the memory of a wine once ma...   \n",
       "3      US  This spent 20 months in 30% new French oak, an...   \n",
       "4  France  This is the top wine from La Bégude, named aft...   \n",
       "\n",
       "                            designation  points  price        province  \\\n",
       "0                     Martha's Vineyard      96  235.0      California   \n",
       "1  Carodorum Selección Especial Reserva      96  110.0  Northern Spain   \n",
       "2         Special Selected Late Harvest      96   90.0      California   \n",
       "3                               Reserve      96   65.0          Oregon   \n",
       "4                            La Brûlade      95   66.0        Provence   \n",
       "\n",
       "            region_1           region_2             variety  \\\n",
       "0        Napa Valley               Napa  Cabernet Sauvignon   \n",
       "1               Toro                NaN       Tinta de Toro   \n",
       "2     Knights Valley             Sonoma     Sauvignon Blanc   \n",
       "3  Willamette Valley  Willamette Valley          Pinot Noir   \n",
       "4             Bandol                NaN  Provence red blend   \n",
       "\n",
       "                    winery taster_name taster_twitter_handle title  \n",
       "0                    Heitz         NaN                   NaN   NaN  \n",
       "1  Bodega Carmen Rodríguez         NaN                   NaN   NaN  \n",
       "2                 Macauley         NaN                   NaN   NaN  \n",
       "3                    Ponzi         NaN                   NaN   NaN  \n",
       "4     Domaine de la Bégude         NaN                   NaN   NaN  "
      ]
     },
     "execution_count": 28,
     "metadata": {},
     "output_type": "execute_result"
    }
   ],
   "source": [
    "#Vaatan, mis toimub\n",
    "dataset.head()"
   ]
  },
  {
   "cell_type": "code",
   "execution_count": 80,
   "id": "e609d71e",
   "metadata": {},
   "outputs": [],
   "source": [
    "desc = dataset.description"
   ]
  },
  {
   "cell_type": "code",
   "execution_count": 30,
   "id": "d1e7b380",
   "metadata": {},
   "outputs": [],
   "source": [
    "reviews_lower = [x.lower() for x in desc]"
   ]
  },
  {
   "cell_type": "code",
   "execution_count": 31,
   "id": "75aff43f",
   "metadata": {},
   "outputs": [
    {
     "data": {
      "text/plain": [
       "\"this spent 20 months in 30% new french oak, and incorporates fruit from ponzi's aurora, abetina and madrona vineyards, among others. aromatic, dense and toasty, it deftly blends aromas and flavors of toast, cigar box, blackberry, black cherry, coffee and graphite. tannins are polished to a fine sheen, and frame a finish loaded with dark chocolate and espresso. drink now through 2032.\""
      ]
     },
     "execution_count": 31,
     "metadata": {},
     "output_type": "execute_result"
    }
   ],
   "source": [
    "reviews_lower[3]"
   ]
  },
  {
   "cell_type": "code",
   "execution_count": 32,
   "id": "cb0bad0b",
   "metadata": {},
   "outputs": [],
   "source": [
    "#Puhastan teksti sodist, aga võite vaielda, et äkki ikkagi on vaja mingit tüüpi arve säilitada (nt aastaarvud)\n",
    "cleaned_reviews = [re.sub('[^a-zA-Z]', ' ', x) for x in reviews_lower]\n",
    "cleaned_reviews = [re.sub(r'\\s+', ' ', x) for x in cleaned_reviews]"
   ]
  },
  {
   "cell_type": "code",
   "execution_count": 33,
   "id": "2b2e78c3",
   "metadata": {},
   "outputs": [
    {
     "data": {
      "text/plain": [
       "'this spent months in new french oak and incorporates fruit from ponzi s aurora abetina and madrona vineyards among others aromatic dense and toasty it deftly blends aromas and flavors of toast cigar box blackberry black cherry coffee and graphite tannins are polished to a fine sheen and frame a finish loaded with dark chocolate and espresso drink now through '"
      ]
     },
     "execution_count": 33,
     "metadata": {},
     "output_type": "execute_result"
    }
   ],
   "source": [
    "cleaned_reviews[3]"
   ]
  },
  {
   "cell_type": "code",
   "execution_count": 34,
   "id": "57422739",
   "metadata": {},
   "outputs": [
    {
     "name": "stderr",
     "output_type": "stream",
     "text": [
      "[nltk_data] Downloading package punkt to\n",
      "[nltk_data]     C:\\Users\\velda\\AppData\\Roaming\\nltk_data...\n",
      "[nltk_data]   Package punkt is already up-to-date!\n"
     ]
    }
   ],
   "source": [
    "nltk.download('punkt')\n",
    "reviews = [nltk.sent_tokenize(x.strip()) for x in cleaned_reviews]"
   ]
  },
  {
   "cell_type": "code",
   "execution_count": 35,
   "id": "d78c33bd",
   "metadata": {},
   "outputs": [],
   "source": [
    "reviews = [y for x in reviews for y in x]"
   ]
  },
  {
   "cell_type": "code",
   "execution_count": 36,
   "id": "601c1116",
   "metadata": {},
   "outputs": [
    {
     "data": {
      "text/plain": [
       "'this spent months in new french oak and incorporates fruit from ponzi s aurora abetina and madrona vineyards among others aromatic dense and toasty it deftly blends aromas and flavors of toast cigar box blackberry black cherry coffee and graphite tannins are polished to a fine sheen and frame a finish loaded with dark chocolate and espresso drink now through'"
      ]
     },
     "execution_count": 36,
     "metadata": {},
     "output_type": "execute_result"
    }
   ],
   "source": [
    "reviews[3]"
   ]
  },
  {
   "cell_type": "code",
   "execution_count": 37,
   "id": "4e9a7302",
   "metadata": {},
   "outputs": [],
   "source": [
    "treviews = [nltk.word_tokenize(x) for x in reviews]"
   ]
  },
  {
   "cell_type": "code",
   "execution_count": 38,
   "id": "a3f62aa2",
   "metadata": {},
   "outputs": [
    {
     "name": "stderr",
     "output_type": "stream",
     "text": [
      "[nltk_data] Downloading package wordnet to\n",
      "[nltk_data]     C:\\Users\\velda\\AppData\\Roaming\\nltk_data...\n",
      "[nltk_data]   Package wordnet is already up-to-date!\n",
      "[nltk_data] Downloading package omw-1.4 to\n",
      "[nltk_data]     C:\\Users\\velda\\AppData\\Roaming\\nltk_data...\n",
      "[nltk_data]   Package omw-1.4 is already up-to-date!\n"
     ]
    }
   ],
   "source": [
    "nltk.download('wordnet')\n",
    "nltk.download('omw-1.4')\n",
    "for i in range(len(treviews)):\n",
    "    treviews[i] = [lemmatizer.lemmatize(w) for w in treviews[i] if w not in stop_words and len(w) > 1]\n",
    "    # words[i] = [w for w in words[i] if w not in stop_words]\n",
    "# words = [[w for w in words[i] if w not in stop_words] for i in range(len(words))]"
   ]
  },
  {
   "cell_type": "code",
   "execution_count": 39,
   "id": "a9875981",
   "metadata": {},
   "outputs": [
    {
     "data": {
      "text/plain": [
       "['spent',\n",
       " 'month',\n",
       " 'new',\n",
       " 'french',\n",
       " 'oak',\n",
       " 'incorporates',\n",
       " 'fruit',\n",
       " 'ponzi',\n",
       " 'aurora',\n",
       " 'abetina',\n",
       " 'madrona',\n",
       " 'vineyard',\n",
       " 'among',\n",
       " 'others',\n",
       " 'aromatic',\n",
       " 'dense',\n",
       " 'toasty',\n",
       " 'deftly',\n",
       " 'blend',\n",
       " 'aroma',\n",
       " 'flavor',\n",
       " 'toast',\n",
       " 'cigar',\n",
       " 'box',\n",
       " 'blackberry',\n",
       " 'black',\n",
       " 'cherry',\n",
       " 'coffee',\n",
       " 'graphite',\n",
       " 'tannin',\n",
       " 'polished',\n",
       " 'fine',\n",
       " 'sheen',\n",
       " 'frame',\n",
       " 'finish',\n",
       " 'loaded',\n",
       " 'dark',\n",
       " 'chocolate',\n",
       " 'espresso',\n",
       " 'drink']"
      ]
     },
     "execution_count": 39,
     "metadata": {},
     "output_type": "execute_result"
    }
   ],
   "source": [
    "#Põhimõtteliselt on korpus valmis\n",
    "treviews[3]"
   ]
  },
  {
   "cell_type": "code",
   "execution_count": 34,
   "id": "0d148b67",
   "metadata": {},
   "outputs": [],
   "source": [
    "# model = gensim.models.Word2Vec(words, vector_size = 200 , window = 4 , min_count = 1,\n",
    "#                                seed = 1000, hs = 0, negative = 10,workers=16, epochs = 25)\n",
    "model = gensim.models.FastText(treviews, vector_size = 200 , window = 4 , min_count = 1,\n",
    "                               seed = 1000, hs = 0, negative = 10,workers=16, epochs = 25)"
   ]
  },
  {
   "cell_type": "code",
   "execution_count": 35,
   "id": "6db35286",
   "metadata": {},
   "outputs": [],
   "source": [
    "model.save(\"fastText.model\")"
   ]
  },
  {
   "cell_type": "code",
   "execution_count": 15,
   "id": "94a1980a",
   "metadata": {},
   "outputs": [],
   "source": []
  },
  {
   "cell_type": "code",
   "execution_count": 16,
   "id": "7013ee75",
   "metadata": {},
   "outputs": [
    {
     "data": {
      "text/plain": [
       "[('sweeet', 0.9069340229034424),\n",
       " ('sweetbut', 0.8767389059066772),\n",
       " ('sweety', 0.8728753924369812),\n",
       " ('sweex', 0.8408980369567871),\n",
       " ('sweetshop', 0.8216612935066223),\n",
       " ('sweetzer', 0.8140934109687805),\n",
       " ('sweetish', 0.7818064093589783),\n",
       " ('sweetie', 0.7765190005302429),\n",
       " ('ultrasweet', 0.7725462317466736),\n",
       " ('sweetnees', 0.7623400092124939)]"
      ]
     },
     "execution_count": 16,
     "metadata": {},
     "output_type": "execute_result"
    }
   ],
   "source": [
    "#Kümme kõige lähedasemat sõna sõnale \"magus\"\n",
    "model.wv.most_similar('sweet')"
   ]
  },
  {
   "cell_type": "code",
   "execution_count": 17,
   "id": "a406a059",
   "metadata": {},
   "outputs": [
    {
     "data": {
      "text/plain": [
       "[('dryly', 0.7381603121757507),\n",
       " ('nedry', 0.7218671441078186),\n",
       " ('tawdry', 0.7116608023643494),\n",
       " ('drysack', 0.6919692158699036),\n",
       " ('dryer', 0.6762170791625977),\n",
       " ('wizardry', 0.6171467900276184),\n",
       " ('ultradry', 0.6101483702659607),\n",
       " ('dryish', 0.5918757319450378),\n",
       " ('drylands', 0.58421790599823),\n",
       " ('laundry', 0.5464594960212708)]"
      ]
     },
     "execution_count": 17,
     "metadata": {},
     "output_type": "execute_result"
    }
   ],
   "source": [
    "#Kümme kõige lähedasemat sõna sõnale \"kuiv\"\n",
    "model.wv.most_similar('dry')"
   ]
  },
  {
   "cell_type": "markdown",
   "id": "c68c7082",
   "metadata": {},
   "source": [
    "Päris asjani on tükk maad veel. Mu arust võiks jõuda selleni, et saaks veinisoovitusi nii karakterit kirjeldavate märksõnade kui veininime järgi (ehk mis veinid oleksid konkreetsele veinile kõige sarnasemad). Word2veci saab ära kasutada selles mõttes, et märksõna järgi otsides ei pea istuma me kinni ühe kindla sõna küljes (nt kui otsime kuiva veini, siis me ei saa vastu ainult neid, mille kirjelduses on konkreetselt sõna \"kuiv\"), vaid saame võtta arvesse ka selle sünonüüme/semantiliselt lähedasi sõnu. Siinse katsetuse põhjal saame ehk algatada arutelu?"
   ]
  },
  {
   "cell_type": "code",
   "execution_count": 78,
   "id": "e30ecc7d",
   "metadata": {},
   "outputs": [
    {
     "data": {
      "text/html": [
       "<div>\n",
       "<style scoped>\n",
       "    .dataframe tbody tr th:only-of-type {\n",
       "        vertical-align: middle;\n",
       "    }\n",
       "\n",
       "    .dataframe tbody tr th {\n",
       "        vertical-align: top;\n",
       "    }\n",
       "\n",
       "    .dataframe thead th {\n",
       "        text-align: right;\n",
       "    }\n",
       "</style>\n",
       "<table border=\"1\" class=\"dataframe\">\n",
       "  <thead>\n",
       "    <tr style=\"text-align: right;\">\n",
       "      <th></th>\n",
       "      <th>variety</th>\n",
       "      <th>country</th>\n",
       "      <th>province</th>\n",
       "      <th>points</th>\n",
       "      <th>price</th>\n",
       "      <th>review</th>\n",
       "    </tr>\n",
       "  </thead>\n",
       "  <tbody>\n",
       "    <tr>\n",
       "      <th>0</th>\n",
       "      <td>Cabernet Sauvignon</td>\n",
       "      <td>US</td>\n",
       "      <td>California</td>\n",
       "      <td>96</td>\n",
       "      <td>235.0</td>\n",
       "      <td>[tremendous, varietal, wine, hail, oakville, a...</td>\n",
       "    </tr>\n",
       "    <tr>\n",
       "      <th>1</th>\n",
       "      <td>Tinta de Toro</td>\n",
       "      <td>Spain</td>\n",
       "      <td>Northern Spain</td>\n",
       "      <td>96</td>\n",
       "      <td>110.0</td>\n",
       "      <td>[ripe, aroma, fig, blackberry, cassis, softene...</td>\n",
       "    </tr>\n",
       "    <tr>\n",
       "      <th>2</th>\n",
       "      <td>Sauvignon Blanc</td>\n",
       "      <td>US</td>\n",
       "      <td>California</td>\n",
       "      <td>96</td>\n",
       "      <td>90.0</td>\n",
       "      <td>[mac, watson, honor, memory, wine, made, mothe...</td>\n",
       "    </tr>\n",
       "    <tr>\n",
       "      <th>3</th>\n",
       "      <td>Pinot Noir</td>\n",
       "      <td>US</td>\n",
       "      <td>Oregon</td>\n",
       "      <td>96</td>\n",
       "      <td>65.0</td>\n",
       "      <td>[spent, month, new, french, oak, incorporates,...</td>\n",
       "    </tr>\n",
       "    <tr>\n",
       "      <th>4</th>\n",
       "      <td>Provence red blend</td>\n",
       "      <td>France</td>\n",
       "      <td>Provence</td>\n",
       "      <td>95</td>\n",
       "      <td>66.0</td>\n",
       "      <td>[top, wine, la, gude, named, highest, point, v...</td>\n",
       "    </tr>\n",
       "    <tr>\n",
       "      <th>...</th>\n",
       "      <td>...</td>\n",
       "      <td>...</td>\n",
       "      <td>...</td>\n",
       "      <td>...</td>\n",
       "      <td>...</td>\n",
       "      <td>...</td>\n",
       "    </tr>\n",
       "    <tr>\n",
       "      <th>74995</th>\n",
       "      <td>Grüner Veltliner</td>\n",
       "      <td>Austria</td>\n",
       "      <td>Kremstal</td>\n",
       "      <td>88</td>\n",
       "      <td>14.0</td>\n",
       "      <td>[slight, aromatic, lift, nose, turn, pear, fru...</td>\n",
       "    </tr>\n",
       "    <tr>\n",
       "      <th>74996</th>\n",
       "      <td>Pinot Gris</td>\n",
       "      <td>New Zealand</td>\n",
       "      <td>Marlborough</td>\n",
       "      <td>88</td>\n",
       "      <td>15.0</td>\n",
       "      <td>[plump, dry, style, pinot, gris, feature, plen...</td>\n",
       "    </tr>\n",
       "    <tr>\n",
       "      <th>74997</th>\n",
       "      <td>Red Blend</td>\n",
       "      <td>Italy</td>\n",
       "      <td>Tuscany</td>\n",
       "      <td>88</td>\n",
       "      <td>22.0</td>\n",
       "      <td>[made, sangiovese, syrah, aroma, red, berry, g...</td>\n",
       "    </tr>\n",
       "    <tr>\n",
       "      <th>74998</th>\n",
       "      <td>Syrah</td>\n",
       "      <td>US</td>\n",
       "      <td>Idaho</td>\n",
       "      <td>88</td>\n",
       "      <td>30.0</td>\n",
       "      <td>[one, first, bottle, bear, name, new, growing,...</td>\n",
       "    </tr>\n",
       "    <tr>\n",
       "      <th>74999</th>\n",
       "      <td>Syrah</td>\n",
       "      <td>US</td>\n",
       "      <td>Washington</td>\n",
       "      <td>88</td>\n",
       "      <td>18.0</td>\n",
       "      <td>[aroma, quite, light, purple, fruit, flavor, s...</td>\n",
       "    </tr>\n",
       "  </tbody>\n",
       "</table>\n",
       "<p>225930 rows × 6 columns</p>\n",
       "</div>"
      ],
      "text/plain": [
       "                  variety      country        province  points  price  \\\n",
       "0      Cabernet Sauvignon           US      California      96  235.0   \n",
       "1           Tinta de Toro        Spain  Northern Spain      96  110.0   \n",
       "2         Sauvignon Blanc           US      California      96   90.0   \n",
       "3              Pinot Noir           US          Oregon      96   65.0   \n",
       "4      Provence red blend       France        Provence      95   66.0   \n",
       "...                   ...          ...             ...     ...    ...   \n",
       "74995    Grüner Veltliner      Austria        Kremstal      88   14.0   \n",
       "74996          Pinot Gris  New Zealand     Marlborough      88   15.0   \n",
       "74997           Red Blend        Italy         Tuscany      88   22.0   \n",
       "74998               Syrah           US           Idaho      88   30.0   \n",
       "74999               Syrah           US      Washington      88   18.0   \n",
       "\n",
       "                                                  review  \n",
       "0      [tremendous, varietal, wine, hail, oakville, a...  \n",
       "1      [ripe, aroma, fig, blackberry, cassis, softene...  \n",
       "2      [mac, watson, honor, memory, wine, made, mothe...  \n",
       "3      [spent, month, new, french, oak, incorporates,...  \n",
       "4      [top, wine, la, gude, named, highest, point, v...  \n",
       "...                                                  ...  \n",
       "74995  [slight, aromatic, lift, nose, turn, pear, fru...  \n",
       "74996  [plump, dry, style, pinot, gris, feature, plen...  \n",
       "74997  [made, sangiovese, syrah, aroma, red, berry, g...  \n",
       "74998  [one, first, bottle, bear, name, new, growing,...  \n",
       "74999  [aroma, quite, light, purple, fruit, flavor, s...  \n",
       "\n",
       "[225930 rows x 6 columns]"
      ]
     },
     "execution_count": 78,
     "metadata": {},
     "output_type": "execute_result"
    }
   ],
   "source": [
    "data = dataset.loc[:,  \n",
    "\n",
    "               [\"variety\",\"country\",\"province\",\"points\",\"price\"]]\n",
    "\n",
    "data['review']=treviews\n",
    "data"
   ]
  },
  {
   "cell_type": "code",
   "execution_count": 81,
   "id": "467a5dcc",
   "metadata": {},
   "outputs": [
    {
     "data": {
      "text/html": [
       "<div>\n",
       "<style scoped>\n",
       "    .dataframe tbody tr th:only-of-type {\n",
       "        vertical-align: middle;\n",
       "    }\n",
       "\n",
       "    .dataframe tbody tr th {\n",
       "        vertical-align: top;\n",
       "    }\n",
       "\n",
       "    .dataframe thead th {\n",
       "        text-align: right;\n",
       "    }\n",
       "</style>\n",
       "<table border=\"1\" class=\"dataframe\">\n",
       "  <thead>\n",
       "    <tr style=\"text-align: right;\">\n",
       "      <th></th>\n",
       "      <th>variety</th>\n",
       "      <th>country</th>\n",
       "      <th>province</th>\n",
       "      <th>points</th>\n",
       "      <th>price</th>\n",
       "      <th>review</th>\n",
       "    </tr>\n",
       "  </thead>\n",
       "  <tbody>\n",
       "    <tr>\n",
       "      <th>30320</th>\n",
       "      <td>Bordeaux-style Red Blend</td>\n",
       "      <td>France</td>\n",
       "      <td>Bordeaux</td>\n",
       "      <td>85</td>\n",
       "      <td>10.0</td>\n",
       "      <td>[bright, lightly, smoked, red, currant, berry,...</td>\n",
       "    </tr>\n",
       "    <tr>\n",
       "      <th>52170</th>\n",
       "      <td>Nebbiolo</td>\n",
       "      <td>Italy</td>\n",
       "      <td>Piedmont</td>\n",
       "      <td>90</td>\n",
       "      <td>60.0</td>\n",
       "      <td>[traditionally, crafted, single, vineyard, bar...</td>\n",
       "    </tr>\n",
       "    <tr>\n",
       "      <th>121791</th>\n",
       "      <td>Cabernet Sauvignon</td>\n",
       "      <td>Chile</td>\n",
       "      <td>Maipo Valley</td>\n",
       "      <td>88</td>\n",
       "      <td>20.0</td>\n",
       "      <td>[spiced, gumdrop, rooty, sweetness, carry, mas...</td>\n",
       "    </tr>\n",
       "    <tr>\n",
       "      <th>105463</th>\n",
       "      <td>Muscat</td>\n",
       "      <td>US</td>\n",
       "      <td>California</td>\n",
       "      <td>90</td>\n",
       "      <td>16.0</td>\n",
       "      <td>[dessert, wine, pleasurable, one, sweet, sweet...</td>\n",
       "    </tr>\n",
       "    <tr>\n",
       "      <th>26767</th>\n",
       "      <td>Nebbiolo</td>\n",
       "      <td>Italy</td>\n",
       "      <td>Piedmont</td>\n",
       "      <td>92</td>\n",
       "      <td>NaN</td>\n",
       "      <td>[bright, lively, base, barolo, bric, cenciurio...</td>\n",
       "    </tr>\n",
       "    <tr>\n",
       "      <th>...</th>\n",
       "      <td>...</td>\n",
       "      <td>...</td>\n",
       "      <td>...</td>\n",
       "      <td>...</td>\n",
       "      <td>...</td>\n",
       "      <td>...</td>\n",
       "    </tr>\n",
       "    <tr>\n",
       "      <th>44497</th>\n",
       "      <td>Verdicchio</td>\n",
       "      <td>Italy</td>\n",
       "      <td>Central Italy</td>\n",
       "      <td>88</td>\n",
       "      <td>19.0</td>\n",
       "      <td>[delicately, scented, open, subtle, aroma, yel...</td>\n",
       "    </tr>\n",
       "    <tr>\n",
       "      <th>124860</th>\n",
       "      <td>Tempranillo Blend</td>\n",
       "      <td>Spain</td>\n",
       "      <td>Northern Spain</td>\n",
       "      <td>90</td>\n",
       "      <td>64.0</td>\n",
       "      <td>[jammy, sweet, smelling, intensity, lot, ripen...</td>\n",
       "    </tr>\n",
       "    <tr>\n",
       "      <th>5085</th>\n",
       "      <td>Morava</td>\n",
       "      <td>Serbia</td>\n",
       "      <td>Pocerina</td>\n",
       "      <td>87</td>\n",
       "      <td>26.0</td>\n",
       "      <td>[white, wine, serbia, aroma, caramelized, pine...</td>\n",
       "    </tr>\n",
       "    <tr>\n",
       "      <th>14518</th>\n",
       "      <td>Red Blend</td>\n",
       "      <td>US</td>\n",
       "      <td>California</td>\n",
       "      <td>88</td>\n",
       "      <td>26.0</td>\n",
       "      <td>[grape, blackberry, aroma, flavor, drench, ful...</td>\n",
       "    </tr>\n",
       "    <tr>\n",
       "      <th>132997</th>\n",
       "      <td>Corvina, Rondinella, Molinara</td>\n",
       "      <td>Italy</td>\n",
       "      <td>Veneto</td>\n",
       "      <td>86</td>\n",
       "      <td>83.0</td>\n",
       "      <td>[although, deeply, extracted, wine, dense, con...</td>\n",
       "    </tr>\n",
       "  </tbody>\n",
       "</table>\n",
       "<p>225930 rows × 6 columns</p>\n",
       "</div>"
      ],
      "text/plain": [
       "                              variety country        province  points  price  \\\n",
       "30320        Bordeaux-style Red Blend  France        Bordeaux      85   10.0   \n",
       "52170                        Nebbiolo   Italy        Piedmont      90   60.0   \n",
       "121791             Cabernet Sauvignon   Chile    Maipo Valley      88   20.0   \n",
       "105463                         Muscat      US      California      90   16.0   \n",
       "26767                        Nebbiolo   Italy        Piedmont      92    NaN   \n",
       "...                               ...     ...             ...     ...    ...   \n",
       "44497                      Verdicchio   Italy   Central Italy      88   19.0   \n",
       "124860              Tempranillo Blend   Spain  Northern Spain      90   64.0   \n",
       "5085                           Morava  Serbia        Pocerina      87   26.0   \n",
       "14518                       Red Blend      US      California      88   26.0   \n",
       "132997  Corvina, Rondinella, Molinara   Italy          Veneto      86   83.0   \n",
       "\n",
       "                                                   review  \n",
       "30320   [bright, lightly, smoked, red, currant, berry,...  \n",
       "52170   [traditionally, crafted, single, vineyard, bar...  \n",
       "121791  [spiced, gumdrop, rooty, sweetness, carry, mas...  \n",
       "105463  [dessert, wine, pleasurable, one, sweet, sweet...  \n",
       "26767   [bright, lively, base, barolo, bric, cenciurio...  \n",
       "...                                                   ...  \n",
       "44497   [delicately, scented, open, subtle, aroma, yel...  \n",
       "124860  [jammy, sweet, smelling, intensity, lot, ripen...  \n",
       "5085    [white, wine, serbia, aroma, caramelized, pine...  \n",
       "14518   [grape, blackberry, aroma, flavor, drench, ful...  \n",
       "132997  [although, deeply, extracted, wine, dense, con...  \n",
       "\n",
       "[225930 rows x 6 columns]"
      ]
     },
     "execution_count": 81,
     "metadata": {},
     "output_type": "execute_result"
    }
   ],
   "source": [
    "data = data.sample(frac = 1) # shuffle the data\n",
    "data"
   ]
  },
  {
   "cell_type": "code",
   "execution_count": 82,
   "id": "15ea6b99",
   "metadata": {},
   "outputs": [
    {
     "data": {
      "text/plain": [
       "(225930, 2)"
      ]
     },
     "execution_count": 82,
     "metadata": {},
     "output_type": "execute_result"
    }
   ],
   "source": [
    "dvariety = data.loc[:,[\"variety\",\"review\"]]\n",
    "dvariety.shape"
   ]
  },
  {
   "cell_type": "code",
   "execution_count": 90,
   "id": "91bcac0b",
   "metadata": {},
   "outputs": [
    {
     "name": "stdout",
     "output_type": "stream",
     "text": [
      "Number of grape varieties 720\n"
     ]
    }
   ],
   "source": [
    "print('Number of grape varieties',data['variety'].nunique())"
   ]
  },
  {
   "cell_type": "code",
   "execution_count": 92,
   "id": "db32922a",
   "metadata": {},
   "outputs": [
    {
     "data": {
      "text/plain": [
       "numpy.ndarray"
      ]
     },
     "execution_count": 92,
     "metadata": {},
     "output_type": "execute_result"
    }
   ],
   "source": [
    "nvariety = pd.Series(dvariety['variety']).to_numpy()\n",
    "type(nvariety)"
   ]
  },
  {
   "cell_type": "code",
   "execution_count": 93,
   "id": "0f37107e",
   "metadata": {},
   "outputs": [
    {
     "data": {
      "text/plain": [
       "numpy.ndarray"
      ]
     },
     "execution_count": 93,
     "metadata": {},
     "output_type": "execute_result"
    }
   ],
   "source": [
    "nreviews = pd.Series(dvariety['review']).to_numpy()\n",
    "type(nreviews)"
   ]
  },
  {
   "cell_type": "code",
   "execution_count": 94,
   "id": "ed7530c9",
   "metadata": {},
   "outputs": [
    {
     "data": {
      "text/plain": [
       "dtype('<U35')"
      ]
     },
     "execution_count": 94,
     "metadata": {},
     "output_type": "execute_result"
    }
   ],
   "source": [
    "nvariety= nvariety.astype(str)\n",
    "nvariety.dtype"
   ]
  },
  {
   "cell_type": "code",
   "execution_count": 95,
   "id": "8d5c1537",
   "metadata": {},
   "outputs": [
    {
     "data": {
      "text/plain": [
       "<AxesSubplot:ylabel='count'>"
      ]
     },
     "execution_count": 95,
     "metadata": {},
     "output_type": "execute_result"
    },
    {
     "data": {
      "image/png": "[encoded data removed]",
      "text/plain": [
       "<Figure size 640x480 with 1 Axes>"
      ]
     },
     "metadata": {},
     "output_type": "display_data"
    }
   ],
   "source": [
    "countplot(x=nvariety)"
   ]
  },
  {
   "cell_type": "code",
   "execution_count": 96,
   "id": "7944ec89",
   "metadata": {},
   "outputs": [
    {
     "data": {
      "text/plain": [
       "(2000,)"
      ]
     },
     "execution_count": 96,
     "metadata": {},
     "output_type": "execute_result"
    }
   ],
   "source": [
    "train_data= nreviews[:2000]\n",
    "train_labels= nvariety[:2000]\n",
    "test_data= nreviews[2000:3000]\n",
    "test_labels= nvariety[2000:3000]\n",
    "train_data.shape"
   ]
  },
  {
   "cell_type": "code",
   "execution_count": null,
   "id": "c7df4dfa",
   "metadata": {},
   "outputs": [],
   "source": [
    "labellist= data['variety'].unique()\n",
    "labellist"
   ]
  },
  {
   "cell_type": "code",
   "execution_count": null,
   "id": "17083521",
   "metadata": {},
   "outputs": [],
   "source": [
    "from random import randint\n",
    "predictions=[]\n",
    "for i in range(len(test_labels)):\n",
    "    predictions.append(labellist[randint(0,719)])\n",
    "predictions"
   ]
  },
  {
   "cell_type": "code",
   "execution_count": 124,
   "id": "042b3dce",
   "metadata": {},
   "outputs": [
    {
     "data": {
      "text/plain": [
       "0.004"
      ]
     },
     "execution_count": 124,
     "metadata": {},
     "output_type": "execute_result"
    }
   ],
   "source": [
    "# random classifier accuracy\n",
    "accuracy = np.mean(test_labels==predictions, dtype=np.float64)\n",
    "accuracy"
   ]
  },
  {
   "cell_type": "code",
   "execution_count": 125,
   "id": "c778e604",
   "metadata": {},
   "outputs": [
    {
     "data": {
      "text/plain": [
       "0.096"
      ]
     },
     "execution_count": 125,
     "metadata": {},
     "output_type": "execute_result"
    }
   ],
   "source": [
    "# majority class classifier accuracy\n",
    "accuracy = np.mean(test_labels==\"Pinot Noir\", dtype=np.float64\n",
    "accuracy"
   ]
  },
  {
   "cell_type": "code",
   "execution_count": 97,
   "id": "c707fddf",
   "metadata": {},
   "outputs": [
    {
     "data": {
      "text/plain": [
       "<AxesSubplot:ylabel='count'>"
      ]
     },
     "execution_count": 97,
     "metadata": {},
     "output_type": "execute_result"
    },
    {
     "data": {
      "image/png": "[encoded data removed]",
      "text/plain": [
       "<Figure size 640x480 with 1 Axes>"
      ]
     },
     "metadata": {},
     "output_type": "display_data"
    }
   ],
   "source": [
    "countplot(x=train_labels)"
   ]
  },
  {
   "cell_type": "code",
   "execution_count": 56,
   "id": "c8d55a0f",
   "metadata": {},
   "outputs": [
    {
     "data": {
      "text/plain": [
       "0.14413991085135688"
      ]
     },
     "execution_count": 56,
     "metadata": {},
     "output_type": "execute_result"
    }
   ],
   "source": [
    "dist(reviews[0], reviews[1])"
   ]
  },
  {
   "cell_type": "code",
   "execution_count": 57,
   "id": "23d27219",
   "metadata": {},
   "outputs": [],
   "source": [
    "test_review = test_data[1] \n",
    "test_label = test_labels[1]"
   ]
  },
  {
   "cell_type": "code",
   "execution_count": 67,
   "id": "ef21c66f",
   "metadata": {},
   "outputs": [],
   "source": [
    "predicted_label = classify(test_review,6)"
   ]
  },
  {
   "cell_type": "code",
   "execution_count": 68,
   "id": "8d9ae73a",
   "metadata": {},
   "outputs": [
    {
     "name": "stdout",
     "output_type": "stream",
     "text": [
      "Predicted variety for the first wine is Portuguese Red and the true label is Bordeaux-style Red Blend\n"
     ]
    }
   ],
   "source": [
    "print(f\"Predicted variety for the first wine is {predicted_label} and the true label is {test_label}\")"
   ]
  },
  {
   "cell_type": "code",
   "execution_count": 69,
   "id": "00a2c04c",
   "metadata": {},
   "outputs": [],
   "source": [
    "test_predicted_n9 = [classify(test_review,9) for test_review in test_data]"
   ]
  },
  {
   "cell_type": "code",
   "execution_count": 70,
   "id": "02162173",
   "metadata": {},
   "outputs": [
    {
     "name": "stdout",
     "output_type": "stream",
     "text": [
      "0.378\n"
     ]
    }
   ],
   "source": [
    "n_correct_k9 = np.sum(test_labels == test_predicted_n9, dtype=object)\n",
    "accuracy_k9 = n_correct_k9/len(test_labels)\n",
    "print(accuracy_k9)\n",
    "#Accuracy of the Word Mover's Distance classifier, k=9, in predicting the grape variety (FastText)"
   ]
  },
  {
   "cell_type": "markdown",
   "id": "2a99a51f",
   "metadata": {},
   "source": [
    "# Now I will try for only the most frequent labels"
   ]
  },
  {
   "cell_type": "code",
   "execution_count": 166,
   "id": "ec4aac81",
   "metadata": {},
   "outputs": [
    {
     "data": {
      "text/html": [
       "<div>\n",
       "<style scoped>\n",
       "    .dataframe tbody tr th:only-of-type {\n",
       "        vertical-align: middle;\n",
       "    }\n",
       "\n",
       "    .dataframe tbody tr th {\n",
       "        vertical-align: top;\n",
       "    }\n",
       "\n",
       "    .dataframe thead th {\n",
       "        text-align: right;\n",
       "    }\n",
       "</style>\n",
       "<table border=\"1\" class=\"dataframe\">\n",
       "  <thead>\n",
       "    <tr style=\"text-align: right;\">\n",
       "      <th></th>\n",
       "      <th>variety</th>\n",
       "      <th>review</th>\n",
       "    </tr>\n",
       "  </thead>\n",
       "  <tbody>\n",
       "    <tr>\n",
       "      <th>0</th>\n",
       "      <td>Pinot Noir</td>\n",
       "      <td>21910</td>\n",
       "    </tr>\n",
       "    <tr>\n",
       "      <th>1</th>\n",
       "      <td>Chardonnay</td>\n",
       "      <td>21167</td>\n",
       "    </tr>\n",
       "    <tr>\n",
       "      <th>2</th>\n",
       "      <td>Cabernet Sauvignon</td>\n",
       "      <td>18227</td>\n",
       "    </tr>\n",
       "    <tr>\n",
       "      <th>3</th>\n",
       "      <td>Red Blend</td>\n",
       "      <td>15269</td>\n",
       "    </tr>\n",
       "    <tr>\n",
       "      <th>4</th>\n",
       "      <td>Bordeaux-style Red Blend</td>\n",
       "      <td>11351</td>\n",
       "    </tr>\n",
       "    <tr>\n",
       "      <th>...</th>\n",
       "      <td>...</td>\n",
       "      <td>...</td>\n",
       "    </tr>\n",
       "    <tr>\n",
       "      <th>715</th>\n",
       "      <td>Moschofilero-Chardonnay</td>\n",
       "      <td>1</td>\n",
       "    </tr>\n",
       "    <tr>\n",
       "      <th>716</th>\n",
       "      <td>Gros Plant</td>\n",
       "      <td>1</td>\n",
       "    </tr>\n",
       "    <tr>\n",
       "      <th>717</th>\n",
       "      <td>Huxelrebe</td>\n",
       "      <td>1</td>\n",
       "    </tr>\n",
       "    <tr>\n",
       "      <th>718</th>\n",
       "      <td>Moscato di Noto</td>\n",
       "      <td>1</td>\n",
       "    </tr>\n",
       "    <tr>\n",
       "      <th>719</th>\n",
       "      <td>Abouriou</td>\n",
       "      <td>1</td>\n",
       "    </tr>\n",
       "  </tbody>\n",
       "</table>\n",
       "<p>720 rows × 2 columns</p>\n",
       "</div>"
      ],
      "text/plain": [
       "                      variety  review\n",
       "0                  Pinot Noir   21910\n",
       "1                  Chardonnay   21167\n",
       "2          Cabernet Sauvignon   18227\n",
       "3                   Red Blend   15269\n",
       "4    Bordeaux-style Red Blend   11351\n",
       "..                        ...     ...\n",
       "715   Moschofilero-Chardonnay       1\n",
       "716                Gros Plant       1\n",
       "717                 Huxelrebe       1\n",
       "718           Moscato di Noto       1\n",
       "719                  Abouriou       1\n",
       "\n",
       "[720 rows x 2 columns]"
      ]
     },
     "execution_count": 166,
     "metadata": {},
     "output_type": "execute_result"
    }
   ],
   "source": [
    "filtered= dvariety.pivot_table(index= \"variety\", values=\"review\", aggfunc=\"count\")\n",
    "filtered= filtered.sort_values(by=['review'], ascending=False)\n",
    "filtered=filtered.reset_index()\n",
    "filtered"
   ]
  },
  {
   "cell_type": "code",
   "execution_count": 167,
   "id": "9dd3bf2b",
   "metadata": {},
   "outputs": [
    {
     "name": "stdout",
     "output_type": "stream",
     "text": [
      "                                 variety  review\n",
      "0                             Pinot Noir   21910\n",
      "1                             Chardonnay   21167\n",
      "2                     Cabernet Sauvignon   18227\n",
      "3                              Red Blend   15269\n",
      "4               Bordeaux-style Red Blend   11351\n",
      "5                        Sauvignon Blanc    9232\n",
      "6                               Riesling    8468\n",
      "7                                  Syrah    8155\n",
      "8                                 Merlot    6853\n",
      "9                              Zinfandel    5356\n",
      "10                            Sangiovese    4959\n",
      "11                                  Rosé    4815\n",
      "12                                Malbec    4714\n",
      "13                           White Blend    4200\n",
      "14                              Nebbiolo    3853\n",
      "15                        Portuguese Red    3636\n",
      "16                           Tempranillo    3574\n",
      "17                       Sparkling Blend    3269\n",
      "18                                Shiraz    2423\n",
      "19                 Rhône-style Red Blend    2354\n",
      "20                            Pinot Gris    2207\n",
      "21                        Cabernet Franc    2162\n",
      "22                       Champagne Blend    2076\n",
      "23         Corvina, Rondinella, Molinara    2023\n",
      "24            Bordeaux-style White Blend    1911\n",
      "25                          Pinot Grigio    1910\n",
      "26                              Viognier    1850\n",
      "27                      Grüner Veltliner    1796\n",
      "28                     Sangiovese Grosso    1796\n",
      "29                               Barbera    1793\n",
      "30                      Portuguese White    1628\n",
      "31                        Gewürztraminer    1546\n",
      "32                                  Port    1472\n",
      "33                          Petite Sirah    1351\n",
      "34                                 Gamay    1179\n",
      "35                          Chenin Blanc    1108\n",
      "36                     Tempranillo Blend    1103\n",
      "37                             Carmenère    1093\n",
      "38                                 Glera    1047\n",
      "39                              Grenache     992\n",
      "40                              Albariño     799\n",
      "41                              Prosecco     756\n",
      "42                           Pinot Blanc     733\n",
      "43                          Nero d'Avola     671\n",
      "44               Rhône-style White Blend     645\n",
      "45                               Moscato     628\n",
      "46                              Garnacha     581\n",
      "47                             Garganega     570\n",
      "48                             Aglianico     529\n",
      "49                             Torrontés     510\n",
      "50                               Verdejo     495\n",
      "51                              Meritage     476\n",
      "52                              Dolcetto     463\n",
      "53                         Montepulciano     460\n",
      "54                             Sauvignon     444\n",
      "55                             Primitivo     415\n",
      "56                            Vermentino     370\n",
      "57                         Blaufränkisch     357\n",
      "58                        Cabernet Blend     353\n",
      "59                          Petit Verdot     351\n",
      "60                         Tinta de Toro     312\n",
      "61             Cabernet Sauvignon-Merlot     310\n",
      "62                              Zweigelt     310\n",
      "63                              Sémillon     305\n",
      "64                      Touriga Nacional     304\n",
      "65                             Mourvèdre     303\n",
      "66                             Roussanne     286\n",
      "67                              Pinotage     279\n",
      "68                                 G-S-M     263\n",
      "69                                 Melon     250\n",
      "70                                Muscat     244\n",
      "71                                 Fiano     243\n",
      "72                                Mencía     242\n",
      "73                            Pinot Nero     240\n",
      "74                            Monastrell     237\n",
      "75                                Tannat     236\n",
      "76                                Grillo     224\n",
      "77                          Pinot Bianco     215\n",
      "78                              Friulano     214\n",
      "79              Cabernet Sauvignon-Syrah     210\n",
      "80                               Bonarda     209\n",
      "81                            Sagrantino     180\n",
      "82                                 Viura     179\n",
      "83                              Turbiana     169\n",
      "84                             Alvarinho     168\n",
      "85                                 Greco     167\n",
      "86                              Marsanne     162\n",
      "87                           Agiorgitiko     160\n",
      "88                                Sherry     159\n",
      "89                     Nerello Mascalese     156\n",
      "90                            Fumé Blanc     155\n",
      "91                         Malbec-Merlot     153\n",
      "92                        Grenache Blanc     153\n",
      "93                           St. Laurent     148\n",
      "94                             Vernaccia     145\n",
      "95                               Godello     143\n",
      "96                            Falanghina     140\n",
      "97                            Verdicchio     137\n",
      "98                            Negroamaro     132\n",
      "99                               Cortese     129\n",
      "100                           Tinto Fino     129\n",
      "101            Shiraz-Cabernet Sauvignon     125\n",
      "102                     Prugnolo Gentile     121\n",
      "103                       Ribolla Gialla     120\n",
      "104       Tempranillo-Cabernet Sauvignon     119\n",
      "105                               Arinto     118\n",
      "106             Semillon-Sauvignon Blanc     118\n",
      "107                               Arneis     115\n",
      "108                      Shiraz-Viognier     113\n",
      "109                             Carignan     111\n",
      "110             Sauvignon Blanc-Semillon     108\n",
      "111                             Verdelho     107\n",
      "112            Merlot-Cabernet Sauvignon     102\n",
      "113                   Austrian Red Blend     102\n",
      "114            Cabernet Sauvignon-Shiraz     101\n",
      "115                 Portuguese Sparkling      99\n",
      "116                       Tinto del Pais      94\n",
      "117                            Assyrtico      94\n",
      "118                  Chardonnay-Viognier      92\n",
      "119                        Spätburgunder      91\n",
      "120                               Rosato      90\n",
      "121                       Grenache-Syrah      90\n",
      "122                            Lambrusco      90\n",
      "123                   Alsace white blend      89\n",
      "124                        Petite Verdot      88\n",
      "125         Cabernet Sauvignon-Carmenère      86\n",
      "126            Malbec-Cabernet Sauvignon      86\n",
      "127                              Lagrein      86\n",
      "128                 Austrian white blend      85\n",
      "129                               Tokaji      84\n",
      "130                             Moscatel      83\n",
      "131                        Petit Manseng      82\n",
      "132                              Insolia      82\n",
      "133                       Weissburgunder      82\n",
      "134                            Trebbiano      81\n",
      "135                            Xinomavro      80\n",
      "136                       Syrah-Grenache      78\n",
      "137                          Vidal Blanc      78\n",
      "138                    Alicante Bouschet      77\n",
      "139                             Silvaner      77\n",
      "140                 Tempranillo-Garnacha      76\n",
      "141                             Sylvaner      76\n",
      "142                            Carignano      76\n",
      "143                       Muscat Canelli      75\n",
      "144                        Pedro Ximénez      73\n",
      "145                             Malvasia      73\n",
      "146            Cabernet Sauvignon-Malbec      68\n",
      "147                   Provence red blend      67\n",
      "148                      Cabernet Merlot      66\n",
      "149                         Moschofilero      66\n",
      "150                             Loureiro      65\n",
      "151                             Cannonau      63\n",
      "152                             Pecorino      63\n",
      "153    Cabernet Sauvignon-Cabernet Franc      59\n",
      "154                       Syrah-Cabernet      59\n",
      "155                             Traminer      59\n",
      "156              Chenin Blanc-Chardonnay      58\n",
      "157                              Zibibbo      58\n",
      "158                             Castelão      57\n",
      "159                             Frappato      56\n",
      "160                               Claret      56\n",
      "161                         Fernão Pires      56\n",
      "162                               Rosado      56\n",
      "163                      Tannat-Cabernet      54\n",
      "164                              Furmint      54\n",
      "165                       Müller-Thurgau      53\n",
      "166                             Graciano      53\n",
      "167                   Marsanne-Roussanne      52\n",
      "168                             Charbono      51\n",
      "169                            Lemberger      51\n",
      "170                   Gelber Muskateller      51\n",
      "171                           Catarratto      50\n",
      "172                       Tocai Friulano      49\n",
      "173                        Pinot Meunier      49\n",
      "174                            Teroldego      48\n",
      "175                      Garnacha Blanca      47\n",
      "176               Gros and Petit Manseng      47\n",
      "177                              Picolit      46\n",
      "178                              Inzolia      46\n",
      "179                             Cinsault      46\n",
      "180                       Welschriesling      45\n",
      "181                            Carignane      44\n",
      "182                           Carricante      44\n",
      "183  Touriga Nacional-Cabernet Sauvignon      44\n",
      "184                              Aligoté      43\n",
      "185                        Verdejo-Viura      42\n",
      "186                        Orange Muscat      42\n",
      "187                           Rkatsiteli      41\n",
      "188                            Scheurebe      41\n",
      "189                             Xarel-lo      40\n",
      "190                      Malvasia Bianca      39\n",
      "191                            Colombard      39\n",
      "192                      Shiraz-Grenache      38\n",
      "193                       White Riesling      38\n",
      "194                           Piedirosso      38\n",
      "195                            Encruzado      37\n",
      "196                            Auxerrois      36\n",
      "197             Syrah-Cabernet Sauvignon      36\n",
      "198                             Saperavi      35\n",
      "199                              Roditis      35\n",
      "200                             Palomino      35\n",
      "201                        Nero di Troia      33\n",
      "202                                 Baga      33\n",
      "203                Merlot-Cabernet Franc      32\n",
      "204                               Kerner      32\n",
      "205                 Provence white blend      32\n",
      "206                       Muskat Ottonel      32\n",
      "207                            Brachetto      31\n",
      "208                            Passerina      31\n",
      "209                         Gros Manseng      31\n",
      "210                               Norton      31\n",
      "211            Colombard-Sauvignon Blanc      30\n",
      "212                         Malbec-Syrah      30\n",
      "213                               Albana      30\n",
      "214                               Raboso      30\n",
      "215         Carmenère-Cabernet Sauvignon      29\n",
      "216                              Corvina      29\n",
      "217               Touriga Nacional Blend      29\n",
      "218                   Tempranillo-Shiraz      28\n",
      "219                             Cabernet      28\n",
      "220                              Macabeo      28\n",
      "221                          Trincadeira      28\n",
      "222                          Plavac Mali      27\n",
      "223                          Alfrocheiro      27\n",
      "224                        Prieto Picudo      27\n",
      "225                        Grauburgunder      26\n",
      "226                       Syrah-Viognier      26\n",
      "227                     Monastrell-Syrah      26\n",
      "228                              Schiava      26\n",
      "229                             Vignoles      26\n",
      "230                           Rotgipfler      26\n",
      "231                       Moscato Giallo      26\n",
      "232                          Pallagrello      25\n",
      "233                                Bobal      25\n",
      "234                         Muscat Blanc      25\n",
      "235                      Hondarrabi Zuri      24\n",
      "236                             Negrette      24\n",
      "237                       Garnacha-Syrah      24\n",
      "238                      Roter Veltliner      23\n",
      "239                            Antão Vaz      23\n",
      "240                   Tempranillo-Merlot      23\n",
      "241                    Cesanese d'Affile      23\n",
      "242                       Sauvignon Gris      23\n",
      "243                   Syrah-Petite Sirah      23\n",
      "244                          Tinta Roriz      22\n",
      "245                                Tokay      22\n",
      "246                             Counoise      22\n",
      "247                          Zierfandler      22\n",
      "248                        Coda di Volpe      22\n",
      "249                           Gamay Noir      22\n",
      "250                                Bical      22\n",
      "251                   Viognier-Roussanne      21\n",
      "252                           Moscadello      21\n",
      "253                            Assyrtiko      21\n",
      "254                            Baco Noir      21\n",
      "255                           Kekfrankos      21\n",
      "256                      Merlot-Cabernet      21\n",
      "257                         Black Muscat      21\n",
      "258                Johannisberg Riesling      21\n",
      "259                         Uva di Troia      21\n",
      "260                                Ruché      20\n",
      "261                 Ugni Blanc-Colombard      20\n",
      "262                    Malvasia Istriana      20\n",
      "263                             Mondeuse      20\n",
      "264                             Savagnin      20\n",
      "265                       Cabernet-Syrah      20\n",
      "266                     Pinot Noir-Gamay      20\n",
      "267                Cabernet Franc-Merlot      20\n",
      "268                             Aragonês      20\n",
      "269                           Dornfelder      20\n",
      "270                          Chambourcin      20\n",
      "271                    Grenache-Carignan      20\n",
      "272                  Semillon-Chardonnay      19\n",
      "273                          Mavrodaphne      19\n",
      "274                           Tinta Fina      19\n",
      "275        Cabernet Sauvignon-Sangiovese      19\n",
      "276           Sauvignon Blanc-Chardonnay      19\n",
      "277                        Merlot-Malbec      19\n",
      "278                   Roussanne-Viognier      19\n",
      "279                  Viognier-Chardonnay      18\n",
      "280                            Perricone      18\n",
      "281                        Malbec-Tannat      18\n",
      "282                              Picpoul      18\n",
      "283                              Refosco      18\n",
      "284                         Seyval Blanc      17\n",
      "285                                Teran      17\n",
      "286                      Syrah-Mourvèdre      17\n",
      "287                  Trebbiano di Lugana      17\n",
      "288                           Traminette      17\n",
      "289                  Chardonnay-Semillon      17\n",
      "290              Gewürztraminer-Riesling      17\n",
      "291                 Lambrusco di Sorbara      17\n",
      "292                        Madeira Blend      17\n",
      "293                            Grecanico      17\n",
      "294                Lambrusco Grasparossa      16\n",
      "295                            Grechetto      16\n",
      "296                       Kalecik Karasi      16\n",
      "297                 Chardonnay-Sauvignon      16\n",
      "298                            Gaglioppo      16\n",
      "299                      Pinot Auxerrois      16\n",
      "300                     Viura-Chardonnay      16\n",
      "301                             Jacquère      16\n",
      "302                             Aragonez      16\n",
      "303                               Mataro      15\n",
      "304                                Siria      15\n",
      "305                             Aleatico      15\n",
      "306       Cabernet Sauvignon-Tempranillo      15\n",
      "307                      Grenache-Shiraz      14\n",
      "308                      Feteasca Neagra      14\n",
      "309                               Monica      14\n",
      "310                             Verduzzo      14\n",
      "311                               Trepat      14\n",
      "312                               Vranec      14\n",
      "313                   Tempranillo Blanco      14\n",
      "314                            Chasselas      14\n",
      "315                Tannat-Cabernet Franc      14\n",
      "316                      Portuguese Rosé      14\n",
      "317                           Malagousia      14\n",
      "318                                Posip      13\n",
      "319                       Touriga Franca      13\n",
      "320                      Carmenère-Syrah      13\n",
      "321                    Carignan-Grenache      13\n",
      "322                       Grenache Blend      13\n",
      "323                   Verduzzo Friulano       12\n",
      "324                            Neuburger      12\n",
      "325                             Alicante      12\n",
      "326                         Pansa Blanca      12\n",
      "327                                Duras      11\n",
      "328                         Susumaniello      11\n",
      "329                            Savatiano      11\n",
      "330                       Roter Traminer      11\n",
      "331                Chenin Blanc-Viognier      11\n",
      "332                               Mauzac      11\n",
      "333                              Nuragus      11\n",
      "334                    Syrah-Tempranillo      11\n",
      "335                            Mantonico      11\n",
      "336                              Mission      10\n",
      "337                                 Jaen      10\n",
      "338               Chardonnay-Pinot Blanc      10\n",
      "339                               Vilana      10\n",
      "340                                Vidal      10\n",
      "341    Cabernet Franc-Cabernet Sauvignon      10\n",
      "342                           Muscadelle      10\n",
      "343                             Muscadel      10\n",
      "344                               Sousão      10\n",
      "345         Chenin Blanc-Sauvignon Blanc      10\n",
      "346                           Ciliegiolo       9\n",
      "347           Muscat Blanc à Petit Grain       9\n",
      "348           Chardonnay-Sauvignon Blanc       9\n",
      "349                              Narince       9\n",
      "350              Verdejo-Sauvignon Blanc       9\n",
      "351                   Pallagrello Bianco       9\n",
      "352                            Valdiguié       9\n",
      "353                               Bovale       9\n",
      "354                        Tannat-Merlot       9\n",
      "355                        Malvasia Fina       9\n",
      "356                        Malvasia Nera       9\n",
      "357                           Prié Blanc       9\n",
      "358                              Mansois       9\n",
      "359                         Syrah-Merlot       9\n",
      "360                               Avesso       9\n",
      "361                    Viognier-Marsanne       8\n",
      "362              Sauvignon Blanc-Verdejo       8\n",
      "363                          Casavecchia       8\n",
      "364                                Tocai       8\n",
      "365                                Airen       8\n",
      "366                         Greco Bianco       8\n",
      "367                       Loin de l'Oeil       8\n",
      "368                               Vinhão       8\n",
      "369                       Malbec-Bonarda       8\n",
      "370                        Moscatel Roxo       8\n",
      "371                   Shiraz-Tempranillo       8\n",
      "372                                Debit       8\n",
      "373                              Durella       8\n",
      "374                   Garnacha Tintorera       8\n",
      "375                   Blauer Portugieser       8\n",
      "376                              Elbling       8\n",
      "377        Sangiovese-Cabernet Sauvignon       8\n",
      "378                             Bastardo       8\n",
      "379                                 Bual       8\n",
      "380                      Feteascǎ Regalǎ       8\n",
      "381                 Colombard-Ugni Blanc       8\n",
      "382                             Maturana       8\n",
      "383                        Tinta Barroca       7\n",
      "384                    Nerello Cappuccio       7\n",
      "385                                Rolle       7\n",
      "386                   Roussanne-Marsanne       7\n",
      "387                              Manzoni       7\n",
      "388               Zierfandler-Rotgipfler       7\n",
      "389                             Okuzgozu       7\n",
      "390                     Pallagrello Nero       7\n",
      "391                        Shiraz-Malbec       7\n",
      "392                     Pinot-Chardonnay       7\n",
      "393                           Malagouzia       7\n",
      "394                          Muskateller       7\n",
      "395                  Garnacha-Monastrell       7\n",
      "396                         Tannat-Syrah       7\n",
      "397                   Malbec-Tempranillo       7\n",
      "398                             Symphony       7\n",
      "399             Cabernet Franc-Carmenère       7\n",
      "400                                Apple       6\n",
      "401         Sauvignon Blanc-Chenin Blanc       6\n",
      "402                              Argaman       6\n",
      "403                               Robola       6\n",
      "404                              Altesse       6\n",
      "405     Cabernet Sauvignon-Merlot-Shiraz       6\n",
      "406                     Sangiovese-Syrah       6\n",
      "407                              Braucol       6\n",
      "408                            Xinisteri       6\n",
      "409                           White Port       6\n",
      "410                            Clairette       6\n",
      "411                              Sämling       6\n",
      "412                   Grenache-Mourvèdre       6\n",
      "413                              Verdeca       6\n",
      "414                         Merlot-Syrah       6\n",
      "415                          Edelzwicker       6\n",
      "416                Malbec-Cabernet Franc       6\n",
      "417                  Muscat d'Alexandrie       6\n",
      "418                      Shiraz-Pinotage       6\n",
      "419                            Nielluciu       6\n",
      "420                            Marzemino       6\n",
      "421                         Fer Servadou       6\n",
      "422                              Nosiola       6\n",
      "423                   Macabeo-Chardonnay       6\n",
      "424                    Códega do Larinho       5\n",
      "425                       Malvasia-Viura       5\n",
      "426                               Mavrud       5\n",
      "427                       Merlot-Argaman       5\n",
      "428              Syrah-Grenache-Viognier       5\n",
      "429                                Durif       5\n",
      "430                 Syrah-Cabernet Franc       5\n",
      "431                    Garnacha-Graciano       5\n",
      "432                           Pugnitello       5\n",
      "433                         Morio Muskat       5\n",
      "434                               Malvar       5\n",
      "435                            Magliocco       5\n",
      "436                  Trebbiano Spoletino       5\n",
      "437                              Cerceal       5\n",
      "438                           Siegerrebe       5\n",
      "439                         Petroulianos       5\n",
      "440                             Zlahtina       5\n",
      "441                    Cariñena-Garnacha       5\n",
      "442                            Timorasso       5\n",
      "443                                Nasco       5\n",
      "444                             Nascetta       5\n",
      "445                              Lacrima       5\n",
      "446                           Hárslevelü       5\n",
      "447                           Pignoletto       5\n",
      "448                             Angevine       5\n",
      "449          Cabernet Sauvignon Grenache       5\n",
      "450                            Rieslaner       5\n",
      "451                              Rivaner       4\n",
      "452                        Királyleányka       4\n",
      "453                   Trebbiano-Malvasia       4\n",
      "454                            Tamjanika       4\n",
      "455                             Grolleau       4\n",
      "456                     Macabeo-Moscatel       4\n",
      "457                                 Kisi       4\n",
      "458                           Alvarelhão       4\n",
      "459                   Madeleine Angevine       4\n",
      "460                 Alvarinho-Chardonnay       4\n",
      "461                 Garnacha-Tempranillo       4\n",
      "462                             Ansonica       4\n",
      "463                     Tokay Pinot Gris       4\n",
      "464                             Feteasca       4\n",
      "465                     Incrocio Manzoni       4\n",
      "466                    Marsanne-Viognier       4\n",
      "467                                Meoru       4\n",
      "468                       Pineau d'Aunis       4\n",
      "469                            Veltliner       4\n",
      "470                              Mtsvane       4\n",
      "471                        Black Monukka       4\n",
      "472                               Muskat       4\n",
      "473               Pinot Blanc-Chardonnay       4\n",
      "474                  Chardonnay-Albariño       4\n",
      "475                             Morillon       4\n",
      "476                                 Emir       4\n",
      "477   Cabernet Sauvignon and Tinta Roriz       4\n",
      "478                       Carignan-Syrah       4\n",
      "479                             Favorita       4\n",
      "480            Chardonnay Weissburgunder       4\n",
      "481                              Mazuelo       4\n",
      "482                             Carineña       4\n",
      "483                            Vespaiolo       4\n",
      "484                     Shiraz-Mourvèdre       4\n",
      "485                             Mavroudi       4\n",
      "486                        Blanc du Bois       4\n",
      "487                   Cserszegi Fűszeres       4\n",
      "488                  Teroldego Rotaliano       3\n",
      "489                     Schwartzriesling       3\n",
      "490                          Tocai Rosso       3\n",
      "491                               Souzao       3\n",
      "492              Viognier-Grenache Blanc       3\n",
      "493                             Roviello       3\n",
      "494                           St. George       3\n",
      "495                              Torbato       3\n",
      "496                                Steen       3\n",
      "497                             Vitovska       3\n",
      "498                               Rufete       3\n",
      "499                                 Sacy       3\n",
      "500                       Trousseau Gris       3\n",
      "501                                Zelen       3\n",
      "502                             Yapincak       3\n",
      "503                            Xynisteri       3\n",
      "504                  Sangiovese Cabernet       3\n",
      "505                                  Tai       3\n",
      "506                      Saperavi-Merlot       3\n",
      "507                              Žilavka       3\n",
      "508               Pinot Blanc-Pinot Noir       3\n",
      "509                          Doña Blanca       3\n",
      "510                              Kadarka       3\n",
      "511                               Pigato       3\n",
      "512                             Picapoll       3\n",
      "513                      Moscatel Graúdo       3\n",
      "514               Moscatel de Alejandría       3\n",
      "515                              Chinuri       3\n",
      "516                             Colorino       3\n",
      "517                                 País       3\n",
      "518                           Grignolino       3\n",
      "519                       Muscat Hamburg       3\n",
      "520                             Gragnano       3\n",
      "521                              Gouveio       3\n",
      "522                          Papaskarasi       3\n",
      "523                      Gelber Traminer       3\n",
      "524                    Garnacha-Cabernet       3\n",
      "525                       Garnacha Blend       3\n",
      "526         Muscat Blanc à Petits Grains       3\n",
      "527                             Muscatel       3\n",
      "528                               Cayuga       3\n",
      "529                 Muscat of Alexandria       3\n",
      "530                              Blatina       3\n",
      "531                          Portuguiser       3\n",
      "532                             Prokupac       3\n",
      "533                       Bombino Bianco       3\n",
      "534                        Merlot-Shiraz       3\n",
      "535                  Malbec-Petit Verdot       3\n",
      "536                     Pinot Noir-Syrah       3\n",
      "537                Baga-Touriga Nacional       3\n",
      "538                         Malbec Blend       3\n",
      "539                   Lambrusco Salamino       3\n",
      "540                                 Azal       3\n",
      "541                             Poulsard       3\n",
      "542                            Boğazkere       3\n",
      "543                            Karalahna       2\n",
      "544                         Listán Negro       2\n",
      "545                      Malbec-Cabernet       2\n",
      "546                              Malmsey       2\n",
      "547                         Früburgunder       2\n",
      "548                   Tempranillo-Malbec       2\n",
      "549                         Irsai Oliver       2\n",
      "550                            Groppello       2\n",
      "551                      Tinta Francisca       2\n",
      "552                             Roscetto       2\n",
      "553                              Jacquez       2\n",
      "554                      Kinali Yapincak       2\n",
      "555                            Tintilia        2\n",
      "556                            Karasakiz       2\n",
      "557                              Kallmet       2\n",
      "558                     Tinta Negra Mole       2\n",
      "559                          Tinta Miúda       2\n",
      "560                     Rosenmuskateller       2\n",
      "561                              Enantio       2\n",
      "562                               Freisa       2\n",
      "563                            Franconia       2\n",
      "564                            Çalkarası       2\n",
      "565                               Aidani       2\n",
      "566                            Albarossa       2\n",
      "567                             Asprinio       2\n",
      "568                               Athiri       2\n",
      "569                                Babić       2\n",
      "570                        Blauburgunder       2\n",
      "571                        Viura-Verdejo       2\n",
      "572                          Bukettraube       2\n",
      "573                Cabernet Franc-Malbec       2\n",
      "574           Cabernet Franc-Tempranillo       2\n",
      "575                             Viosinho       2\n",
      "576                     Cabernet Moravia       2\n",
      "577                     Cabernet Pfeffer       2\n",
      "578                      Cabernet-Shiraz       2\n",
      "579                             Canaiolo       2\n",
      "580                            Vidadillo       2\n",
      "581                            Vespolina       2\n",
      "582                             Cesanese       2\n",
      "583                      Vermentino Nero       2\n",
      "584                Chardonnay-Pinot Gris       2\n",
      "585                           Cococciola       2\n",
      "586                           Crespiello       2\n",
      "587                           Ugni Blanc       2\n",
      "588                               Marawi       2\n",
      "589                            Trousseau       2\n",
      "590                             Erbaluce       2\n",
      "591                           Treixadura       2\n",
      "592                             Forcallà       2\n",
      "593                           Mandilaria       2\n",
      "594                                Koshu       2\n",
      "595                      Shiraz-Cabernet       2\n",
      "596                       Syrah-Carignan       2\n",
      "597                                Plyto       2\n",
      "598                      Pinotage-Merlot       2\n",
      "599                               Morava       2\n",
      "600       Sauvignon Blanc-Sauvignon Gris       2\n",
      "601                     Sauvignon Musqué       2\n",
      "602                      Mourvèdre-Syrah       2\n",
      "603                               Sirica       2\n",
      "604                             Muscadet       2\n",
      "605                        Sauvignonasse       2\n",
      "606                            Sideritis       2\n",
      "607                         Petite Syrah       2\n",
      "608                        Shiraz-Merlot       2\n",
      "609                         Orangetraube       2\n",
      "610                        Petit Meslier       2\n",
      "611                         Sciaccerellu       2\n",
      "612                              Segalin       2\n",
      "613                    Pelaverga Piccolo       2\n",
      "614                             Rabigato       2\n",
      "615                              Sercial       2\n",
      "616                               Rebula       2\n",
      "617                      Merlot-Grenache       2\n",
      "618             Roussanne-Grenache Blanc       2\n",
      "619                           Romorantin       2\n",
      "620                        Maréchal Foch       2\n",
      "621                   Syrah-Petit Verdot       2\n",
      "622                         Mavrotragano       2\n",
      "623                             Marselan       2\n",
      "624                         Syrah-Malbec       2\n",
      "625                          Biancolella       1\n",
      "626                   Sauvignon-Sémillon       1\n",
      "627                                 Ruen       1\n",
      "628                                 Rebo       1\n",
      "629                              Cercial       1\n",
      "630                      Pied de Perdrix       1\n",
      "631                          Chardonelle       1\n",
      "632                            Chardonel       1\n",
      "633                              Albarín       1\n",
      "634              Chardonnay-Pinot Grigio       1\n",
      "635                           Verdosilla       1\n",
      "636                               Verdil       1\n",
      "637                  Riesling-Chardonnay       1\n",
      "638                  Chardonnay-Riesling       1\n",
      "639                            Albanello       1\n",
      "640                          Rara Neagra       1\n",
      "641                          Catalanesca       1\n",
      "642                       Biancu Gentile       1\n",
      "643                            Carnelian       1\n",
      "644                            Prunelard       1\n",
      "645                              Premsal       1\n",
      "646                         Bombino Nero       1\n",
      "647                     Barbera-Nebbiolo       1\n",
      "648                      Piquepoul Blanc       1\n",
      "649                Viura-Sauvignon Blanc       1\n",
      "650                       Ryzlink Rýnský       1\n",
      "651                                Sarba       1\n",
      "652                              Bacchus       1\n",
      "653            Pinot Gris-Gewürztraminer       1\n",
      "654                                Dafni       1\n",
      "655                   Viognier-Valdiguié       1\n",
      "656              Pinot Grigio-Chardonnay       1\n",
      "657           Cabernet Sauvignon-Barbera       1\n",
      "658              Viognier-Gewürztraminer       1\n",
      "659                 Pinot Blanc-Viognier       1\n",
      "660                               Pinela       1\n",
      "661                           Caprettone       1\n",
      "662                            Carcajolu       1\n",
      "663         Pinot Grigio-Sauvignon Blanc       1\n",
      "664                          Maria Gomes       1\n",
      "665                              Diamond       1\n",
      "666                            Terrantez       1\n",
      "667                       Tinta del Pais       1\n",
      "668                             Molinara       1\n",
      "669                               Misket       1\n",
      "670                            Meseguera       1\n",
      "671                        Syrah-Bonarda       1\n",
      "672                              Kangoun       1\n",
      "673                            Tinta Cao       1\n",
      "674                        Merlot-Tannat       1\n",
      "675                 Merlot-Petite Verdot       1\n",
      "676                         Thrapsathiri       1\n",
      "677                         Terret Blanc       1\n",
      "678                               Kuntra       1\n",
      "679                             Moristel       1\n",
      "680                   Tempranillo-Tannat       1\n",
      "681                               Melnik       1\n",
      "682                      Loureiro-Arinto       1\n",
      "683               Macabeo-Gewürztraminer       1\n",
      "684                Malagouzia-Chardonnay       1\n",
      "685                     Malbec-Carménère       1\n",
      "686                            Marquette       1\n",
      "687                   Malvasia di Candia       1\n",
      "688                            Malvazija       1\n",
      "689                            Malvoisie       1\n",
      "690                             Tamianka       1\n",
      "691                       Tinta del Toro       1\n",
      "692                          St. Vincent       1\n",
      "693                            Parraleta       1\n",
      "694                     Shiraz-Roussanne       1\n",
      "695                              Durello       1\n",
      "696                              Pardina       1\n",
      "697                             Ekigaïna       1\n",
      "698                           Tsolikouri       1\n",
      "699                            Paralleda       1\n",
      "700                    Maria Gomes-Bical       1\n",
      "701                                Other       1\n",
      "702                            Espadeiro       1\n",
      "703                        Folle Blanche       1\n",
      "704                             Ojaleshi       1\n",
      "705                            Frankovka       1\n",
      "706                            Muscadine       1\n",
      "707                        Tinto Velasco       1\n",
      "708                    Silvaner-Traminer       1\n",
      "709                              Touriga       1\n",
      "710                             Torontel       1\n",
      "711                            Graševina       1\n",
      "712                        Grenache Gris       1\n",
      "713                        Grenache Noir       1\n",
      "714                          Moscofilero       1\n",
      "715              Moschofilero-Chardonnay       1\n",
      "716                           Gros Plant       1\n",
      "717                            Huxelrebe       1\n",
      "718                      Moscato di Noto       1\n",
      "719                             Abouriou       1\n"
     ]
    }
   ],
   "source": [
    "print(filtered.to_string())"
   ]
  },
  {
   "cell_type": "code",
   "execution_count": 174,
   "id": "b70547da",
   "metadata": {},
   "outputs": [
    {
     "data": {
      "text/plain": [
       "49"
      ]
     },
     "execution_count": 174,
     "metadata": {},
     "output_type": "execute_result"
    }
   ],
   "source": [
    "atleast500counts = filtered[:49]\n",
    "first500= atleast500counts['variety']\n",
    "len(first500)"
   ]
  },
  {
   "cell_type": "code",
   "execution_count": 128,
   "id": "74b26e33",
   "metadata": {},
   "outputs": [
    {
     "data": {
      "text/plain": [
       "(225930, 2)"
      ]
     },
     "execution_count": 128,
     "metadata": {},
     "output_type": "execute_result"
    }
   ],
   "source": [
    "dvariety.shape"
   ]
  },
  {
   "cell_type": "code",
   "execution_count": 175,
   "id": "3cc5c57a",
   "metadata": {},
   "outputs": [
    {
     "data": {
      "text/plain": [
       "(201740, 2)"
      ]
     },
     "execution_count": 175,
     "metadata": {},
     "output_type": "execute_result"
    }
   ],
   "source": [
    "boolean_series = dvariety.variety.isin(first500)\n",
    "data500 = dvariety[boolean_series]\n",
    "data500.shape"
   ]
  },
  {
   "cell_type": "code",
   "execution_count": 202,
   "id": "fcdd2d58",
   "metadata": {},
   "outputs": [
    {
     "data": {
      "text/html": [
       "<div>\n",
       "<style scoped>\n",
       "    .dataframe tbody tr th:only-of-type {\n",
       "        vertical-align: middle;\n",
       "    }\n",
       "\n",
       "    .dataframe tbody tr th {\n",
       "        vertical-align: top;\n",
       "    }\n",
       "\n",
       "    .dataframe thead th {\n",
       "        text-align: right;\n",
       "    }\n",
       "</style>\n",
       "<table border=\"1\" class=\"dataframe\">\n",
       "  <thead>\n",
       "    <tr style=\"text-align: right;\">\n",
       "      <th></th>\n",
       "      <th>variety</th>\n",
       "      <th>review</th>\n",
       "    </tr>\n",
       "  </thead>\n",
       "  <tbody>\n",
       "    <tr>\n",
       "      <th>30320</th>\n",
       "      <td>Bordeaux-style Red Blend</td>\n",
       "      <td>[bright, lightly, smoked, red, currant, berry,...</td>\n",
       "    </tr>\n",
       "    <tr>\n",
       "      <th>52170</th>\n",
       "      <td>Nebbiolo</td>\n",
       "      <td>[traditionally, crafted, single, vineyard, bar...</td>\n",
       "    </tr>\n",
       "    <tr>\n",
       "      <th>121791</th>\n",
       "      <td>Cabernet Sauvignon</td>\n",
       "      <td>[spiced, gumdrop, rooty, sweetness, carry, mas...</td>\n",
       "    </tr>\n",
       "    <tr>\n",
       "      <th>26767</th>\n",
       "      <td>Nebbiolo</td>\n",
       "      <td>[bright, lively, base, barolo, bric, cenciurio...</td>\n",
       "    </tr>\n",
       "    <tr>\n",
       "      <th>11142</th>\n",
       "      <td>Riesling</td>\n",
       "      <td>[blossomy, fragrant, start, finish, semisweet,...</td>\n",
       "    </tr>\n",
       "  </tbody>\n",
       "</table>\n",
       "</div>"
      ],
      "text/plain": [
       "                         variety  \\\n",
       "30320   Bordeaux-style Red Blend   \n",
       "52170                   Nebbiolo   \n",
       "121791        Cabernet Sauvignon   \n",
       "26767                   Nebbiolo   \n",
       "11142                   Riesling   \n",
       "\n",
       "                                                   review  \n",
       "30320   [bright, lightly, smoked, red, currant, berry,...  \n",
       "52170   [traditionally, crafted, single, vineyard, bar...  \n",
       "121791  [spiced, gumdrop, rooty, sweetness, carry, mas...  \n",
       "26767   [bright, lively, base, barolo, bric, cenciurio...  \n",
       "11142   [blossomy, fragrant, start, finish, semisweet,...  "
      ]
     },
     "execution_count": 202,
     "metadata": {},
     "output_type": "execute_result"
    }
   ],
   "source": [
    "data500.head()"
   ]
  },
  {
   "cell_type": "code",
   "execution_count": 201,
   "id": "78ce8ca4",
   "metadata": {},
   "outputs": [
    {
     "data": {
      "text/plain": [
       "(2000,)"
      ]
     },
     "execution_count": 201,
     "metadata": {},
     "output_type": "execute_result"
    }
   ],
   "source": [
    "train_data= data500.review[:2000].to_numpy()\n",
    "train_labels= data500.variety[:2000].to_numpy()\n",
    "test_data= data500.review[2000:3000].to_numpy()\n",
    "test_labels= data500.variety[2000:3000].to_numpy()\n",
    "train_data.shape"
   ]
  },
  {
   "cell_type": "code",
   "execution_count": 184,
   "id": "eb6ff6ba",
   "metadata": {},
   "outputs": [
    {
     "data": {
      "text/plain": [
       "numpy.ndarray"
      ]
     },
     "execution_count": 184,
     "metadata": {},
     "output_type": "execute_result"
    }
   ],
   "source": [
    "type(train_data)"
   ]
  },
  {
   "cell_type": "code",
   "execution_count": 180,
   "id": "8012fa70",
   "metadata": {},
   "outputs": [
    {
     "data": {
      "text/plain": [
       "(49,)"
      ]
     },
     "execution_count": 180,
     "metadata": {},
     "output_type": "execute_result"
    }
   ],
   "source": [
    "labellist= data500['variety'].unique()\n",
    "labellist.shape"
   ]
  },
  {
   "cell_type": "code",
   "execution_count": 200,
   "id": "e84aa240",
   "metadata": {},
   "outputs": [
    {
     "data": {
      "text/plain": [
       "(49,)"
      ]
     },
     "execution_count": 200,
     "metadata": {},
     "output_type": "execute_result"
    }
   ],
   "source": [
    "train_labels1= data500.variety[:2000]\n",
    "train_labels1.unique().shape"
   ]
  },
  {
   "cell_type": "code",
   "execution_count": 185,
   "id": "c1410e98",
   "metadata": {},
   "outputs": [
    {
     "data": {
      "text/plain": [
       "<AxesSubplot:xlabel='variety', ylabel='count'>"
      ]
     },
     "execution_count": 185,
     "metadata": {},
     "output_type": "execute_result"
    },
    {
     "data": {
      "image/png": "[encoded data removed]",
      "text/plain": [
       "<Figure size 640x480 with 1 Axes>"
      ]
     },
     "metadata": {},
     "output_type": "display_data"
    }
   ],
   "source": [
    "countplot(x=train_labels)"
   ]
  },
  {
   "cell_type": "code",
   "execution_count": 187,
   "id": "861c9de5",
   "metadata": {},
   "outputs": [],
   "source": [
    "predictions=[]\n",
    "for i in range(len(test_labels)):\n",
    "    predictions.append(labellist[randint(0,48)])\n",
    "#predictions"
   ]
  },
  {
   "cell_type": "code",
   "execution_count": 188,
   "id": "0ee0eac7",
   "metadata": {},
   "outputs": [
    {
     "data": {
      "text/plain": [
       "0.021"
      ]
     },
     "execution_count": 188,
     "metadata": {},
     "output_type": "execute_result"
    }
   ],
   "source": [
    "# random classifier accuracy for 49 labels\n",
    "accuracy = np.mean(test_labels==predictions, dtype=np.float64)\n",
    "accuracy"
   ]
  },
  {
   "cell_type": "code",
   "execution_count": 190,
   "id": "5439cd88",
   "metadata": {},
   "outputs": [
    {
     "data": {
      "text/plain": [
       "0.102"
      ]
     },
     "execution_count": 190,
     "metadata": {},
     "output_type": "execute_result"
    }
   ],
   "source": [
    "# majority class classifier accuracy for 49 labels\n",
    "accuracy = np.mean(test_labels==\"Pinot Noir\", dtype=np.float64)\n",
    "accuracy"
   ]
  },
  {
   "cell_type": "code",
   "execution_count": 223,
   "id": "35175df1",
   "metadata": {},
   "outputs": [
    {
     "name": "stdout",
     "output_type": "stream",
     "text": [
      "Predicted variety for the first wine is Nebbiolo and the true label is Nero d'Avola\n",
      "Predicted variety for the first wine is Chardonnay and the true label is Chardonnay\n",
      "Predicted variety for the first wine is Bordeaux-style Red Blend and the true label is Gamay\n",
      "Predicted variety for the first wine is Pinot Noir and the true label is Pinot Noir\n",
      "Predicted variety for the first wine is Malbec and the true label is Sangiovese\n",
      "Predicted variety for the first wine is Rosé and the true label is Red Blend\n",
      "Predicted variety for the first wine is Carmenère and the true label is Carmenère\n",
      "Predicted variety for the first wine is Pinot Noir and the true label is Rosé\n",
      "Predicted variety for the first wine is Riesling and the true label is Chardonnay\n",
      "Predicted variety for the first wine is Cabernet Sauvignon and the true label is Cabernet Sauvignon\n"
     ]
    }
   ],
   "source": [
    "for i in range(10):\n",
    "    n=i\n",
    "    predicted_label = classify(test_data[n],9)\n",
    "    print(f\"Predicted variety for the first wine is {predicted_label} and the true label is {test_labels[n]}\")"
   ]
  },
  {
   "cell_type": "code",
   "execution_count": 214,
   "id": "2d1c0b81",
   "metadata": {},
   "outputs": [],
   "source": [
    "test_predicted_n9 = [classify(test_review,9) for test_review in test_data] # find predictions for the test data"
   ]
  },
  {
   "cell_type": "code",
   "execution_count": 215,
   "id": "7d327959",
   "metadata": {},
   "outputs": [
    {
     "name": "stdout",
     "output_type": "stream",
     "text": [
      "0.389\n"
     ]
    }
   ],
   "source": [
    "n_correct_k9 = np.sum(test_labels == test_predicted_n9, dtype=object)\n",
    "accuracy_k9 = n_correct_k9/len(test_labels)\n",
    "print(accuracy_k9)\n",
    "#Accuracy of the Word Mover's Distance classifier, k=9, in predicting the grape variety (FastText) for 49 Labels"
   ]
  }
 ],
 "metadata": {
  "kernelspec": {
   "display_name": "Python 3 (ipykernel)",
   "language": "python",
   "name": "python3"
  },
  "language_info": {
   "codemirror_mode": {
    "name": "ipython",
    "version": 3
   },
   "file_extension": ".py",
   "mimetype": "text/x-python",
   "name": "python",
   "nbconvert_exporter": "python",
   "pygments_lexer": "ipython3",
   "version": "3.9.13"
  },
  "vscode": {
   "interpreter": {
    "hash": "4b8f16e4012474046bf3ae17fb6e66d0ceaf147066a3cea27e7a3d878a672b1d"
   }
  }
 },
 "nbformat": 4,
 "nbformat_minor": 5
}
