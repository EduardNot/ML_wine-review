{
 "cells": [
  {
   "cell_type": "code",
   "execution_count": 5,
   "metadata": {},
   "outputs": [],
   "source": [
    "import pandas as pd\n",
    "from autocorrect import Speller\n",
    "from nltk.stem import WordNetLemmatizer\n",
    "import nltk\n",
    "from nltk.corpus import stopwords\n",
    "from sklearn.feature_extraction.text import TfidfVectorizer\n",
    "import gensim\n",
    "import re\n",
    "import pickle\n",
    "from statistics import fmean"
   ]
  },
  {
   "cell_type": "code",
   "execution_count": 9,
   "metadata": {},
   "outputs": [],
   "source": [
    "lemmatizer = WordNetLemmatizer()\n",
    "spell = Speller(lang='en')\n",
    "word2vec_model = gensim.models.Word2Vec.load('word2vec.model')\n",
    "stop_words = stopwords.words('english')"
   ]
  },
  {
   "cell_type": "code",
   "execution_count": 19,
   "metadata": {},
   "outputs": [],
   "source": [
    "train = pd.read_csv('data/rec_train.csv')"
   ]
  },
  {
   "cell_type": "code",
   "execution_count": 22,
   "metadata": {},
   "outputs": [],
   "source": [
    "test = pd.read_csv('data/rec_test.csv')"
   ]
  },
  {
   "cell_type": "code",
   "execution_count": null,
   "metadata": {},
   "outputs": [],
   "source": [
    "with open('freq.pkl', 'rb') as f:\n",
    "    freq = pickle.load(f)"
   ]
  },
  {
   "cell_type": "code",
   "execution_count": 1,
   "metadata": {},
   "outputs": [],
   "source": [
    "def get_recommendation(description, data, freq):\n",
    "    reviews_lower = [description.lower()]\n",
    "    cleaned_reviews = [re.sub('[^a-zA-Z-]', ' ', x) for x in reviews_lower]\n",
    "    cleaned_reviews = [re.sub(r'\\s+', ' ', x) for x in cleaned_reviews]\n",
    "    reviews = [nltk.sent_tokenize(x) for x in cleaned_reviews]\n",
    "    reviews = [y for x in reviews for y in x]\n",
    "    words = [nltk.word_tokenize(x) for x in reviews]\n",
    "    for i in range(len(words)):\n",
    "        words[i] = [lemmatizer.lemmatize(w) for w in words[i] if w not in stop_words and len(lemmatizer.lemmatize(w)) > 1]\n",
    "    \n",
    "    desc_score = []\n",
    "    vocab = set(word2vec_model.wv.key_to_index.keys())\n",
    "    for desc in words:\n",
    "        word_score = []\n",
    "        for w in desc:\n",
    "            if w in vocab and w in freq:\n",
    "                word_score.append(fmean(word2vec_model.wv[w] * freq[w]))\n",
    "                # word_score.append(fmean(word2vec_model.wv[w]))\n",
    "            elif spell(w) in vocab and spell(w) in freq:\n",
    "                word_score.append(fmean(word2vec_model.wv[spell(w)] * freq[spell(w)]))\n",
    "        desc_score.append(fmean(word_score))\n",
    "    \n",
    "    recommendations = []\n",
    "    for s in desc_score:\n",
    "        recommendations.append(data.iloc[(data['desc_score']-s).abs().argsort()[:1]])\n",
    "    \n",
    "    return recommendations"
   ]
  },
  {
   "cell_type": "code",
   "execution_count": 24,
   "metadata": {},
   "outputs": [
    {
     "data": {
      "text/html": [
       "<div>\n",
       "<style scoped>\n",
       "    .dataframe tbody tr th:only-of-type {\n",
       "        vertical-align: middle;\n",
       "    }\n",
       "\n",
       "    .dataframe tbody tr th {\n",
       "        vertical-align: top;\n",
       "    }\n",
       "\n",
       "    .dataframe thead th {\n",
       "        text-align: right;\n",
       "    }\n",
       "</style>\n",
       "<table border=\"1\" class=\"dataframe\">\n",
       "  <thead>\n",
       "    <tr style=\"text-align: right;\">\n",
       "      <th></th>\n",
       "      <th>country</th>\n",
       "      <th>description</th>\n",
       "      <th>designation</th>\n",
       "      <th>points</th>\n",
       "      <th>price</th>\n",
       "      <th>province</th>\n",
       "      <th>region_1</th>\n",
       "      <th>region_2</th>\n",
       "      <th>variety</th>\n",
       "      <th>winery</th>\n",
       "      <th>taster_name</th>\n",
       "      <th>taster_twitter_handle</th>\n",
       "      <th>title</th>\n",
       "      <th>desc_score</th>\n",
       "    </tr>\n",
       "  </thead>\n",
       "  <tbody>\n",
       "    <tr>\n",
       "      <th>57651</th>\n",
       "      <td>US</td>\n",
       "      <td>This is straightforward and easy, with sweet M...</td>\n",
       "      <td>NaN</td>\n",
       "      <td>85</td>\n",
       "      <td>16.0</td>\n",
       "      <td>California</td>\n",
       "      <td>Napa Valley</td>\n",
       "      <td>Napa</td>\n",
       "      <td>Sauvignon Blanc</td>\n",
       "      <td>Lola Kay</td>\n",
       "      <td>NaN</td>\n",
       "      <td>NaN</td>\n",
       "      <td>NaN</td>\n",
       "      <td>-0.048324</td>\n",
       "    </tr>\n",
       "    <tr>\n",
       "      <th>81972</th>\n",
       "      <td>US</td>\n",
       "      <td>This is a lovely, full-bodied expression of ap...</td>\n",
       "      <td>Reserve</td>\n",
       "      <td>91</td>\n",
       "      <td>35.0</td>\n",
       "      <td>California</td>\n",
       "      <td>Napa Valley</td>\n",
       "      <td>Napa</td>\n",
       "      <td>Chardonnay</td>\n",
       "      <td>Stonehedge</td>\n",
       "      <td>Virginie Boone</td>\n",
       "      <td>@vboone</td>\n",
       "      <td>Stonehedge 2014 Reserve Chardonnay (Napa Valley)</td>\n",
       "      <td>-0.048321</td>\n",
       "    </tr>\n",
       "  </tbody>\n",
       "</table>\n",
       "</div>"
      ],
      "text/plain": [
       "      country                                        description designation  \\\n",
       "57651      US  This is straightforward and easy, with sweet M...         NaN   \n",
       "81972      US  This is a lovely, full-bodied expression of ap...     Reserve   \n",
       "\n",
       "       points  price    province     region_1 region_2          variety  \\\n",
       "57651      85   16.0  California  Napa Valley     Napa  Sauvignon Blanc   \n",
       "81972      91   35.0  California  Napa Valley     Napa       Chardonnay   \n",
       "\n",
       "           winery     taster_name taster_twitter_handle  \\\n",
       "57651    Lola Kay             NaN                   NaN   \n",
       "81972  Stonehedge  Virginie Boone               @vboone   \n",
       "\n",
       "                                                  title  desc_score  \n",
       "57651                                               NaN   -0.048324  \n",
       "81972  Stonehedge 2014 Reserve Chardonnay (Napa Valley)   -0.048321  "
      ]
     },
     "execution_count": 24,
     "metadata": {},
     "output_type": "execute_result"
    }
   ],
   "source": [
    "train.iloc[(train['desc_score']-test.iloc[0].desc_score).abs().argsort()[:2]]"
   ]
  }
 ],
 "metadata": {
  "kernelspec": {
   "display_name": "machine_learning",
   "language": "python",
   "name": "python3"
  },
  "language_info": {
   "codemirror_mode": {
    "name": "ipython",
    "version": 3
   },
   "file_extension": ".py",
   "mimetype": "text/x-python",
   "name": "python",
   "nbconvert_exporter": "python",
   "pygments_lexer": "ipython3",
   "version": "3.10.7"
  },
  "orig_nbformat": 4,
  "vscode": {
   "interpreter": {
    "hash": "4b8f16e4012474046bf3ae17fb6e66d0ceaf147066a3cea27e7a3d878a672b1d"
   }
  }
 },
 "nbformat": 4,
 "nbformat_minor": 2
}
