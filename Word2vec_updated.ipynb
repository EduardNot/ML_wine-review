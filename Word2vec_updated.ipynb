{
 "cells": [
  {
   "cell_type": "code",
   "execution_count": 1,
   "id": "4efcae6a",
   "metadata": {},
   "outputs": [],
   "source": [
    "import pandas as pd\n",
    "import gensim\n",
    "from gensim.models import Word2Vec\n",
    "from nltk.stem import WordNetLemmatizer\n",
    "import numpy as np"
   ]
  },
  {
   "cell_type": "code",
   "execution_count": 2,
   "id": "16dba944",
   "metadata": {},
   "outputs": [],
   "source": [
    "import nltk\n",
    "import re"
   ]
  },
  {
   "cell_type": "code",
   "execution_count": 102,
   "id": "95294398",
   "metadata": {},
   "outputs": [],
   "source": [
    "import matplotlib.pyplot as plt # subjectively ugly plotting here\n",
    "from seaborn import countplot"
   ]
  },
  {
   "cell_type": "code",
   "execution_count": 3,
   "id": "51d2cf98",
   "metadata": {},
   "outputs": [],
   "source": [
    "#dlr = nltk.downloader.Downloader()\n",
    "#dlr._update_index()\n",
    "#dlr.download('wordnet')\n",
    "#nltk.download('stopwords')\n",
    "#nltk.download('punkt')\n",
    "#nltk.download('omw-1.4')\n",
    "from nltk.corpus import stopwords"
   ]
  },
  {
   "cell_type": "code",
   "execution_count": 4,
   "id": "ab0b9577",
   "metadata": {},
   "outputs": [],
   "source": [
    "data_loc = 'data/'"
   ]
  },
  {
   "cell_type": "code",
   "execution_count": 5,
   "id": "c17d4d9a",
   "metadata": {},
   "outputs": [],
   "source": [
    "data1 = pd.read_csv('winemag-data_first150k.csv', index_col=0)\n",
    "data2 = pd.read_csv('winemag-data-130k-v2.csv', index_col=0)"
   ]
  },
  {
   "cell_type": "code",
   "execution_count": 6,
   "id": "4e444c33",
   "metadata": {},
   "outputs": [],
   "source": [
    "#Panen andmed kokku\n",
    "dataset = pd.concat([data1,data2])"
   ]
  },
  {
   "cell_type": "code",
   "execution_count": 7,
   "id": "944b7703",
   "metadata": {},
   "outputs": [
    {
     "data": {
      "text/html": [
       "<div>\n",
       "<style scoped>\n",
       "    .dataframe tbody tr th:only-of-type {\n",
       "        vertical-align: middle;\n",
       "    }\n",
       "\n",
       "    .dataframe tbody tr th {\n",
       "        vertical-align: top;\n",
       "    }\n",
       "\n",
       "    .dataframe thead th {\n",
       "        text-align: right;\n",
       "    }\n",
       "</style>\n",
       "<table border=\"1\" class=\"dataframe\">\n",
       "  <thead>\n",
       "    <tr style=\"text-align: right;\">\n",
       "      <th></th>\n",
       "      <th>country</th>\n",
       "      <th>description</th>\n",
       "      <th>designation</th>\n",
       "      <th>points</th>\n",
       "      <th>price</th>\n",
       "      <th>province</th>\n",
       "      <th>region_1</th>\n",
       "      <th>region_2</th>\n",
       "      <th>variety</th>\n",
       "      <th>winery</th>\n",
       "      <th>taster_name</th>\n",
       "      <th>taster_twitter_handle</th>\n",
       "      <th>title</th>\n",
       "    </tr>\n",
       "  </thead>\n",
       "  <tbody>\n",
       "    <tr>\n",
       "      <th>0</th>\n",
       "      <td>US</td>\n",
       "      <td>This tremendous 100% varietal wine hails from ...</td>\n",
       "      <td>Martha's Vineyard</td>\n",
       "      <td>96</td>\n",
       "      <td>235.0</td>\n",
       "      <td>California</td>\n",
       "      <td>Napa Valley</td>\n",
       "      <td>Napa</td>\n",
       "      <td>Cabernet Sauvignon</td>\n",
       "      <td>Heitz</td>\n",
       "      <td>NaN</td>\n",
       "      <td>NaN</td>\n",
       "      <td>NaN</td>\n",
       "    </tr>\n",
       "    <tr>\n",
       "      <th>1</th>\n",
       "      <td>Spain</td>\n",
       "      <td>Ripe aromas of fig, blackberry and cassis are ...</td>\n",
       "      <td>Carodorum Selección Especial Reserva</td>\n",
       "      <td>96</td>\n",
       "      <td>110.0</td>\n",
       "      <td>Northern Spain</td>\n",
       "      <td>Toro</td>\n",
       "      <td>NaN</td>\n",
       "      <td>Tinta de Toro</td>\n",
       "      <td>Bodega Carmen Rodríguez</td>\n",
       "      <td>NaN</td>\n",
       "      <td>NaN</td>\n",
       "      <td>NaN</td>\n",
       "    </tr>\n",
       "    <tr>\n",
       "      <th>2</th>\n",
       "      <td>US</td>\n",
       "      <td>Mac Watson honors the memory of a wine once ma...</td>\n",
       "      <td>Special Selected Late Harvest</td>\n",
       "      <td>96</td>\n",
       "      <td>90.0</td>\n",
       "      <td>California</td>\n",
       "      <td>Knights Valley</td>\n",
       "      <td>Sonoma</td>\n",
       "      <td>Sauvignon Blanc</td>\n",
       "      <td>Macauley</td>\n",
       "      <td>NaN</td>\n",
       "      <td>NaN</td>\n",
       "      <td>NaN</td>\n",
       "    </tr>\n",
       "    <tr>\n",
       "      <th>3</th>\n",
       "      <td>US</td>\n",
       "      <td>This spent 20 months in 30% new French oak, an...</td>\n",
       "      <td>Reserve</td>\n",
       "      <td>96</td>\n",
       "      <td>65.0</td>\n",
       "      <td>Oregon</td>\n",
       "      <td>Willamette Valley</td>\n",
       "      <td>Willamette Valley</td>\n",
       "      <td>Pinot Noir</td>\n",
       "      <td>Ponzi</td>\n",
       "      <td>NaN</td>\n",
       "      <td>NaN</td>\n",
       "      <td>NaN</td>\n",
       "    </tr>\n",
       "    <tr>\n",
       "      <th>4</th>\n",
       "      <td>France</td>\n",
       "      <td>This is the top wine from La Bégude, named aft...</td>\n",
       "      <td>La Brûlade</td>\n",
       "      <td>95</td>\n",
       "      <td>66.0</td>\n",
       "      <td>Provence</td>\n",
       "      <td>Bandol</td>\n",
       "      <td>NaN</td>\n",
       "      <td>Provence red blend</td>\n",
       "      <td>Domaine de la Bégude</td>\n",
       "      <td>NaN</td>\n",
       "      <td>NaN</td>\n",
       "      <td>NaN</td>\n",
       "    </tr>\n",
       "    <tr>\n",
       "      <th>...</th>\n",
       "      <td>...</td>\n",
       "      <td>...</td>\n",
       "      <td>...</td>\n",
       "      <td>...</td>\n",
       "      <td>...</td>\n",
       "      <td>...</td>\n",
       "      <td>...</td>\n",
       "      <td>...</td>\n",
       "      <td>...</td>\n",
       "      <td>...</td>\n",
       "      <td>...</td>\n",
       "      <td>...</td>\n",
       "      <td>...</td>\n",
       "    </tr>\n",
       "    <tr>\n",
       "      <th>280896</th>\n",
       "      <td>Germany</td>\n",
       "      <td>Notes of honeysuckle and cantaloupe sweeten th...</td>\n",
       "      <td>Brauneberger Juffer-Sonnenuhr Spätlese</td>\n",
       "      <td>90</td>\n",
       "      <td>28.0</td>\n",
       "      <td>Mosel</td>\n",
       "      <td>NaN</td>\n",
       "      <td>NaN</td>\n",
       "      <td>Riesling</td>\n",
       "      <td>Dr. H. Thanisch (Erben Müller-Burggraef)</td>\n",
       "      <td>Anna Lee C. Iijima</td>\n",
       "      <td>NaN</td>\n",
       "      <td>Dr. H. Thanisch (Erben Müller-Burggraef) 2013 ...</td>\n",
       "    </tr>\n",
       "    <tr>\n",
       "      <th>280897</th>\n",
       "      <td>US</td>\n",
       "      <td>Citation is given as much as a decade of bottl...</td>\n",
       "      <td>NaN</td>\n",
       "      <td>90</td>\n",
       "      <td>75.0</td>\n",
       "      <td>Oregon</td>\n",
       "      <td>Oregon</td>\n",
       "      <td>Oregon Other</td>\n",
       "      <td>Pinot Noir</td>\n",
       "      <td>Citation</td>\n",
       "      <td>Paul Gregutt</td>\n",
       "      <td>@paulgwine</td>\n",
       "      <td>Citation 2004 Pinot Noir (Oregon)</td>\n",
       "    </tr>\n",
       "    <tr>\n",
       "      <th>280898</th>\n",
       "      <td>France</td>\n",
       "      <td>Well-drained gravel soil gives this wine its c...</td>\n",
       "      <td>Kritt</td>\n",
       "      <td>90</td>\n",
       "      <td>30.0</td>\n",
       "      <td>Alsace</td>\n",
       "      <td>Alsace</td>\n",
       "      <td>NaN</td>\n",
       "      <td>Gewürztraminer</td>\n",
       "      <td>Domaine Gresser</td>\n",
       "      <td>Roger Voss</td>\n",
       "      <td>@vossroger</td>\n",
       "      <td>Domaine Gresser 2013 Kritt Gewurztraminer (Als...</td>\n",
       "    </tr>\n",
       "    <tr>\n",
       "      <th>280899</th>\n",
       "      <td>France</td>\n",
       "      <td>A dry style of Pinot Gris, this is crisp with ...</td>\n",
       "      <td>NaN</td>\n",
       "      <td>90</td>\n",
       "      <td>32.0</td>\n",
       "      <td>Alsace</td>\n",
       "      <td>Alsace</td>\n",
       "      <td>NaN</td>\n",
       "      <td>Pinot Gris</td>\n",
       "      <td>Domaine Marcel Deiss</td>\n",
       "      <td>Roger Voss</td>\n",
       "      <td>@vossroger</td>\n",
       "      <td>Domaine Marcel Deiss 2012 Pinot Gris (Alsace)</td>\n",
       "    </tr>\n",
       "    <tr>\n",
       "      <th>280900</th>\n",
       "      <td>France</td>\n",
       "      <td>Big, rich and off-dry, this is powered by inte...</td>\n",
       "      <td>Lieu-dit Harth Cuvée Caroline</td>\n",
       "      <td>90</td>\n",
       "      <td>21.0</td>\n",
       "      <td>Alsace</td>\n",
       "      <td>Alsace</td>\n",
       "      <td>NaN</td>\n",
       "      <td>Gewürztraminer</td>\n",
       "      <td>Domaine Schoffit</td>\n",
       "      <td>Roger Voss</td>\n",
       "      <td>@vossroger</td>\n",
       "      <td>Domaine Schoffit 2012 Lieu-dit Harth Cuvée Car...</td>\n",
       "    </tr>\n",
       "  </tbody>\n",
       "</table>\n",
       "<p>280901 rows × 13 columns</p>\n",
       "</div>"
      ],
      "text/plain": [
       "        country                                        description  \\\n",
       "0            US  This tremendous 100% varietal wine hails from ...   \n",
       "1         Spain  Ripe aromas of fig, blackberry and cassis are ...   \n",
       "2            US  Mac Watson honors the memory of a wine once ma...   \n",
       "3            US  This spent 20 months in 30% new French oak, an...   \n",
       "4        France  This is the top wine from La Bégude, named aft...   \n",
       "...         ...                                                ...   \n",
       "280896  Germany  Notes of honeysuckle and cantaloupe sweeten th...   \n",
       "280897       US  Citation is given as much as a decade of bottl...   \n",
       "280898   France  Well-drained gravel soil gives this wine its c...   \n",
       "280899   France  A dry style of Pinot Gris, this is crisp with ...   \n",
       "280900   France  Big, rich and off-dry, this is powered by inte...   \n",
       "\n",
       "                                   designation  points  price        province  \\\n",
       "0                            Martha's Vineyard      96  235.0      California   \n",
       "1         Carodorum Selección Especial Reserva      96  110.0  Northern Spain   \n",
       "2                Special Selected Late Harvest      96   90.0      California   \n",
       "3                                      Reserve      96   65.0          Oregon   \n",
       "4                                   La Brûlade      95   66.0        Provence   \n",
       "...                                        ...     ...    ...             ...   \n",
       "280896  Brauneberger Juffer-Sonnenuhr Spätlese      90   28.0           Mosel   \n",
       "280897                                     NaN      90   75.0          Oregon   \n",
       "280898                                   Kritt      90   30.0          Alsace   \n",
       "280899                                     NaN      90   32.0          Alsace   \n",
       "280900           Lieu-dit Harth Cuvée Caroline      90   21.0          Alsace   \n",
       "\n",
       "                 region_1           region_2             variety  \\\n",
       "0             Napa Valley               Napa  Cabernet Sauvignon   \n",
       "1                    Toro                NaN       Tinta de Toro   \n",
       "2          Knights Valley             Sonoma     Sauvignon Blanc   \n",
       "3       Willamette Valley  Willamette Valley          Pinot Noir   \n",
       "4                  Bandol                NaN  Provence red blend   \n",
       "...                   ...                ...                 ...   \n",
       "280896                NaN                NaN            Riesling   \n",
       "280897             Oregon       Oregon Other          Pinot Noir   \n",
       "280898             Alsace                NaN      Gewürztraminer   \n",
       "280899             Alsace                NaN          Pinot Gris   \n",
       "280900             Alsace                NaN      Gewürztraminer   \n",
       "\n",
       "                                          winery         taster_name  \\\n",
       "0                                          Heitz                 NaN   \n",
       "1                        Bodega Carmen Rodríguez                 NaN   \n",
       "2                                       Macauley                 NaN   \n",
       "3                                          Ponzi                 NaN   \n",
       "4                           Domaine de la Bégude                 NaN   \n",
       "...                                          ...                 ...   \n",
       "280896  Dr. H. Thanisch (Erben Müller-Burggraef)  Anna Lee C. Iijima   \n",
       "280897                                  Citation        Paul Gregutt   \n",
       "280898                           Domaine Gresser          Roger Voss   \n",
       "280899                      Domaine Marcel Deiss          Roger Voss   \n",
       "280900                          Domaine Schoffit          Roger Voss   \n",
       "\n",
       "       taster_twitter_handle  \\\n",
       "0                        NaN   \n",
       "1                        NaN   \n",
       "2                        NaN   \n",
       "3                        NaN   \n",
       "4                        NaN   \n",
       "...                      ...   \n",
       "280896                   NaN   \n",
       "280897           @paulgwine    \n",
       "280898            @vossroger   \n",
       "280899            @vossroger   \n",
       "280900            @vossroger   \n",
       "\n",
       "                                                    title  \n",
       "0                                                     NaN  \n",
       "1                                                     NaN  \n",
       "2                                                     NaN  \n",
       "3                                                     NaN  \n",
       "4                                                     NaN  \n",
       "...                                                   ...  \n",
       "280896  Dr. H. Thanisch (Erben Müller-Burggraef) 2013 ...  \n",
       "280897                  Citation 2004 Pinot Noir (Oregon)  \n",
       "280898  Domaine Gresser 2013 Kritt Gewurztraminer (Als...  \n",
       "280899      Domaine Marcel Deiss 2012 Pinot Gris (Alsace)  \n",
       "280900  Domaine Schoffit 2012 Lieu-dit Harth Cuvée Car...  \n",
       "\n",
       "[280901 rows x 13 columns]"
      ]
     },
     "execution_count": 7,
     "metadata": {},
     "output_type": "execute_result"
    }
   ],
   "source": [
    "dataset.reset_index(drop=True)"
   ]
  },
  {
   "cell_type": "code",
   "execution_count": 8,
   "id": "fe5e8938",
   "metadata": {
    "scrolled": false
   },
   "outputs": [
    {
     "data": {
      "text/html": [
       "<div>\n",
       "<style scoped>\n",
       "    .dataframe tbody tr th:only-of-type {\n",
       "        vertical-align: middle;\n",
       "    }\n",
       "\n",
       "    .dataframe tbody tr th {\n",
       "        vertical-align: top;\n",
       "    }\n",
       "\n",
       "    .dataframe thead th {\n",
       "        text-align: right;\n",
       "    }\n",
       "</style>\n",
       "<table border=\"1\" class=\"dataframe\">\n",
       "  <thead>\n",
       "    <tr style=\"text-align: right;\">\n",
       "      <th></th>\n",
       "      <th>country</th>\n",
       "      <th>description</th>\n",
       "      <th>designation</th>\n",
       "      <th>points</th>\n",
       "      <th>price</th>\n",
       "      <th>province</th>\n",
       "      <th>region_1</th>\n",
       "      <th>region_2</th>\n",
       "      <th>variety</th>\n",
       "      <th>winery</th>\n",
       "      <th>taster_name</th>\n",
       "      <th>taster_twitter_handle</th>\n",
       "      <th>title</th>\n",
       "    </tr>\n",
       "  </thead>\n",
       "  <tbody>\n",
       "    <tr>\n",
       "      <th>0</th>\n",
       "      <td>US</td>\n",
       "      <td>This tremendous 100% varietal wine hails from ...</td>\n",
       "      <td>Martha's Vineyard</td>\n",
       "      <td>96</td>\n",
       "      <td>235.0</td>\n",
       "      <td>California</td>\n",
       "      <td>Napa Valley</td>\n",
       "      <td>Napa</td>\n",
       "      <td>Cabernet Sauvignon</td>\n",
       "      <td>Heitz</td>\n",
       "      <td>NaN</td>\n",
       "      <td>NaN</td>\n",
       "      <td>NaN</td>\n",
       "    </tr>\n",
       "    <tr>\n",
       "      <th>1</th>\n",
       "      <td>Spain</td>\n",
       "      <td>Ripe aromas of fig, blackberry and cassis are ...</td>\n",
       "      <td>Carodorum Selección Especial Reserva</td>\n",
       "      <td>96</td>\n",
       "      <td>110.0</td>\n",
       "      <td>Northern Spain</td>\n",
       "      <td>Toro</td>\n",
       "      <td>NaN</td>\n",
       "      <td>Tinta de Toro</td>\n",
       "      <td>Bodega Carmen Rodríguez</td>\n",
       "      <td>NaN</td>\n",
       "      <td>NaN</td>\n",
       "      <td>NaN</td>\n",
       "    </tr>\n",
       "    <tr>\n",
       "      <th>2</th>\n",
       "      <td>US</td>\n",
       "      <td>Mac Watson honors the memory of a wine once ma...</td>\n",
       "      <td>Special Selected Late Harvest</td>\n",
       "      <td>96</td>\n",
       "      <td>90.0</td>\n",
       "      <td>California</td>\n",
       "      <td>Knights Valley</td>\n",
       "      <td>Sonoma</td>\n",
       "      <td>Sauvignon Blanc</td>\n",
       "      <td>Macauley</td>\n",
       "      <td>NaN</td>\n",
       "      <td>NaN</td>\n",
       "      <td>NaN</td>\n",
       "    </tr>\n",
       "    <tr>\n",
       "      <th>3</th>\n",
       "      <td>US</td>\n",
       "      <td>This spent 20 months in 30% new French oak, an...</td>\n",
       "      <td>Reserve</td>\n",
       "      <td>96</td>\n",
       "      <td>65.0</td>\n",
       "      <td>Oregon</td>\n",
       "      <td>Willamette Valley</td>\n",
       "      <td>Willamette Valley</td>\n",
       "      <td>Pinot Noir</td>\n",
       "      <td>Ponzi</td>\n",
       "      <td>NaN</td>\n",
       "      <td>NaN</td>\n",
       "      <td>NaN</td>\n",
       "    </tr>\n",
       "    <tr>\n",
       "      <th>4</th>\n",
       "      <td>France</td>\n",
       "      <td>This is the top wine from La Bégude, named aft...</td>\n",
       "      <td>La Brûlade</td>\n",
       "      <td>95</td>\n",
       "      <td>66.0</td>\n",
       "      <td>Provence</td>\n",
       "      <td>Bandol</td>\n",
       "      <td>NaN</td>\n",
       "      <td>Provence red blend</td>\n",
       "      <td>Domaine de la Bégude</td>\n",
       "      <td>NaN</td>\n",
       "      <td>NaN</td>\n",
       "      <td>NaN</td>\n",
       "    </tr>\n",
       "  </tbody>\n",
       "</table>\n",
       "</div>"
      ],
      "text/plain": [
       "  country                                        description  \\\n",
       "0      US  This tremendous 100% varietal wine hails from ...   \n",
       "1   Spain  Ripe aromas of fig, blackberry and cassis are ...   \n",
       "2      US  Mac Watson honors the memory of a wine once ma...   \n",
       "3      US  This spent 20 months in 30% new French oak, an...   \n",
       "4  France  This is the top wine from La Bégude, named aft...   \n",
       "\n",
       "                            designation  points  price        province  \\\n",
       "0                     Martha's Vineyard      96  235.0      California   \n",
       "1  Carodorum Selección Especial Reserva      96  110.0  Northern Spain   \n",
       "2         Special Selected Late Harvest      96   90.0      California   \n",
       "3                               Reserve      96   65.0          Oregon   \n",
       "4                            La Brûlade      95   66.0        Provence   \n",
       "\n",
       "            region_1           region_2             variety  \\\n",
       "0        Napa Valley               Napa  Cabernet Sauvignon   \n",
       "1               Toro                NaN       Tinta de Toro   \n",
       "2     Knights Valley             Sonoma     Sauvignon Blanc   \n",
       "3  Willamette Valley  Willamette Valley          Pinot Noir   \n",
       "4             Bandol                NaN  Provence red blend   \n",
       "\n",
       "                    winery taster_name taster_twitter_handle title  \n",
       "0                    Heitz         NaN                   NaN   NaN  \n",
       "1  Bodega Carmen Rodríguez         NaN                   NaN   NaN  \n",
       "2                 Macauley         NaN                   NaN   NaN  \n",
       "3                    Ponzi         NaN                   NaN   NaN  \n",
       "4     Domaine de la Bégude         NaN                   NaN   NaN  "
      ]
     },
     "execution_count": 8,
     "metadata": {},
     "output_type": "execute_result"
    }
   ],
   "source": [
    "#Vaatan, mis toimub\n",
    "dataset.head()"
   ]
  },
  {
   "cell_type": "code",
   "execution_count": 9,
   "id": "1c08588f",
   "metadata": {},
   "outputs": [],
   "source": [
    "new_stopwords = dataset.country.astype(str).unique().tolist()\n",
    "new_stopwords = [x.lower() for x in new_stopwords]\n",
    "#new_stopwords[0:5]"
   ]
  },
  {
   "cell_type": "code",
   "execution_count": 10,
   "id": "2ff6e45c",
   "metadata": {},
   "outputs": [],
   "source": [
    "stop_phrases = dataset.variety.astype(str).unique().tolist()\n",
    "stop_phrases = [x.lower() for x in stop_phrases]"
   ]
  },
  {
   "cell_type": "code",
   "execution_count": 11,
   "id": "0c8d783b",
   "metadata": {},
   "outputs": [],
   "source": [
    "country_phrases = [x for x in new_stopwords if \" \" in x]"
   ]
  },
  {
   "cell_type": "code",
   "execution_count": 12,
   "id": "aac63acc",
   "metadata": {},
   "outputs": [],
   "source": [
    "stop_phrases.extend(country_phrases)"
   ]
  },
  {
   "cell_type": "code",
   "execution_count": 13,
   "id": "1201da0b",
   "metadata": {},
   "outputs": [],
   "source": [
    "new_stopwords = list(filter(lambda x: x not in country_phrases, new_stopwords))"
   ]
  },
  {
   "cell_type": "code",
   "execution_count": 14,
   "id": "72b2160e",
   "metadata": {},
   "outputs": [],
   "source": [
    "variety_words = [x for x in stop_phrases if \" \" not in x]"
   ]
  },
  {
   "cell_type": "code",
   "execution_count": 15,
   "id": "d643f5f0",
   "metadata": {},
   "outputs": [],
   "source": [
    "new_stopwords.extend(variety_words)"
   ]
  },
  {
   "cell_type": "code",
   "execution_count": 16,
   "id": "d2d9f4a4",
   "metadata": {},
   "outputs": [],
   "source": [
    "stop_phrases = list(filter(lambda x: x not in variety_words, stop_phrases))"
   ]
  },
  {
   "cell_type": "code",
   "execution_count": 17,
   "id": "eceaa30d",
   "metadata": {},
   "outputs": [],
   "source": [
    "lemmatizer = WordNetLemmatizer()"
   ]
  },
  {
   "cell_type": "code",
   "execution_count": 18,
   "id": "e609d71e",
   "metadata": {},
   "outputs": [],
   "source": [
    "desc = dataset.description"
   ]
  },
  {
   "cell_type": "code",
   "execution_count": 19,
   "id": "d1e7b380",
   "metadata": {},
   "outputs": [],
   "source": [
    "reviews_lower = [x.lower() for x in desc]"
   ]
  },
  {
   "cell_type": "code",
   "execution_count": 20,
   "id": "deb9603d",
   "metadata": {},
   "outputs": [],
   "source": [
    "reviews_lower_cl = [re.sub('[(.,!?)]', '', x) for x in reviews_lower]"
   ]
  },
  {
   "cell_type": "code",
   "execution_count": 21,
   "id": "990e7689",
   "metadata": {},
   "outputs": [
    {
     "data": {
      "text/plain": [
       "'this tremendous 100% varietal wine hails from oakville and was aged over three years in oak juicy red-cherry fruit and a compelling hint of caramel greet the palate framed by elegant fine tannins and a subtle minty tone in the background balanced and rewarding from start to finish it has years ahead of it to develop further nuance enjoy 2022–2030'"
      ]
     },
     "execution_count": 21,
     "metadata": {},
     "output_type": "execute_result"
    }
   ],
   "source": [
    "reviews_lower_cl[0]"
   ]
  },
  {
   "cell_type": "code",
   "execution_count": 22,
   "id": "06ebc0e9",
   "metadata": {},
   "outputs": [],
   "source": [
    "reviews_sent = [nltk.sent_tokenize(x) for x in reviews_lower_cl]"
   ]
  },
  {
   "cell_type": "code",
   "execution_count": 23,
   "id": "027cdf9a",
   "metadata": {},
   "outputs": [],
   "source": [
    "reviews_sent = [y for x in reviews_sent for y in x]"
   ]
  },
  {
   "cell_type": "code",
   "execution_count": 24,
   "id": "731f6e8a",
   "metadata": {},
   "outputs": [
    {
     "data": {
      "text/plain": [
       "'this tremendous 100% varietal wine hails from oakville and was aged over three years in oak juicy red-cherry fruit and a compelling hint of caramel greet the palate framed by elegant fine tannins and a subtle minty tone in the background balanced and rewarding from start to finish it has years ahead of it to develop further nuance enjoy 2022–2030'"
      ]
     },
     "execution_count": 24,
     "metadata": {},
     "output_type": "execute_result"
    }
   ],
   "source": [
    "reviews_sent[0]"
   ]
  },
  {
   "cell_type": "code",
   "execution_count": 25,
   "id": "1aaf739f",
   "metadata": {},
   "outputs": [],
   "source": [
    "reviews_words = [nltk.word_tokenize(x) for x in reviews_sent]"
   ]
  },
  {
   "cell_type": "code",
   "execution_count": 26,
   "id": "d843257f",
   "metadata": {
    "scrolled": true
   },
   "outputs": [
    {
     "data": {
      "text/plain": [
       "['this',\n",
       " 'tremendous',\n",
       " '100',\n",
       " '%',\n",
       " 'varietal',\n",
       " 'wine',\n",
       " 'hails',\n",
       " 'from',\n",
       " 'oakville',\n",
       " 'and',\n",
       " 'was',\n",
       " 'aged',\n",
       " 'over',\n",
       " 'three',\n",
       " 'years',\n",
       " 'in',\n",
       " 'oak',\n",
       " 'juicy',\n",
       " 'red-cherry',\n",
       " 'fruit',\n",
       " 'and',\n",
       " 'a',\n",
       " 'compelling',\n",
       " 'hint',\n",
       " 'of',\n",
       " 'caramel',\n",
       " 'greet',\n",
       " 'the',\n",
       " 'palate',\n",
       " 'framed',\n",
       " 'by',\n",
       " 'elegant',\n",
       " 'fine',\n",
       " 'tannins',\n",
       " 'and',\n",
       " 'a',\n",
       " 'subtle',\n",
       " 'minty',\n",
       " 'tone',\n",
       " 'in',\n",
       " 'the',\n",
       " 'background',\n",
       " 'balanced',\n",
       " 'and',\n",
       " 'rewarding',\n",
       " 'from',\n",
       " 'start',\n",
       " 'to',\n",
       " 'finish',\n",
       " 'it',\n",
       " 'has',\n",
       " 'years',\n",
       " 'ahead',\n",
       " 'of',\n",
       " 'it',\n",
       " 'to',\n",
       " 'develop',\n",
       " 'further',\n",
       " 'nuance',\n",
       " 'enjoy',\n",
       " '2022–2030']"
      ]
     },
     "execution_count": 26,
     "metadata": {},
     "output_type": "execute_result"
    }
   ],
   "source": [
    "reviews_words[0]"
   ]
  },
  {
   "cell_type": "code",
   "execution_count": 27,
   "id": "742ffba0",
   "metadata": {},
   "outputs": [],
   "source": [
    "for i in range(len(reviews_words)):\n",
    "    reviews_words[i] = [lemmatizer.lemmatize(w) for w in reviews_words[i]]"
   ]
  },
  {
   "cell_type": "code",
   "execution_count": 28,
   "id": "f735db77",
   "metadata": {},
   "outputs": [],
   "source": [
    "reviews_lemmatized = [' '.join(x) for x in reviews_words]"
   ]
  },
  {
   "cell_type": "code",
   "execution_count": 29,
   "id": "a7a36220",
   "metadata": {},
   "outputs": [
    {
     "data": {
      "text/plain": [
       "'this tremendous 100 % varietal wine hail from oakville and wa aged over three year in oak juicy red-cherry fruit and a compelling hint of caramel greet the palate framed by elegant fine tannin and a subtle minty tone in the background balanced and rewarding from start to finish it ha year ahead of it to develop further nuance enjoy 2022–2030'"
      ]
     },
     "execution_count": 29,
     "metadata": {},
     "output_type": "execute_result"
    }
   ],
   "source": [
    "reviews_lemmatized[0]"
   ]
  },
  {
   "cell_type": "code",
   "execution_count": 30,
   "id": "d6f471b2",
   "metadata": {},
   "outputs": [
    {
     "data": {
      "text/plain": [
       "'cabernet sauvignon'"
      ]
     },
     "execution_count": 30,
     "metadata": {},
     "output_type": "execute_result"
    }
   ],
   "source": [
    "stop_phrases[0]"
   ]
  },
  {
   "cell_type": "code",
   "execution_count": 31,
   "id": "a5047934",
   "metadata": {},
   "outputs": [
    {
     "name": "stdout",
     "output_type": "stream",
     "text": [
      "this savory blend of 40 % merlot 30 % cabernet sauvignon 25 % cabernet franc and 5 % syrah open with aroma of roasted coffee bean leather tobacco and dark woodland berry the chewy palate offer juicy plum cassis and clove alongside polished tannin drink through 2019\n",
      "Index: 59\n"
     ]
    }
   ],
   "source": [
    "#To check if stop phrase removal actually works, we find one description with stop phrase \"cabernet sauvignon\" and its index\n",
    "for i in range(len(reviews_lemmatized)):\n",
    "    if stop_phrases[0] in reviews_lemmatized[i]:\n",
    "        print(reviews_lemmatized[i])\n",
    "        print(\"Index:\", i)\n",
    "        break"
   ]
  },
  {
   "cell_type": "code",
   "execution_count": 32,
   "id": "c735e5e1",
   "metadata": {},
   "outputs": [],
   "source": [
    "#Removing stop phrases\n",
    "for x in stop_phrases:\n",
    "    for i in range(len(reviews_lemmatized)):\n",
    "        reviews_lemmatized[i] = re.sub(x, \"\", reviews_lemmatized[i])"
   ]
  },
  {
   "cell_type": "code",
   "execution_count": 33,
   "id": "a8412aa6",
   "metadata": {},
   "outputs": [
    {
     "data": {
      "text/plain": [
       "'this savory blend of 40 % merlot 30 %  25 %  and 5 % syrah open with aroma of roasted coffee bean leather tobacco and dark woodland berry the chewy palate offer juicy plum cassis and clove alongside polished tannin drink through 2019'"
      ]
     },
     "execution_count": 33,
     "metadata": {},
     "output_type": "execute_result"
    }
   ],
   "source": [
    "reviews_lemmatized[59]"
   ]
  },
  {
   "cell_type": "code",
   "execution_count": 34,
   "id": "cb0bad0b",
   "metadata": {},
   "outputs": [],
   "source": [
    "#Further cleanup\n",
    "cleaned_reviews = [re.sub('[^a-zA-Z-]', ' ', x) for x in reviews_lemmatized]\n",
    "cleaned_reviews = [re.sub(r'\\s+', ' ', x) for x in cleaned_reviews]"
   ]
  },
  {
   "cell_type": "code",
   "execution_count": 35,
   "id": "2b2e78c3",
   "metadata": {},
   "outputs": [
    {
     "data": {
      "text/plain": [
       "'this savory blend of merlot and syrah open with aroma of roasted coffee bean leather tobacco and dark woodland berry the chewy palate offer juicy plum cassis and clove alongside polished tannin drink through '"
      ]
     },
     "execution_count": 35,
     "metadata": {},
     "output_type": "execute_result"
    }
   ],
   "source": [
    "cleaned_reviews[59]"
   ]
  },
  {
   "cell_type": "code",
   "execution_count": 36,
   "id": "57422739",
   "metadata": {},
   "outputs": [],
   "source": [
    "#Tokenizing the descriptions again\n",
    "reviews = [nltk.word_tokenize(x) for x in cleaned_reviews]"
   ]
  },
  {
   "cell_type": "code",
   "execution_count": 37,
   "id": "3b8f41ea",
   "metadata": {
    "scrolled": false
   },
   "outputs": [
    {
     "data": {
      "text/plain": [
       "['this',\n",
       " 'savory',\n",
       " 'blend',\n",
       " 'of',\n",
       " 'merlot',\n",
       " 'and',\n",
       " 'syrah',\n",
       " 'open',\n",
       " 'with',\n",
       " 'aroma',\n",
       " 'of',\n",
       " 'roasted',\n",
       " 'coffee',\n",
       " 'bean',\n",
       " 'leather',\n",
       " 'tobacco',\n",
       " 'and',\n",
       " 'dark',\n",
       " 'woodland',\n",
       " 'berry',\n",
       " 'the',\n",
       " 'chewy',\n",
       " 'palate',\n",
       " 'offer',\n",
       " 'juicy',\n",
       " 'plum',\n",
       " 'cassis',\n",
       " 'and',\n",
       " 'clove',\n",
       " 'alongside',\n",
       " 'polished',\n",
       " 'tannin',\n",
       " 'drink',\n",
       " 'through']"
      ]
     },
     "execution_count": 37,
     "metadata": {},
     "output_type": "execute_result"
    }
   ],
   "source": [
    "reviews[59]"
   ]
  },
  {
   "cell_type": "code",
   "execution_count": 38,
   "id": "c4f29c44",
   "metadata": {},
   "outputs": [],
   "source": [
    "stop_words = stopwords.words('english')\n",
    "stop_words.extend(new_stopwords)"
   ]
  },
  {
   "cell_type": "code",
   "execution_count": 39,
   "id": "a3f62aa2",
   "metadata": {
    "scrolled": true
   },
   "outputs": [],
   "source": [
    "for i in range(len(reviews)):\n",
    "    reviews[i] = [w for w in reviews[i] if w not in stop_words and len(w) > 2 if w != 'no']"
   ]
  },
  {
   "cell_type": "code",
   "execution_count": 40,
   "id": "a9875981",
   "metadata": {},
   "outputs": [
    {
     "data": {
      "text/plain": [
       "['savory',\n",
       " 'blend',\n",
       " 'open',\n",
       " 'aroma',\n",
       " 'roasted',\n",
       " 'coffee',\n",
       " 'bean',\n",
       " 'leather',\n",
       " 'tobacco',\n",
       " 'dark',\n",
       " 'woodland',\n",
       " 'berry',\n",
       " 'chewy',\n",
       " 'palate',\n",
       " 'offer',\n",
       " 'juicy',\n",
       " 'plum',\n",
       " 'cassis',\n",
       " 'clove',\n",
       " 'alongside',\n",
       " 'polished',\n",
       " 'tannin',\n",
       " 'drink']"
      ]
     },
     "execution_count": 40,
     "metadata": {},
     "output_type": "execute_result"
    }
   ],
   "source": [
    "reviews[59]"
   ]
  },
  {
   "cell_type": "code",
   "execution_count": 41,
   "id": "0d148b67",
   "metadata": {},
   "outputs": [],
   "source": [
    "model = Word2Vec(reviews, vector_size = 200 , window = 4 , min_count = 1,\n",
    "                               seed = 1000, hs = 0, negative = 10,workers=16, epochs = 25)"
   ]
  },
  {
   "cell_type": "code",
   "execution_count": 42,
   "id": "6db35286",
   "metadata": {},
   "outputs": [],
   "source": [
    "model.save(\"word2vec.model\")"
   ]
  },
  {
   "cell_type": "code",
   "execution_count": 59,
   "id": "ba17fc38",
   "metadata": {},
   "outputs": [],
   "source": [
    "model = Word2Vec.load(\"word2vec.model\")"
   ]
  },
  {
   "cell_type": "code",
   "execution_count": 60,
   "id": "7013ee75",
   "metadata": {},
   "outputs": [
    {
     "data": {
      "text/plain": [
       "[('sweetened', 0.5852560997009277),\n",
       " ('flavor', 0.5016254782676697),\n",
       " ('sugared', 0.47867006063461304),\n",
       " ('sweetness', 0.4755883812904358),\n",
       " ('sweet-tasting', 0.46789807081222534),\n",
       " ('vanilla', 0.46550998091697693),\n",
       " ('candied', 0.4614405333995819),\n",
       " ('sugary', 0.4556955397129059),\n",
       " ('jam', 0.4547452926635742),\n",
       " ('ripe', 0.45299452543258667)]"
      ]
     },
     "execution_count": 60,
     "metadata": {},
     "output_type": "execute_result"
    }
   ],
   "source": [
    "model.wv.most_similar('sweet')"
   ]
  },
  {
   "cell_type": "code",
   "execution_count": 61,
   "id": "a406a059",
   "metadata": {},
   "outputs": [
    {
     "data": {
      "text/plain": [
       "[('bone-dry', 0.5593643188476562),\n",
       " ('dryness', 0.5414596796035767),\n",
       " ('drily', 0.4645724892616272),\n",
       " ('dryish', 0.39528146386146545),\n",
       " ('fine', 0.3658676743507385),\n",
       " ('framing', 0.3652210533618927),\n",
       " ('scour', 0.36322686076164246),\n",
       " ('brisk', 0.3630562424659729),\n",
       " ('bite', 0.36218559741973877),\n",
       " ('drier', 0.34734490513801575)]"
      ]
     },
     "execution_count": 61,
     "metadata": {},
     "output_type": "execute_result"
    }
   ],
   "source": [
    "model.wv.most_similar('dry')"
   ]
  },
  {
   "cell_type": "code",
   "execution_count": 46,
   "id": "33bd462d",
   "metadata": {},
   "outputs": [
    {
     "data": {
      "text/plain": [
       "['tremendous',\n",
       " 'varietal',\n",
       " 'wine',\n",
       " 'hail',\n",
       " 'oakville',\n",
       " 'aged',\n",
       " 'three',\n",
       " 'year',\n",
       " 'oak',\n",
       " 'juicy',\n",
       " 'red-cherry',\n",
       " 'fruit',\n",
       " 'compelling',\n",
       " 'hint',\n",
       " 'caramel',\n",
       " 'greet',\n",
       " 'palate',\n",
       " 'framed',\n",
       " 'elegant',\n",
       " 'fine',\n",
       " 'tannin',\n",
       " 'subtle',\n",
       " 'minty',\n",
       " 'tone',\n",
       " 'background',\n",
       " 'balanced',\n",
       " 'rewarding',\n",
       " 'start',\n",
       " 'finish',\n",
       " 'year',\n",
       " 'ahead',\n",
       " 'develop',\n",
       " 'nuance',\n",
       " 'enjoy']"
      ]
     },
     "execution_count": 46,
     "metadata": {},
     "output_type": "execute_result"
    }
   ],
   "source": [
    "reviews[0]"
   ]
  },
  {
   "cell_type": "code",
   "execution_count": 47,
   "id": "0d56adc2",
   "metadata": {},
   "outputs": [
    {
     "data": {
      "text/plain": [
       "['ripe',\n",
       " 'aroma',\n",
       " 'fig',\n",
       " 'blackberry',\n",
       " 'cassis',\n",
       " 'softened',\n",
       " 'sweetened',\n",
       " 'slathering',\n",
       " 'oaky',\n",
       " 'chocolate',\n",
       " 'vanilla',\n",
       " 'full',\n",
       " 'layered',\n",
       " 'intense',\n",
       " 'cushioned',\n",
       " 'palate',\n",
       " 'rich',\n",
       " 'flavor',\n",
       " 'chocolaty',\n",
       " 'black',\n",
       " 'fruit',\n",
       " 'baking',\n",
       " 'spice',\n",
       " 'toasty',\n",
       " 'everlasting',\n",
       " 'finish',\n",
       " 'heady',\n",
       " 'ideally',\n",
       " 'balanced',\n",
       " 'drink']"
      ]
     },
     "execution_count": 47,
     "metadata": {},
     "output_type": "execute_result"
    }
   ],
   "source": [
    "reviews[1]"
   ]
  },
  {
   "cell_type": "code",
   "execution_count": 48,
   "id": "0d59d406",
   "metadata": {},
   "outputs": [],
   "source": [
    "\n",
    "#!pip install pyemd\n"
   ]
  },
  {
   "cell_type": "code",
   "execution_count": 49,
   "id": "7865c391",
   "metadata": {},
   "outputs": [],
   "source": [
    "from pyemd import emd"
   ]
  },
  {
   "cell_type": "code",
   "execution_count": 50,
   "id": "9eaa9780",
   "metadata": {},
   "outputs": [
    {
     "data": {
      "text/plain": [
       "1.0544303981085248"
      ]
     },
     "execution_count": 50,
     "metadata": {},
     "output_type": "execute_result"
    }
   ],
   "source": [
    "\n",
    "distance = model.wv.wmdistance(reviews[0], reviews[1])\n",
    "distance"
   ]
  },
  {
   "cell_type": "code",
   "execution_count": 51,
   "id": "969ac06a",
   "metadata": {},
   "outputs": [],
   "source": [
    "\n",
    "#from scipy.sparse import csr_matrix\n",
    "#from sklearn.decomposition import TruncatedSVD"
   ]
  },
  {
   "cell_type": "code",
   "execution_count": 52,
   "id": "110904b4",
   "metadata": {},
   "outputs": [
    {
     "name": "stdout",
     "output_type": "stream",
     "text": [
      "1\n",
      "68\n",
      "68\n",
      "0\n"
     ]
    }
   ],
   "source": [
    "print(dataset.variety.isnull().sum())\n",
    "print(dataset.province.isnull().sum())\n",
    "print(dataset.country.isnull().sum())\n",
    "print(dataset.description.isnull().sum())"
   ]
  },
  {
   "cell_type": "code",
   "execution_count": 53,
   "id": "d7f09895",
   "metadata": {},
   "outputs": [
    {
     "data": {
      "text/html": [
       "<div>\n",
       "<style scoped>\n",
       "    .dataframe tbody tr th:only-of-type {\n",
       "        vertical-align: middle;\n",
       "    }\n",
       "\n",
       "    .dataframe tbody tr th {\n",
       "        vertical-align: top;\n",
       "    }\n",
       "\n",
       "    .dataframe thead th {\n",
       "        text-align: right;\n",
       "    }\n",
       "</style>\n",
       "<table border=\"1\" class=\"dataframe\">\n",
       "  <thead>\n",
       "    <tr style=\"text-align: right;\">\n",
       "      <th></th>\n",
       "      <th>variety</th>\n",
       "      <th>country</th>\n",
       "      <th>province</th>\n",
       "      <th>points</th>\n",
       "      <th>price</th>\n",
       "      <th>review</th>\n",
       "    </tr>\n",
       "  </thead>\n",
       "  <tbody>\n",
       "    <tr>\n",
       "      <th>0</th>\n",
       "      <td>Cabernet Sauvignon</td>\n",
       "      <td>US</td>\n",
       "      <td>California</td>\n",
       "      <td>96</td>\n",
       "      <td>235.0</td>\n",
       "      <td>[tremendous, varietal, wine, hail, oakville, a...</td>\n",
       "    </tr>\n",
       "    <tr>\n",
       "      <th>1</th>\n",
       "      <td>Tinta de Toro</td>\n",
       "      <td>Spain</td>\n",
       "      <td>Northern Spain</td>\n",
       "      <td>96</td>\n",
       "      <td>110.0</td>\n",
       "      <td>[ripe, aroma, fig, blackberry, cassis, softene...</td>\n",
       "    </tr>\n",
       "    <tr>\n",
       "      <th>2</th>\n",
       "      <td>Sauvignon Blanc</td>\n",
       "      <td>US</td>\n",
       "      <td>California</td>\n",
       "      <td>96</td>\n",
       "      <td>90.0</td>\n",
       "      <td>[mac, watson, honor, memory, wine, made, mothe...</td>\n",
       "    </tr>\n",
       "    <tr>\n",
       "      <th>3</th>\n",
       "      <td>Pinot Noir</td>\n",
       "      <td>US</td>\n",
       "      <td>Oregon</td>\n",
       "      <td>96</td>\n",
       "      <td>65.0</td>\n",
       "      <td>[spent, month, new, french, oak, incorporates,...</td>\n",
       "    </tr>\n",
       "    <tr>\n",
       "      <th>4</th>\n",
       "      <td>Provence red blend</td>\n",
       "      <td>France</td>\n",
       "      <td>Provence</td>\n",
       "      <td>95</td>\n",
       "      <td>66.0</td>\n",
       "      <td>[top, wine, gude, named, highest, point, viney...</td>\n",
       "    </tr>\n",
       "    <tr>\n",
       "      <th>...</th>\n",
       "      <td>...</td>\n",
       "      <td>...</td>\n",
       "      <td>...</td>\n",
       "      <td>...</td>\n",
       "      <td>...</td>\n",
       "      <td>...</td>\n",
       "    </tr>\n",
       "    <tr>\n",
       "      <th>129966</th>\n",
       "      <td>Riesling</td>\n",
       "      <td>Germany</td>\n",
       "      <td>Mosel</td>\n",
       "      <td>90</td>\n",
       "      <td>28.0</td>\n",
       "      <td>[note, honeysuckle, cantaloupe, sweeten, delic...</td>\n",
       "    </tr>\n",
       "    <tr>\n",
       "      <th>129967</th>\n",
       "      <td>Pinot Noir</td>\n",
       "      <td>US</td>\n",
       "      <td>Oregon</td>\n",
       "      <td>90</td>\n",
       "      <td>75.0</td>\n",
       "      <td>[citation, given, much, decade, bottle, age, p...</td>\n",
       "    </tr>\n",
       "    <tr>\n",
       "      <th>129968</th>\n",
       "      <td>Gewürztraminer</td>\n",
       "      <td>France</td>\n",
       "      <td>Alsace</td>\n",
       "      <td>90</td>\n",
       "      <td>30.0</td>\n",
       "      <td>[well-drained, gravel, soil, give, wine, crisp...</td>\n",
       "    </tr>\n",
       "    <tr>\n",
       "      <th>129969</th>\n",
       "      <td>Pinot Gris</td>\n",
       "      <td>France</td>\n",
       "      <td>Alsace</td>\n",
       "      <td>90</td>\n",
       "      <td>32.0</td>\n",
       "      <td>[dry, style, crisp, acidity, also, weight, sol...</td>\n",
       "    </tr>\n",
       "    <tr>\n",
       "      <th>129970</th>\n",
       "      <td>Gewürztraminer</td>\n",
       "      <td>France</td>\n",
       "      <td>Alsace</td>\n",
       "      <td>90</td>\n",
       "      <td>21.0</td>\n",
       "      <td>[big, rich, off-dry, powered, intense, spicine...</td>\n",
       "    </tr>\n",
       "  </tbody>\n",
       "</table>\n",
       "<p>280901 rows × 6 columns</p>\n",
       "</div>"
      ],
      "text/plain": [
       "                   variety  country        province  points  price  \\\n",
       "0       Cabernet Sauvignon       US      California      96  235.0   \n",
       "1            Tinta de Toro    Spain  Northern Spain      96  110.0   \n",
       "2          Sauvignon Blanc       US      California      96   90.0   \n",
       "3               Pinot Noir       US          Oregon      96   65.0   \n",
       "4       Provence red blend   France        Provence      95   66.0   \n",
       "...                    ...      ...             ...     ...    ...   \n",
       "129966            Riesling  Germany           Mosel      90   28.0   \n",
       "129967          Pinot Noir       US          Oregon      90   75.0   \n",
       "129968      Gewürztraminer   France          Alsace      90   30.0   \n",
       "129969          Pinot Gris   France          Alsace      90   32.0   \n",
       "129970      Gewürztraminer   France          Alsace      90   21.0   \n",
       "\n",
       "                                                   review  \n",
       "0       [tremendous, varietal, wine, hail, oakville, a...  \n",
       "1       [ripe, aroma, fig, blackberry, cassis, softene...  \n",
       "2       [mac, watson, honor, memory, wine, made, mothe...  \n",
       "3       [spent, month, new, french, oak, incorporates,...  \n",
       "4       [top, wine, gude, named, highest, point, viney...  \n",
       "...                                                   ...  \n",
       "129966  [note, honeysuckle, cantaloupe, sweeten, delic...  \n",
       "129967  [citation, given, much, decade, bottle, age, p...  \n",
       "129968  [well-drained, gravel, soil, give, wine, crisp...  \n",
       "129969  [dry, style, crisp, acidity, also, weight, sol...  \n",
       "129970  [big, rich, off-dry, powered, intense, spicine...  \n",
       "\n",
       "[280901 rows x 6 columns]"
      ]
     },
     "execution_count": 53,
     "metadata": {},
     "output_type": "execute_result"
    }
   ],
   "source": [
    "data = dataset.loc[:,  \n",
    "\n",
    "               [\"variety\",\"country\",\"province\",\"points\",\"price\"]]\n",
    "\n",
    "data['review']=reviews\n",
    "data"
   ]
  },
  {
   "cell_type": "code",
   "execution_count": 286,
   "id": "d15ca871",
   "metadata": {},
   "outputs": [
    {
     "name": "stdout",
     "output_type": "stream",
     "text": [
      "Number of variety of grapes 756\n"
     ]
    }
   ],
   "source": [
    "print('Number of variety of grapes',data['variety'].nunique())"
   ]
  },
  {
   "cell_type": "code",
   "execution_count": 58,
   "id": "c9f61d16",
   "metadata": {},
   "outputs": [
    {
     "data": {
      "text/plain": [
       "(280901, 6)"
      ]
     },
     "execution_count": 58,
     "metadata": {},
     "output_type": "execute_result"
    }
   ],
   "source": [
    "data.shape"
   ]
  },
  {
   "cell_type": "code",
   "execution_count": 330,
   "id": "d55b1139",
   "metadata": {},
   "outputs": [
    {
     "data": {
      "text/plain": [
       "(280901, 2)"
      ]
     },
     "execution_count": 330,
     "metadata": {},
     "output_type": "execute_result"
    }
   ],
   "source": [
    "dvariety = data.loc[:,[\"variety\",\"review\"]]\n",
    "dvariety.shape"
   ]
  },
  {
   "cell_type": "code",
   "execution_count": 331,
   "id": "dda77c73",
   "metadata": {},
   "outputs": [
    {
     "data": {
      "text/plain": [
       "(280900, 2)"
      ]
     },
     "execution_count": 331,
     "metadata": {},
     "output_type": "execute_result"
    }
   ],
   "source": [
    "dvariety =dvariety.dropna()\n",
    "dvariety.shape"
   ]
  },
  {
   "cell_type": "code",
   "execution_count": 371,
   "id": "5403efca",
   "metadata": {},
   "outputs": [
    {
     "data": {
      "text/html": [
       "<div>\n",
       "<style scoped>\n",
       "    .dataframe tbody tr th:only-of-type {\n",
       "        vertical-align: middle;\n",
       "    }\n",
       "\n",
       "    .dataframe tbody tr th {\n",
       "        vertical-align: top;\n",
       "    }\n",
       "\n",
       "    .dataframe thead th {\n",
       "        text-align: right;\n",
       "    }\n",
       "</style>\n",
       "<table border=\"1\" class=\"dataframe\">\n",
       "  <thead>\n",
       "    <tr style=\"text-align: right;\">\n",
       "      <th></th>\n",
       "      <th>review</th>\n",
       "      <th>index1</th>\n",
       "    </tr>\n",
       "    <tr>\n",
       "      <th>variety</th>\n",
       "      <th></th>\n",
       "      <th></th>\n",
       "    </tr>\n",
       "  </thead>\n",
       "  <tbody>\n",
       "    <tr>\n",
       "      <th>Pinot Noir</th>\n",
       "      <td>27563</td>\n",
       "      <td>Pinot Noir</td>\n",
       "    </tr>\n",
       "    <tr>\n",
       "      <th>Chardonnay</th>\n",
       "      <td>26235</td>\n",
       "      <td>Chardonnay</td>\n",
       "    </tr>\n",
       "    <tr>\n",
       "      <th>Cabernet Sauvignon</th>\n",
       "      <td>22272</td>\n",
       "      <td>Cabernet Sauvignon</td>\n",
       "    </tr>\n",
       "    <tr>\n",
       "      <th>Red Blend</th>\n",
       "      <td>19008</td>\n",
       "      <td>Red Blend</td>\n",
       "    </tr>\n",
       "    <tr>\n",
       "      <th>Bordeaux-style Red Blend</th>\n",
       "      <td>14262</td>\n",
       "      <td>Bordeaux-style Red Blend</td>\n",
       "    </tr>\n",
       "    <tr>\n",
       "      <th>...</th>\n",
       "      <td>...</td>\n",
       "      <td>...</td>\n",
       "    </tr>\n",
       "    <tr>\n",
       "      <th>Folle Blanche</th>\n",
       "      <td>1</td>\n",
       "      <td>Folle Blanche</td>\n",
       "    </tr>\n",
       "    <tr>\n",
       "      <th>Malbec-Carménère</th>\n",
       "      <td>1</td>\n",
       "      <td>Malbec-Carménère</td>\n",
       "    </tr>\n",
       "    <tr>\n",
       "      <th>Tsolikouri</th>\n",
       "      <td>1</td>\n",
       "      <td>Tsolikouri</td>\n",
       "    </tr>\n",
       "    <tr>\n",
       "      <th>Tsapournakos</th>\n",
       "      <td>1</td>\n",
       "      <td>Tsapournakos</td>\n",
       "    </tr>\n",
       "    <tr>\n",
       "      <th>Mavrokalavryta</th>\n",
       "      <td>1</td>\n",
       "      <td>Mavrokalavryta</td>\n",
       "    </tr>\n",
       "  </tbody>\n",
       "</table>\n",
       "<p>756 rows × 2 columns</p>\n",
       "</div>"
      ],
      "text/plain": [
       "                          review                    index1\n",
       "variety                                                   \n",
       "Pinot Noir                 27563                Pinot Noir\n",
       "Chardonnay                 26235                Chardonnay\n",
       "Cabernet Sauvignon         22272        Cabernet Sauvignon\n",
       "Red Blend                  19008                 Red Blend\n",
       "Bordeaux-style Red Blend   14262  Bordeaux-style Red Blend\n",
       "...                          ...                       ...\n",
       "Folle Blanche                  1             Folle Blanche\n",
       "Malbec-Carménère               1          Malbec-Carménère\n",
       "Tsolikouri                     1                Tsolikouri\n",
       "Tsapournakos                   1              Tsapournakos\n",
       "Mavrokalavryta                 1            Mavrokalavryta\n",
       "\n",
       "[756 rows x 2 columns]"
      ]
     },
     "execution_count": 371,
     "metadata": {},
     "output_type": "execute_result"
    }
   ],
   "source": [
    "filtered= dvariety.pivot_table(index= \"variety\", values=\"review\", aggfunc=\"count\")\n",
    "filtered= filtered.sort_values(by=['review'], ascending=False)\n",
    "filtered['index1'] = filtered.index\n",
    "#filtered = filtered.reset_index().rename_axis(None, 1)\n",
    "filtered"
   ]
  },
  {
   "cell_type": "code",
   "execution_count": 366,
   "id": "ee6a3473",
   "metadata": {},
   "outputs": [
    {
     "data": {
      "text/html": [
       "<div>\n",
       "<style scoped>\n",
       "    .dataframe tbody tr th:only-of-type {\n",
       "        vertical-align: middle;\n",
       "    }\n",
       "\n",
       "    .dataframe tbody tr th {\n",
       "        vertical-align: top;\n",
       "    }\n",
       "\n",
       "    .dataframe thead th {\n",
       "        text-align: right;\n",
       "    }\n",
       "</style>\n",
       "<table border=\"1\" class=\"dataframe\">\n",
       "  <thead>\n",
       "    <tr style=\"text-align: right;\">\n",
       "      <th></th>\n",
       "      <th>review</th>\n",
       "      <th>index1</th>\n",
       "    </tr>\n",
       "  </thead>\n",
       "  <tbody>\n",
       "    <tr>\n",
       "      <th>0</th>\n",
       "      <td>27563</td>\n",
       "      <td>Pinot Noir</td>\n",
       "    </tr>\n",
       "    <tr>\n",
       "      <th>1</th>\n",
       "      <td>26235</td>\n",
       "      <td>Chardonnay</td>\n",
       "    </tr>\n",
       "    <tr>\n",
       "      <th>2</th>\n",
       "      <td>22272</td>\n",
       "      <td>Cabernet Sauvignon</td>\n",
       "    </tr>\n",
       "    <tr>\n",
       "      <th>3</th>\n",
       "      <td>19008</td>\n",
       "      <td>Red Blend</td>\n",
       "    </tr>\n",
       "    <tr>\n",
       "      <th>4</th>\n",
       "      <td>14262</td>\n",
       "      <td>Bordeaux-style Red Blend</td>\n",
       "    </tr>\n",
       "    <tr>\n",
       "      <th>...</th>\n",
       "      <td>...</td>\n",
       "      <td>...</td>\n",
       "    </tr>\n",
       "    <tr>\n",
       "      <th>751</th>\n",
       "      <td>1</td>\n",
       "      <td>Folle Blanche</td>\n",
       "    </tr>\n",
       "    <tr>\n",
       "      <th>752</th>\n",
       "      <td>1</td>\n",
       "      <td>Malbec-Carménère</td>\n",
       "    </tr>\n",
       "    <tr>\n",
       "      <th>753</th>\n",
       "      <td>1</td>\n",
       "      <td>Tsolikouri</td>\n",
       "    </tr>\n",
       "    <tr>\n",
       "      <th>754</th>\n",
       "      <td>1</td>\n",
       "      <td>Tsapournakos</td>\n",
       "    </tr>\n",
       "    <tr>\n",
       "      <th>755</th>\n",
       "      <td>1</td>\n",
       "      <td>Mavrokalavryta</td>\n",
       "    </tr>\n",
       "  </tbody>\n",
       "</table>\n",
       "<p>756 rows × 2 columns</p>\n",
       "</div>"
      ],
      "text/plain": [
       "     review                    index1\n",
       "0     27563                Pinot Noir\n",
       "1     26235                Chardonnay\n",
       "2     22272        Cabernet Sauvignon\n",
       "3     19008                 Red Blend\n",
       "4     14262  Bordeaux-style Red Blend\n",
       "..      ...                       ...\n",
       "751       1             Folle Blanche\n",
       "752       1          Malbec-Carménère\n",
       "753       1                Tsolikouri\n",
       "754       1              Tsapournakos\n",
       "755       1            Mavrokalavryta\n",
       "\n",
       "[756 rows x 2 columns]"
      ]
     },
     "execution_count": 366,
     "metadata": {},
     "output_type": "execute_result"
    }
   ],
   "source": [
    "#index = pd.Index(range(0, len(filtered), 1))\n",
    "#filtered = filtered.set_index(index)\n",
    "#filtered"
   ]
  },
  {
   "cell_type": "code",
   "execution_count": 372,
   "id": "ead1e17a",
   "metadata": {},
   "outputs": [
    {
     "data": {
      "text/html": [
       "<div>\n",
       "<style scoped>\n",
       "    .dataframe tbody tr th:only-of-type {\n",
       "        vertical-align: middle;\n",
       "    }\n",
       "\n",
       "    .dataframe tbody tr th {\n",
       "        vertical-align: top;\n",
       "    }\n",
       "\n",
       "    .dataframe thead th {\n",
       "        text-align: right;\n",
       "    }\n",
       "</style>\n",
       "<table border=\"1\" class=\"dataframe\">\n",
       "  <thead>\n",
       "    <tr style=\"text-align: right;\">\n",
       "      <th></th>\n",
       "      <th>review</th>\n",
       "      <th>index1</th>\n",
       "    </tr>\n",
       "    <tr>\n",
       "      <th>variety</th>\n",
       "      <th></th>\n",
       "      <th></th>\n",
       "    </tr>\n",
       "  </thead>\n",
       "  <tbody>\n",
       "    <tr>\n",
       "      <th>Pinot Noir</th>\n",
       "      <td>27563</td>\n",
       "      <td>Pinot Noir</td>\n",
       "    </tr>\n",
       "    <tr>\n",
       "      <th>Chardonnay</th>\n",
       "      <td>26235</td>\n",
       "      <td>Chardonnay</td>\n",
       "    </tr>\n",
       "    <tr>\n",
       "      <th>Cabernet Sauvignon</th>\n",
       "      <td>22272</td>\n",
       "      <td>Cabernet Sauvignon</td>\n",
       "    </tr>\n",
       "    <tr>\n",
       "      <th>Red Blend</th>\n",
       "      <td>19008</td>\n",
       "      <td>Red Blend</td>\n",
       "    </tr>\n",
       "    <tr>\n",
       "      <th>Bordeaux-style Red Blend</th>\n",
       "      <td>14262</td>\n",
       "      <td>Bordeaux-style Red Blend</td>\n",
       "    </tr>\n",
       "    <tr>\n",
       "      <th>...</th>\n",
       "      <td>...</td>\n",
       "      <td>...</td>\n",
       "    </tr>\n",
       "    <tr>\n",
       "      <th>Weissburgunder</th>\n",
       "      <td>103</td>\n",
       "      <td>Weissburgunder</td>\n",
       "    </tr>\n",
       "    <tr>\n",
       "      <th>Petite Verdot</th>\n",
       "      <td>102</td>\n",
       "      <td>Petite Verdot</td>\n",
       "    </tr>\n",
       "    <tr>\n",
       "      <th>Cabernet Sauvignon-Carmenère</th>\n",
       "      <td>101</td>\n",
       "      <td>Cabernet Sauvignon-Carmenère</td>\n",
       "    </tr>\n",
       "    <tr>\n",
       "      <th>Rosado</th>\n",
       "      <td>100</td>\n",
       "      <td>Rosado</td>\n",
       "    </tr>\n",
       "    <tr>\n",
       "      <th>Tinto del Pais</th>\n",
       "      <td>100</td>\n",
       "      <td>Tinto del Pais</td>\n",
       "    </tr>\n",
       "  </tbody>\n",
       "</table>\n",
       "<p>135 rows × 2 columns</p>\n",
       "</div>"
      ],
      "text/plain": [
       "                              review                        index1\n",
       "variety                                                           \n",
       "Pinot Noir                     27563                    Pinot Noir\n",
       "Chardonnay                     26235                    Chardonnay\n",
       "Cabernet Sauvignon             22272            Cabernet Sauvignon\n",
       "Red Blend                      19008                     Red Blend\n",
       "Bordeaux-style Red Blend       14262      Bordeaux-style Red Blend\n",
       "...                              ...                           ...\n",
       "Weissburgunder                   103                Weissburgunder\n",
       "Petite Verdot                    102                 Petite Verdot\n",
       "Cabernet Sauvignon-Carmenère     101  Cabernet Sauvignon-Carmenère\n",
       "Rosado                           100                        Rosado\n",
       "Tinto del Pais                   100                Tinto del Pais\n",
       "\n",
       "[135 rows x 2 columns]"
      ]
     },
     "execution_count": 372,
     "metadata": {},
     "output_type": "execute_result"
    }
   ],
   "source": [
    "UpTo100counts = filtered[:135]\n",
    "UpTo100counts"
   ]
  },
  {
   "cell_type": "code",
   "execution_count": 378,
   "id": "73d11fde",
   "metadata": {},
   "outputs": [
    {
     "data": {
      "text/plain": [
       "array(['Pinot Noir', 'Chardonnay', 'Cabernet Sauvignon', 'Red Blend',\n",
       "       'Bordeaux-style Red Blend', 'Sauvignon Blanc', 'Riesling', 'Syrah',\n",
       "       'Merlot', 'Zinfandel', 'Rosé', 'Sangiovese', 'Malbec',\n",
       "       'White Blend', 'Nebbiolo', 'Portuguese Red', 'Tempranillo',\n",
       "       'Sparkling Blend', 'Rhône-style Red Blend', 'Pinot Gris', 'Shiraz',\n",
       "       'Cabernet Franc', 'Champagne Blend', 'Grüner Veltliner',\n",
       "       'Pinot Grigio', 'Bordeaux-style White Blend',\n",
       "       'Corvina, Rondinella, Molinara', 'Viognier', 'Portuguese White',\n",
       "       'Sangiovese Grosso', 'Barbera', 'Gewürztraminer', 'Port',\n",
       "       'Petite Sirah', 'Gamay', 'Tempranillo Blend', 'Chenin Blanc',\n",
       "       'Carmenère', 'Glera', 'Grenache', 'Albariño', 'Pinot Blanc',\n",
       "       'Rhône-style White Blend', 'Prosecco', \"Nero d'Avola\", 'Moscato',\n",
       "       'Garnacha', 'Aglianico', 'Garganega', 'Torrontés', 'Verdejo',\n",
       "       'Sauvignon', 'Meritage', 'Montepulciano', 'Dolcetto', 'Primitivo',\n",
       "       'Petit Verdot', 'Vermentino', 'Blaufränkisch', 'Zweigelt',\n",
       "       'Mourvèdre', 'Tinta de Toro', 'Cabernet Blend', 'Touriga Nacional',\n",
       "       'Melon', 'Cabernet Sauvignon-Merlot', 'Sémillon', 'Roussanne',\n",
       "       'Pinotage', 'G-S-M', 'Mencía', 'Tannat', 'Pinot Nero', 'Fiano',\n",
       "       'Muscat', 'Monastrell', 'Grillo', 'Pinot Bianco', 'Friulano',\n",
       "       'Bonarda', 'Cabernet Sauvignon-Syrah', 'Turbiana', 'Verdicchio',\n",
       "       'Sagrantino', 'Viura', 'Greco', 'Alvarinho', 'Vernaccia',\n",
       "       'Grenache Blanc', 'Malbec-Merlot', 'Sherry', 'St. Laurent',\n",
       "       'Marsanne', 'Nerello Mascalese', 'Godello', 'Agiorgitiko',\n",
       "       'Fumé Blanc', 'Falanghina', 'Tinto Fino', 'Negroamaro', 'Cortese',\n",
       "       'Carignan', 'Arneis', 'Arinto', 'Ribolla Gialla',\n",
       "       'Prugnolo Gentile', 'Semillon-Sauvignon Blanc',\n",
       "       'Tempranillo-Cabernet Sauvignon', 'Shiraz-Cabernet Sauvignon',\n",
       "       'Rosato', 'Verdelho', 'Sauvignon Blanc-Semillon',\n",
       "       'Austrian Red Blend', 'Shiraz-Viognier', 'Austrian white blend',\n",
       "       'Spätburgunder', 'Portuguese Sparkling', 'Lagrein',\n",
       "       'Merlot-Cabernet Sauvignon', 'Malbec-Cabernet Sauvignon',\n",
       "       'Grenache-Syrah', 'Trebbiano', 'Cabernet Sauvignon-Shiraz',\n",
       "       'Chardonnay-Viognier', 'Assyrtico', 'Lambrusco', 'Vidal Blanc',\n",
       "       'Syrah-Grenache', 'Petit Manseng', 'Alsace white blend',\n",
       "       'Weissburgunder', 'Petite Verdot', 'Cabernet Sauvignon-Carmenère',\n",
       "       'Rosado', 'Tinto del Pais', 'Moscatel', 'Sylvaner', 'Tokaji',\n",
       "       'Pedro Ximénez', 'Silvaner', 'Xinomavro', 'Insolia',\n",
       "       'Alicante Bouschet', 'Tempranillo-Garnacha', 'Muscat Canelli',\n",
       "       'Provence red blend', 'Furmint', 'Malvasia', 'Pecorino',\n",
       "       'Carignano', 'Moschofilero', 'Traminer', 'Loureiro',\n",
       "       'Müller-Thurgau', 'Cannonau', 'Graciano', 'Frappato',\n",
       "       'Cabernet Merlot', 'Cabernet Sauvignon-Malbec',\n",
       "       'Chenin Blanc-Chardonnay', 'Gros and Petit Manseng', 'Castelão',\n",
       "       'Claret', 'Syrah-Cabernet', 'Tannat-Cabernet', 'Fernão Pires',\n",
       "       'Cinsault', 'Cabernet Sauvignon-Cabernet Franc', 'Zibibbo',\n",
       "       'Lemberger', 'Charbono', 'Pinot Meunier', 'Gelber Muskateller',\n",
       "       'Tocai Friulano', 'Catarratto', 'Carricante', 'Inzolia', 'Aligoté',\n",
       "       'Teroldego', 'Marsanne-Roussanne', 'Encruzado', 'Garnacha Blanca',\n",
       "       'Touriga Nacional-Cabernet Sauvignon', 'Picolit', 'Carignane',\n",
       "       'Syrah-Cabernet Sauvignon', 'Saperavi', 'Welschriesling',\n",
       "       'Rkatsiteli', 'Scheurebe', 'Baga', 'Orange Muscat', 'Piedirosso',\n",
       "       'Verdejo-Viura', 'Xarel-lo', 'White Riesling', 'Malvasia Bianca',\n",
       "       'Colombard', 'Shiraz-Grenache', 'Merlot-Cabernet Franc',\n",
       "       'Auxerrois', 'Passerina', 'Gros Manseng', 'Palomino',\n",
       "       'Provence white blend', 'Kerner', 'Albana', 'Brachetto',\n",
       "       'Trincadeira', 'Muskat Ottonel', 'Bobal', 'Corvina', 'Macabeo',\n",
       "       'Nero di Troia', 'Norton', 'Rotgipfler', 'Malbec-Syrah',\n",
       "       'Colombard-Sauvignon Blanc', 'Prieto Picudo',\n",
       "       'Touriga Nacional Blend', 'Gamay Noir', 'Roditis', 'Raboso',\n",
       "       'Hondarrabi Zuri', 'Coda di Volpe', 'Dornfelder', 'Syrah-Viognier',\n",
       "       'Alfrocheiro', 'Monastrell-Syrah', 'Chambourcin', 'Vignoles',\n",
       "       'Moscato Giallo', 'Garnacha-Syrah', 'Plavac Mali', 'Antão Vaz',\n",
       "       'Tempranillo-Shiraz', 'Grauburgunder', 'Cabernet', 'Negrette',\n",
       "       'Schiava', 'Carmenère-Cabernet Sauvignon', 'Cabernet Franc-Merlot',\n",
       "       'Syrah-Petite Sirah', 'Roter Veltliner', 'Sauvignon Gris',\n",
       "       'Muscat Blanc', 'Pallagrello', 'Savagnin', 'Gaglioppo', 'Counoise',\n",
       "       'Jacquère', 'Zierfandler', 'Uva di Troia', 'Merlot-Cabernet',\n",
       "       'Grenache-Carignan', \"Cesanese d'Affile\", 'Picpoul', 'Assyrtiko',\n",
       "       'Bical', 'Kekfrankos', 'Tinta Roriz', 'Aragonês', 'Cabernet-Syrah',\n",
       "       'Tempranillo-Merlot', 'Baco Noir', 'Syrah-Mourvèdre',\n",
       "       'Viognier-Roussanne', 'Portuguese Rosé', 'Tannat-Cabernet Franc',\n",
       "       'Perricone', 'Roussanne-Viognier',\n",
       "       'Cabernet Sauvignon-Tempranillo', 'Johannisberg Riesling',\n",
       "       'Malbec-Tannat', 'Tokay', 'Grechetto', 'Black Muscat',\n",
       "       'Viura-Chardonnay', 'Ruché', 'Moscadello', 'Pinot Auxerrois',\n",
       "       'Ugni Blanc-Colombard', 'Pinot Noir-Gamay', 'Malvasia Istriana',\n",
       "       'Mondeuse', 'Viognier-Chardonnay', 'Grecanico', 'Tinta Fina',\n",
       "       'Seyval Blanc', 'Traminette', 'Refosco',\n",
       "       'Cabernet Sauvignon-Sangiovese', 'Lambrusco Grasparossa',\n",
       "       'Semillon-Chardonnay', 'Kalecik Karasi', 'Lambrusco di Sorbara',\n",
       "       'Merlot-Malbec', 'Chenin Blanc-Viognier', 'Pansa Blanca', 'Siria',\n",
       "       'Mataro', 'Mavrodaphne', 'Sauvignon Blanc-Chardonnay',\n",
       "       'Chardonnay-Semillon', 'Trebbiano di Lugana',\n",
       "       'Gewürztraminer-Riesling', 'Cabernet Franc-Cabernet Sauvignon',\n",
       "       'Aragonez', 'Madeira Blend', 'Trepat', 'Feteasca Neagra', 'Teran',\n",
       "       'Tempranillo Blanco', 'Malagousia', 'Grenache Blend', 'Chasselas',\n",
       "       'Carmenère-Syrah', 'Neuburger', 'Chardonnay-Sauvignon',\n",
       "       'Touriga Franca', 'Grenache-Shiraz', 'Carignan-Grenache',\n",
       "       'Tannat-Merlot', 'Aleatico', 'Posip', 'Vranec', 'Alicante',\n",
       "       'Vidal', 'Verduzzo', 'Monica', 'Mauzac', 'Mission', 'Susumaniello',\n",
       "       'Chardonnay-Pinot Blanc', 'Muscadelle',\n",
       "       'Chenin Blanc-Sauvignon Blanc', 'Savatiano', 'Verduzzo Friulano ',\n",
       "       'Roter Traminer', 'Nuragus', 'Tocai', \"Loin de l'Oeil\",\n",
       "       'Syrah-Tempranillo', 'Duras', 'Malbec-Cabernet Franc', 'Mantonico',\n",
       "       'Jaen', 'Okuzgozu', 'Chardonnay-Sauvignon Blanc', 'Muscadel',\n",
       "       'Moscatel Roxo', 'Verdejo-Sauvignon Blanc', 'Nosiola', 'Bual',\n",
       "       'Bovale', 'Casavecchia', 'Sousão', 'Mavrud', 'Manzoni',\n",
       "       'Malvasia Nera', 'Malvasia Fina', 'Maturana', 'Ciliegiolo',\n",
       "       'Colombard-Ugni Blanc', 'Pinot-Chardonnay', 'Symphony',\n",
       "       'Syrah-Merlot', 'Greco Bianco', 'Shiraz-Tempranillo', 'Verdeca',\n",
       "       'Vilana', 'Malbec-Bonarda', 'Nerello Cappuccio',\n",
       "       'Viognier-Marsanne', 'Elbling', 'Mansois', 'Pallagrello Bianco',\n",
       "       'Muskateller', 'Pallagrello Nero', 'Narince',\n",
       "       'Muscat Blanc à Petit Grain', 'Blauer Portugieser', 'Vinhão',\n",
       "       'Garnacha-Tempranillo', 'Malbec-Tempranillo', 'Bastardo',\n",
       "       'Sangiovese-Cabernet Sauvignon', 'Sangiovese-Syrah', 'Debit',\n",
       "       'Airen', 'Valdiguié', 'Durella', 'Feteascǎ Regalǎ',\n",
       "       'Garnacha Tintorera', 'Morillon', 'Altesse', 'Malagouzia',\n",
       "       'Shiraz-Malbec', 'Sauvignon Blanc-Verdejo', 'Robola', 'Prié Blanc',\n",
       "       'Avesso', 'Rieslaner', 'Tannat-Syrah', 'Fer Servadou',\n",
       "       'Cabernet Franc-Carmenère', 'Syrah-Cabernet Franc', 'Braucol',\n",
       "       'Rolle', 'Grenache-Mourvèdre', 'Garnacha-Monastrell',\n",
       "       'Roussanne-Marsanne', 'Apple', 'Alvarinho-Chardonnay',\n",
       "       'Macabeo-Chardonnay', 'Zierfandler-Rotgipfler',\n",
       "       'Pinot Blanc-Chardonnay', 'Sauvignon Blanc-Chenin Blanc',\n",
       "       'Pignoletto', 'Boğazkere', 'Nasco', 'Nielluciu',\n",
       "       'Trebbiano Spoletino', 'Merlot-Syrah', 'Sämling', 'Tinta Barroca',\n",
       "       'Códega do Larinho', 'Edelzwicker', 'Durif', 'Marzemino',\n",
       "       'Nascetta', 'Mtsvane', \"Muscat d'Alexandrie\", 'Shiraz-Mourvèdre',\n",
       "       'Argaman', 'Trousseau', 'Clairette', 'Magliocco', 'Morio Muskat',\n",
       "       'Ansonica', 'Shiraz-Pinotage', 'Veltliner', 'Feteasca', 'Zlahtina',\n",
       "       'Mazuelo', 'Xinisteri', 'Chardonnay-Albariño', 'Cerceal',\n",
       "       'Cabernet Sauvignon Grenache', 'Cabernet Sauvignon-Merlot-Shiraz',\n",
       "       'Pugnitello', 'Carineña', 'Hárslevelü', 'Emir', 'White Port',\n",
       "       'Blanc du Bois', 'Black Monukka', 'Kisi', 'Siegerrebe',\n",
       "       'Sciaccerellu', 'Pinot Noir-Syrah', 'Sangiovese Cabernet',\n",
       "       'Rivaner', 'Lacrima', 'Merlot-Argaman', 'Favorita', 'Timorasso',\n",
       "       'Viognier-Grenache Blanc', 'Viosinho', 'Tokay Pinot Gris',\n",
       "       'Malvasia-Viura', 'Cabernet Franc-Malbec', 'Cayuga', 'Tamjanika',\n",
       "       'Malvar', 'Malbec-Petit Verdot', 'Muscat Hamburg',\n",
       "       'Muscat of Alexandria', 'Muscatel', 'Muskat',\n",
       "       'Syrah-Grenache-Viognier', 'Syrah-Carignan', 'Malbec Blend',\n",
       "       'Garnacha-Graciano', 'Petroulianos', 'Incrocio Manzoni',\n",
       "       'Angevine', 'Chardonnay Weissburgunder', 'Cariñena-Garnacha',\n",
       "       'Erbaluce', \"Pineau d'Aunis\", 'Ugni Blanc', 'Romorantin',\n",
       "       'Colorino', 'Trousseau Gris', 'Trebbiano-Malvasia',\n",
       "       'Garnacha Blend', 'Garnacha-Cabernet', 'Gelber Traminer',\n",
       "       'Cserszegi Fűszeres', 'Carignan-Syrah', 'Chinuri', 'Vespaiolo',\n",
       "       'Roviello', 'Gragnano', 'Cabernet Sauvignon and Tinta Roriz',\n",
       "       'Vitovska', 'Blatina', 'Yapincak', 'Babić', 'Saperavi-Merlot',\n",
       "       'Azal', 'Asprinio', 'Alvarelhão', 'Gouveio', 'Kadarka',\n",
       "       'Grignolino', 'Mavroudi', 'Marsanne-Viognier', 'Meoru',\n",
       "       'Tinta Francisca', 'Portuguiser', 'Grolleau',\n",
       "       'Moscatel de Alejandría', 'Madeleine Angevine', 'Macabeo-Moscatel',\n",
       "       'Listán Negro', 'Királyleányka', 'Torbato', 'Picapoll', 'Sirica',\n",
       "       'Rebula', 'Pigato', 'Jacquez', 'Marselan', 'Syrah-Petit Verdot',\n",
       "       'Zelen', 'Steen', 'St. George', 'Xynisteri', 'Tai',\n",
       "       'Viura-Verdejo', 'Tinta Miúda', 'Teroldego Rotaliano',\n",
       "       'Tinta Negra Mole', 'Tinta del Toro', 'Vermentino Nero',\n",
       "       'Tintilia ', 'Schwartzriesling', 'Shiraz-Cabernet', 'Tocai Rosso',\n",
       "       'Touriga', 'Treixadura', 'Sercial', 'Souzao', 'Abouriou',\n",
       "       'Moscatel Graúdo', 'Žilavka', 'Cabernet-Shiraz', 'Canaiolo',\n",
       "       'Pinot Blanc-Pinot Noir', 'País', 'Franconia', 'Freisa',\n",
       "       'Papaskarasi', 'Grenache Noir', 'Groppello',\n",
       "       'Muscat Blanc à Petits Grains', 'Karalahna', 'Mourvèdre-Syrah',\n",
       "       'Lambrusco Salamino', 'Malbec-Cabernet', 'Mandilaria', 'Marawi',\n",
       "       'Merlot-Tannat', 'Merlot-Shiraz', 'Merlot-Grenache', 'Melnik',\n",
       "       'Poulsard', 'Doña Blanca', 'Prokupac', 'Athiri', 'Roscetto',\n",
       "       'Cabernet Moravia', 'Cabernet Pfeffer', 'Roussanne-Grenache Blanc',\n",
       "       'Baga-Touriga Nacional', 'Rabigato', 'Rufete', 'Bombino Bianco',\n",
       "       'Albarossa', 'Sacy', 'Aidani', 'Irsai Oliver', 'Kallmet',\n",
       "       'Çalkarası', 'Torontel', 'Blauburgunder', 'Marquette', 'Tinta Cao',\n",
       "       'Bacchus', 'Kinali Yapincak', 'Koshu', 'Kuntra', 'Bukettraube',\n",
       "       'Malmsey', 'Maria Gomes', 'Malvasia di Candia', 'Karasakiz',\n",
       "       'Früburgunder', 'Grenache Gris', 'Cococciola',\n",
       "       'Viognier-Gewürztraminer', 'Caprettone', 'Catalanesca', 'Cesanese',\n",
       "       'Vidadillo', 'Vespolina', 'Chancellor', 'Chardonel',\n",
       "       'Chardonnay-Pinot Gris', 'Chelois', 'Crespiello',\n",
       "       'Viognier-Valdiguié', 'Dafni', 'Tempranillo-Syrah', 'Uvalino',\n",
       "       'Enantio', 'Espadeiro', 'Tămâioasă Românească', 'Forcallà',\n",
       "       'Trollinger', 'Cabernet Franc-Tempranillo',\n",
       "       'Cabernet Franc-Lemberger', 'Maréchal Foch',\n",
       "       'Sauvignon Blanc-Sauvignon Gris', 'Petit Meslier',\n",
       "       'Silvaner-Traminer', 'Muscadet', 'Muscadine', 'Syrah-Malbec',\n",
       "       'Orangetraube', 'Other', 'Syrah-Bonarda', 'Parraleta',\n",
       "       'Pelaverga Piccolo', 'St. Vincent', 'Mavrotragano', 'Petite Syrah',\n",
       "       'Pinot Grigio-Sauvignon Blanc', 'Moscato Rosa', 'Sideritis',\n",
       "       'Pinotage-Merlot', 'Plyto', 'Shiraz-Merlot', 'Premsal',\n",
       "       'Rara Neagra', 'Rebo', 'Segalin', 'Rosenmuskateller',\n",
       "       'Sauvignonasse', 'Sauvignon Musqué', 'Moscato di Noto',\n",
       "       'Tinta del Pais', 'Morava', 'Monastrell-Petit Verdot',\n",
       "       'Tempranillo-Malbec', 'Merlot-Petite Verdot', 'Kotsifali',\n",
       "       'Tinta Amarela', 'Vital', 'Cabernet Sauvignon-Barbera',\n",
       "       'Prunelard', 'Cabernet-Malbec', 'Thrapsathiri',\n",
       "       'Merseguera-Sauvignon Blanc', 'Piquepoul Blanc', 'Terret Blanc',\n",
       "       'Carcajolu', 'Carnelian', 'Shiraz-Roussanne', 'Centesimino',\n",
       "       'Cercial', 'Meseguera', 'Pinot Gris-Gewürztraminer', 'Misket',\n",
       "       'Molinara', 'Ramisco', 'Viura-Sauvignon Blanc', 'Terrantez',\n",
       "       'Chardonelle', 'Sarba', 'Tempranillo-Tannat', 'Albanello',\n",
       "       'Sauvignon-Sémillon', 'Albarín', 'Babosa Negro', 'Ryzlink Rýnský',\n",
       "       'Ruen', 'Barbera-Nebbiolo', 'Biancale', 'Biancolella',\n",
       "       'Biancu Gentile', 'Blauburger', 'Bobal-Cabernet Sauvignon',\n",
       "       'Maria Gomes-Bical', 'Bombino Nero', 'Roditis-Moschofilero',\n",
       "       'Vranac', 'Riesling-Chardonnay', 'Pinot Grigio-Chardonnay',\n",
       "       'Chardonnay-Pinot Grigio', 'Moristel', 'Malvoisie',\n",
       "       'Sauvignon Blanc-Assyrtiko', 'Otskhanuri Sapere', 'Gamza',\n",
       "       'Garnacha-Cariñena', 'Graševina', 'Tamianka',\n",
       "       'Malagouzia-Chardonnay', 'Ondenc', 'Trajadura', 'Gros Plant',\n",
       "       'Huxelrebe', 'Ojaleshi', 'Jampal', 'Macabeo-Gewürztraminer',\n",
       "       'Kangoun', 'Tinto Velasco', 'Loureiro-Arinto', 'Moscofilero',\n",
       "       'Moschofilero-Chardonnay', 'Frankovka', 'Paralleda', 'Pardina',\n",
       "       'Tinta Madeira', 'Chardonnay-Riesling', 'Verdosilla', 'Verdil',\n",
       "       'Pinot Blanc-Viognier', 'Pinela', 'Pignolo', 'Pied de Perdrix',\n",
       "       'Diamond', 'Durello', 'Francisa', 'Valvin Muscat', 'Ekigaïna',\n",
       "       'Malvazija', 'Petit Courbu', 'Folle Blanche', 'Malbec-Carménère',\n",
       "       'Tsolikouri', 'Tsapournakos', 'Mavrokalavryta'], dtype=object)"
      ]
     },
     "execution_count": 378,
     "metadata": {},
     "output_type": "execute_result"
    }
   ],
   "source": [
    "fseries = pd.Series(filtered['index1'])\n",
    "names100counts= fseries.to_numpy()\n",
    "names100counts"
   ]
  },
  {
   "cell_type": "code",
   "execution_count": null,
   "id": "8feb2416",
   "metadata": {},
   "outputs": [],
   "source": []
  },
  {
   "cell_type": "code",
   "execution_count": 67,
   "id": "47d03232",
   "metadata": {},
   "outputs": [
    {
     "data": {
      "text/plain": [
       "numpy.ndarray"
      ]
     },
     "execution_count": 67,
     "metadata": {},
     "output_type": "execute_result"
    }
   ],
   "source": [
    "prev = pd.Series(dvariety['review'])\n",
    "nrev = pandasrev.to_numpy()\n",
    "type(nrev)"
   ]
  },
  {
   "cell_type": "code",
   "execution_count": 68,
   "id": "4b936aa3",
   "metadata": {},
   "outputs": [
    {
     "data": {
      "text/plain": [
       "numpy.ndarray"
      ]
     },
     "execution_count": 68,
     "metadata": {},
     "output_type": "execute_result"
    }
   ],
   "source": [
    "nvariety = pd.Series(dvariety['variety']).to_numpy()\n",
    "type(nvariety)"
   ]
  },
  {
   "cell_type": "code",
   "execution_count": 70,
   "id": "13920b7c",
   "metadata": {},
   "outputs": [
    {
     "data": {
      "text/plain": [
       "(2000,)"
      ]
     },
     "execution_count": 70,
     "metadata": {},
     "output_type": "execute_result"
    }
   ],
   "source": [
    "train_data= nrev[:2000]\n",
    "train_labels= nvariety[:2000]\n",
    "test_data= nrev[2000:3000]\n",
    "test_labels= nvariety[2000:3000]\n",
    "train_data.shape"
   ]
  },
  {
   "cell_type": "code",
   "execution_count": 80,
   "id": "185125d2",
   "metadata": {},
   "outputs": [
    {
     "data": {
      "text/plain": [
       "757"
      ]
     },
     "execution_count": 80,
     "metadata": {},
     "output_type": "execute_result"
    }
   ],
   "source": [
    "varietylist= dvariety['variety'].unique()\n",
    "len(varietylist)"
   ]
  },
  {
   "cell_type": "code",
   "execution_count": 94,
   "id": "874b4423",
   "metadata": {},
   "outputs": [
    {
     "data": {
      "text/plain": [
       "dtype('<U35')"
      ]
     },
     "execution_count": 94,
     "metadata": {},
     "output_type": "execute_result"
    }
   ],
   "source": [
    "nvariety= nvariety.astype(str)\n",
    "nvariety.dtype"
   ]
  },
  {
   "cell_type": "code",
   "execution_count": 104,
   "id": "6cd249ac",
   "metadata": {},
   "outputs": [
    {
     "data": {
      "text/plain": [
       "<AxesSubplot:ylabel='count'>"
      ]
     },
     "execution_count": 104,
     "metadata": {},
     "output_type": "execute_result"
    },
    {
     "data": {
      "image/png": "[encoded data removed]",
      "text/plain": [
       "<Figure size 640x480 with 1 Axes>"
      ]
     },
     "metadata": {},
     "output_type": "display_data"
    }
   ],
   "source": [
    "countplot(x=nvariety)"
   ]
  },
  {
   "cell_type": "code",
   "execution_count": 103,
   "id": "97d3915e",
   "metadata": {},
   "outputs": [
    {
     "data": {
      "text/plain": [
       "<AxesSubplot:ylabel='count'>"
      ]
     },
     "execution_count": 103,
     "metadata": {},
     "output_type": "execute_result"
    },
    {
     "data": {
      "image/png": "[encoded data removed]",
      "text/plain": [
       "<Figure size 640x480 with 1 Axes>"
      ]
     },
     "metadata": {},
     "output_type": "display_data"
    }
   ],
   "source": [
    "countplot(x=train_labels)"
   ]
  },
  {
   "cell_type": "code",
   "execution_count": 106,
   "id": "e97a4398",
   "metadata": {},
   "outputs": [],
   "source": [
    "def dist(rev1, rev2):\n",
    "  return model.wv.wmdistance(rev1, rev2)\n"
   ]
  },
  {
   "cell_type": "code",
   "execution_count": 107,
   "id": "8cde82f0",
   "metadata": {},
   "outputs": [
    {
     "data": {
      "text/plain": [
       "1.0544303981085248"
      ]
     },
     "execution_count": 107,
     "metadata": {},
     "output_type": "execute_result"
    }
   ],
   "source": [
    "dist(reviews[0], reviews[1])"
   ]
  },
  {
   "cell_type": "code",
   "execution_count": 172,
   "id": "0c11822d",
   "metadata": {},
   "outputs": [],
   "source": [
    "test_review = test_data[1] \n",
    "test_label = test_labels[1]"
   ]
  },
  {
   "cell_type": "code",
   "execution_count": 138,
   "id": "b884ced1",
   "metadata": {},
   "outputs": [
    {
     "name": "stdout",
     "output_type": "stream",
     "text": [
      "[1.1622806292315553, 1.1053647150809471, 1.0867855485292721, 1.1743931981343962, 1.0661745158487266]\n"
     ]
    }
   ],
   "source": [
    "# list comprehension version\n",
    "# [<expression with element> for <element> in <list/array>]\n",
    "all_distances = [dist(test_review, train_review) for train_review in train_data]\n",
    "print(all_distances[:5])"
   ]
  },
  {
   "cell_type": "code",
   "execution_count": 123,
   "id": "801c5eba",
   "metadata": {},
   "outputs": [
    {
     "data": {
      "text/plain": [
       "0.8900196881395704"
      ]
     },
     "execution_count": 123,
     "metadata": {},
     "output_type": "execute_result"
    }
   ],
   "source": [
    "min(all_distances)"
   ]
  },
  {
   "cell_type": "code",
   "execution_count": 124,
   "id": "6069a124",
   "metadata": {},
   "outputs": [],
   "source": [
    "i = np.argmin(all_distances) #index of the shortest distanced review"
   ]
  },
  {
   "cell_type": "code",
   "execution_count": 125,
   "id": "d40b8bc9",
   "metadata": {},
   "outputs": [],
   "source": [
    "predicted_label = train_labels[i]"
   ]
  },
  {
   "cell_type": "code",
   "execution_count": 126,
   "id": "275ada66",
   "metadata": {},
   "outputs": [
    {
     "name": "stdout",
     "output_type": "stream",
     "text": [
      "Portuguese Red\n"
     ]
    }
   ],
   "source": [
    "print(predicted_label)"
   ]
  },
  {
   "cell_type": "code",
   "execution_count": 127,
   "id": "d68802b6",
   "metadata": {},
   "outputs": [
    {
     "name": "stdout",
     "output_type": "stream",
     "text": [
      "Predicted variety for the first wine is Portuguese Red and the true label is Bordeaux-style Red Blend\n"
     ]
    }
   ],
   "source": [
    "print(f\"Predicted variety for the first wine is {predicted_label} and the true label is {test_label}\")"
   ]
  },
  {
   "cell_type": "code",
   "execution_count": 128,
   "id": "4cea98d2",
   "metadata": {},
   "outputs": [],
   "source": [
    "def classify(test_review):\n",
    "  all_distances = [dist(test_review, train_review) for train_review in train_data]\n",
    "  prediction = train_labels[np.argmin(all_distances)]\n",
    "  return prediction"
   ]
  },
  {
   "cell_type": "code",
   "execution_count": 131,
   "id": "65df629d",
   "metadata": {},
   "outputs": [],
   "source": [
    "test_predicted = [classify(test_review) for test_review in test_data]"
   ]
  },
  {
   "cell_type": "code",
   "execution_count": 132,
   "id": "8dc45b4e",
   "metadata": {},
   "outputs": [
    {
     "name": "stdout",
     "output_type": "stream",
     "text": [
      "Number of correctly predicted varieties is 285\n"
     ]
    }
   ],
   "source": [
    "n_correct = np.sum(test_labels == test_predicted)\n",
    "print(f\"Number of correctly predicted varieties is {n_correct}\")"
   ]
  },
  {
   "cell_type": "code",
   "execution_count": 137,
   "id": "e5d0db4c",
   "metadata": {},
   "outputs": [
    {
     "name": "stdout",
     "output_type": "stream",
     "text": [
      "0.285\n"
     ]
    }
   ],
   "source": [
    "accuracy = n_correct/len(test_labels)\n",
    "print(accuracy)\n",
    "#Accuracy of the Word Mover's Distance classifier in predicting the grape variety"
   ]
  },
  {
   "cell_type": "code",
   "execution_count": 139,
   "id": "2a7df90d",
   "metadata": {},
   "outputs": [
    {
     "data": {
      "text/plain": [
       "[1.1622806292315553,\n",
       " 1.1053647150809471,\n",
       " 1.0867855485292721,\n",
       " 1.1743931981343962,\n",
       " 1.0661745158487266,\n",
       " 1.1411924837923975,\n",
       " 1.2394200078409043,\n",
       " 1.2106068626688478,\n",
       " 1.1145809545003997,\n",
       " 1.0797468146995837]"
      ]
     },
     "execution_count": 139,
     "metadata": {},
     "output_type": "execute_result"
    }
   ],
   "source": [
    "nimik= all_distances[:10]\n",
    "nimik"
   ]
  },
  {
   "cell_type": "code",
   "execution_count": 148,
   "id": "938e874f",
   "metadata": {},
   "outputs": [
    {
     "data": {
      "text/plain": [
       "[1.0661745158487266,\n",
       " 1.0797468146995837,\n",
       " 1.0867855485292721,\n",
       " 1.1053647150809471,\n",
       " 1.1145809545003997,\n",
       " 1.1411924837923975,\n",
       " 1.1622806292315553,\n",
       " 1.1743931981343962,\n",
       " 1.2106068626688478,\n",
       " 1.2394200078409043]"
      ]
     },
     "execution_count": 148,
     "metadata": {},
     "output_type": "execute_result"
    }
   ],
   "source": [
    "nimik.sort()\n",
    "nimik"
   ]
  },
  {
   "cell_type": "code",
   "execution_count": 170,
   "id": "fed51949",
   "metadata": {},
   "outputs": [
    {
     "data": {
      "text/plain": [
       "(array([1], dtype=int64),)"
      ]
     },
     "execution_count": 170,
     "metadata": {},
     "output_type": "execute_result"
    }
   ],
   "source": [
    "#ei k6lba\n",
    "arr = np.array([\"koer\", \"kass\", \"koer\",\"koer\",\"koer\"])\n",
    "#find unique values in array along with their counts\n",
    "vals, counts = np.unique(arr, return_counts=True)\n",
    "\n",
    "#find mode\n",
    "mode = np.where(counts == np.max(counts))\n",
    "mode"
   ]
  },
  {
   "cell_type": "code",
   "execution_count": 169,
   "id": "50da2424",
   "metadata": {},
   "outputs": [
    {
     "data": {
      "text/plain": [
       "('koer', 4)"
      ]
     },
     "execution_count": 169,
     "metadata": {},
     "output_type": "execute_result"
    }
   ],
   "source": [
    "arr = np.array([\"koer\", \"kass\", \"koer\",\"koer\",\"koer\"])\n",
    "unique,pos = np.unique(arr,return_inverse=True) #Finds all unique elements and their positions\n",
    "counts = np.bincount(pos)                     #Count the number of each unique element\n",
    "maxpos = counts.argmax()                      #Finds the positions of the maximum count\n",
    "\n",
    "(unique[maxpos],counts[maxpos])"
   ]
  },
  {
   "cell_type": "code",
   "execution_count": 167,
   "id": "581d800a",
   "metadata": {},
   "outputs": [],
   "source": [
    "def k_nearest(distancelist, k):\n",
    "    idx=np.array(distancelist.argsort())\n",
    "    k_nearest_labels=np.array(distancelist[idx][:k])\n",
    "    return k_nearest"
   ]
  },
  {
   "cell_type": "code",
   "execution_count": 269,
   "id": "760027be",
   "metadata": {},
   "outputs": [],
   "source": [
    "#proovime n lähimaga\n",
    "def classify(test_review,k):\n",
    "    all_distances = np.array([dist(test_review, train_review) for train_review in train_data])\n",
    "    sorted_idx = all_distances.argsort()\n",
    "    n_closest = train_labels[sorted_idx][:k]\n",
    "    unique, pos = np.unique(n_closest,return_inverse=True)\n",
    "    counts = np.bincount(pos)\n",
    "    maxpos = counts.argmax()\n",
    "    prediction= unique[maxpos]\n",
    "    return prediction"
   ]
  },
  {
   "cell_type": "code",
   "execution_count": 281,
   "id": "7441bf28",
   "metadata": {},
   "outputs": [],
   "source": [
    "k=100\n",
    "all_distances = np.array([dist(test_review, train_review) for train_review in train_data])\n",
    "sorted_idx = all_distances.argsort()\n",
    "n_closest = train_labels[sorted_idx][:k]\n",
    "unique, pos = np.unique(n_closest,return_inverse=True)\n",
    "counts = np.bincount(pos)\n",
    "maxpos = counts.argmax()\n",
    "prediction= unique[maxpos]\n"
   ]
  },
  {
   "cell_type": "code",
   "execution_count": 282,
   "id": "44bb3198",
   "metadata": {},
   "outputs": [
    {
     "data": {
      "text/plain": [
       "array(['Portuguese Red', 'Red Blend', 'Tannat-Cabernet Franc',\n",
       "       'Portuguese Red', 'Bordeaux-style Red Blend', 'Touriga Nacional',\n",
       "       'Bordeaux-style Red Blend', 'Bordeaux-style Red Blend',\n",
       "       'Portuguese Red', 'Sauvignon Blanc', 'Baga',\n",
       "       'Bordeaux-style Red Blend', 'Malbec',\n",
       "       'Touriga Nacional-Cabernet Sauvignon', 'Portuguese Red',\n",
       "       'Bordeaux-style Red Blend', 'Pinot Noir', 'Tannat',\n",
       "       'Portuguese Red', 'Portuguese Red', 'Malbec-Merlot',\n",
       "       'Portuguese Red', 'Portuguese Red', 'Bordeaux-style Red Blend',\n",
       "       'Pinot Noir', 'Pinot Noir', 'Portuguese Red', 'Portuguese Red',\n",
       "       'Bordeaux-style Red Blend', 'Bordeaux-style Red Blend',\n",
       "       'Bordeaux-style Red Blend', 'Malbec', 'Touriga Nacional',\n",
       "       'Pinot Noir', 'Bordeaux-style Red Blend',\n",
       "       'Bordeaux-style Red Blend', 'Champagne Blend', 'Duras',\n",
       "       'Portuguese Red', 'Chardonnay', 'Chardonnay', 'Sparkling Blend',\n",
       "       'Malbec', 'Portuguese Red', 'Rosé', 'Riesling',\n",
       "       'Bordeaux-style White Blend', 'Bordeaux-style Red Blend',\n",
       "       'Petite Verdot', 'Riesling', 'Bordeaux-style Red Blend',\n",
       "       'Bordeaux-style Red Blend', 'Bordeaux-style Red Blend', 'Rosé',\n",
       "       'Bordeaux-style Red Blend', 'Alicante Bouschet',\n",
       "       'Bordeaux-style Red Blend', 'Rosé', 'Malbec', 'Chardonnay',\n",
       "       'Portuguese Red', 'Sauvignon Blanc', 'Bordeaux-style Red Blend',\n",
       "       'Aragonês', 'Gamay', 'Tannat-Cabernet', 'Provence red blend',\n",
       "       'Portuguese Red', 'Portuguese Red', 'Cabernet Sauvignon',\n",
       "       'Portuguese Red', 'Rosé', 'Portuguese Red', 'Riesling', 'Rosé',\n",
       "       'Sauvignon Blanc', 'Touriga Nacional', 'Portuguese Red', 'Rosé',\n",
       "       'Bordeaux-style Red Blend', 'Chardonnay', 'Pinot Noir',\n",
       "       'Tempranillo', 'Portuguese Red', 'Portuguese Red', 'Malbec',\n",
       "       'Portuguese Red', 'Tannat-Cabernet', 'Rosé', 'Chardonnay',\n",
       "       'Portuguese Red', 'Pinot Noir', 'Portuguese Red', 'Arinto',\n",
       "       'Sauvignon Blanc', 'Cabernet Sauvignon', 'Chardonnay',\n",
       "       'Cabernet Sauvignon', 'Cabernet Sauvignon',\n",
       "       'Bordeaux-style Red Blend'], dtype=object)"
      ]
     },
     "execution_count": 282,
     "metadata": {},
     "output_type": "execute_result"
    }
   ],
   "source": [
    "n_closest"
   ]
  },
  {
   "cell_type": "code",
   "execution_count": 268,
   "id": "b04abfac",
   "metadata": {},
   "outputs": [
    {
     "data": {
      "text/plain": [
       "'Bordeaux-style Red Blend'"
      ]
     },
     "execution_count": 268,
     "metadata": {},
     "output_type": "execute_result"
    }
   ],
   "source": [
    "prediction"
   ]
  },
  {
   "cell_type": "code",
   "execution_count": null,
   "id": "b98fa62e",
   "metadata": {},
   "outputs": [],
   "source": []
  },
  {
   "cell_type": "code",
   "execution_count": 278,
   "id": "2604824f",
   "metadata": {},
   "outputs": [],
   "source": [
    "perdicted_label = classify(test_review,100)"
   ]
  },
  {
   "cell_type": "code",
   "execution_count": 279,
   "id": "b4d091bc",
   "metadata": {},
   "outputs": [
    {
     "name": "stdout",
     "output_type": "stream",
     "text": [
      "Predicted variety for the first wine is Portuguese Red and the true label is Bordeaux-style Red Blend\n"
     ]
    }
   ],
   "source": [
    "print(f\"Predicted variety for the first wine is {perdicted_label} and the true label is {test_label}\")"
   ]
  },
  {
   "cell_type": "code",
   "execution_count": 202,
   "id": "1cc47569",
   "metadata": {},
   "outputs": [
    {
     "data": {
      "text/plain": [
       "list"
      ]
     },
     "execution_count": 202,
     "metadata": {},
     "output_type": "execute_result"
    }
   ],
   "source": [
    "type(all_distances)"
   ]
  },
  {
   "cell_type": "code",
   "execution_count": 212,
   "id": "18eab455",
   "metadata": {},
   "outputs": [
    {
     "data": {
      "text/plain": [
       "[3, 6, 0, 7, 2, 6]"
      ]
     },
     "execution_count": 212,
     "metadata": {},
     "output_type": "execute_result"
    }
   ],
   "source": [
    "proovilist=[3,6,0,7,2,6]\n",
    "proovilist"
   ]
  },
  {
   "cell_type": "code",
   "execution_count": 208,
   "id": "5be0e3b8",
   "metadata": {},
   "outputs": [
    {
     "name": "stdout",
     "output_type": "stream",
     "text": [
      "[0, 2, 3, 6, 6, 7]\n"
     ]
    }
   ],
   "source": [
    "proovilist.sort()\n",
    "print(proovilist)"
   ]
  },
  {
   "cell_type": "code",
   "execution_count": 209,
   "id": "f5a04bf7",
   "metadata": {},
   "outputs": [
    {
     "data": {
      "text/plain": [
       "3"
      ]
     },
     "execution_count": 209,
     "metadata": {},
     "output_type": "execute_result"
    }
   ],
   "source": [
    "proovilist[2]"
   ]
  },
  {
   "cell_type": "code",
   "execution_count": 238,
   "id": "08f39de5",
   "metadata": {},
   "outputs": [
    {
     "data": {
      "text/plain": [
       "array([3, 6, 0, 7, 2, 6])"
      ]
     },
     "execution_count": 238,
     "metadata": {},
     "output_type": "execute_result"
    }
   ],
   "source": [
    "numplist = np.array(proovilist)\n",
    "numplist"
   ]
  },
  {
   "cell_type": "code",
   "execution_count": 220,
   "id": "d32e5c43",
   "metadata": {},
   "outputs": [
    {
     "data": {
      "text/plain": [
       "7"
      ]
     },
     "execution_count": 220,
     "metadata": {},
     "output_type": "execute_result"
    }
   ],
   "source": [
    "numplist[3]"
   ]
  },
  {
   "cell_type": "code",
   "execution_count": 239,
   "id": "020e8f2c",
   "metadata": {},
   "outputs": [
    {
     "data": {
      "text/plain": [
       "array([2, 4, 0, 1, 5, 3], dtype=int64)"
      ]
     },
     "execution_count": 239,
     "metadata": {},
     "output_type": "execute_result"
    }
   ],
   "source": [
    "idx=numplist.argsort()\n",
    "idx"
   ]
  },
  {
   "cell_type": "code",
   "execution_count": 222,
   "id": "1d03bac1",
   "metadata": {},
   "outputs": [
    {
     "data": {
      "text/plain": [
       "array([3, 6, 0, 7, 2, 6])"
      ]
     },
     "execution_count": 222,
     "metadata": {},
     "output_type": "execute_result"
    }
   ],
   "source": [
    "numplist"
   ]
  },
  {
   "cell_type": "code",
   "execution_count": 225,
   "id": "108247d3",
   "metadata": {},
   "outputs": [
    {
     "data": {
      "text/plain": [
       "7"
      ]
     },
     "execution_count": 225,
     "metadata": {},
     "output_type": "execute_result"
    }
   ],
   "source": [
    "numplist[3]"
   ]
  },
  {
   "cell_type": "code",
   "execution_count": 241,
   "id": "a0cc9990",
   "metadata": {},
   "outputs": [
    {
     "data": {
      "text/plain": [
       "array([0, 2, 3, 6, 6, 7])"
      ]
     },
     "execution_count": 241,
     "metadata": {},
     "output_type": "execute_result"
    }
   ],
   "source": [
    "numplist_sorted = numplist[idx]\n",
    "numplist_sorted"
   ]
  },
  {
   "cell_type": "code",
   "execution_count": 228,
   "id": "5179c68e",
   "metadata": {},
   "outputs": [
    {
     "data": {
      "text/plain": [
       "array([0, 2, 3])"
      ]
     },
     "execution_count": 228,
     "metadata": {},
     "output_type": "execute_result"
    }
   ],
   "source": [
    "kolm= numplist[idx][:3]\n",
    "kolm"
   ]
  },
  {
   "cell_type": "code",
   "execution_count": 237,
   "id": "9c5a301d",
   "metadata": {},
   "outputs": [
    {
     "data": {
      "text/plain": [
       "(array([], dtype=int64),)"
      ]
     },
     "execution_count": 237,
     "metadata": {},
     "output_type": "execute_result"
    }
   ],
   "source": [
    "np.where(kolm==1)"
   ]
  },
  {
   "cell_type": "code",
   "execution_count": 183,
   "id": "a628ff2c",
   "metadata": {},
   "outputs": [
    {
     "data": {
      "text/plain": [
       "array([1.16228063, 1.10536472, 1.08678555, 1.1743932 , 1.06617452,\n",
       "       1.14119248])"
      ]
     },
     "execution_count": 183,
     "metadata": {},
     "output_type": "execute_result"
    }
   ],
   "source": [
    "n_closest"
   ]
  },
  {
   "cell_type": "code",
   "execution_count": 283,
   "id": "b3842166",
   "metadata": {},
   "outputs": [],
   "source": [
    "test_predicted_n9 = [classify(test_review,9) for test_review in test_data]"
   ]
  },
  {
   "cell_type": "code",
   "execution_count": 284,
   "id": "f16724c6",
   "metadata": {},
   "outputs": [
    {
     "name": "stdout",
     "output_type": "stream",
     "text": [
      "0.335\n"
     ]
    }
   ],
   "source": [
    "n_correct_k9 = np.sum(test_labels == test_predicted_n9, dtype=object)\n",
    "accuracy_k9 = n_correct_k9/len(test_labels)\n",
    "print(accuracy_k9)\n",
    "#Accuracy of the Word Mover's Distance classifier, k=9, in predicting the grape variety (Word2vec_updated)"
   ]
  },
  {
   "cell_type": "code",
   "execution_count": null,
   "id": "2f267a9c",
   "metadata": {},
   "outputs": [],
   "source": []
  },
  {
   "cell_type": "code",
   "execution_count": null,
   "id": "8f670736",
   "metadata": {},
   "outputs": [],
   "source": []
  }
 ],
 "metadata": {
  "kernelspec": {
   "display_name": "Python 3 (ipykernel)",
   "language": "python",
   "name": "python3"
  },
  "language_info": {
   "codemirror_mode": {
    "name": "ipython",
    "version": 3
   },
   "file_extension": ".py",
   "mimetype": "text/x-python",
   "name": "python",
   "nbconvert_exporter": "python",
   "pygments_lexer": "ipython3",
   "version": "3.9.13"
  }
 },
 "nbformat": 4,
 "nbformat_minor": 5
}
