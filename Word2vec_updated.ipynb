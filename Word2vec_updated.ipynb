{
 "cells": [
  {
   "cell_type": "code",
   "execution_count": 3,
   "id": "4efcae6a",
   "metadata": {},
   "outputs": [],
   "source": [
    "import pandas as pd\n",
    "import gensim\n",
    "from gensim.models import Word2Vec\n",
    "from nltk.stem import WordNetLemmatizer\n",
    "import numpy as np"
   ]
  },
  {
   "cell_type": "code",
   "execution_count": 4,
   "id": "16dba944",
   "metadata": {},
   "outputs": [],
   "source": [
    "import nltk\n",
    "import re"
   ]
  },
  {
   "cell_type": "code",
   "execution_count": 5,
   "id": "51d2cf98",
   "metadata": {},
   "outputs": [],
   "source": [
    "#dlr = nltk.downloader.Downloader()\n",
    "#dlr._update_index()\n",
    "#dlr.download('wordnet')\n",
    "#nltk.download('stopwords')\n",
    "#nltk.download('punkt')\n",
    "#nltk.download('omw-1.4')\n",
    "from nltk.corpus import stopwords"
   ]
  },
  {
   "cell_type": "code",
   "execution_count": 6,
   "id": "ab0b9577",
   "metadata": {},
   "outputs": [],
   "source": [
    "data_loc = 'data/'"
   ]
  },
  {
   "cell_type": "code",
   "execution_count": 7,
   "id": "c17d4d9a",
   "metadata": {},
   "outputs": [],
   "source": [
    "data1 = pd.read_csv('winemag-data_first150k.csv', index_col=0)\n",
    "data2 = pd.read_csv('winemag-data-130k-v2.csv', index_col=0)"
   ]
  },
  {
   "cell_type": "code",
   "execution_count": 8,
   "id": "4e444c33",
   "metadata": {},
   "outputs": [],
   "source": [
    "#Panen andmed kokku\n",
    "dataset = pd.concat([data1,data2])"
   ]
  },
  {
   "cell_type": "code",
   "execution_count": 9,
   "id": "944b7703",
   "metadata": {},
   "outputs": [
    {
     "data": {
      "text/html": [
       "<div>\n",
       "<style scoped>\n",
       "    .dataframe tbody tr th:only-of-type {\n",
       "        vertical-align: middle;\n",
       "    }\n",
       "\n",
       "    .dataframe tbody tr th {\n",
       "        vertical-align: top;\n",
       "    }\n",
       "\n",
       "    .dataframe thead th {\n",
       "        text-align: right;\n",
       "    }\n",
       "</style>\n",
       "<table border=\"1\" class=\"dataframe\">\n",
       "  <thead>\n",
       "    <tr style=\"text-align: right;\">\n",
       "      <th></th>\n",
       "      <th>country</th>\n",
       "      <th>description</th>\n",
       "      <th>designation</th>\n",
       "      <th>points</th>\n",
       "      <th>price</th>\n",
       "      <th>province</th>\n",
       "      <th>region_1</th>\n",
       "      <th>region_2</th>\n",
       "      <th>variety</th>\n",
       "      <th>winery</th>\n",
       "      <th>taster_name</th>\n",
       "      <th>taster_twitter_handle</th>\n",
       "      <th>title</th>\n",
       "    </tr>\n",
       "  </thead>\n",
       "  <tbody>\n",
       "    <tr>\n",
       "      <th>0</th>\n",
       "      <td>US</td>\n",
       "      <td>This tremendous 100% varietal wine hails from ...</td>\n",
       "      <td>Martha's Vineyard</td>\n",
       "      <td>96</td>\n",
       "      <td>235.0</td>\n",
       "      <td>California</td>\n",
       "      <td>Napa Valley</td>\n",
       "      <td>Napa</td>\n",
       "      <td>Cabernet Sauvignon</td>\n",
       "      <td>Heitz</td>\n",
       "      <td>NaN</td>\n",
       "      <td>NaN</td>\n",
       "      <td>NaN</td>\n",
       "    </tr>\n",
       "    <tr>\n",
       "      <th>1</th>\n",
       "      <td>Spain</td>\n",
       "      <td>Ripe aromas of fig, blackberry and cassis are ...</td>\n",
       "      <td>Carodorum Selección Especial Reserva</td>\n",
       "      <td>96</td>\n",
       "      <td>110.0</td>\n",
       "      <td>Northern Spain</td>\n",
       "      <td>Toro</td>\n",
       "      <td>NaN</td>\n",
       "      <td>Tinta de Toro</td>\n",
       "      <td>Bodega Carmen Rodríguez</td>\n",
       "      <td>NaN</td>\n",
       "      <td>NaN</td>\n",
       "      <td>NaN</td>\n",
       "    </tr>\n",
       "    <tr>\n",
       "      <th>2</th>\n",
       "      <td>US</td>\n",
       "      <td>Mac Watson honors the memory of a wine once ma...</td>\n",
       "      <td>Special Selected Late Harvest</td>\n",
       "      <td>96</td>\n",
       "      <td>90.0</td>\n",
       "      <td>California</td>\n",
       "      <td>Knights Valley</td>\n",
       "      <td>Sonoma</td>\n",
       "      <td>Sauvignon Blanc</td>\n",
       "      <td>Macauley</td>\n",
       "      <td>NaN</td>\n",
       "      <td>NaN</td>\n",
       "      <td>NaN</td>\n",
       "    </tr>\n",
       "    <tr>\n",
       "      <th>3</th>\n",
       "      <td>US</td>\n",
       "      <td>This spent 20 months in 30% new French oak, an...</td>\n",
       "      <td>Reserve</td>\n",
       "      <td>96</td>\n",
       "      <td>65.0</td>\n",
       "      <td>Oregon</td>\n",
       "      <td>Willamette Valley</td>\n",
       "      <td>Willamette Valley</td>\n",
       "      <td>Pinot Noir</td>\n",
       "      <td>Ponzi</td>\n",
       "      <td>NaN</td>\n",
       "      <td>NaN</td>\n",
       "      <td>NaN</td>\n",
       "    </tr>\n",
       "    <tr>\n",
       "      <th>4</th>\n",
       "      <td>France</td>\n",
       "      <td>This is the top wine from La Bégude, named aft...</td>\n",
       "      <td>La Brûlade</td>\n",
       "      <td>95</td>\n",
       "      <td>66.0</td>\n",
       "      <td>Provence</td>\n",
       "      <td>Bandol</td>\n",
       "      <td>NaN</td>\n",
       "      <td>Provence red blend</td>\n",
       "      <td>Domaine de la Bégude</td>\n",
       "      <td>NaN</td>\n",
       "      <td>NaN</td>\n",
       "      <td>NaN</td>\n",
       "    </tr>\n",
       "    <tr>\n",
       "      <th>...</th>\n",
       "      <td>...</td>\n",
       "      <td>...</td>\n",
       "      <td>...</td>\n",
       "      <td>...</td>\n",
       "      <td>...</td>\n",
       "      <td>...</td>\n",
       "      <td>...</td>\n",
       "      <td>...</td>\n",
       "      <td>...</td>\n",
       "      <td>...</td>\n",
       "      <td>...</td>\n",
       "      <td>...</td>\n",
       "      <td>...</td>\n",
       "    </tr>\n",
       "    <tr>\n",
       "      <th>280896</th>\n",
       "      <td>Germany</td>\n",
       "      <td>Notes of honeysuckle and cantaloupe sweeten th...</td>\n",
       "      <td>Brauneberger Juffer-Sonnenuhr Spätlese</td>\n",
       "      <td>90</td>\n",
       "      <td>28.0</td>\n",
       "      <td>Mosel</td>\n",
       "      <td>NaN</td>\n",
       "      <td>NaN</td>\n",
       "      <td>Riesling</td>\n",
       "      <td>Dr. H. Thanisch (Erben Müller-Burggraef)</td>\n",
       "      <td>Anna Lee C. Iijima</td>\n",
       "      <td>NaN</td>\n",
       "      <td>Dr. H. Thanisch (Erben Müller-Burggraef) 2013 ...</td>\n",
       "    </tr>\n",
       "    <tr>\n",
       "      <th>280897</th>\n",
       "      <td>US</td>\n",
       "      <td>Citation is given as much as a decade of bottl...</td>\n",
       "      <td>NaN</td>\n",
       "      <td>90</td>\n",
       "      <td>75.0</td>\n",
       "      <td>Oregon</td>\n",
       "      <td>Oregon</td>\n",
       "      <td>Oregon Other</td>\n",
       "      <td>Pinot Noir</td>\n",
       "      <td>Citation</td>\n",
       "      <td>Paul Gregutt</td>\n",
       "      <td>@paulgwine</td>\n",
       "      <td>Citation 2004 Pinot Noir (Oregon)</td>\n",
       "    </tr>\n",
       "    <tr>\n",
       "      <th>280898</th>\n",
       "      <td>France</td>\n",
       "      <td>Well-drained gravel soil gives this wine its c...</td>\n",
       "      <td>Kritt</td>\n",
       "      <td>90</td>\n",
       "      <td>30.0</td>\n",
       "      <td>Alsace</td>\n",
       "      <td>Alsace</td>\n",
       "      <td>NaN</td>\n",
       "      <td>Gewürztraminer</td>\n",
       "      <td>Domaine Gresser</td>\n",
       "      <td>Roger Voss</td>\n",
       "      <td>@vossroger</td>\n",
       "      <td>Domaine Gresser 2013 Kritt Gewurztraminer (Als...</td>\n",
       "    </tr>\n",
       "    <tr>\n",
       "      <th>280899</th>\n",
       "      <td>France</td>\n",
       "      <td>A dry style of Pinot Gris, this is crisp with ...</td>\n",
       "      <td>NaN</td>\n",
       "      <td>90</td>\n",
       "      <td>32.0</td>\n",
       "      <td>Alsace</td>\n",
       "      <td>Alsace</td>\n",
       "      <td>NaN</td>\n",
       "      <td>Pinot Gris</td>\n",
       "      <td>Domaine Marcel Deiss</td>\n",
       "      <td>Roger Voss</td>\n",
       "      <td>@vossroger</td>\n",
       "      <td>Domaine Marcel Deiss 2012 Pinot Gris (Alsace)</td>\n",
       "    </tr>\n",
       "    <tr>\n",
       "      <th>280900</th>\n",
       "      <td>France</td>\n",
       "      <td>Big, rich and off-dry, this is powered by inte...</td>\n",
       "      <td>Lieu-dit Harth Cuvée Caroline</td>\n",
       "      <td>90</td>\n",
       "      <td>21.0</td>\n",
       "      <td>Alsace</td>\n",
       "      <td>Alsace</td>\n",
       "      <td>NaN</td>\n",
       "      <td>Gewürztraminer</td>\n",
       "      <td>Domaine Schoffit</td>\n",
       "      <td>Roger Voss</td>\n",
       "      <td>@vossroger</td>\n",
       "      <td>Domaine Schoffit 2012 Lieu-dit Harth Cuvée Car...</td>\n",
       "    </tr>\n",
       "  </tbody>\n",
       "</table>\n",
       "<p>280901 rows × 13 columns</p>\n",
       "</div>"
      ],
      "text/plain": [
       "        country                                        description  \\\n",
       "0            US  This tremendous 100% varietal wine hails from ...   \n",
       "1         Spain  Ripe aromas of fig, blackberry and cassis are ...   \n",
       "2            US  Mac Watson honors the memory of a wine once ma...   \n",
       "3            US  This spent 20 months in 30% new French oak, an...   \n",
       "4        France  This is the top wine from La Bégude, named aft...   \n",
       "...         ...                                                ...   \n",
       "280896  Germany  Notes of honeysuckle and cantaloupe sweeten th...   \n",
       "280897       US  Citation is given as much as a decade of bottl...   \n",
       "280898   France  Well-drained gravel soil gives this wine its c...   \n",
       "280899   France  A dry style of Pinot Gris, this is crisp with ...   \n",
       "280900   France  Big, rich and off-dry, this is powered by inte...   \n",
       "\n",
       "                                   designation  points  price        province  \\\n",
       "0                            Martha's Vineyard      96  235.0      California   \n",
       "1         Carodorum Selección Especial Reserva      96  110.0  Northern Spain   \n",
       "2                Special Selected Late Harvest      96   90.0      California   \n",
       "3                                      Reserve      96   65.0          Oregon   \n",
       "4                                   La Brûlade      95   66.0        Provence   \n",
       "...                                        ...     ...    ...             ...   \n",
       "280896  Brauneberger Juffer-Sonnenuhr Spätlese      90   28.0           Mosel   \n",
       "280897                                     NaN      90   75.0          Oregon   \n",
       "280898                                   Kritt      90   30.0          Alsace   \n",
       "280899                                     NaN      90   32.0          Alsace   \n",
       "280900           Lieu-dit Harth Cuvée Caroline      90   21.0          Alsace   \n",
       "\n",
       "                 region_1           region_2             variety  \\\n",
       "0             Napa Valley               Napa  Cabernet Sauvignon   \n",
       "1                    Toro                NaN       Tinta de Toro   \n",
       "2          Knights Valley             Sonoma     Sauvignon Blanc   \n",
       "3       Willamette Valley  Willamette Valley          Pinot Noir   \n",
       "4                  Bandol                NaN  Provence red blend   \n",
       "...                   ...                ...                 ...   \n",
       "280896                NaN                NaN            Riesling   \n",
       "280897             Oregon       Oregon Other          Pinot Noir   \n",
       "280898             Alsace                NaN      Gewürztraminer   \n",
       "280899             Alsace                NaN          Pinot Gris   \n",
       "280900             Alsace                NaN      Gewürztraminer   \n",
       "\n",
       "                                          winery         taster_name  \\\n",
       "0                                          Heitz                 NaN   \n",
       "1                        Bodega Carmen Rodríguez                 NaN   \n",
       "2                                       Macauley                 NaN   \n",
       "3                                          Ponzi                 NaN   \n",
       "4                           Domaine de la Bégude                 NaN   \n",
       "...                                          ...                 ...   \n",
       "280896  Dr. H. Thanisch (Erben Müller-Burggraef)  Anna Lee C. Iijima   \n",
       "280897                                  Citation        Paul Gregutt   \n",
       "280898                           Domaine Gresser          Roger Voss   \n",
       "280899                      Domaine Marcel Deiss          Roger Voss   \n",
       "280900                          Domaine Schoffit          Roger Voss   \n",
       "\n",
       "       taster_twitter_handle  \\\n",
       "0                        NaN   \n",
       "1                        NaN   \n",
       "2                        NaN   \n",
       "3                        NaN   \n",
       "4                        NaN   \n",
       "...                      ...   \n",
       "280896                   NaN   \n",
       "280897           @paulgwine    \n",
       "280898            @vossroger   \n",
       "280899            @vossroger   \n",
       "280900            @vossroger   \n",
       "\n",
       "                                                    title  \n",
       "0                                                     NaN  \n",
       "1                                                     NaN  \n",
       "2                                                     NaN  \n",
       "3                                                     NaN  \n",
       "4                                                     NaN  \n",
       "...                                                   ...  \n",
       "280896  Dr. H. Thanisch (Erben Müller-Burggraef) 2013 ...  \n",
       "280897                  Citation 2004 Pinot Noir (Oregon)  \n",
       "280898  Domaine Gresser 2013 Kritt Gewurztraminer (Als...  \n",
       "280899      Domaine Marcel Deiss 2012 Pinot Gris (Alsace)  \n",
       "280900  Domaine Schoffit 2012 Lieu-dit Harth Cuvée Car...  \n",
       "\n",
       "[280901 rows x 13 columns]"
      ]
     },
     "execution_count": 9,
     "metadata": {},
     "output_type": "execute_result"
    }
   ],
   "source": [
    "dataset.reset_index(drop=True)"
   ]
  },
  {
   "cell_type": "code",
   "execution_count": 10,
   "id": "fe5e8938",
   "metadata": {
    "scrolled": false
   },
   "outputs": [
    {
     "data": {
      "text/html": [
       "<div>\n",
       "<style scoped>\n",
       "    .dataframe tbody tr th:only-of-type {\n",
       "        vertical-align: middle;\n",
       "    }\n",
       "\n",
       "    .dataframe tbody tr th {\n",
       "        vertical-align: top;\n",
       "    }\n",
       "\n",
       "    .dataframe thead th {\n",
       "        text-align: right;\n",
       "    }\n",
       "</style>\n",
       "<table border=\"1\" class=\"dataframe\">\n",
       "  <thead>\n",
       "    <tr style=\"text-align: right;\">\n",
       "      <th></th>\n",
       "      <th>country</th>\n",
       "      <th>description</th>\n",
       "      <th>designation</th>\n",
       "      <th>points</th>\n",
       "      <th>price</th>\n",
       "      <th>province</th>\n",
       "      <th>region_1</th>\n",
       "      <th>region_2</th>\n",
       "      <th>variety</th>\n",
       "      <th>winery</th>\n",
       "      <th>taster_name</th>\n",
       "      <th>taster_twitter_handle</th>\n",
       "      <th>title</th>\n",
       "    </tr>\n",
       "  </thead>\n",
       "  <tbody>\n",
       "    <tr>\n",
       "      <th>0</th>\n",
       "      <td>US</td>\n",
       "      <td>This tremendous 100% varietal wine hails from ...</td>\n",
       "      <td>Martha's Vineyard</td>\n",
       "      <td>96</td>\n",
       "      <td>235.0</td>\n",
       "      <td>California</td>\n",
       "      <td>Napa Valley</td>\n",
       "      <td>Napa</td>\n",
       "      <td>Cabernet Sauvignon</td>\n",
       "      <td>Heitz</td>\n",
       "      <td>NaN</td>\n",
       "      <td>NaN</td>\n",
       "      <td>NaN</td>\n",
       "    </tr>\n",
       "    <tr>\n",
       "      <th>1</th>\n",
       "      <td>Spain</td>\n",
       "      <td>Ripe aromas of fig, blackberry and cassis are ...</td>\n",
       "      <td>Carodorum Selección Especial Reserva</td>\n",
       "      <td>96</td>\n",
       "      <td>110.0</td>\n",
       "      <td>Northern Spain</td>\n",
       "      <td>Toro</td>\n",
       "      <td>NaN</td>\n",
       "      <td>Tinta de Toro</td>\n",
       "      <td>Bodega Carmen Rodríguez</td>\n",
       "      <td>NaN</td>\n",
       "      <td>NaN</td>\n",
       "      <td>NaN</td>\n",
       "    </tr>\n",
       "    <tr>\n",
       "      <th>2</th>\n",
       "      <td>US</td>\n",
       "      <td>Mac Watson honors the memory of a wine once ma...</td>\n",
       "      <td>Special Selected Late Harvest</td>\n",
       "      <td>96</td>\n",
       "      <td>90.0</td>\n",
       "      <td>California</td>\n",
       "      <td>Knights Valley</td>\n",
       "      <td>Sonoma</td>\n",
       "      <td>Sauvignon Blanc</td>\n",
       "      <td>Macauley</td>\n",
       "      <td>NaN</td>\n",
       "      <td>NaN</td>\n",
       "      <td>NaN</td>\n",
       "    </tr>\n",
       "    <tr>\n",
       "      <th>3</th>\n",
       "      <td>US</td>\n",
       "      <td>This spent 20 months in 30% new French oak, an...</td>\n",
       "      <td>Reserve</td>\n",
       "      <td>96</td>\n",
       "      <td>65.0</td>\n",
       "      <td>Oregon</td>\n",
       "      <td>Willamette Valley</td>\n",
       "      <td>Willamette Valley</td>\n",
       "      <td>Pinot Noir</td>\n",
       "      <td>Ponzi</td>\n",
       "      <td>NaN</td>\n",
       "      <td>NaN</td>\n",
       "      <td>NaN</td>\n",
       "    </tr>\n",
       "    <tr>\n",
       "      <th>4</th>\n",
       "      <td>France</td>\n",
       "      <td>This is the top wine from La Bégude, named aft...</td>\n",
       "      <td>La Brûlade</td>\n",
       "      <td>95</td>\n",
       "      <td>66.0</td>\n",
       "      <td>Provence</td>\n",
       "      <td>Bandol</td>\n",
       "      <td>NaN</td>\n",
       "      <td>Provence red blend</td>\n",
       "      <td>Domaine de la Bégude</td>\n",
       "      <td>NaN</td>\n",
       "      <td>NaN</td>\n",
       "      <td>NaN</td>\n",
       "    </tr>\n",
       "  </tbody>\n",
       "</table>\n",
       "</div>"
      ],
      "text/plain": [
       "  country                                        description  \\\n",
       "0      US  This tremendous 100% varietal wine hails from ...   \n",
       "1   Spain  Ripe aromas of fig, blackberry and cassis are ...   \n",
       "2      US  Mac Watson honors the memory of a wine once ma...   \n",
       "3      US  This spent 20 months in 30% new French oak, an...   \n",
       "4  France  This is the top wine from La Bégude, named aft...   \n",
       "\n",
       "                            designation  points  price        province  \\\n",
       "0                     Martha's Vineyard      96  235.0      California   \n",
       "1  Carodorum Selección Especial Reserva      96  110.0  Northern Spain   \n",
       "2         Special Selected Late Harvest      96   90.0      California   \n",
       "3                               Reserve      96   65.0          Oregon   \n",
       "4                            La Brûlade      95   66.0        Provence   \n",
       "\n",
       "            region_1           region_2             variety  \\\n",
       "0        Napa Valley               Napa  Cabernet Sauvignon   \n",
       "1               Toro                NaN       Tinta de Toro   \n",
       "2     Knights Valley             Sonoma     Sauvignon Blanc   \n",
       "3  Willamette Valley  Willamette Valley          Pinot Noir   \n",
       "4             Bandol                NaN  Provence red blend   \n",
       "\n",
       "                    winery taster_name taster_twitter_handle title  \n",
       "0                    Heitz         NaN                   NaN   NaN  \n",
       "1  Bodega Carmen Rodríguez         NaN                   NaN   NaN  \n",
       "2                 Macauley         NaN                   NaN   NaN  \n",
       "3                    Ponzi         NaN                   NaN   NaN  \n",
       "4     Domaine de la Bégude         NaN                   NaN   NaN  "
      ]
     },
     "execution_count": 10,
     "metadata": {},
     "output_type": "execute_result"
    }
   ],
   "source": [
    "#Vaatan, mis toimub\n",
    "dataset.head()"
   ]
  },
  {
   "cell_type": "code",
   "execution_count": 23,
   "id": "1c08588f",
   "metadata": {},
   "outputs": [
    {
     "data": {
      "text/plain": [
       "['us', 'spain', 'france', 'italy', 'new zealand']"
      ]
     },
     "execution_count": 23,
     "metadata": {},
     "output_type": "execute_result"
    }
   ],
   "source": [
    "new_stopwords = dataset.country.astype(str).unique().tolist()\n",
    "new_stopwords = [x.lower() for x in new_stopwords]\n",
    "#new_stopwords[0:5]"
   ]
  },
  {
   "cell_type": "code",
   "execution_count": 12,
   "id": "2ff6e45c",
   "metadata": {},
   "outputs": [],
   "source": [
    "stop_phrases = dataset.variety.astype(str).unique().tolist()\n",
    "stop_phrases = [x.lower() for x in stop_phrases]"
   ]
  },
  {
   "cell_type": "code",
   "execution_count": 42,
   "id": "0c8d783b",
   "metadata": {},
   "outputs": [],
   "source": [
    "country_phrases = [x for x in new_stopwords if \" \" in x]"
   ]
  },
  {
   "cell_type": "code",
   "execution_count": 44,
   "id": "aac63acc",
   "metadata": {},
   "outputs": [],
   "source": [
    "stop_phrases.extend(country_phrases)"
   ]
  },
  {
   "cell_type": "code",
   "execution_count": 47,
   "id": "1201da0b",
   "metadata": {},
   "outputs": [],
   "source": [
    "new_stopwords = list(filter(lambda x: x not in country_phrases, new_stopwords))"
   ]
  },
  {
   "cell_type": "code",
   "execution_count": 81,
   "id": "72b2160e",
   "metadata": {},
   "outputs": [],
   "source": [
    "variety_words = [x for x in stop_phrases if \" \" not in x]"
   ]
  },
  {
   "cell_type": "code",
   "execution_count": 84,
   "id": "d643f5f0",
   "metadata": {},
   "outputs": [],
   "source": [
    "new_stopwords.extend(variety_words)"
   ]
  },
  {
   "cell_type": "code",
   "execution_count": 85,
   "id": "d2d9f4a4",
   "metadata": {},
   "outputs": [],
   "source": [
    "stop_phrases = list(filter(lambda x: x not in variety_words, stop_phrases))"
   ]
  },
  {
   "cell_type": "code",
   "execution_count": 55,
   "id": "eceaa30d",
   "metadata": {},
   "outputs": [],
   "source": [
    "lemmatizer = WordNetLemmatizer()"
   ]
  },
  {
   "cell_type": "code",
   "execution_count": 56,
   "id": "e609d71e",
   "metadata": {},
   "outputs": [],
   "source": [
    "desc = dataset.description"
   ]
  },
  {
   "cell_type": "code",
   "execution_count": 57,
   "id": "d1e7b380",
   "metadata": {},
   "outputs": [],
   "source": [
    "reviews_lower = [x.lower() for x in desc]"
   ]
  },
  {
   "cell_type": "code",
   "execution_count": 58,
   "id": "deb9603d",
   "metadata": {},
   "outputs": [],
   "source": [
    "reviews_lower_cl = [re.sub('[(.,!?)]', '', x) for x in reviews_lower]"
   ]
  },
  {
   "cell_type": "code",
   "execution_count": 59,
   "id": "990e7689",
   "metadata": {},
   "outputs": [
    {
     "data": {
      "text/plain": [
       "'this tremendous 100% varietal wine hails from oakville and was aged over three years in oak juicy red-cherry fruit and a compelling hint of caramel greet the palate framed by elegant fine tannins and a subtle minty tone in the background balanced and rewarding from start to finish it has years ahead of it to develop further nuance enjoy 2022–2030'"
      ]
     },
     "execution_count": 59,
     "metadata": {},
     "output_type": "execute_result"
    }
   ],
   "source": [
    "reviews_lower_cl[0]"
   ]
  },
  {
   "cell_type": "code",
   "execution_count": 60,
   "id": "06ebc0e9",
   "metadata": {},
   "outputs": [],
   "source": [
    "reviews_sent = [nltk.sent_tokenize(x) for x in reviews_lower_cl]"
   ]
  },
  {
   "cell_type": "code",
   "execution_count": 61,
   "id": "027cdf9a",
   "metadata": {},
   "outputs": [],
   "source": [
    "reviews_sent = [y for x in reviews_sent for y in x]"
   ]
  },
  {
   "cell_type": "code",
   "execution_count": 62,
   "id": "731f6e8a",
   "metadata": {},
   "outputs": [
    {
     "data": {
      "text/plain": [
       "'this tremendous 100% varietal wine hails from oakville and was aged over three years in oak juicy red-cherry fruit and a compelling hint of caramel greet the palate framed by elegant fine tannins and a subtle minty tone in the background balanced and rewarding from start to finish it has years ahead of it to develop further nuance enjoy 2022–2030'"
      ]
     },
     "execution_count": 62,
     "metadata": {},
     "output_type": "execute_result"
    }
   ],
   "source": [
    "reviews_sent[0]"
   ]
  },
  {
   "cell_type": "code",
   "execution_count": 63,
   "id": "1aaf739f",
   "metadata": {},
   "outputs": [],
   "source": [
    "reviews_words = [nltk.word_tokenize(x) for x in reviews_sent]"
   ]
  },
  {
   "cell_type": "code",
   "execution_count": 64,
   "id": "d843257f",
   "metadata": {
    "scrolled": true
   },
   "outputs": [
    {
     "data": {
      "text/plain": [
       "['this',\n",
       " 'tremendous',\n",
       " '100',\n",
       " '%',\n",
       " 'varietal',\n",
       " 'wine',\n",
       " 'hails',\n",
       " 'from',\n",
       " 'oakville',\n",
       " 'and',\n",
       " 'was',\n",
       " 'aged',\n",
       " 'over',\n",
       " 'three',\n",
       " 'years',\n",
       " 'in',\n",
       " 'oak',\n",
       " 'juicy',\n",
       " 'red-cherry',\n",
       " 'fruit',\n",
       " 'and',\n",
       " 'a',\n",
       " 'compelling',\n",
       " 'hint',\n",
       " 'of',\n",
       " 'caramel',\n",
       " 'greet',\n",
       " 'the',\n",
       " 'palate',\n",
       " 'framed',\n",
       " 'by',\n",
       " 'elegant',\n",
       " 'fine',\n",
       " 'tannins',\n",
       " 'and',\n",
       " 'a',\n",
       " 'subtle',\n",
       " 'minty',\n",
       " 'tone',\n",
       " 'in',\n",
       " 'the',\n",
       " 'background',\n",
       " 'balanced',\n",
       " 'and',\n",
       " 'rewarding',\n",
       " 'from',\n",
       " 'start',\n",
       " 'to',\n",
       " 'finish',\n",
       " 'it',\n",
       " 'has',\n",
       " 'years',\n",
       " 'ahead',\n",
       " 'of',\n",
       " 'it',\n",
       " 'to',\n",
       " 'develop',\n",
       " 'further',\n",
       " 'nuance',\n",
       " 'enjoy',\n",
       " '2022–2030']"
      ]
     },
     "execution_count": 64,
     "metadata": {},
     "output_type": "execute_result"
    }
   ],
   "source": [
    "reviews_words[0]"
   ]
  },
  {
   "cell_type": "code",
   "execution_count": 65,
   "id": "742ffba0",
   "metadata": {},
   "outputs": [],
   "source": [
    "for i in range(len(reviews_words)):\n",
    "    reviews_words[i] = [lemmatizer.lemmatize(w) for w in reviews_words[i]]"
   ]
  },
  {
   "cell_type": "code",
   "execution_count": 116,
   "id": "f735db77",
   "metadata": {},
   "outputs": [],
   "source": [
    "reviews_lemmatized = [' '.join(x) for x in reviews_words]"
   ]
  },
  {
   "cell_type": "code",
   "execution_count": 117,
   "id": "a7a36220",
   "metadata": {},
   "outputs": [
    {
     "data": {
      "text/plain": [
       "'this tremendous 100 % varietal wine hail from oakville and wa aged over three year in oak juicy red-cherry fruit and a compelling hint of caramel greet the palate framed by elegant fine tannin and a subtle minty tone in the background balanced and rewarding from start to finish it ha year ahead of it to develop further nuance enjoy 2022–2030'"
      ]
     },
     "execution_count": 117,
     "metadata": {},
     "output_type": "execute_result"
    }
   ],
   "source": [
    "reviews_lemmatized[0]"
   ]
  },
  {
   "cell_type": "code",
   "execution_count": 70,
   "id": "d6f471b2",
   "metadata": {},
   "outputs": [
    {
     "data": {
      "text/plain": [
       "'cabernet sauvignon'"
      ]
     },
     "execution_count": 70,
     "metadata": {},
     "output_type": "execute_result"
    }
   ],
   "source": [
    "stop_phrases[0]"
   ]
  },
  {
   "cell_type": "code",
   "execution_count": 72,
   "id": "a5047934",
   "metadata": {},
   "outputs": [
    {
     "name": "stdout",
     "output_type": "stream",
     "text": [
      "this savory blend of 40 % merlot 30 % cabernet sauvignon 25 % cabernet franc and 5 % syrah open with aroma of roasted coffee bean leather tobacco and dark woodland berry the chewy palate offer juicy plum cassis and clove alongside polished tannin drink through 2019\n",
      "Index: 59\n"
     ]
    }
   ],
   "source": [
    "#To check if stop phrase removal actually works, we find one description with stop phrase \"cabernet sauvignon\" and its index\n",
    "for i in range(len(reviews_lemmatized)):\n",
    "    if stop_phrases[0] in reviews_lemmatized[i]:\n",
    "        print(reviews_lemmatized[i])\n",
    "        print(\"Index:\", i)\n",
    "        break"
   ]
  },
  {
   "cell_type": "code",
   "execution_count": 118,
   "id": "c735e5e1",
   "metadata": {},
   "outputs": [],
   "source": [
    "#Removing stop phrases\n",
    "for x in stop_phrases:\n",
    "    for i in range(len(reviews_lemmatized)):\n",
    "        reviews_lemmatized[i] = re.sub(x, \"\", reviews_lemmatized[i])"
   ]
  },
  {
   "cell_type": "code",
   "execution_count": 119,
   "id": "a8412aa6",
   "metadata": {},
   "outputs": [
    {
     "data": {
      "text/plain": [
       "'this savory blend of 40 % merlot 30 %  25 %  and 5 % syrah open with aroma of roasted coffee bean leather tobacco and dark woodland berry the chewy palate offer juicy plum cassis and clove alongside polished tannin drink through 2019'"
      ]
     },
     "execution_count": 119,
     "metadata": {},
     "output_type": "execute_result"
    }
   ],
   "source": [
    "reviews_lemmatized[59]"
   ]
  },
  {
   "cell_type": "code",
   "execution_count": 120,
   "id": "cb0bad0b",
   "metadata": {},
   "outputs": [],
   "source": [
    "#Further cleanup\n",
    "cleaned_reviews = [re.sub('[^a-zA-Z-]', ' ', x) for x in reviews_lemmatized]\n",
    "cleaned_reviews = [re.sub(r'\\s+', ' ', x) for x in cleaned_reviews]"
   ]
  },
  {
   "cell_type": "code",
   "execution_count": 121,
   "id": "2b2e78c3",
   "metadata": {},
   "outputs": [
    {
     "data": {
      "text/plain": [
       "'this savory blend of merlot and syrah open with aroma of roasted coffee bean leather tobacco and dark woodland berry the chewy palate offer juicy plum cassis and clove alongside polished tannin drink through '"
      ]
     },
     "execution_count": 121,
     "metadata": {},
     "output_type": "execute_result"
    }
   ],
   "source": [
    "cleaned_reviews[59]"
   ]
  },
  {
   "cell_type": "code",
   "execution_count": 122,
   "id": "57422739",
   "metadata": {},
   "outputs": [],
   "source": [
    "#Tokenizing the descriptions again\n",
    "reviews = [nltk.word_tokenize(x) for x in cleaned_reviews]"
   ]
  },
  {
   "cell_type": "code",
   "execution_count": 123,
   "id": "3b8f41ea",
   "metadata": {
    "scrolled": false
   },
   "outputs": [
    {
     "data": {
      "text/plain": [
       "['this',\n",
       " 'savory',\n",
       " 'blend',\n",
       " 'of',\n",
       " 'merlot',\n",
       " 'and',\n",
       " 'syrah',\n",
       " 'open',\n",
       " 'with',\n",
       " 'aroma',\n",
       " 'of',\n",
       " 'roasted',\n",
       " 'coffee',\n",
       " 'bean',\n",
       " 'leather',\n",
       " 'tobacco',\n",
       " 'and',\n",
       " 'dark',\n",
       " 'woodland',\n",
       " 'berry',\n",
       " 'the',\n",
       " 'chewy',\n",
       " 'palate',\n",
       " 'offer',\n",
       " 'juicy',\n",
       " 'plum',\n",
       " 'cassis',\n",
       " 'and',\n",
       " 'clove',\n",
       " 'alongside',\n",
       " 'polished',\n",
       " 'tannin',\n",
       " 'drink',\n",
       " 'through']"
      ]
     },
     "execution_count": 123,
     "metadata": {},
     "output_type": "execute_result"
    }
   ],
   "source": [
    "reviews[59]"
   ]
  },
  {
   "cell_type": "code",
   "execution_count": 124,
   "id": "c4f29c44",
   "metadata": {},
   "outputs": [],
   "source": [
    "stop_words = stopwords.words('english')\n",
    "stop_words.extend(new_stopwords)"
   ]
  },
  {
   "cell_type": "code",
   "execution_count": 125,
   "id": "a3f62aa2",
   "metadata": {
    "scrolled": true
   },
   "outputs": [],
   "source": [
    "for i in range(len(reviews)):\n",
    "    reviews[i] = [w for w in reviews[i] if w not in stop_words and len(w) > 2 if w != 'no']"
   ]
  },
  {
   "cell_type": "code",
   "execution_count": 126,
   "id": "a9875981",
   "metadata": {},
   "outputs": [
    {
     "data": {
      "text/plain": [
       "['savory',\n",
       " 'blend',\n",
       " 'open',\n",
       " 'aroma',\n",
       " 'roasted',\n",
       " 'coffee',\n",
       " 'bean',\n",
       " 'leather',\n",
       " 'tobacco',\n",
       " 'dark',\n",
       " 'woodland',\n",
       " 'berry',\n",
       " 'chewy',\n",
       " 'palate',\n",
       " 'offer',\n",
       " 'juicy',\n",
       " 'plum',\n",
       " 'cassis',\n",
       " 'clove',\n",
       " 'alongside',\n",
       " 'polished',\n",
       " 'tannin',\n",
       " 'drink']"
      ]
     },
     "execution_count": 126,
     "metadata": {},
     "output_type": "execute_result"
    }
   ],
   "source": [
    "reviews[59]"
   ]
  },
  {
   "cell_type": "code",
   "execution_count": null,
   "id": "0d148b67",
   "metadata": {},
   "outputs": [],
   "source": [
    "model = Word2Vec(reviews, vector_size = 200 , window = 4 , min_count = 1,\n",
    "                               seed = 1000, hs = 0, negative = 10,workers=16, epochs = 25)"
   ]
  },
  {
   "cell_type": "code",
   "execution_count": null,
   "id": "6db35286",
   "metadata": {},
   "outputs": [],
   "source": [
    "model.save(\"word2vec.model\")"
   ]
  },
  {
   "cell_type": "code",
   "execution_count": 117,
   "id": "7013ee75",
   "metadata": {},
   "outputs": [
    {
     "data": {
      "text/plain": [
       "[('candied', 0.5667949914932251),\n",
       " ('luscious', 0.5449540615081787),\n",
       " ('sweetness', 0.5442702174186707),\n",
       " ('upfront', 0.5179322361946106),\n",
       " ('jam', 0.5063546299934387),\n",
       " ('sweetly', 0.5018275380134583),\n",
       " ('sweetened', 0.48643139004707336),\n",
       " ('syrup', 0.47206464409828186),\n",
       " ('sugary', 0.4624304175376892),\n",
       " ('baked', 0.4607876241207123)]"
      ]
     },
     "execution_count": 117,
     "metadata": {},
     "output_type": "execute_result"
    }
   ],
   "source": [
    "model.wv.most_similar('sweet')"
   ]
  },
  {
   "cell_type": "code",
   "execution_count": 118,
   "id": "a406a059",
   "metadata": {},
   "outputs": [
    {
     "data": {
      "text/plain": [
       "[('dryness', 0.45747560262680054),\n",
       " ('bite', 0.45368340611457825),\n",
       " ('marked', 0.40880826115608215),\n",
       " ('softly', 0.3971874713897705),\n",
       " ('gentle', 0.3944217264652252),\n",
       " ('yet', 0.38916701078414917),\n",
       " ('drily', 0.3874289393424988),\n",
       " ('flavored', 0.3835741877555847),\n",
       " ('steely', 0.38233959674835205),\n",
       " ('brisk', 0.3813340961933136)]"
      ]
     },
     "execution_count": 118,
     "metadata": {},
     "output_type": "execute_result"
    }
   ],
   "source": [
    "model.wv.most_similar('dry')"
   ]
  }
 ],
 "metadata": {
  "kernelspec": {
   "display_name": "Python 3 (ipykernel)",
   "language": "python",
   "name": "python3"
  },
  "language_info": {
   "codemirror_mode": {
    "name": "ipython",
    "version": 3
   },
   "file_extension": ".py",
   "mimetype": "text/x-python",
   "name": "python",
   "nbconvert_exporter": "python",
   "pygments_lexer": "ipython3",
   "version": "3.8.11"
  }
 },
 "nbformat": 4,
 "nbformat_minor": 5
}
