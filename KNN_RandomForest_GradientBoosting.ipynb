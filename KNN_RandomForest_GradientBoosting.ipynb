{
 "cells": [
  {
   "cell_type": "markdown",
   "id": "f53c8973",
   "metadata": {
    "id": "f53c8973"
   },
   "source": [
    "## KNeighborsClassifier"
   ]
  },
  {
   "cell_type": "code",
   "execution_count": 45,
   "id": "5b28347f",
   "metadata": {
    "id": "5b28347f"
   },
   "outputs": [],
   "source": [
    "import pandas as pd\n",
    "from sklearn.neighbors import KNeighborsClassifier\n",
    "from sklearn.metrics import accuracy_score"
   ]
  },
  {
   "cell_type": "code",
   "execution_count": 46,
   "id": "46rMDUHAb2rz",
   "metadata": {
    "id": "46rMDUHAb2rz"
   },
   "outputs": [],
   "source": [
    "train = pd.read_csv(\"enc_train.csv\", index_col=0)\n",
    "test = pd.read_csv(\"enc_test.csv\", index_col=0)"
   ]
  },
  {
   "cell_type": "code",
   "execution_count": null,
   "id": "8eb96c68",
   "metadata": {
    "colab": {
     "base_uri": "https://localhost:8080/",
     "height": 238
    },
    "id": "8eb96c68",
    "outputId": "85216cba-bebb-46a7-bbbe-a64c5b18f5b2",
    "scrolled": true
   },
   "outputs": [
    {
     "data": {
      "text/html": [
       "\n",
       "  <div id=\"df-cc6ce848-29ed-4930-a1f4-4ee7bc2eada7\">\n",
       "    <div class=\"colab-df-container\">\n",
       "      <div>\n",
       "<style scoped>\n",
       "    .dataframe tbody tr th:only-of-type {\n",
       "        vertical-align: middle;\n",
       "    }\n",
       "\n",
       "    .dataframe tbody tr th {\n",
       "        vertical-align: top;\n",
       "    }\n",
       "\n",
       "    .dataframe thead th {\n",
       "        text-align: right;\n",
       "    }\n",
       "</style>\n",
       "<table border=\"1\" class=\"dataframe\">\n",
       "  <thead>\n",
       "    <tr style=\"text-align: right;\">\n",
       "      <th></th>\n",
       "      <th>desc_score</th>\n",
       "      <th>points</th>\n",
       "      <th>country</th>\n",
       "      <th>variety</th>\n",
       "      <th>province</th>\n",
       "      <th>winery</th>\n",
       "    </tr>\n",
       "    <tr>\n",
       "      <th>price</th>\n",
       "      <th></th>\n",
       "      <th></th>\n",
       "      <th></th>\n",
       "      <th></th>\n",
       "      <th></th>\n",
       "      <th></th>\n",
       "    </tr>\n",
       "  </thead>\n",
       "  <tbody>\n",
       "    <tr>\n",
       "      <th>22.0</th>\n",
       "      <td>0.186345</td>\n",
       "      <td>85</td>\n",
       "      <td>46.0</td>\n",
       "      <td>573.0</td>\n",
       "      <td>53.0</td>\n",
       "      <td>14392.0</td>\n",
       "    </tr>\n",
       "    <tr>\n",
       "      <th>15.0</th>\n",
       "      <td>-0.286780</td>\n",
       "      <td>85</td>\n",
       "      <td>16.0</td>\n",
       "      <td>128.0</td>\n",
       "      <td>49.0</td>\n",
       "      <td>10422.0</td>\n",
       "    </tr>\n",
       "    <tr>\n",
       "      <th>35.0</th>\n",
       "      <td>0.099817</td>\n",
       "      <td>90</td>\n",
       "      <td>46.0</td>\n",
       "      <td>80.0</td>\n",
       "      <td>53.0</td>\n",
       "      <td>15599.0</td>\n",
       "    </tr>\n",
       "    <tr>\n",
       "      <th>18.0</th>\n",
       "      <td>-0.207998</td>\n",
       "      <td>87</td>\n",
       "      <td>23.0</td>\n",
       "      <td>713.0</td>\n",
       "      <td>423.0</td>\n",
       "      <td>7738.0</td>\n",
       "    </tr>\n",
       "    <tr>\n",
       "      <th>24.0</th>\n",
       "      <td>-0.122666</td>\n",
       "      <td>87</td>\n",
       "      <td>33.0</td>\n",
       "      <td>458.0</td>\n",
       "      <td>71.0</td>\n",
       "      <td>11734.0</td>\n",
       "    </tr>\n",
       "  </tbody>\n",
       "</table>\n",
       "</div>\n",
       "      <button class=\"colab-df-convert\" onclick=\"convertToInteractive('df-cc6ce848-29ed-4930-a1f4-4ee7bc2eada7')\"\n",
       "              title=\"Convert this dataframe to an interactive table.\"\n",
       "              style=\"display:none;\">\n",
       "        \n",
       "  <svg xmlns=\"http://www.w3.org/2000/svg\" height=\"24px\"viewBox=\"0 0 24 24\"\n",
       "       width=\"24px\">\n",
       "    <path d=\"M0 0h24v24H0V0z\" fill=\"none\"/>\n",
       "    <path d=\"M18.56 5.44l.94 2.06.94-2.06 2.06-.94-2.06-.94-.94-2.06-.94 2.06-2.06.94zm-11 1L8.5 8.5l.94-2.06 2.06-.94-2.06-.94L8.5 2.5l-.94 2.06-2.06.94zm10 10l.94 2.06.94-2.06 2.06-.94-2.06-.94-.94-2.06-.94 2.06-2.06.94z\"/><path d=\"M17.41 7.96l-1.37-1.37c-.4-.4-.92-.59-1.43-.59-.52 0-1.04.2-1.43.59L10.3 9.45l-7.72 7.72c-.78.78-.78 2.05 0 2.83L4 21.41c.39.39.9.59 1.41.59.51 0 1.02-.2 1.41-.59l7.78-7.78 2.81-2.81c.8-.78.8-2.07 0-2.86zM5.41 20L4 18.59l7.72-7.72 1.47 1.35L5.41 20z\"/>\n",
       "  </svg>\n",
       "      </button>\n",
       "      \n",
       "  <style>\n",
       "    .colab-df-container {\n",
       "      display:flex;\n",
       "      flex-wrap:wrap;\n",
       "      gap: 12px;\n",
       "    }\n",
       "\n",
       "    .colab-df-convert {\n",
       "      background-color: #E8F0FE;\n",
       "      border: none;\n",
       "      border-radius: 50%;\n",
       "      cursor: pointer;\n",
       "      display: none;\n",
       "      fill: #1967D2;\n",
       "      height: 32px;\n",
       "      padding: 0 0 0 0;\n",
       "      width: 32px;\n",
       "    }\n",
       "\n",
       "    .colab-df-convert:hover {\n",
       "      background-color: #E2EBFA;\n",
       "      box-shadow: 0px 1px 2px rgba(60, 64, 67, 0.3), 0px 1px 3px 1px rgba(60, 64, 67, 0.15);\n",
       "      fill: #174EA6;\n",
       "    }\n",
       "\n",
       "    [theme=dark] .colab-df-convert {\n",
       "      background-color: #3B4455;\n",
       "      fill: #D2E3FC;\n",
       "    }\n",
       "\n",
       "    [theme=dark] .colab-df-convert:hover {\n",
       "      background-color: #434B5C;\n",
       "      box-shadow: 0px 1px 3px 1px rgba(0, 0, 0, 0.15);\n",
       "      filter: drop-shadow(0px 1px 2px rgba(0, 0, 0, 0.3));\n",
       "      fill: #FFFFFF;\n",
       "    }\n",
       "  </style>\n",
       "\n",
       "      <script>\n",
       "        const buttonEl =\n",
       "          document.querySelector('#df-cc6ce848-29ed-4930-a1f4-4ee7bc2eada7 button.colab-df-convert');\n",
       "        buttonEl.style.display =\n",
       "          google.colab.kernel.accessAllowed ? 'block' : 'none';\n",
       "\n",
       "        async function convertToInteractive(key) {\n",
       "          const element = document.querySelector('#df-cc6ce848-29ed-4930-a1f4-4ee7bc2eada7');\n",
       "          const dataTable =\n",
       "            await google.colab.kernel.invokeFunction('convertToInteractive',\n",
       "                                                     [key], {});\n",
       "          if (!dataTable) return;\n",
       "\n",
       "          const docLinkHtml = 'Like what you see? Visit the ' +\n",
       "            '<a target=\"_blank\" href=https://colab.research.google.com/notebooks/data_table.ipynb>data table notebook</a>'\n",
       "            + ' to learn more about interactive tables.';\n",
       "          element.innerHTML = '';\n",
       "          dataTable['output_type'] = 'display_data';\n",
       "          await google.colab.output.renderOutput(dataTable, element);\n",
       "          const docLink = document.createElement('div');\n",
       "          docLink.innerHTML = docLinkHtml;\n",
       "          element.appendChild(docLink);\n",
       "        }\n",
       "      </script>\n",
       "    </div>\n",
       "  </div>\n",
       "  "
      ],
      "text/plain": [
       "       desc_score  points  country  variety  province   winery\n",
       "price                                                         \n",
       "22.0     0.186345      85     46.0    573.0      53.0  14392.0\n",
       "15.0    -0.286780      85     16.0    128.0      49.0  10422.0\n",
       "35.0     0.099817      90     46.0     80.0      53.0  15599.0\n",
       "18.0    -0.207998      87     23.0    713.0     423.0   7738.0\n",
       "24.0    -0.122666      87     33.0    458.0      71.0  11734.0"
      ]
     },
     "execution_count": 6,
     "metadata": {},
     "output_type": "execute_result"
    }
   ],
   "source": [
    "train.head()"
   ]
  },
  {
   "cell_type": "code",
   "execution_count": 47,
   "id": "b859b7d4",
   "metadata": {
    "id": "b859b7d4"
   },
   "outputs": [],
   "source": [
    "X_train = train[['desc_score']]\n",
    "y_train = train['country']\n",
    "X_test = test[['desc_score']]\n",
    "y_test = test['country']"
   ]
  },
  {
   "cell_type": "code",
   "execution_count": 49,
   "id": "cc1b1c57",
   "metadata": {
    "colab": {
     "base_uri": "https://localhost:8080/"
    },
    "id": "cc1b1c57",
    "outputId": "2b4f7e00-f63f-48b2-e2fd-49b57a9c9b44"
   },
   "outputs": [
    {
     "data": {
      "text/plain": [
       "KNeighborsClassifier()"
      ]
     },
     "execution_count": 49,
     "metadata": {},
     "output_type": "execute_result"
    }
   ],
   "source": [
    "knn = KNeighborsClassifier()\n",
    "knn.fit(X_train, y_train)"
   ]
  },
  {
   "cell_type": "code",
   "execution_count": 50,
   "id": "c92cccdf",
   "metadata": {
    "colab": {
     "base_uri": "https://localhost:8080/"
    },
    "id": "c92cccdf",
    "outputId": "74376e79-8b25-493d-ef00-878b51ead158"
   },
   "outputs": [
    {
     "data": {
      "text/plain": [
       "0.4323263198113332"
      ]
     },
     "execution_count": 50,
     "metadata": {},
     "output_type": "execute_result"
    }
   ],
   "source": [
    "y_pred = knn.predict(X_test)\n",
    "accuracy_score(y_test, y_pred)"
   ]
  },
  {
   "cell_type": "code",
   "execution_count": null,
   "id": "6b49bae8",
   "metadata": {
    "id": "6b49bae8"
   },
   "outputs": [],
   "source": [
    "X_train = train[['desc_score']]\n",
    "y_train = train['province']\n",
    "X_test = test[['desc_score']]\n",
    "y_test = test['province']"
   ]
  },
  {
   "cell_type": "code",
   "execution_count": null,
   "id": "4f6c7940",
   "metadata": {
    "colab": {
     "base_uri": "https://localhost:8080/"
    },
    "id": "4f6c7940",
    "outputId": "e1542917-c59e-4019-e308-6248c3a72482"
   },
   "outputs": [
    {
     "data": {
      "text/plain": [
       "KNeighborsClassifier()"
      ]
     },
     "execution_count": 11,
     "metadata": {},
     "output_type": "execute_result"
    }
   ],
   "source": [
    "knn.fit(X_train, y_train)"
   ]
  },
  {
   "cell_type": "code",
   "execution_count": null,
   "id": "86bb94da",
   "metadata": {
    "colab": {
     "base_uri": "https://localhost:8080/"
    },
    "id": "86bb94da",
    "outputId": "344cc1a3-c728-4e4f-c5ad-14344aa4ec4c"
   },
   "outputs": [
    {
     "data": {
      "text/plain": [
       "0.2936851951884692"
      ]
     },
     "execution_count": 12,
     "metadata": {},
     "output_type": "execute_result"
    }
   ],
   "source": [
    "y_pred = knn.predict(X_test)\n",
    "accuracy_score(y_test, y_pred)"
   ]
  },
  {
   "cell_type": "code",
   "execution_count": null,
   "id": "632fe2b8",
   "metadata": {
    "id": "632fe2b8"
   },
   "outputs": [],
   "source": [
    "X_train = train[['desc_score']]\n",
    "y_train = train['variety']\n",
    "X_test = test[['desc_score']]\n",
    "y_test = test['variety']"
   ]
  },
  {
   "cell_type": "code",
   "execution_count": null,
   "id": "85b60c00",
   "metadata": {
    "colab": {
     "base_uri": "https://localhost:8080/"
    },
    "id": "85b60c00",
    "outputId": "31da2bdb-a5f7-4d26-ea6e-dd497f456cd8"
   },
   "outputs": [
    {
     "data": {
      "text/plain": [
       "KNeighborsClassifier()"
      ]
     },
     "execution_count": 14,
     "metadata": {},
     "output_type": "execute_result"
    }
   ],
   "source": [
    "knn.fit(X_train, y_train)"
   ]
  },
  {
   "cell_type": "code",
   "execution_count": null,
   "id": "70d53222",
   "metadata": {
    "colab": {
     "base_uri": "https://localhost:8080/"
    },
    "id": "70d53222",
    "outputId": "47a9c30b-4acc-44b7-e08a-9b08578f9d47"
   },
   "outputs": [
    {
     "data": {
      "text/plain": [
       "0.2098391325542483"
      ]
     },
     "execution_count": 15,
     "metadata": {},
     "output_type": "execute_result"
    }
   ],
   "source": [
    "y_pred = knn.predict(X_test)\n",
    "accuracy_score(y_test, y_pred)"
   ]
  },
  {
   "cell_type": "markdown",
   "id": "83a45f15",
   "metadata": {
    "id": "83a45f15"
   },
   "source": [
    "## RandomForestClassifier"
   ]
  },
  {
   "cell_type": "code",
   "execution_count": 53,
   "id": "cc4fb0a7",
   "metadata": {
    "id": "cc4fb0a7"
   },
   "outputs": [],
   "source": [
    "from sklearn.ensemble import RandomForestClassifier"
   ]
  },
  {
   "cell_type": "code",
   "execution_count": 56,
   "id": "27efee40",
   "metadata": {
    "id": "27efee40"
   },
   "outputs": [],
   "source": [
    "X_train = train[['desc_score']]\n",
    "y_train = train['country']\n",
    "X_test = test[['desc_score']]\n",
    "y_test = test['country']"
   ]
  },
  {
   "cell_type": "code",
   "execution_count": 57,
   "id": "9fe3d41a",
   "metadata": {
    "id": "9fe3d41a"
   },
   "outputs": [],
   "source": [
    "rf = RandomForestClassifier()"
   ]
  },
  {
   "cell_type": "code",
   "execution_count": null,
   "id": "98a34c6f",
   "metadata": {
    "colab": {
     "base_uri": "https://localhost:8080/"
    },
    "id": "98a34c6f",
    "outputId": "04e0b487-c51c-4d8e-c764-66d070246fa7"
   },
   "outputs": [
    {
     "data": {
      "text/plain": [
       "RandomForestClassifier()"
      ]
     },
     "execution_count": 21,
     "metadata": {},
     "output_type": "execute_result"
    }
   ],
   "source": [
    "rf.fit(X_train, y_train)"
   ]
  },
  {
   "cell_type": "code",
   "execution_count": null,
   "id": "f51e9a5a",
   "metadata": {
    "colab": {
     "base_uri": "https://localhost:8080/"
    },
    "id": "f51e9a5a",
    "outputId": "2d42fe2b-eb75-41d2-d38d-ca167420c6af"
   },
   "outputs": [
    {
     "data": {
      "text/plain": [
       "0.6685155663298243"
      ]
     },
     "execution_count": 22,
     "metadata": {},
     "output_type": "execute_result"
    }
   ],
   "source": [
    "y_pred = rf.predict(X_test)\n",
    "accuracy_score(y_test, y_pred)"
   ]
  },
  {
   "cell_type": "markdown",
   "id": "K9JzC9wax9wp",
   "metadata": {
    "id": "K9JzC9wax9wp"
   },
   "source": [
    "## GradientBoostingClassifier"
   ]
  },
  {
   "cell_type": "code",
   "execution_count": 5,
   "id": "XSgDLTI8yJfE",
   "metadata": {
    "id": "XSgDLTI8yJfE"
   },
   "outputs": [],
   "source": [
    "from sklearn.ensemble import GradientBoostingClassifier"
   ]
  },
  {
   "cell_type": "code",
   "execution_count": 22,
   "id": "Rm5p71PiyYyh",
   "metadata": {
    "id": "Rm5p71PiyYyh"
   },
   "outputs": [],
   "source": [
    "X_train = train[['desc_score']]\n",
    "y_train = train['country']\n",
    "X_test = test[['desc_score']]\n",
    "y_test = test['country']"
   ]
  },
  {
   "cell_type": "code",
   "execution_count": 33,
   "id": "GwaamecG662_",
   "metadata": {
    "id": "GwaamecG662_"
   },
   "outputs": [],
   "source": [
    "gbc = GradientBoostingClassifier(verbose=1)"
   ]
  },
  {
   "cell_type": "code",
   "execution_count": 28,
   "id": "3QXYOdzLyi8T",
   "metadata": {
    "id": "3QXYOdzLyi8T"
   },
   "outputs": [],
   "source": [
    "gbc = GradientBoostingClassifier(learning_rate=0.01, n_estimators=4, verbose=1)"
   ]
  },
  {
   "cell_type": "code",
   "execution_count": 29,
   "id": "O5CFc_VSytI4",
   "metadata": {
    "colab": {
     "base_uri": "https://localhost:8080/"
    },
    "id": "O5CFc_VSytI4",
    "outputId": "5206e17b-95e2-4b5a-b47b-972913cbf1e0"
   },
   "outputs": [
    {
     "name": "stdout",
     "output_type": "stream",
     "text": [
      "      Iter       Train Loss   Remaining Time \n",
      "         1           1.9543           47.31s\n",
      "         2           1.9476           32.40s\n",
      "         3           1.9410           16.20s\n",
      "         4           1.9356            0.00s\n"
     ]
    },
    {
     "data": {
      "text/plain": [
       "GradientBoostingClassifier(learning_rate=0.01, n_estimators=4, verbose=1)"
      ]
     },
     "execution_count": 29,
     "metadata": {},
     "output_type": "execute_result"
    }
   ],
   "source": [
    "gbc.fit(X_train, y_train)"
   ]
  },
  {
   "cell_type": "code",
   "execution_count": 30,
   "id": "067b3955",
   "metadata": {
    "colab": {
     "base_uri": "https://localhost:8080/"
    },
    "id": "067b3955",
    "outputId": "41d991d7-e2d3-417e-d669-d16797d093b9"
   },
   "outputs": [
    {
     "data": {
      "text/plain": [
       "0.4117468808052595"
      ]
     },
     "execution_count": 30,
     "metadata": {},
     "output_type": "execute_result"
    }
   ],
   "source": [
    "y_pred = gbc.predict(X_test)\n",
    "accuracy_score(y_test, y_pred)"
   ]
  }
 ],
 "metadata": {
  "accelerator": "GPU",
  "colab": {
   "provenance": []
  },
  "gpuClass": "standard",
  "kernelspec": {
   "display_name": "Python 3 (ipykernel)",
   "language": "python",
   "name": "python3"
  },
  "language_info": {
   "codemirror_mode": {
    "name": "ipython",
    "version": 3
   },
   "file_extension": ".py",
   "mimetype": "text/x-python",
   "name": "python",
   "nbconvert_exporter": "python",
   "pygments_lexer": "ipython3",
   "version": "3.8.11"
  }
 },
 "nbformat": 4,
 "nbformat_minor": 5
}
